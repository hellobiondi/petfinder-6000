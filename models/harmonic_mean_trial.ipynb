{
 "cells": [
  {
   "cell_type": "code",
   "execution_count": 1,
   "metadata": {
    "pycharm": {
     "name": "#%%\n"
    }
   },
   "outputs": [
    {
     "name": "stdout",
     "output_type": "stream",
     "text": [
      "FM model is only supported on Linux.\n",
      "Windows executable can be found at http://www.libfm.org.\n"
     ]
    }
   ],
   "source": [
    "import cornac\n",
    "import numpy as np\n",
    "import pandas as pd\n",
    "from cornac.eval_methods import RatioSplit\n"
   ]
  },
  {
   "cell_type": "code",
   "execution_count": 2,
   "metadata": {
    "pycharm": {
     "name": "#%%\n"
    }
   },
   "outputs": [],
   "source": [
    "train_df = pd.read_csv('../data/output/lsuo_train.csv', usecols=['userID', 'catID', 'like'])\n",
    "validation_df = pd.read_csv('../data/output/lsuo_validation.csv', usecols=['userID', 'catID', 'like'])\n",
    "test_df = pd.read_csv('../data/output/lsuo_test.csv', usecols=['userID', 'catID', 'like'])\n",
    "\n",
    "train_df = train_df[['userID', 'catID', 'like']]\n",
    "validation_df = validation_df[['userID', 'catID', 'like']]\n",
    "test_df = test_df[['userID', 'catID', 'like']]\n",
    "\n",
    "df = pd.concat([train_df, validation_df, test_df])\n",
    "\n",
    "# make into tuples\n",
    "data = list(df.itertuples(index=False, name=None))\n",
    "\n",
    "# rearrange\n",
    "for i in range(len(data)):\n",
    "        data[i] = (str(data[i][1]), str(data[i][0]), float(data[i][2]))"
   ]
  },
  {
   "cell_type": "code",
   "execution_count": 3,
   "outputs": [],
   "source": [
    "train_users = train_df['userID'].unique()\n",
    "test_users = test_df['userID'].unique()"
   ],
   "metadata": {
    "collapsed": false,
    "pycharm": {
     "name": "#%%\n"
    }
   }
  },
  {
   "cell_type": "code",
   "execution_count": 4,
   "outputs": [
    {
     "data": {
      "text/plain": "array([], dtype=object)"
     },
     "execution_count": 4,
     "metadata": {},
     "output_type": "execute_result"
    }
   ],
   "source": [
    "both = np.intersect1d(test_users, train_users)\n",
    "both"
   ],
   "metadata": {
    "collapsed": false,
    "pycharm": {
     "name": "#%%\n"
    }
   }
  },
  {
   "cell_type": "code",
   "execution_count": 5,
   "metadata": {
    "pycharm": {
     "name": "#%%\n"
    }
   },
   "outputs": [
    {
     "name": "stdout",
     "output_type": "stream",
     "text": [
      "4841\n",
      "<class 'list'>\n",
      "<class 'tuple'>\n",
      "('3d2e4ecc-d9e0-48c9-b851-ebe8fdd9ede3', 'c5ab4a57-839d-40c9-ad03-70072da2d078', 1.0)\n"
     ]
    }
   ],
   "source": [
    "print(len(data))\n",
    "print(type(data))\n",
    "print(type(data[0]))\n",
    "print(data[0])"
   ]
  },
  {
   "cell_type": "code",
   "execution_count": 6,
   "metadata": {
    "pycharm": {
     "name": "#%%\n"
    }
   },
   "outputs": [
    {
     "data": {
      "text/plain": "                                 userID                                 catID  \\\n0  c5ab4a57-839d-40c9-ad03-70072da2d078  3d2e4ecc-d9e0-48c9-b851-ebe8fdd9ede3   \n1  c5ab4a57-839d-40c9-ad03-70072da2d078  20106676-a088-44e3-b23e-286b6e37f1d5   \n2  b2fe504c-8b80-4f50-ab07-12b6e7ff8cd2  54197c51-1b76-4854-9349-e2e2d55bd71d   \n3  1ef1a3c2-e71d-4df6-b89c-874697ca64d9  6e104908-8c00-45cd-ae3d-279dda0c3d9c   \n4  ab6872c5-4af8-4b92-95e2-b71363b2b82d  82838ab4-2ed8-4bc4-adf0-0d4e5edd9b92   \n\n    like  \n0   True  \n1   True  \n2  False  \n3   True  \n4  False  ",
      "text/html": "<div>\n<style scoped>\n    .dataframe tbody tr th:only-of-type {\n        vertical-align: middle;\n    }\n\n    .dataframe tbody tr th {\n        vertical-align: top;\n    }\n\n    .dataframe thead th {\n        text-align: right;\n    }\n</style>\n<table border=\"1\" class=\"dataframe\">\n  <thead>\n    <tr style=\"text-align: right;\">\n      <th></th>\n      <th>userID</th>\n      <th>catID</th>\n      <th>like</th>\n    </tr>\n  </thead>\n  <tbody>\n    <tr>\n      <th>0</th>\n      <td>c5ab4a57-839d-40c9-ad03-70072da2d078</td>\n      <td>3d2e4ecc-d9e0-48c9-b851-ebe8fdd9ede3</td>\n      <td>True</td>\n    </tr>\n    <tr>\n      <th>1</th>\n      <td>c5ab4a57-839d-40c9-ad03-70072da2d078</td>\n      <td>20106676-a088-44e3-b23e-286b6e37f1d5</td>\n      <td>True</td>\n    </tr>\n    <tr>\n      <th>2</th>\n      <td>b2fe504c-8b80-4f50-ab07-12b6e7ff8cd2</td>\n      <td>54197c51-1b76-4854-9349-e2e2d55bd71d</td>\n      <td>False</td>\n    </tr>\n    <tr>\n      <th>3</th>\n      <td>1ef1a3c2-e71d-4df6-b89c-874697ca64d9</td>\n      <td>6e104908-8c00-45cd-ae3d-279dda0c3d9c</td>\n      <td>True</td>\n    </tr>\n    <tr>\n      <th>4</th>\n      <td>ab6872c5-4af8-4b92-95e2-b71363b2b82d</td>\n      <td>82838ab4-2ed8-4bc4-adf0-0d4e5edd9b92</td>\n      <td>False</td>\n    </tr>\n  </tbody>\n</table>\n</div>"
     },
     "execution_count": 6,
     "metadata": {},
     "output_type": "execute_result"
    }
   ],
   "source": [
    "df.head()"
   ]
  },
  {
   "cell_type": "code",
   "execution_count": 7,
   "metadata": {
    "pycharm": {
     "name": "#%%\n"
    }
   },
   "outputs": [
    {
     "name": "stderr",
     "output_type": "stream",
     "text": [
      "C:\\Users\\yongr\\AppData\\Local\\Temp\\ipykernel_35612\\3561142669.py:2: SettingWithCopyWarning: \n",
      "A value is trying to be set on a copy of a slice from a DataFrame\n",
      "\n",
      "See the caveats in the documentation: https://pandas.pydata.org/pandas-docs/stable/user_guide/indexing.html#returning-a-view-versus-a-copy\n",
      "  filtered_train_df.drop('like', axis=1, inplace=True)\n"
     ]
    },
    {
     "data": {
      "text/plain": "                                 userID                                 catID\n0  c5ab4a57-839d-40c9-ad03-70072da2d078  3d2e4ecc-d9e0-48c9-b851-ebe8fdd9ede3\n1  c5ab4a57-839d-40c9-ad03-70072da2d078  20106676-a088-44e3-b23e-286b6e37f1d5\n3  1ef1a3c2-e71d-4df6-b89c-874697ca64d9  6e104908-8c00-45cd-ae3d-279dda0c3d9c\n6  df3f9dd6-2538-4856-9137-ac08e9d6024d  7ef6aeea-738e-4064-b568-40a89431a4ee\n7  c0d37cae-c1fc-4aca-9135-0e1d4f222a99  30c033c1-9ebf-47de-ba85-bb2ca1029ed9",
      "text/html": "<div>\n<style scoped>\n    .dataframe tbody tr th:only-of-type {\n        vertical-align: middle;\n    }\n\n    .dataframe tbody tr th {\n        vertical-align: top;\n    }\n\n    .dataframe thead th {\n        text-align: right;\n    }\n</style>\n<table border=\"1\" class=\"dataframe\">\n  <thead>\n    <tr style=\"text-align: right;\">\n      <th></th>\n      <th>userID</th>\n      <th>catID</th>\n    </tr>\n  </thead>\n  <tbody>\n    <tr>\n      <th>0</th>\n      <td>c5ab4a57-839d-40c9-ad03-70072da2d078</td>\n      <td>3d2e4ecc-d9e0-48c9-b851-ebe8fdd9ede3</td>\n    </tr>\n    <tr>\n      <th>1</th>\n      <td>c5ab4a57-839d-40c9-ad03-70072da2d078</td>\n      <td>20106676-a088-44e3-b23e-286b6e37f1d5</td>\n    </tr>\n    <tr>\n      <th>3</th>\n      <td>1ef1a3c2-e71d-4df6-b89c-874697ca64d9</td>\n      <td>6e104908-8c00-45cd-ae3d-279dda0c3d9c</td>\n    </tr>\n    <tr>\n      <th>6</th>\n      <td>df3f9dd6-2538-4856-9137-ac08e9d6024d</td>\n      <td>7ef6aeea-738e-4064-b568-40a89431a4ee</td>\n    </tr>\n    <tr>\n      <th>7</th>\n      <td>c0d37cae-c1fc-4aca-9135-0e1d4f222a99</td>\n      <td>30c033c1-9ebf-47de-ba85-bb2ca1029ed9</td>\n    </tr>\n  </tbody>\n</table>\n</div>"
     },
     "execution_count": 7,
     "metadata": {},
     "output_type": "execute_result"
    }
   ],
   "source": [
    "filtered_train_df = train_df[train_df['like'] == True]\n",
    "filtered_train_df.drop('like', axis=1, inplace=True)\n",
    "filtered_train_df.head()"
   ]
  },
  {
   "cell_type": "code",
   "execution_count": 8,
   "metadata": {
    "pycharm": {
     "name": "#%%\n"
    }
   },
   "outputs": [
    {
     "name": "stderr",
     "output_type": "stream",
     "text": [
      "C:\\Users\\yongr\\AppData\\Local\\Temp\\ipykernel_35612\\2641804607.py:2: SettingWithCopyWarning: \n",
      "A value is trying to be set on a copy of a slice from a DataFrame\n",
      "\n",
      "See the caveats in the documentation: https://pandas.pydata.org/pandas-docs/stable/user_guide/indexing.html#returning-a-view-versus-a-copy\n",
      "  filtered_validation_df.drop('like', axis=1, inplace=True)\n"
     ]
    },
    {
     "data": {
      "text/plain": "                                  userID                                 catID\n1   081f358f-9624-468a-b6ef-f9b9fad2b3b3  2b87337b-1179-42c8-b423-c0ec34bb6833\n3   7031fead-a8c9-4702-a610-2873cb67f8a1  c4c51825-42a2-4ffe-8096-d3d0200df200\n5   64515f3e-a2c6-4f08-8dd7-5e79116f07be  a60e85ad-1f8e-46c2-b659-ebc27ae94966\n7   dea8ada2-c94b-4b8c-b2de-8d94586f7ffc  c822a63a-ad76-4302-af0a-ef17f4ae3680\n11  081f358f-9624-468a-b6ef-f9b9fad2b3b3  66c72d11-c009-4ff1-b976-353aa1072cac",
      "text/html": "<div>\n<style scoped>\n    .dataframe tbody tr th:only-of-type {\n        vertical-align: middle;\n    }\n\n    .dataframe tbody tr th {\n        vertical-align: top;\n    }\n\n    .dataframe thead th {\n        text-align: right;\n    }\n</style>\n<table border=\"1\" class=\"dataframe\">\n  <thead>\n    <tr style=\"text-align: right;\">\n      <th></th>\n      <th>userID</th>\n      <th>catID</th>\n    </tr>\n  </thead>\n  <tbody>\n    <tr>\n      <th>1</th>\n      <td>081f358f-9624-468a-b6ef-f9b9fad2b3b3</td>\n      <td>2b87337b-1179-42c8-b423-c0ec34bb6833</td>\n    </tr>\n    <tr>\n      <th>3</th>\n      <td>7031fead-a8c9-4702-a610-2873cb67f8a1</td>\n      <td>c4c51825-42a2-4ffe-8096-d3d0200df200</td>\n    </tr>\n    <tr>\n      <th>5</th>\n      <td>64515f3e-a2c6-4f08-8dd7-5e79116f07be</td>\n      <td>a60e85ad-1f8e-46c2-b659-ebc27ae94966</td>\n    </tr>\n    <tr>\n      <th>7</th>\n      <td>dea8ada2-c94b-4b8c-b2de-8d94586f7ffc</td>\n      <td>c822a63a-ad76-4302-af0a-ef17f4ae3680</td>\n    </tr>\n    <tr>\n      <th>11</th>\n      <td>081f358f-9624-468a-b6ef-f9b9fad2b3b3</td>\n      <td>66c72d11-c009-4ff1-b976-353aa1072cac</td>\n    </tr>\n  </tbody>\n</table>\n</div>"
     },
     "execution_count": 8,
     "metadata": {},
     "output_type": "execute_result"
    }
   ],
   "source": [
    "filtered_validation_df = validation_df[validation_df['like'] == True]\n",
    "filtered_validation_df.drop('like', axis=1, inplace=True)\n",
    "filtered_validation_df.head()"
   ]
  },
  {
   "cell_type": "code",
   "execution_count": 9,
   "metadata": {
    "pycharm": {
     "name": "#%%\n"
    }
   },
   "outputs": [
    {
     "name": "stdout",
     "output_type": "stream",
     "text": [
      "nan\n"
     ]
    }
   ],
   "source": [
    "# !pip install recommenders\n",
    "# train_df and validation_df is passed in currently as a POC, not exactly supposed to pass in these\n",
    "\n",
    "from recommenders.evaluation.python_evaluation import serendipity\n",
    "\n",
    "eval_serendipity = serendipity(train_df, validation_df, col_user='userID', col_item='catID',\n",
    "                               col_relevance='like')\n",
    "print(eval_serendipity)"
   ]
  },
  {
   "cell_type": "code",
   "execution_count": 10,
   "metadata": {
    "pycharm": {
     "name": "#%%\n"
    }
   },
   "outputs": [
    {
     "name": "stdout",
     "output_type": "stream",
     "text": [
      "creating from splits\n",
      "initialising Combined Base\n",
      "rating_threshold = 1.0\n",
      "exclude_unknowns = False\n",
      "---\n",
      "Training data:\n",
      "Number of users = 83\n",
      "Number of items = 397\n",
      "Number of ratings = 3720\n",
      "Max rating = 1.0\n",
      "Min rating = 0.0\n",
      "Global mean = 0.5\n",
      "---\n",
      "Test data:\n",
      "Number of users = 11\n",
      "Number of items = 101\n",
      "Number of ratings = 458\n",
      "Number of unknown users = 11\n",
      "Number of unknown items = 0\n",
      "---\n",
      "Validation data:\n",
      "Number of users = 10\n",
      "Number of items = 308\n",
      "Number of ratings = 663\n",
      "---\n",
      "Total users = 104\n",
      "Total items = 403\n",
      "\n",
      "[MostPop] Training started!\n",
      "\n",
      "[MostPop] Evaluation started!\n"
     ]
    },
    {
     "data": {
      "text/plain": "Ranking:   0%|          | 0/11 [00:00<?, ?it/s]",
      "application/vnd.jupyter.widget-view+json": {
       "version_major": 2,
       "version_minor": 0,
       "model_id": "5e6167b7ad6e43c089eae01fac849d16"
      }
     },
     "metadata": {},
     "output_type": "display_data"
    },
    {
     "data": {
      "text/plain": "Ranking:   0%|          | 0/10 [00:00<?, ?it/s]",
      "application/vnd.jupyter.widget-view+json": {
       "version_major": 2,
       "version_minor": 0,
       "model_id": "e11ed5125f4848f6b242cd0fadc4989a"
      }
     },
     "metadata": {},
     "output_type": "display_data"
    },
    {
     "name": "stdout",
     "output_type": "stream",
     "text": [
      "\n",
      "[BPR] Training started!\n"
     ]
    },
    {
     "data": {
      "text/plain": "  0%|          | 0/200 [00:00<?, ?it/s]",
      "application/vnd.jupyter.widget-view+json": {
       "version_major": 2,
       "version_minor": 0,
       "model_id": "c425447ba7c043dcb19ae0ab3b48b70a"
      }
     },
     "metadata": {},
     "output_type": "display_data"
    },
    {
     "name": "stdout",
     "output_type": "stream",
     "text": [
      "Optimization finished!\n",
      "\n",
      "[BPR] Evaluation started!\n"
     ]
    },
    {
     "data": {
      "text/plain": "Ranking:   0%|          | 0/11 [00:00<?, ?it/s]",
      "application/vnd.jupyter.widget-view+json": {
       "version_major": 2,
       "version_minor": 0,
       "model_id": "d2fabaca59e64f6cb07ad7fa9b5f634b"
      }
     },
     "metadata": {},
     "output_type": "display_data"
    },
    {
     "data": {
      "text/plain": "Ranking:   0%|          | 0/10 [00:00<?, ?it/s]",
      "application/vnd.jupyter.widget-view+json": {
       "version_major": 2,
       "version_minor": 0,
       "model_id": "d42047d9e11f47d8ac8f5739a0757afa"
      }
     },
     "metadata": {},
     "output_type": "display_data"
    },
    {
     "name": "stdout",
     "output_type": "stream",
     "text": [
      "\n",
      "VALIDATION:\n",
      "...\n",
      "        |  F1@10 | HarmonicMean | NCRR@-1 | NDCG@-1 | Serendipity | Time (s)\n",
      "------- + ------ + ------------ + ------- + ------- + ----------- + --------\n",
      "MostPop | 0.0706 |       0.0000 |  0.1958 |  0.4697 |      0.0000 |   0.5024\n",
      "BPR     | 0.0461 |       0.0000 |  0.1887 |  0.4657 |      0.0000 |   0.5120\n",
      "\n",
      "TEST:\n",
      "...\n",
      "        |  F1@10 | HarmonicMean | NCRR@-1 | NDCG@-1 | Serendipity | Train (s) | Test (s)\n",
      "------- + ------ + ------------ + ------- + ------- + ----------- + --------- + --------\n",
      "MostPop | 0.0764 |       0.0000 |  0.2282 |  0.4813 |      0.0000 |    0.0012 |   0.4872\n",
      "BPR     | 0.0672 |       0.0000 |  0.2268 |  0.4811 |      0.0000 |    0.2256 |   0.5099\n",
      "\n"
     ]
    }
   ],
   "source": [
    "from harmonic_mean import HarmonicMean\n",
    "from serendipity_wrapper import Serendipity\n",
    "from combined_eval_method import CombinedBaseMethod\n",
    "\n",
    "# Define an evaluation method to split feedback into train and test sets\n",
    "ratio_split = CombinedBaseMethod.from_splits(\n",
    "    train_data=train_df.values,\n",
    "    val_data=validation_df.values,\n",
    "    test_data=test_df.values,\n",
    "    rating_threshold=1.0,\n",
    "    # exclude_unknowns=True,\n",
    "    verbose=True,\n",
    ")\n",
    "\n",
    "# Instantiate the most popular baseline, BPR model\n",
    "most_pop = cornac.models.MostPop()\n",
    "bpr = cornac.models.BPR(\n",
    "    k=50, max_iter=200, learning_rate=0.001, lambda_reg=0.001, verbose=True\n",
    ")\n",
    "\n",
    "# Use these for evaluation\n",
    "eval_metrics = [\n",
    "    HarmonicMean(\n",
    "        10,\n",
    "        Serendipity(),\n",
    "        cornac.metrics.FMeasure(k=10),\n",
    "        cornac.metrics.NCRR(),\n",
    "        cornac.metrics.NDCG()\n",
    "    ),\n",
    "    Serendipity(),\n",
    "    cornac.metrics.FMeasure(k=10),\n",
    "    cornac.metrics.NCRR(),\n",
    "    cornac.metrics.NDCG()\n",
    "]\n",
    "\n",
    "# Put everything together into an experiment and run it\n",
    "cornac.Experiment(\n",
    "    eval_method=ratio_split,\n",
    "    models=[most_pop, bpr],\n",
    "    metrics=eval_metrics,\n",
    ").run()"
   ]
  }
 ],
 "metadata": {
  "interpreter": {
   "hash": "fdaac5ebe25336d658f1d0203fcb612740709b4e6655fc19b8a7cf1871892904"
  },
  "kernelspec": {
   "display_name": "Python 3.9.16 ('cornac')",
   "language": "python",
   "name": "python3"
  },
  "language_info": {
   "codemirror_mode": {
    "name": "ipython",
    "version": 3
   },
   "file_extension": ".py",
   "mimetype": "text/x-python",
   "name": "python",
   "nbconvert_exporter": "python",
   "pygments_lexer": "ipython3",
   "version": "3.9.16"
  },
  "orig_nbformat": 4
 },
 "nbformat": 4,
 "nbformat_minor": 2
}
