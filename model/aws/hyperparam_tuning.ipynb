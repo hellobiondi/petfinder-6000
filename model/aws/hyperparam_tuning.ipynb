{
 "cells": [
  {
   "cell_type": "markdown",
   "id": "e950fa8e",
   "metadata": {
    "pycharm": {
     "name": "#%% md\n"
    }
   },
   "source": [
    "# Hyperparameter Tuning"
   ]
  },
  {
   "cell_type": "markdown",
   "id": "a16db1a6",
   "metadata": {
    "pycharm": {
     "name": "#%% md\n"
    }
   },
   "source": [
    "## Setup Sagemaker"
   ]
  },
  {
   "cell_type": "code",
   "execution_count": 1,
   "id": "070ff24f-cc5e-49b6-aa30-ef74f551ed7f",
   "metadata": {
    "pycharm": {
     "name": "#%%\n"
    },
    "tags": []
   },
   "outputs": [],
   "source": [
    "# %pip install -U sagemaker"
   ]
  },
  {
   "cell_type": "code",
   "execution_count": 2,
   "outputs": [],
   "source": [
    "# %pip install sagemaker-experiments"
   ],
   "metadata": {
    "collapsed": false,
    "pycharm": {
     "name": "#%%\n"
    }
   }
  },
  {
   "cell_type": "code",
   "execution_count": 1,
   "id": "a670c242",
   "metadata": {
    "pycharm": {
     "name": "#%%\n"
    },
    "tags": []
   },
   "outputs": [],
   "source": [
    "import boto3\n",
    "import pandas as pd\n",
    "import numpy as np\n",
    "import time\n",
    "import sagemaker\n",
    "from sagemaker.session import Session\n",
    "from sagemaker.feature_store.feature_group import FeatureGroup"
   ]
  },
  {
   "cell_type": "code",
   "execution_count": 2,
   "outputs": [
    {
     "name": "stdout",
     "output_type": "stream",
     "text": [
      "env: AWS_PROFILE=aeroxye-sagemaker\n"
     ]
    }
   ],
   "source": [
    "%env AWS_PROFILE=aeroxye-sagemaker"
   ],
   "metadata": {
    "collapsed": false,
    "pycharm": {
     "name": "#%%\n"
    }
   }
  },
  {
   "cell_type": "code",
   "execution_count": 3,
   "outputs": [
    {
     "name": "stdout",
     "output_type": "stream",
     "text": [
      "{\n",
      "    \"UserId\": \"AROAWC4YSIQL5OBFCNGEX:botocore-session-1686731443\",\n",
      "    \"Account\": \"418542404631\",\n",
      "    \"Arn\": \"arn:aws:sts::418542404631:assumed-role/SageMaker-UserRole/botocore-session-1686731443\"\n",
      "}\n"
     ]
    }
   ],
   "source": [
    "!aws sts get-caller-identity"
   ],
   "metadata": {
    "collapsed": false,
    "pycharm": {
     "name": "#%%\n"
    }
   }
  },
  {
   "cell_type": "code",
   "execution_count": 4,
   "id": "ca70171e-539e-48f8-a9a6-13748e89798e",
   "metadata": {
    "pycharm": {
     "name": "#%%\n"
    },
    "tags": []
   },
   "outputs": [
    {
     "name": "stderr",
     "output_type": "stream",
     "text": [
      "Couldn't call 'get_role' to get Role ARN from role name SageMaker-UserRole to get Role path.\n"
     ]
    },
    {
     "name": "stdout",
     "output_type": "stream",
     "text": [
      "Current region: ap-southeast-1\n"
     ]
    }
   ],
   "source": [
    "try:\n",
    "    role = sagemaker.get_execution_role()\n",
    "except ValueError:\n",
    "    iam = boto3.client('iam')\n",
    "    role = iam.get_role(RoleName='SageMaker-UserRole')['Role']['Arn']\n",
    "\n",
    "region = boto3.Session().region_name\n",
    "print(f'Current region: {region}')\n",
    "\n",
    "boto_session = boto3.Session(region_name=region)\n",
    "sagemaker_session = sagemaker.Session(boto_session=boto_session)\n",
    "sagemaker_client = boto_session.client(service_name='sagemaker', region_name=region)\n",
    "sagemaker_client.list_feature_groups()\n",
    "\n",
    "featurestore_runtime = boto_session.client(service_name='sagemaker-featurestore-runtime', region_name=region)\n",
    "\n",
    "feature_store_session = Session(\n",
    "    boto_session=boto_session,\n",
    "    sagemaker_client=sagemaker_client,\n",
    "    sagemaker_featurestore_runtime_client=featurestore_runtime\n",
    ")"
   ]
  },
  {
   "cell_type": "code",
   "execution_count": 5,
   "id": "89cb3481-7258-4b3b-97e1-e6e915da7f1a",
   "metadata": {
    "pycharm": {
     "name": "#%%\n"
    },
    "tags": []
   },
   "outputs": [
    {
     "data": {
      "text/plain": "{'ResponseMetadata': {'RequestId': 'a2acff11-031c-428e-a5a1-2b23964e6abb',\n  'HTTPStatusCode': 200,\n  'HTTPHeaders': {'x-amzn-requestid': 'a2acff11-031c-428e-a5a1-2b23964e6abb',\n   'content-type': 'application/json',\n   'content-length': '1661',\n   'date': 'Wed, 14 Jun 2023 08:30:47 GMT'},\n  'RetryAttempts': 0},\n 'Record': [{'FeatureName': 'id',\n   'ValueAsString': '079b0ec9-cec6-42fb-9f00-7891c52a10fb'},\n  {'FeatureName': 'has_other_cats', 'ValueAsString': '0'},\n  {'FeatureName': 'personality', 'ValueAsString': 'all sweet'},\n  {'FeatureName': 'gender', 'ValueAsString': 'no preference'},\n  {'FeatureName': 'good_with_other_dogs', 'ValueAsString': '0'},\n  {'FeatureName': 'employment', 'ValueAsString': 'working full time'},\n  {'FeatureName': 'created_at', 'ValueAsString': '1970-01-01T00:00:00Z'},\n  {'FeatureName': 'agree_to_fee', 'ValueAsString': '1'},\n  {'FeatureName': 'is_first_cat', 'ValueAsString': '1'},\n  {'FeatureName': 'good_with_kids', 'ValueAsString': '0'},\n  {'FeatureName': 'attention_need', 'ValueAsString': 'no preference'},\n  {'FeatureName': 'updated_at', 'ValueAsString': '1970-01-01T00:00:00Z'},\n  {'FeatureName': 'username', 'ValueAsString': 'Goodboya'},\n  {'FeatureName': 'home_ownership', 'ValueAsString': 'self-owned'},\n  {'FeatureName': 'has_allergies', 'ValueAsString': '0'},\n  {'FeatureName': 'energy_level', 'ValueAsString': 'no preference'},\n  {'FeatureName': 'age_juvenile', 'ValueAsString': '1'},\n  {'FeatureName': 'age_kitten', 'ValueAsString': '0'},\n  {'FeatureName': 'age_adult', 'ValueAsString': '0'},\n  {'FeatureName': 'age_senior', 'ValueAsString': '0'},\n  {'FeatureName': 'age_no_preference', 'ValueAsString': '0'},\n  {'FeatureName': 'primary_color_no_preference', 'ValueAsString': '1'},\n  {'FeatureName': 'primary_color_calico_tortie', 'ValueAsString': '0'},\n  {'FeatureName': 'primary_color_ginger', 'ValueAsString': '0'},\n  {'FeatureName': 'primary_color_others', 'ValueAsString': '0'},\n  {'FeatureName': 'primary_color_tabby', 'ValueAsString': '0'},\n  {'FeatureName': 'primary_color_black', 'ValueAsString': '0'},\n  {'FeatureName': 'primary_color_white', 'ValueAsString': '0'}]}"
     },
     "execution_count": 5,
     "metadata": {},
     "output_type": "execute_result"
    }
   ],
   "source": [
    "# users = pd.DataFrame()\n",
    "users_feature_group = FeatureGroup(name=\"users-feature-group\", sagemaker_session=sagemaker_session)\n",
    "\n",
    "# get single record from user\n",
    "record_identifier_value = str(\"079b0ec9-cec6-42fb-9f00-7891c52a10fb\")\n",
    "featurestore_runtime.get_record(FeatureGroupName=\"users-feature-group\",\n",
    "                                RecordIdentifierValueAsString=record_identifier_value)"
   ]
  },
  {
   "cell_type": "markdown",
   "id": "9d52c534",
   "metadata": {
    "pycharm": {
     "name": "#%% md\n"
    }
   },
   "source": [
    "## Setup Data Source and Images"
   ]
  },
  {
   "cell_type": "code",
   "execution_count": 6,
   "id": "a8f2f393-7609-4d6d-bbed-f1e2b484352d",
   "metadata": {
    "pycharm": {
     "name": "#%%\n"
    },
    "tags": []
   },
   "outputs": [],
   "source": [
    "# TODO: add code to retrieve latest train/test split based on type of split\n",
    "split_type = \"strat\"\n",
    "object_name = \"strat-2023-05-31-13-50-15-148\"\n",
    "train_uri = f\"s3://petfinder6000-training/{object_name}/output/train/train.csv\"\n",
    "eval_uri = f\"s3://petfinder6000-training/{object_name}/output/validation/validation.csv\"\n",
    "test_uri = f\"s3://petfinder6000-training/{object_name}/output/test/test.csv\""
   ]
  },
  {
   "cell_type": "code",
   "execution_count": 7,
   "outputs": [],
   "source": [
    "def get_uri_instance(run_mode):\n",
    "    if run_mode == 'LOCAL':\n",
    "        image_uri = 'cornac-39' # can pull remote container from ECR too\n",
    "        instance_type = 'local'\n",
    "    else:\n",
    "        image_uri = '418542404631.dkr.ecr.ap-southeast-1.amazonaws.com/petfinder6000:cornac-39-v2'\n",
    "        instance_type = 'ml.c5.xlarge'\n",
    "    return image_uri, instance_type"
   ],
   "metadata": {
    "collapsed": false,
    "pycharm": {
     "name": "#%%\n"
    }
   }
  },
  {
   "cell_type": "markdown",
   "source": [
    "## Hyperparameter Tuning"
   ],
   "metadata": {
    "collapsed": false,
    "pycharm": {
     "name": "#%% md\n"
    }
   }
  },
  {
   "cell_type": "code",
   "execution_count": 8,
   "outputs": [
    {
     "name": "stdout",
     "output_type": "stream",
     "text": [
      "Using provided s3_resource\n"
     ]
    },
    {
     "name": "stderr",
     "output_type": "stream",
     "text": [
      "No finished training job found associated with this estimator. Please make sure this estimator is only used for building workflow config\n"
     ]
    }
   ],
   "source": [
    "from sagemaker.tuner import (\n",
    "    IntegerParameter,\n",
    "    ContinuousParameter,\n",
    "    HyperparameterTuner,\n",
    ")\n",
    "from sagemaker.tensorflow import TensorFlow\n",
    "\n",
    "exp_name = 'testing'\n",
    "run_name = 'tuning-bpr-' + time.strftime(\"%Y%m%d-%H-%M-%S\", time.gmtime())\n",
    "\n",
    "# setup hyperparameters\n",
    "k = 50\n",
    "max_iter = 200\n",
    "learning_rate = 0.001\n",
    "lambda_reg = 0.001\n",
    "\n",
    "run_mode = 'REMOTE' # hyperparam tuning must be remote\n",
    "image_uri, instance_type = get_uri_instance(run_mode)\n",
    "\n",
    "estimator = TensorFlow(\n",
    "    image_uri=image_uri,\n",
    "    entry_point=\"./train_bpr.py\",\n",
    "    dependencies=['./metrics/harmonic_mean.py', './metrics/combined_eval_method.py', './metrics/serendipity_wrapper.py'],\n",
    "    role=role,\n",
    "    instance_count=1,\n",
    "    instance_type=instance_type,\n",
    "    source_dir=\"./\",\n",
    "    environment={\"REGION\": region},\n",
    "    hyperparameters={\n",
    "        \"k\": k,\n",
    "        \"max_iter\": max_iter,\n",
    "        \"learning_rate\": learning_rate,\n",
    "        \"lambda_reg\": lambda_reg,\n",
    "    },\n",
    ")\n",
    "\n",
    "# configure hyperparameter tuning\n",
    "hyperparameter_ranges = {\n",
    "    \"k\": IntegerParameter(10, 500),\n",
    "    \"max_iter\": IntegerParameter(50, 200),\n",
    "    \"learning_rate\": ContinuousParameter(0.001, 0.1),\n",
    "    \"lambda_reg\": ContinuousParameter(0.001, 0.1),\n",
    "}\n",
    "objective_metric_name = \"HarmonicMean\"\n",
    "objective_type = \"Maximize\"\n",
    "metric_definitions = [{\"Name\": \"HarmonicMean\", \"Regex\": \"HarmonicMean: ([0-9\\\\.]+)\"},\n",
    "                      {\"Name\": \"Serendipity\", \"Regex\": \"Serendipity: ([0-9\\\\.]+)\"},\n",
    "                      {\"Name\": \"F1@10\", \"Regex\": \"F1@10: ([0-9\\\\.]+)\"},\n",
    "                      {\"Name\": \"NDCG@-1\", \"Regex\": \"NDCG@-1: ([0-9\\\\.]+)\"},\n",
    "                      {\"Name\": \"NCRR@-1\", \"Regex\": \"NCRR@-1: ([0-9\\\\.]+)\"}]\n",
    "tuner = HyperparameterTuner(\n",
    "    estimator,\n",
    "    objective_metric_name,\n",
    "    hyperparameter_ranges,\n",
    "    metric_definitions,\n",
    "    max_jobs=3,\n",
    "    max_parallel_jobs=3,\n",
    "    strategy=\"Random\",\n",
    ")\n",
    "\n",
    "# tune hyperparameter\n",
    "tuner.fit(\n",
    "    inputs={\n",
    "        \"train\": train_uri,\n",
    "        \"eval\": eval_uri,\n",
    "        \"test\": test_uri\n",
    "    },\n",
    "    include_cls_metadata=False,\n",
    "    job_name=run_name,\n",
    "    wait=False\n",
    ")"
   ],
   "metadata": {
    "collapsed": false,
    "pycharm": {
     "name": "#%%\n"
    }
   }
  },
  {
   "cell_type": "code",
   "execution_count": 10,
   "outputs": [
    {
     "name": "stdout",
     "output_type": "stream",
     "text": [
      "Latest job name: tuning-bpr-20230614-08-30-51\n",
      "3 training jobs have completed\n"
     ]
    }
   ],
   "source": [
    "# run this cell to check current status of hyperparameter tuning job\n",
    "print(f\"Latest job name: {tuner.latest_tuning_job.job_name}\")\n",
    "tuning_job_result = sagemaker_client.describe_hyper_parameter_tuning_job(\n",
    "    HyperParameterTuningJobName=tuner.latest_tuning_job.job_name\n",
    ")\n",
    "\n",
    "status = tuning_job_result[\"HyperParameterTuningJobStatus\"]\n",
    "if status != \"Completed\":\n",
    "    print(\"Reminder: the tuning job has not been completed.\")\n",
    "\n",
    "job_count = tuning_job_result[\"TrainingJobStatusCounters\"][\"Completed\"]\n",
    "print(\"%d training jobs have completed\" % job_count)\n",
    "\n",
    "objective = tuning_job_result[\"HyperParameterTuningJobConfig\"][\"HyperParameterTuningJobObjective\"]\n",
    "is_minimize = objective[\"Type\"] != \"Maximize\"\n",
    "objective_name = objective[\"MetricName\"]"
   ],
   "metadata": {
    "collapsed": false,
    "pycharm": {
     "name": "#%%\n"
    }
   }
  },
  {
   "cell_type": "code",
   "execution_count": 11,
   "outputs": [
    {
     "name": "stdout",
     "output_type": "stream",
     "text": [
      "Best model found so far:\n",
      "{'CreationTime': datetime.datetime(2023, 6, 14, 16, 30, 56, tzinfo=tzlocal()),\n",
      " 'FinalHyperParameterTuningJobObjectiveMetric': {'MetricName': 'HarmonicMean',\n",
      "                                                 'Value': 0.01937107741832733},\n",
      " 'ObjectiveStatus': 'Succeeded',\n",
      " 'TrainingEndTime': datetime.datetime(2023, 6, 14, 16, 36, 24, tzinfo=tzlocal()),\n",
      " 'TrainingJobArn': 'arn:aws:sagemaker:ap-southeast-1:418542404631:training-job/tuning-bpr-20230614-08-30-51-001-e5daedc1',\n",
      " 'TrainingJobName': 'tuning-bpr-20230614-08-30-51-001-e5daedc1',\n",
      " 'TrainingJobStatus': 'Completed',\n",
      " 'TrainingStartTime': datetime.datetime(2023, 6, 14, 16, 32, 27, tzinfo=tzlocal()),\n",
      " 'TunedHyperParameters': {'k': '212',\n",
      "                          'lambda_reg': '0.012350714841053868',\n",
      "                          'learning_rate': '0.0051821320815837926',\n",
      "                          'max_iter': '106'}}\n"
     ]
    }
   ],
   "source": [
    "from pprint import pprint\n",
    "\n",
    "if tuning_job_result.get(\"BestTrainingJob\", None):\n",
    "    print(\"Best model found so far:\")\n",
    "    pprint(tuning_job_result[\"BestTrainingJob\"])\n",
    "else:\n",
    "    print(\"No training jobs have reported results yet.\")"
   ],
   "metadata": {
    "collapsed": false,
    "pycharm": {
     "name": "#%%\n"
    }
   }
  },
  {
   "cell_type": "code",
   "execution_count": 12,
   "outputs": [
    {
     "name": "stdout",
     "output_type": "stream",
     "text": [
      "[{'MetricName': 'HarmonicMean', 'Value': 0.01937107741832733, 'Timestamp': datetime.datetime(2023, 6, 14, 16, 36, 6, tzinfo=tzlocal())}, {'MetricName': 'Serendipity', 'Value': 0.08398120850324631, 'Timestamp': datetime.datetime(2023, 6, 14, 16, 36, 6, tzinfo=tzlocal())}, {'MetricName': 'F1@10', 'Value': 0.0272739939391613, 'Timestamp': datetime.datetime(2023, 6, 14, 16, 36, 6, tzinfo=tzlocal())}, {'MetricName': 'NDCG@-1', 'Value': 0.26288220286369324, 'Timestamp': datetime.datetime(2023, 6, 14, 16, 36, 6, tzinfo=tzlocal())}, {'MetricName': 'NCRR@-1', 'Value': 0.056838296353816986, 'Timestamp': datetime.datetime(2023, 6, 14, 16, 36, 6, tzinfo=tzlocal())}, {'MetricName': 'ObjectiveMetric', 'Value': 0.01937107741832733, 'Timestamp': datetime.datetime(2023, 6, 14, 16, 36, 6, tzinfo=tzlocal())}]\n"
     ]
    }
   ],
   "source": [
    "job_name = tuning_job_result[\"BestTrainingJob\"][\"TrainingJobName\"]\n",
    "jobd = sagemaker_client.describe_training_job(TrainingJobName=job_name)\n",
    "metrics = jobd['FinalMetricDataList']\n",
    "print(metrics)"
   ],
   "metadata": {
    "collapsed": false,
    "pycharm": {
     "name": "#%%\n"
    }
   }
  },
  {
   "cell_type": "code",
   "execution_count": 13,
   "outputs": [],
   "source": [
    "# update experiment with best parameters\n",
    "from sagemaker.experiments.run import Run\n",
    "\n",
    "with Run(experiment_name=exp_name, run_name=run_name, sagemaker_session=sagemaker_session) as run:\n",
    "    params = tuning_job_result[\"BestTrainingJob\"][\"TunedHyperParameters\"]\n",
    "    run.log_parameters(params)\n",
    "\n",
    "    job_name = tuning_job_result[\"BestTrainingJob\"][\"TrainingJobName\"]\n",
    "    jobd = sagemaker_client.describe_training_job(TrainingJobName=job_name)\n",
    "    metrics = jobd['FinalMetricDataList']\n",
    "    for m in metrics:\n",
    "        run.log_metric(name=m.get('MetricName'), value=m.get('Value'))"
   ],
   "metadata": {
    "collapsed": false,
    "pycharm": {
     "name": "#%%\n"
    }
   }
  },
  {
   "cell_type": "markdown",
   "source": [
    "### Register Trained Model in Model Registry"
   ],
   "metadata": {
    "collapsed": false,
    "pycharm": {
     "name": "#%% md\n"
    }
   }
  },
  {
   "cell_type": "code",
   "execution_count": 16,
   "id": "e623eedb-a41f-4b17-8d4a-5d6c8c4cd674",
   "metadata": {
    "pycharm": {
     "name": "#%%\n"
    }
   },
   "outputs": [
    {
     "name": "stdout",
     "output_type": "stream",
     "text": [
      "\n",
      "2023-06-14 08:36:25 Starting - Preparing the instances for training\n",
      "2023-06-14 08:36:25 Downloading - Downloading input data\n",
      "2023-06-14 08:36:25 Training - Training image download completed. Training in progress.\n",
      "2023-06-14 08:36:25 Uploading - Uploading generated training model\n",
      "2023-06-14 08:36:25 Completed - Resource retained for reuse\n"
     ]
    },
    {
     "data": {
      "text/plain": "<sagemaker.model.ModelPackage at 0x20237fb52b0>"
     },
     "execution_count": 16,
     "metadata": {},
     "output_type": "execute_result"
    }
   ],
   "source": [
    "# register trained model in Model Registry\n",
    "from sagemaker.tensorflow.model import TensorFlowModel\n",
    "\n",
    "model_package_group = \"test\"\n",
    "\n",
    "# for hyperparam tuning\n",
    "model = tuner.best_estimator()\n",
    "\n",
    "model.register(\n",
    "    model_package_group_name=model_package_group,\n",
    "    image_uri=image_uri,\n",
    "    content_types=[\"text/csv\"],\n",
    "    inference_instances=[\"ml.c5.xlarge\"],\n",
    "    transform_instances=[\"ml.c5.xlarge\"],\n",
    "    response_types=[\"text/csv\"],\n",
    "    approval_status=\"PendingManualApproval\",\n",
    ")"
   ]
  },
  {
   "cell_type": "markdown",
   "id": "6fe02292-8070-4504-89f0-08df2a43bfb9",
   "metadata": {
    "pycharm": {
     "name": "#%% md\n"
    }
   },
   "source": [
    "### Delete experiments"
   ]
  },
  {
   "cell_type": "code",
   "execution_count": 45,
   "id": "d2ff3c7a-b10c-4362-b8b2-4421e3d80d5a",
   "metadata": {
    "pycharm": {
     "name": "#%%\n"
    },
    "tags": []
   },
   "outputs": [
    {
     "name": "stdout",
     "output_type": "stream",
     "text": [
      "Experiment(sagemaker_session=<sagemaker.session.Session object at 0x0000026ECD0BC670>,experiment_name='tensorflow-script-mode-experiment',experiment_arn='arn:aws:sagemaker:ap-southeast-1:418542404631:experiment/tensorflow-script-mode-experiment',display_name='tensorflow-script-mode-experiment',creation_time=datetime.datetime(2023, 6, 9, 22, 44, 58, 124000, tzinfo=tzlocal()),created_by={'UserProfileArn': 'arn:aws:sagemaker:ap-southeast-1:418542404631:user-profile/d-ni9jmwq8akiv/aeroxye', 'UserProfileName': 'aeroxye', 'DomainId': 'd-ni9jmwq8akiv'},last_modified_time=datetime.datetime(2023, 6, 10, 16, 30, 12, 866000, tzinfo=tzlocal()),last_modified_by={},response_metadata={'RequestId': 'd6609acb-9f9e-4700-97f8-235f2b7ffa68', 'HTTPStatusCode': 200, 'HTTPHeaders': {'x-amzn-requestid': 'd6609acb-9f9e-4700-97f8-235f2b7ffa68', 'content-type': 'application/x-amz-json-1.1', 'content-length': '472', 'date': 'Wed, 14 Jun 2023 08:22:31 GMT'}, 'RetryAttempts': 0})\n"
     ]
    }
   ],
   "source": [
    "from sagemaker.experiments.experiment import Experiment\n",
    "\n",
    "experiment_name = \"tensorflow-script-mode-experiment\"\n",
    "exp = Experiment.load(experiment_name=experiment_name, sagemaker_session=sagemaker_session)\n",
    "print(exp)\n",
    "exp._delete_all(action=\"--force\")"
   ]
  }
 ],
 "metadata": {
  "availableInstances": [
   {
    "_defaultOrder": 0,
    "_isFastLaunch": true,
    "category": "General purpose",
    "gpuNum": 0,
    "hideHardwareSpecs": false,
    "memoryGiB": 4,
    "name": "ml.t3.medium",
    "vcpuNum": 2
   },
   {
    "_defaultOrder": 1,
    "_isFastLaunch": false,
    "category": "General purpose",
    "gpuNum": 0,
    "hideHardwareSpecs": false,
    "memoryGiB": 8,
    "name": "ml.t3.large",
    "vcpuNum": 2
   },
   {
    "_defaultOrder": 2,
    "_isFastLaunch": false,
    "category": "General purpose",
    "gpuNum": 0,
    "hideHardwareSpecs": false,
    "memoryGiB": 16,
    "name": "ml.t3.xlarge",
    "vcpuNum": 4
   },
   {
    "_defaultOrder": 3,
    "_isFastLaunch": false,
    "category": "General purpose",
    "gpuNum": 0,
    "hideHardwareSpecs": false,
    "memoryGiB": 32,
    "name": "ml.t3.2xlarge",
    "vcpuNum": 8
   },
   {
    "_defaultOrder": 4,
    "_isFastLaunch": true,
    "category": "General purpose",
    "gpuNum": 0,
    "hideHardwareSpecs": false,
    "memoryGiB": 8,
    "name": "ml.m5.large",
    "vcpuNum": 2
   },
   {
    "_defaultOrder": 5,
    "_isFastLaunch": false,
    "category": "General purpose",
    "gpuNum": 0,
    "hideHardwareSpecs": false,
    "memoryGiB": 16,
    "name": "ml.m5.xlarge",
    "vcpuNum": 4
   },
   {
    "_defaultOrder": 6,
    "_isFastLaunch": false,
    "category": "General purpose",
    "gpuNum": 0,
    "hideHardwareSpecs": false,
    "memoryGiB": 32,
    "name": "ml.m5.2xlarge",
    "vcpuNum": 8
   },
   {
    "_defaultOrder": 7,
    "_isFastLaunch": false,
    "category": "General purpose",
    "gpuNum": 0,
    "hideHardwareSpecs": false,
    "memoryGiB": 64,
    "name": "ml.m5.4xlarge",
    "vcpuNum": 16
   },
   {
    "_defaultOrder": 8,
    "_isFastLaunch": false,
    "category": "General purpose",
    "gpuNum": 0,
    "hideHardwareSpecs": false,
    "memoryGiB": 128,
    "name": "ml.m5.8xlarge",
    "vcpuNum": 32
   },
   {
    "_defaultOrder": 9,
    "_isFastLaunch": false,
    "category": "General purpose",
    "gpuNum": 0,
    "hideHardwareSpecs": false,
    "memoryGiB": 192,
    "name": "ml.m5.12xlarge",
    "vcpuNum": 48
   },
   {
    "_defaultOrder": 10,
    "_isFastLaunch": false,
    "category": "General purpose",
    "gpuNum": 0,
    "hideHardwareSpecs": false,
    "memoryGiB": 256,
    "name": "ml.m5.16xlarge",
    "vcpuNum": 64
   },
   {
    "_defaultOrder": 11,
    "_isFastLaunch": false,
    "category": "General purpose",
    "gpuNum": 0,
    "hideHardwareSpecs": false,
    "memoryGiB": 384,
    "name": "ml.m5.24xlarge",
    "vcpuNum": 96
   },
   {
    "_defaultOrder": 12,
    "_isFastLaunch": false,
    "category": "General purpose",
    "gpuNum": 0,
    "hideHardwareSpecs": false,
    "memoryGiB": 8,
    "name": "ml.m5d.large",
    "vcpuNum": 2
   },
   {
    "_defaultOrder": 13,
    "_isFastLaunch": false,
    "category": "General purpose",
    "gpuNum": 0,
    "hideHardwareSpecs": false,
    "memoryGiB": 16,
    "name": "ml.m5d.xlarge",
    "vcpuNum": 4
   },
   {
    "_defaultOrder": 14,
    "_isFastLaunch": false,
    "category": "General purpose",
    "gpuNum": 0,
    "hideHardwareSpecs": false,
    "memoryGiB": 32,
    "name": "ml.m5d.2xlarge",
    "vcpuNum": 8
   },
   {
    "_defaultOrder": 15,
    "_isFastLaunch": false,
    "category": "General purpose",
    "gpuNum": 0,
    "hideHardwareSpecs": false,
    "memoryGiB": 64,
    "name": "ml.m5d.4xlarge",
    "vcpuNum": 16
   },
   {
    "_defaultOrder": 16,
    "_isFastLaunch": false,
    "category": "General purpose",
    "gpuNum": 0,
    "hideHardwareSpecs": false,
    "memoryGiB": 128,
    "name": "ml.m5d.8xlarge",
    "vcpuNum": 32
   },
   {
    "_defaultOrder": 17,
    "_isFastLaunch": false,
    "category": "General purpose",
    "gpuNum": 0,
    "hideHardwareSpecs": false,
    "memoryGiB": 192,
    "name": "ml.m5d.12xlarge",
    "vcpuNum": 48
   },
   {
    "_defaultOrder": 18,
    "_isFastLaunch": false,
    "category": "General purpose",
    "gpuNum": 0,
    "hideHardwareSpecs": false,
    "memoryGiB": 256,
    "name": "ml.m5d.16xlarge",
    "vcpuNum": 64
   },
   {
    "_defaultOrder": 19,
    "_isFastLaunch": false,
    "category": "General purpose",
    "gpuNum": 0,
    "hideHardwareSpecs": false,
    "memoryGiB": 384,
    "name": "ml.m5d.24xlarge",
    "vcpuNum": 96
   },
   {
    "_defaultOrder": 20,
    "_isFastLaunch": false,
    "category": "General purpose",
    "gpuNum": 0,
    "hideHardwareSpecs": true,
    "memoryGiB": 0,
    "name": "ml.geospatial.interactive",
    "supportedImageNames": [
     "sagemaker-geospatial-v1-0"
    ],
    "vcpuNum": 0
   },
   {
    "_defaultOrder": 21,
    "_isFastLaunch": true,
    "category": "Compute optimized",
    "gpuNum": 0,
    "hideHardwareSpecs": false,
    "memoryGiB": 4,
    "name": "ml.c5.large",
    "vcpuNum": 2
   },
   {
    "_defaultOrder": 22,
    "_isFastLaunch": false,
    "category": "Compute optimized",
    "gpuNum": 0,
    "hideHardwareSpecs": false,
    "memoryGiB": 8,
    "name": "ml.c5.xlarge",
    "vcpuNum": 4
   },
   {
    "_defaultOrder": 23,
    "_isFastLaunch": false,
    "category": "Compute optimized",
    "gpuNum": 0,
    "hideHardwareSpecs": false,
    "memoryGiB": 16,
    "name": "ml.c5.2xlarge",
    "vcpuNum": 8
   },
   {
    "_defaultOrder": 24,
    "_isFastLaunch": false,
    "category": "Compute optimized",
    "gpuNum": 0,
    "hideHardwareSpecs": false,
    "memoryGiB": 32,
    "name": "ml.c5.4xlarge",
    "vcpuNum": 16
   },
   {
    "_defaultOrder": 25,
    "_isFastLaunch": false,
    "category": "Compute optimized",
    "gpuNum": 0,
    "hideHardwareSpecs": false,
    "memoryGiB": 72,
    "name": "ml.c5.9xlarge",
    "vcpuNum": 36
   },
   {
    "_defaultOrder": 26,
    "_isFastLaunch": false,
    "category": "Compute optimized",
    "gpuNum": 0,
    "hideHardwareSpecs": false,
    "memoryGiB": 96,
    "name": "ml.c5.12xlarge",
    "vcpuNum": 48
   },
   {
    "_defaultOrder": 27,
    "_isFastLaunch": false,
    "category": "Compute optimized",
    "gpuNum": 0,
    "hideHardwareSpecs": false,
    "memoryGiB": 144,
    "name": "ml.c5.18xlarge",
    "vcpuNum": 72
   },
   {
    "_defaultOrder": 28,
    "_isFastLaunch": false,
    "category": "Compute optimized",
    "gpuNum": 0,
    "hideHardwareSpecs": false,
    "memoryGiB": 192,
    "name": "ml.c5.24xlarge",
    "vcpuNum": 96
   },
   {
    "_defaultOrder": 29,
    "_isFastLaunch": true,
    "category": "Accelerated computing",
    "gpuNum": 1,
    "hideHardwareSpecs": false,
    "memoryGiB": 16,
    "name": "ml.g4dn.xlarge",
    "vcpuNum": 4
   },
   {
    "_defaultOrder": 30,
    "_isFastLaunch": false,
    "category": "Accelerated computing",
    "gpuNum": 1,
    "hideHardwareSpecs": false,
    "memoryGiB": 32,
    "name": "ml.g4dn.2xlarge",
    "vcpuNum": 8
   },
   {
    "_defaultOrder": 31,
    "_isFastLaunch": false,
    "category": "Accelerated computing",
    "gpuNum": 1,
    "hideHardwareSpecs": false,
    "memoryGiB": 64,
    "name": "ml.g4dn.4xlarge",
    "vcpuNum": 16
   },
   {
    "_defaultOrder": 32,
    "_isFastLaunch": false,
    "category": "Accelerated computing",
    "gpuNum": 1,
    "hideHardwareSpecs": false,
    "memoryGiB": 128,
    "name": "ml.g4dn.8xlarge",
    "vcpuNum": 32
   },
   {
    "_defaultOrder": 33,
    "_isFastLaunch": false,
    "category": "Accelerated computing",
    "gpuNum": 4,
    "hideHardwareSpecs": false,
    "memoryGiB": 192,
    "name": "ml.g4dn.12xlarge",
    "vcpuNum": 48
   },
   {
    "_defaultOrder": 34,
    "_isFastLaunch": false,
    "category": "Accelerated computing",
    "gpuNum": 1,
    "hideHardwareSpecs": false,
    "memoryGiB": 256,
    "name": "ml.g4dn.16xlarge",
    "vcpuNum": 64
   },
   {
    "_defaultOrder": 35,
    "_isFastLaunch": false,
    "category": "Accelerated computing",
    "gpuNum": 1,
    "hideHardwareSpecs": false,
    "memoryGiB": 61,
    "name": "ml.p3.2xlarge",
    "vcpuNum": 8
   },
   {
    "_defaultOrder": 36,
    "_isFastLaunch": false,
    "category": "Accelerated computing",
    "gpuNum": 4,
    "hideHardwareSpecs": false,
    "memoryGiB": 244,
    "name": "ml.p3.8xlarge",
    "vcpuNum": 32
   },
   {
    "_defaultOrder": 37,
    "_isFastLaunch": false,
    "category": "Accelerated computing",
    "gpuNum": 8,
    "hideHardwareSpecs": false,
    "memoryGiB": 488,
    "name": "ml.p3.16xlarge",
    "vcpuNum": 64
   },
   {
    "_defaultOrder": 38,
    "_isFastLaunch": false,
    "category": "Accelerated computing",
    "gpuNum": 8,
    "hideHardwareSpecs": false,
    "memoryGiB": 768,
    "name": "ml.p3dn.24xlarge",
    "vcpuNum": 96
   },
   {
    "_defaultOrder": 39,
    "_isFastLaunch": false,
    "category": "Memory Optimized",
    "gpuNum": 0,
    "hideHardwareSpecs": false,
    "memoryGiB": 16,
    "name": "ml.r5.large",
    "vcpuNum": 2
   },
   {
    "_defaultOrder": 40,
    "_isFastLaunch": false,
    "category": "Memory Optimized",
    "gpuNum": 0,
    "hideHardwareSpecs": false,
    "memoryGiB": 32,
    "name": "ml.r5.xlarge",
    "vcpuNum": 4
   },
   {
    "_defaultOrder": 41,
    "_isFastLaunch": false,
    "category": "Memory Optimized",
    "gpuNum": 0,
    "hideHardwareSpecs": false,
    "memoryGiB": 64,
    "name": "ml.r5.2xlarge",
    "vcpuNum": 8
   },
   {
    "_defaultOrder": 42,
    "_isFastLaunch": false,
    "category": "Memory Optimized",
    "gpuNum": 0,
    "hideHardwareSpecs": false,
    "memoryGiB": 128,
    "name": "ml.r5.4xlarge",
    "vcpuNum": 16
   },
   {
    "_defaultOrder": 43,
    "_isFastLaunch": false,
    "category": "Memory Optimized",
    "gpuNum": 0,
    "hideHardwareSpecs": false,
    "memoryGiB": 256,
    "name": "ml.r5.8xlarge",
    "vcpuNum": 32
   },
   {
    "_defaultOrder": 44,
    "_isFastLaunch": false,
    "category": "Memory Optimized",
    "gpuNum": 0,
    "hideHardwareSpecs": false,
    "memoryGiB": 384,
    "name": "ml.r5.12xlarge",
    "vcpuNum": 48
   },
   {
    "_defaultOrder": 45,
    "_isFastLaunch": false,
    "category": "Memory Optimized",
    "gpuNum": 0,
    "hideHardwareSpecs": false,
    "memoryGiB": 512,
    "name": "ml.r5.16xlarge",
    "vcpuNum": 64
   },
   {
    "_defaultOrder": 46,
    "_isFastLaunch": false,
    "category": "Memory Optimized",
    "gpuNum": 0,
    "hideHardwareSpecs": false,
    "memoryGiB": 768,
    "name": "ml.r5.24xlarge",
    "vcpuNum": 96
   },
   {
    "_defaultOrder": 47,
    "_isFastLaunch": false,
    "category": "Accelerated computing",
    "gpuNum": 1,
    "hideHardwareSpecs": false,
    "memoryGiB": 16,
    "name": "ml.g5.xlarge",
    "vcpuNum": 4
   },
   {
    "_defaultOrder": 48,
    "_isFastLaunch": false,
    "category": "Accelerated computing",
    "gpuNum": 1,
    "hideHardwareSpecs": false,
    "memoryGiB": 32,
    "name": "ml.g5.2xlarge",
    "vcpuNum": 8
   },
   {
    "_defaultOrder": 49,
    "_isFastLaunch": false,
    "category": "Accelerated computing",
    "gpuNum": 1,
    "hideHardwareSpecs": false,
    "memoryGiB": 64,
    "name": "ml.g5.4xlarge",
    "vcpuNum": 16
   },
   {
    "_defaultOrder": 50,
    "_isFastLaunch": false,
    "category": "Accelerated computing",
    "gpuNum": 1,
    "hideHardwareSpecs": false,
    "memoryGiB": 128,
    "name": "ml.g5.8xlarge",
    "vcpuNum": 32
   },
   {
    "_defaultOrder": 51,
    "_isFastLaunch": false,
    "category": "Accelerated computing",
    "gpuNum": 1,
    "hideHardwareSpecs": false,
    "memoryGiB": 256,
    "name": "ml.g5.16xlarge",
    "vcpuNum": 64
   },
   {
    "_defaultOrder": 52,
    "_isFastLaunch": false,
    "category": "Accelerated computing",
    "gpuNum": 4,
    "hideHardwareSpecs": false,
    "memoryGiB": 192,
    "name": "ml.g5.12xlarge",
    "vcpuNum": 48
   },
   {
    "_defaultOrder": 53,
    "_isFastLaunch": false,
    "category": "Accelerated computing",
    "gpuNum": 4,
    "hideHardwareSpecs": false,
    "memoryGiB": 384,
    "name": "ml.g5.24xlarge",
    "vcpuNum": 96
   },
   {
    "_defaultOrder": 54,
    "_isFastLaunch": false,
    "category": "Accelerated computing",
    "gpuNum": 8,
    "hideHardwareSpecs": false,
    "memoryGiB": 768,
    "name": "ml.g5.48xlarge",
    "vcpuNum": 192
   },
   {
    "_defaultOrder": 55,
    "_isFastLaunch": false,
    "category": "Accelerated computing",
    "gpuNum": 8,
    "hideHardwareSpecs": false,
    "memoryGiB": 1152,
    "name": "ml.p4d.24xlarge",
    "vcpuNum": 96
   },
   {
    "_defaultOrder": 56,
    "_isFastLaunch": false,
    "category": "Accelerated computing",
    "gpuNum": 8,
    "hideHardwareSpecs": false,
    "memoryGiB": 1152,
    "name": "ml.p4de.24xlarge",
    "vcpuNum": 96
   }
  ],
  "instance_type": "ml.t3.medium",
  "kernelspec": {
   "name": "python3",
   "language": "python",
   "display_name": "Python 3 (ipykernel)"
  },
  "language_info": {
   "codemirror_mode": {
    "name": "ipython",
    "version": 3
   },
   "file_extension": ".py",
   "mimetype": "text/x-python",
   "name": "python",
   "nbconvert_exporter": "python",
   "pygments_lexer": "ipython3",
   "version": "3.7.10"
  }
 },
 "nbformat": 4,
 "nbformat_minor": 5
}
