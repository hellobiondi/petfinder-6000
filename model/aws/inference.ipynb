{
 "cells": [
  {
   "cell_type": "markdown",
   "source": [
    "# Batch Inference"
   ],
   "metadata": {
    "collapsed": false,
    "pycharm": {
     "name": "#%% md\n"
    }
   }
  },
  {
   "cell_type": "code",
   "execution_count": 20,
   "metadata": {
    "collapsed": true,
    "pycharm": {
     "name": "#%%\n"
    }
   },
   "outputs": [],
   "source": [
    "import boto3\n",
    "import os\n",
    "import pandas as pd\n",
    "import numpy as np\n",
    "import time\n",
    "import sagemaker\n",
    "import sagemaker\n",
    "from sagemaker.session import Session\n",
    "from sagemaker.feature_store.feature_group import FeatureGroup"
   ]
  },
  {
   "cell_type": "code",
   "execution_count": 21,
   "outputs": [
    {
     "name": "stdout",
     "output_type": "stream",
     "text": [
      "env: AWS_PROFILE=aeroxye-sagemaker\n"
     ]
    }
   ],
   "source": [
    "%env AWS_PROFILE=aeroxye-sagemaker"
   ],
   "metadata": {
    "collapsed": false,
    "pycharm": {
     "name": "#%%\n"
    }
   }
  },
  {
   "cell_type": "code",
   "execution_count": 22,
   "outputs": [
    {
     "name": "stdout",
     "output_type": "stream",
     "text": [
      "{\n",
      "    \"UserId\": \"AROAWC4YSIQL5OBFCNGEX:botocore-session-1687157949\",\n",
      "    \"Account\": \"418542404631\",\n",
      "    \"Arn\": \"arn:aws:sts::418542404631:assumed-role/SageMaker-UserRole/botocore-session-1687157949\"\n",
      "}\n"
     ]
    }
   ],
   "source": [
    "!aws sts get-caller-identity"
   ],
   "metadata": {
    "collapsed": false,
    "pycharm": {
     "name": "#%%\n"
    }
   }
  },
  {
   "cell_type": "code",
   "execution_count": 23,
   "outputs": [
    {
     "name": "stderr",
     "output_type": "stream",
     "text": [
      "WARNING:sagemaker:Couldn't call 'get_role' to get Role ARN from role name SageMaker-UserRole to get Role path.\n",
      "INFO:botocore.credentials:Found credentials in shared credentials file: ~/.aws/credentials\n"
     ]
    },
    {
     "name": "stdout",
     "output_type": "stream",
     "text": [
      "Current region: ap-southeast-1\n"
     ]
    }
   ],
   "source": [
    "try:\n",
    "    role = sagemaker.get_execution_role()\n",
    "except ValueError:\n",
    "    iam = boto3.client('iam')\n",
    "    role = iam.get_role(RoleName='SageMaker-UserRole')['Role']['Arn']\n",
    "\n",
    "region = boto3.Session().region_name\n",
    "print(f'Current region: {region}')\n",
    "\n",
    "boto_session = boto3.Session(region_name=region)\n",
    "sagemaker_session = sagemaker.Session(boto_session=boto_session)\n",
    "default_bucket = sagemaker_session.default_bucket()\n",
    "sagemaker_client = boto_session.client(service_name='sagemaker', region_name=region)\n",
    "sagemaker_client.list_feature_groups()\n",
    "\n",
    "featurestore_runtime = boto_session.client(service_name='sagemaker-featurestore-runtime', region_name=region)\n",
    "\n",
    "feature_store_session = Session(\n",
    "    boto_session=boto_session,\n",
    "    sagemaker_client=sagemaker_client,\n",
    "    sagemaker_featurestore_runtime_client=featurestore_runtime\n",
    ")"
   ],
   "metadata": {
    "collapsed": false,
    "pycharm": {
     "name": "#%%\n"
    }
   }
  },
  {
   "cell_type": "markdown",
   "source": [
    "## Download Model from Model Registry"
   ],
   "metadata": {
    "collapsed": false,
    "pycharm": {
     "name": "#%% md\n"
    }
   }
  },
  {
   "cell_type": "code",
   "execution_count": 24,
   "outputs": [],
   "source": [
    "model_package_group_name = 'TestModelPackageGroup'"
   ],
   "metadata": {
    "collapsed": false,
    "pycharm": {
     "name": "#%%\n"
    }
   }
  },
  {
   "cell_type": "code",
   "execution_count": 25,
   "outputs": [
    {
     "name": "stderr",
     "output_type": "stream",
     "text": [
      "INFO:utils:Identified the latest approved model package: arn:aws:sagemaker:ap-southeast-1:418542404631:model-package/testmodelpackagegroup/19\n"
     ]
    }
   ],
   "source": [
    "from inference.utils import get_approved_package\n",
    "\n",
    "pck = get_approved_package(model_package_group_name)\n",
    "model_description = sagemaker_client.describe_model_package(ModelPackageName=pck[\"ModelPackageArn\"])"
   ],
   "metadata": {
    "collapsed": false,
    "pycharm": {
     "name": "#%%\n"
    }
   }
  },
  {
   "cell_type": "code",
   "execution_count": 26,
   "outputs": [],
   "source": [
    "from sagemaker import ModelPackage\n",
    "\n",
    "model_package_arn = model_description[\"ModelPackageArn\"]\n",
    "model = ModelPackage(role=role, model_package_arn=model_package_arn, sagemaker_session=sagemaker_session)"
   ],
   "metadata": {
    "collapsed": false,
    "pycharm": {
     "name": "#%%\n"
    }
   }
  },
  {
   "cell_type": "code",
   "execution_count": null,
   "outputs": [],
   "source": [
    "# endpoint_name = \"test-endpoint-\" + time.strftime(\"%Y-%m-%d-%H-%M-%S\", time.gmtime())\n",
    "# print(\"EndpointName= {}\".format(endpoint_name))\n",
    "# model.deploy(initial_instance_count=1, instance_type=\"ml.m5.xlarge\", endpoint_name=endpoint_name)"
   ],
   "metadata": {
    "collapsed": false,
    "pycharm": {
     "name": "#%%\n"
    }
   }
  },
  {
   "cell_type": "markdown",
   "source": [
    "## Run Batch Inference"
   ],
   "metadata": {
    "collapsed": false,
    "pycharm": {
     "name": "#%% md\n"
    }
   }
  },
  {
   "cell_type": "markdown",
   "source": [
    "### Pull user and interactions data from feature store"
   ],
   "metadata": {
    "collapsed": false,
    "pycharm": {
     "name": "#%% md\n"
    }
   },
   "execution_count": 1
  },
  {
   "cell_type": "code",
   "execution_count": 8,
   "outputs": [],
   "source": [
    "users_feature_group_name = 'users-feature-group'\n",
    "users_feature_group = FeatureGroup(name=users_feature_group_name, sagemaker_session=sagemaker_session)\n",
    "\n",
    "interactions_feature_group_name = 'interactions-feature-group'\n",
    "interactions_feature_group = FeatureGroup(name=interactions_feature_group_name, sagemaker_session=sagemaker_session)"
   ],
   "metadata": {
    "collapsed": false,
    "pycharm": {
     "name": "#%%\n"
    }
   }
  },
  {
   "cell_type": "code",
   "execution_count": 9,
   "outputs": [],
   "source": [
    "from sagemaker.feature_store.feature_store import FeatureStore\n",
    "\n",
    "feature_store = FeatureStore(feature_store_session)\n",
    "builder = feature_store.create_dataset(\n",
    "    base=users_feature_group,\n",
    "    output_path=f's3://{default_bucket}/batch-inference/store'\n",
    ").with_feature_group(\n",
    "    interactions_feature_group,\n",
    "    target_feature_name_in_base=\"id\",\n",
    "    included_feature_names=[\"userID\", \"catID\"],\n",
    "    feature_name_in_target=\"userID\"\n",
    ")"
   ],
   "metadata": {
    "collapsed": false,
    "pycharm": {
     "name": "#%%\n"
    }
   }
  },
  {
   "cell_type": "code",
   "execution_count": 10,
   "outputs": [],
   "source": [
    "df, query = builder.to_dataframe()"
   ],
   "metadata": {
    "collapsed": false,
    "pycharm": {
     "name": "#%%\n"
    }
   }
  },
  {
   "cell_type": "code",
   "execution_count": 11,
   "outputs": [
    {
     "data": {
      "text/plain": "                                        id  has_other_cats       personality  \\\n0     be0db670-e5a7-4fb2-a480-0a8353562b63               0  anything is nice   \n1     be0db670-e5a7-4fb2-a480-0a8353562b63               0  anything is nice   \n2     be0db670-e5a7-4fb2-a480-0a8353562b63               0  anything is nice   \n3     be0db670-e5a7-4fb2-a480-0a8353562b63               0  anything is nice   \n4     be0db670-e5a7-4fb2-a480-0a8353562b63               0  anything is nice   \n...                                    ...             ...               ...   \n4836  670c923b-34c4-4f0b-a147-600eaac8b793               0         all sweet   \n4837  670c923b-34c4-4f0b-a147-600eaac8b793               0         all sweet   \n4838  670c923b-34c4-4f0b-a147-600eaac8b793               0         all sweet   \n4839  670c923b-34c4-4f0b-a147-600eaac8b793               0         all sweet   \n4840  670c923b-34c4-4f0b-a147-600eaac8b793               0         all sweet   \n\n             gender  good_with_other_dogs         employment  \\\n0     no preference                     0  working full time   \n1     no preference                     0  working full time   \n2     no preference                     0  working full time   \n3     no preference                     0  working full time   \n4     no preference                     0  working full time   \n...             ...                   ...                ...   \n4836           male                     1  working full time   \n4837           male                     1  working full time   \n4838           male                     1  working full time   \n4839           male                     1  working full time   \n4840           male                     1  working full time   \n\n                created_at  agree_to_fee  is_first_cat  good_with_kids  ...  \\\n0     2023-05-19T09:59:14Z             1             1               0  ...   \n1     2023-05-19T09:59:14Z             1             1               0  ...   \n2     2023-05-19T09:59:14Z             1             1               0  ...   \n3     2023-05-19T09:59:14Z             1             1               0  ...   \n4     2023-05-19T09:59:14Z             1             1               0  ...   \n...                    ...           ...           ...             ...  ...   \n4836  2023-06-06T02:23:53Z             1             1               1  ...   \n4837  2023-06-06T02:23:53Z             1             1               1  ...   \n4838  2023-06-06T02:23:53Z             1             1               1  ...   \n4839  2023-06-06T02:23:53Z             1             1               1  ...   \n4840  2023-06-06T02:23:53Z             1             1               1  ...   \n\n     age_senior primary_color_no_preference primary_color_black  \\\n0             0                           0                   0   \n1             0                           0                   0   \n2             0                           0                   0   \n3             0                           0                   0   \n4             0                           0                   0   \n...         ...                         ...                 ...   \n4836          0                           0                   0   \n4837          0                           0                   0   \n4838          0                           0                   0   \n4839          0                           0                   0   \n4840          0                           0                   0   \n\n     primary_color_calico_tortie  primary_color_tabby primary_color_others  \\\n0                              0                    0                    0   \n1                              0                    0                    0   \n2                              0                    0                    0   \n3                              0                    0                    0   \n4                              0                    0                    0   \n...                          ...                  ...                  ...   \n4836                           0                    1                    0   \n4837                           0                    1                    0   \n4838                           0                    1                    0   \n4839                           0                    1                    0   \n4840                           0                    1                    0   \n\n      primary_color_ginger  primary_color_white  \\\n0                        1                    0   \n1                        1                    0   \n2                        1                    0   \n3                        1                    0   \n4                        1                    0   \n...                    ...                  ...   \n4836                     0                    0   \n4837                     0                    0   \n4838                     0                    0   \n4839                     0                    0   \n4840                     0                    0   \n\n                                  userID.1  \\\n0     be0db670-e5a7-4fb2-a480-0a8353562b63   \n1     be0db670-e5a7-4fb2-a480-0a8353562b63   \n2     be0db670-e5a7-4fb2-a480-0a8353562b63   \n3     be0db670-e5a7-4fb2-a480-0a8353562b63   \n4     be0db670-e5a7-4fb2-a480-0a8353562b63   \n...                                    ...   \n4836  670c923b-34c4-4f0b-a147-600eaac8b793   \n4837  670c923b-34c4-4f0b-a147-600eaac8b793   \n4838  670c923b-34c4-4f0b-a147-600eaac8b793   \n4839  670c923b-34c4-4f0b-a147-600eaac8b793   \n4840  670c923b-34c4-4f0b-a147-600eaac8b793   \n\n                                   catID.1  \n0     2c5fcdc6-9d32-4635-81da-8ac6afb760ee  \n1     ce290f5f-6b15-4831-98d0-6a003a2a0b04  \n2     9d28cf64-20f1-4628-9a96-9df502af03ef  \n3     16ebe31c-cc7a-4b06-a3c5-3a8beba9946c  \n4     7b1632fa-6152-4862-b9d9-3bd9207cf25c  \n...                                    ...  \n4836  5b44494c-c2b6-47cb-b823-879b3b3d150d  \n4837  4bc6b512-595c-4429-8cf8-f945107fc9a9  \n4838  9b85f28e-98cc-48d9-aecf-225c40db506d  \n4839  0b34f316-6234-4eca-82a5-eca4ce167fbf  \n4840  b279bc69-f7bc-4ba0-8d68-3c14ea872064  \n\n[4841 rows x 30 columns]",
      "text/html": "<div>\n<style scoped>\n    .dataframe tbody tr th:only-of-type {\n        vertical-align: middle;\n    }\n\n    .dataframe tbody tr th {\n        vertical-align: top;\n    }\n\n    .dataframe thead th {\n        text-align: right;\n    }\n</style>\n<table border=\"1\" class=\"dataframe\">\n  <thead>\n    <tr style=\"text-align: right;\">\n      <th></th>\n      <th>id</th>\n      <th>has_other_cats</th>\n      <th>personality</th>\n      <th>gender</th>\n      <th>good_with_other_dogs</th>\n      <th>employment</th>\n      <th>created_at</th>\n      <th>agree_to_fee</th>\n      <th>is_first_cat</th>\n      <th>good_with_kids</th>\n      <th>...</th>\n      <th>age_senior</th>\n      <th>primary_color_no_preference</th>\n      <th>primary_color_black</th>\n      <th>primary_color_calico_tortie</th>\n      <th>primary_color_tabby</th>\n      <th>primary_color_others</th>\n      <th>primary_color_ginger</th>\n      <th>primary_color_white</th>\n      <th>userID.1</th>\n      <th>catID.1</th>\n    </tr>\n  </thead>\n  <tbody>\n    <tr>\n      <th>0</th>\n      <td>be0db670-e5a7-4fb2-a480-0a8353562b63</td>\n      <td>0</td>\n      <td>anything is nice</td>\n      <td>no preference</td>\n      <td>0</td>\n      <td>working full time</td>\n      <td>2023-05-19T09:59:14Z</td>\n      <td>1</td>\n      <td>1</td>\n      <td>0</td>\n      <td>...</td>\n      <td>0</td>\n      <td>0</td>\n      <td>0</td>\n      <td>0</td>\n      <td>0</td>\n      <td>0</td>\n      <td>1</td>\n      <td>0</td>\n      <td>be0db670-e5a7-4fb2-a480-0a8353562b63</td>\n      <td>2c5fcdc6-9d32-4635-81da-8ac6afb760ee</td>\n    </tr>\n    <tr>\n      <th>1</th>\n      <td>be0db670-e5a7-4fb2-a480-0a8353562b63</td>\n      <td>0</td>\n      <td>anything is nice</td>\n      <td>no preference</td>\n      <td>0</td>\n      <td>working full time</td>\n      <td>2023-05-19T09:59:14Z</td>\n      <td>1</td>\n      <td>1</td>\n      <td>0</td>\n      <td>...</td>\n      <td>0</td>\n      <td>0</td>\n      <td>0</td>\n      <td>0</td>\n      <td>0</td>\n      <td>0</td>\n      <td>1</td>\n      <td>0</td>\n      <td>be0db670-e5a7-4fb2-a480-0a8353562b63</td>\n      <td>ce290f5f-6b15-4831-98d0-6a003a2a0b04</td>\n    </tr>\n    <tr>\n      <th>2</th>\n      <td>be0db670-e5a7-4fb2-a480-0a8353562b63</td>\n      <td>0</td>\n      <td>anything is nice</td>\n      <td>no preference</td>\n      <td>0</td>\n      <td>working full time</td>\n      <td>2023-05-19T09:59:14Z</td>\n      <td>1</td>\n      <td>1</td>\n      <td>0</td>\n      <td>...</td>\n      <td>0</td>\n      <td>0</td>\n      <td>0</td>\n      <td>0</td>\n      <td>0</td>\n      <td>0</td>\n      <td>1</td>\n      <td>0</td>\n      <td>be0db670-e5a7-4fb2-a480-0a8353562b63</td>\n      <td>9d28cf64-20f1-4628-9a96-9df502af03ef</td>\n    </tr>\n    <tr>\n      <th>3</th>\n      <td>be0db670-e5a7-4fb2-a480-0a8353562b63</td>\n      <td>0</td>\n      <td>anything is nice</td>\n      <td>no preference</td>\n      <td>0</td>\n      <td>working full time</td>\n      <td>2023-05-19T09:59:14Z</td>\n      <td>1</td>\n      <td>1</td>\n      <td>0</td>\n      <td>...</td>\n      <td>0</td>\n      <td>0</td>\n      <td>0</td>\n      <td>0</td>\n      <td>0</td>\n      <td>0</td>\n      <td>1</td>\n      <td>0</td>\n      <td>be0db670-e5a7-4fb2-a480-0a8353562b63</td>\n      <td>16ebe31c-cc7a-4b06-a3c5-3a8beba9946c</td>\n    </tr>\n    <tr>\n      <th>4</th>\n      <td>be0db670-e5a7-4fb2-a480-0a8353562b63</td>\n      <td>0</td>\n      <td>anything is nice</td>\n      <td>no preference</td>\n      <td>0</td>\n      <td>working full time</td>\n      <td>2023-05-19T09:59:14Z</td>\n      <td>1</td>\n      <td>1</td>\n      <td>0</td>\n      <td>...</td>\n      <td>0</td>\n      <td>0</td>\n      <td>0</td>\n      <td>0</td>\n      <td>0</td>\n      <td>0</td>\n      <td>1</td>\n      <td>0</td>\n      <td>be0db670-e5a7-4fb2-a480-0a8353562b63</td>\n      <td>7b1632fa-6152-4862-b9d9-3bd9207cf25c</td>\n    </tr>\n    <tr>\n      <th>...</th>\n      <td>...</td>\n      <td>...</td>\n      <td>...</td>\n      <td>...</td>\n      <td>...</td>\n      <td>...</td>\n      <td>...</td>\n      <td>...</td>\n      <td>...</td>\n      <td>...</td>\n      <td>...</td>\n      <td>...</td>\n      <td>...</td>\n      <td>...</td>\n      <td>...</td>\n      <td>...</td>\n      <td>...</td>\n      <td>...</td>\n      <td>...</td>\n      <td>...</td>\n      <td>...</td>\n    </tr>\n    <tr>\n      <th>4836</th>\n      <td>670c923b-34c4-4f0b-a147-600eaac8b793</td>\n      <td>0</td>\n      <td>all sweet</td>\n      <td>male</td>\n      <td>1</td>\n      <td>working full time</td>\n      <td>2023-06-06T02:23:53Z</td>\n      <td>1</td>\n      <td>1</td>\n      <td>1</td>\n      <td>...</td>\n      <td>0</td>\n      <td>0</td>\n      <td>0</td>\n      <td>0</td>\n      <td>1</td>\n      <td>0</td>\n      <td>0</td>\n      <td>0</td>\n      <td>670c923b-34c4-4f0b-a147-600eaac8b793</td>\n      <td>5b44494c-c2b6-47cb-b823-879b3b3d150d</td>\n    </tr>\n    <tr>\n      <th>4837</th>\n      <td>670c923b-34c4-4f0b-a147-600eaac8b793</td>\n      <td>0</td>\n      <td>all sweet</td>\n      <td>male</td>\n      <td>1</td>\n      <td>working full time</td>\n      <td>2023-06-06T02:23:53Z</td>\n      <td>1</td>\n      <td>1</td>\n      <td>1</td>\n      <td>...</td>\n      <td>0</td>\n      <td>0</td>\n      <td>0</td>\n      <td>0</td>\n      <td>1</td>\n      <td>0</td>\n      <td>0</td>\n      <td>0</td>\n      <td>670c923b-34c4-4f0b-a147-600eaac8b793</td>\n      <td>4bc6b512-595c-4429-8cf8-f945107fc9a9</td>\n    </tr>\n    <tr>\n      <th>4838</th>\n      <td>670c923b-34c4-4f0b-a147-600eaac8b793</td>\n      <td>0</td>\n      <td>all sweet</td>\n      <td>male</td>\n      <td>1</td>\n      <td>working full time</td>\n      <td>2023-06-06T02:23:53Z</td>\n      <td>1</td>\n      <td>1</td>\n      <td>1</td>\n      <td>...</td>\n      <td>0</td>\n      <td>0</td>\n      <td>0</td>\n      <td>0</td>\n      <td>1</td>\n      <td>0</td>\n      <td>0</td>\n      <td>0</td>\n      <td>670c923b-34c4-4f0b-a147-600eaac8b793</td>\n      <td>9b85f28e-98cc-48d9-aecf-225c40db506d</td>\n    </tr>\n    <tr>\n      <th>4839</th>\n      <td>670c923b-34c4-4f0b-a147-600eaac8b793</td>\n      <td>0</td>\n      <td>all sweet</td>\n      <td>male</td>\n      <td>1</td>\n      <td>working full time</td>\n      <td>2023-06-06T02:23:53Z</td>\n      <td>1</td>\n      <td>1</td>\n      <td>1</td>\n      <td>...</td>\n      <td>0</td>\n      <td>0</td>\n      <td>0</td>\n      <td>0</td>\n      <td>1</td>\n      <td>0</td>\n      <td>0</td>\n      <td>0</td>\n      <td>670c923b-34c4-4f0b-a147-600eaac8b793</td>\n      <td>0b34f316-6234-4eca-82a5-eca4ce167fbf</td>\n    </tr>\n    <tr>\n      <th>4840</th>\n      <td>670c923b-34c4-4f0b-a147-600eaac8b793</td>\n      <td>0</td>\n      <td>all sweet</td>\n      <td>male</td>\n      <td>1</td>\n      <td>working full time</td>\n      <td>2023-06-06T02:23:53Z</td>\n      <td>1</td>\n      <td>1</td>\n      <td>1</td>\n      <td>...</td>\n      <td>0</td>\n      <td>0</td>\n      <td>0</td>\n      <td>0</td>\n      <td>1</td>\n      <td>0</td>\n      <td>0</td>\n      <td>0</td>\n      <td>670c923b-34c4-4f0b-a147-600eaac8b793</td>\n      <td>b279bc69-f7bc-4ba0-8d68-3c14ea872064</td>\n    </tr>\n  </tbody>\n</table>\n<p>4841 rows × 30 columns</p>\n</div>"
     },
     "execution_count": 11,
     "metadata": {},
     "output_type": "execute_result"
    }
   ],
   "source": [
    "df"
   ],
   "metadata": {
    "collapsed": false,
    "pycharm": {
     "name": "#%%\n"
    }
   }
  },
  {
   "cell_type": "code",
   "execution_count": 12,
   "outputs": [
    {
     "data": {
      "text/plain": "                                   userID  \\\n0    0153cd06-7ebb-41cc-b304-7b4e42c6b965   \n1    01abb157-9112-47c6-9ff6-fb603505e341   \n2    029f1e2a-d68b-4801-869f-f422e925ae3d   \n3    079b0ec9-cec6-42fb-9f00-7891c52a10fb   \n4    081f358f-9624-468a-b6ef-f9b9fad2b3b3   \n..                                    ...   \n99   eaf7de2b-dde2-4eca-9172-a720201a3c90   \n100  f3ff9f65-68ff-4333-a442-27d58f75d5ee   \n101  fab5c53d-493a-4baf-b8e5-3cd1e505d75e   \n102  fafff5de-efc6-42f2-85b9-0b9c79a5abaa   \n103  fb5323e8-1660-4edc-85b1-8b149a116315   \n\n                                                  seen  \n0    [993c537d-c4e3-4343-854a-b36068506d8e, fd8e517...  \n1    [fd8e5177-f8cc-436a-ae82-a473ca5b4cc2, 7ef6aee...  \n2    [ff92ed1e-3259-45d6-9d95-fa10da0de0b7, 5bc42ab...  \n3    [2b87337b-1179-42c8-b423-c0ec34bb6833, c5c8e96...  \n4    [3fd9c274-509b-4283-a9c8-832ae290c247, 2b87337...  \n..                                                 ...  \n99   [6e104908-8c00-45cd-ae3d-279dda0c3d9c, fd8e517...  \n100             [9d075140-be62-4d86-bc13-19fc8ffd07e8]  \n101  [979dd476-808d-409d-aa6b-3bac02039b8d, 7c6f9a2...  \n102  [f7521ce1-248a-4f2b-9800-4306b90966e4, f275533...  \n103  [7c6f9a20-e7e3-4f39-92cc-2b31fc1e625e, 4bc6b51...  \n\n[104 rows x 2 columns]",
      "text/html": "<div>\n<style scoped>\n    .dataframe tbody tr th:only-of-type {\n        vertical-align: middle;\n    }\n\n    .dataframe tbody tr th {\n        vertical-align: top;\n    }\n\n    .dataframe thead th {\n        text-align: right;\n    }\n</style>\n<table border=\"1\" class=\"dataframe\">\n  <thead>\n    <tr style=\"text-align: right;\">\n      <th></th>\n      <th>userID</th>\n      <th>seen</th>\n    </tr>\n  </thead>\n  <tbody>\n    <tr>\n      <th>0</th>\n      <td>0153cd06-7ebb-41cc-b304-7b4e42c6b965</td>\n      <td>[993c537d-c4e3-4343-854a-b36068506d8e, fd8e517...</td>\n    </tr>\n    <tr>\n      <th>1</th>\n      <td>01abb157-9112-47c6-9ff6-fb603505e341</td>\n      <td>[fd8e5177-f8cc-436a-ae82-a473ca5b4cc2, 7ef6aee...</td>\n    </tr>\n    <tr>\n      <th>2</th>\n      <td>029f1e2a-d68b-4801-869f-f422e925ae3d</td>\n      <td>[ff92ed1e-3259-45d6-9d95-fa10da0de0b7, 5bc42ab...</td>\n    </tr>\n    <tr>\n      <th>3</th>\n      <td>079b0ec9-cec6-42fb-9f00-7891c52a10fb</td>\n      <td>[2b87337b-1179-42c8-b423-c0ec34bb6833, c5c8e96...</td>\n    </tr>\n    <tr>\n      <th>4</th>\n      <td>081f358f-9624-468a-b6ef-f9b9fad2b3b3</td>\n      <td>[3fd9c274-509b-4283-a9c8-832ae290c247, 2b87337...</td>\n    </tr>\n    <tr>\n      <th>...</th>\n      <td>...</td>\n      <td>...</td>\n    </tr>\n    <tr>\n      <th>99</th>\n      <td>eaf7de2b-dde2-4eca-9172-a720201a3c90</td>\n      <td>[6e104908-8c00-45cd-ae3d-279dda0c3d9c, fd8e517...</td>\n    </tr>\n    <tr>\n      <th>100</th>\n      <td>f3ff9f65-68ff-4333-a442-27d58f75d5ee</td>\n      <td>[9d075140-be62-4d86-bc13-19fc8ffd07e8]</td>\n    </tr>\n    <tr>\n      <th>101</th>\n      <td>fab5c53d-493a-4baf-b8e5-3cd1e505d75e</td>\n      <td>[979dd476-808d-409d-aa6b-3bac02039b8d, 7c6f9a2...</td>\n    </tr>\n    <tr>\n      <th>102</th>\n      <td>fafff5de-efc6-42f2-85b9-0b9c79a5abaa</td>\n      <td>[f7521ce1-248a-4f2b-9800-4306b90966e4, f275533...</td>\n    </tr>\n    <tr>\n      <th>103</th>\n      <td>fb5323e8-1660-4edc-85b1-8b149a116315</td>\n      <td>[7c6f9a20-e7e3-4f39-92cc-2b31fc1e625e, 4bc6b51...</td>\n    </tr>\n  </tbody>\n</table>\n<p>104 rows × 2 columns</p>\n</div>"
     },
     "execution_count": 12,
     "metadata": {},
     "output_type": "execute_result"
    }
   ],
   "source": [
    "input_data = df.groupby('id')['catID.1'].apply(list).reset_index(name='seen')\n",
    "input_data = input_data.rename(columns={'id': 'userID'})\n",
    "input_data"
   ],
   "metadata": {
    "collapsed": false,
    "pycharm": {
     "name": "#%%\n"
    }
   }
  },
  {
   "cell_type": "code",
   "execution_count": 13,
   "outputs": [],
   "source": [
    "data_dir = os.path.join(os.getcwd(), \"data\")\n",
    "os.makedirs(data_dir, exist_ok=True)\n",
    "\n",
    "input_data.to_csv(\"./data/input_data.csv\", header=False, index=False)"
   ],
   "metadata": {
    "collapsed": false,
    "pycharm": {
     "name": "#%%\n"
    }
   }
  },
  {
   "cell_type": "code",
   "execution_count": 14,
   "outputs": [],
   "source": [
    "# output to s3\n",
    "s3_prefix = \"batch-inference/input-\" + time.strftime(\"%Y-%m-%d-%H-%M-%S\", time.gmtime())\n",
    "input_s3 = sagemaker_session.upload_data(path=\"./data\", key_prefix=s3_prefix)"
   ],
   "metadata": {
    "collapsed": false,
    "pycharm": {
     "name": "#%%\n"
    }
   }
  },
  {
   "cell_type": "markdown",
   "source": [
    "### Instantiate transformer"
   ],
   "metadata": {
    "collapsed": false,
    "pycharm": {
     "name": "#%% md\n"
    }
   }
  },
  {
   "cell_type": "code",
   "execution_count": 27,
   "outputs": [
    {
     "name": "stderr",
     "output_type": "stream",
     "text": [
      "INFO:sagemaker:Creating model with name: testmodelpackagegroup-2023-06-19-07-22-31-735\n"
     ]
    }
   ],
   "source": [
    "# create transformer\n",
    "rank_file_name = f'ranking-{time.strftime(\"%Y-%m-%d-%H-%M-%S\", time.gmtime())}'\n",
    "output_path = f's3://petfinder6000-ranking/{rank_file_name}'\n",
    "transformer = model.transformer(instance_count=1,\n",
    "    instance_type='ml.m5.xlarge',\n",
    "    assemble_with='Line',\n",
    "    output_path=output_path)"
   ],
   "metadata": {
    "collapsed": false,
    "pycharm": {
     "name": "#%%\n"
    }
   }
  },
  {
   "cell_type": "markdown",
   "source": [
    "### Run batch inference job"
   ],
   "metadata": {
    "collapsed": false,
    "pycharm": {
     "name": "#%% md\n"
    }
   }
  },
  {
   "cell_type": "code",
   "execution_count": 28,
   "outputs": [
    {
     "name": "stderr",
     "output_type": "stream",
     "text": [
      "INFO:sagemaker:Creating transform job with name: testmodelpackagegroup-2023-06-19-07-22-36-100\n"
     ]
    },
    {
     "name": "stdout",
     "output_type": "stream",
     "text": [
      ".....................\n",
      "\u001B[34mStarting the inference server with 4 workers.\u001B[0m\n",
      "\u001B[34m[2023-06-19 07:26:09 +0000] [10] [INFO] Starting gunicorn 20.1.0\u001B[0m\n",
      "\u001B[34m[2023-06-19 07:26:09 +0000] [10] [INFO] Listening at: unix:/tmp/gunicorn.sock (10)\u001B[0m\n",
      "\u001B[34m[2023-06-19 07:26:09 +0000] [10] [INFO] Using worker: sync\u001B[0m\n",
      "\u001B[34m[2023-06-19 07:26:09 +0000] [12] [INFO] Booting worker with pid: 12\u001B[0m\n",
      "\u001B[34m[2023-06-19 07:26:09 +0000] [13] [INFO] Booting worker with pid: 13\u001B[0m\n",
      "\u001B[34m[2023-06-19 07:26:09 +0000] [14] [INFO] Booting worker with pid: 14\u001B[0m\n",
      "\u001B[34m[2023-06-19 07:26:09 +0000] [15] [INFO] Booting worker with pid: 15\u001B[0m\n",
      "\u001B[34mb'ldd (Debian GLIBC 2.36-9) 2.36\\nCopyright (C) 2022 Free Software Foundation, Inc.\\nThis is free software; see the source for copying conditions.  There is NO\\nwarranty; not even for MERCHANTABILITY or FITNESS FOR A PARTICULAR PURPOSE.\\nWritten by Roland McGrath and Ulrich Drepper.\\n'\u001B[0m\n",
      "\u001B[34mb'ldd (Debian GLIBC 2.36-9) 2.36\\nCopyright (C) 2022 Free Software Foundation, Inc.\\nThis is free software; see the source for copying conditions.  There is NO\\nwarranty; not even for MERCHANTABILITY or FITNESS FOR A PARTICULAR PURPOSE.\\nWritten by Roland McGrath and Ulrich Drepper.\\n'\u001B[0m\n",
      "\u001B[34mb'ldd (Debian GLIBC 2.36-9) 2.36\\nCopyright (C) 2022 Free Software Foundation, Inc.\\nThis is free software; see the source for copying conditions.  There is NO\\nwarranty; not even for MERCHANTABILITY or FITNESS FOR A PARTICULAR PURPOSE.\\nWritten by Roland McGrath and Ulrich Drepper.\\n'\u001B[0m\n",
      "\u001B[34mb'ldd (Debian GLIBC 2.36-9) 2.36\\nCopyright (C) 2022 Free Software Foundation, Inc.\\nThis is free software; see the source for copying conditions.  There is NO\\nwarranty; not even for MERCHANTABILITY or FITNESS FOR A PARTICULAR PURPOSE.\\nWritten by Roland McGrath and Ulrich Drepper.\\n'\u001B[0m\n",
      "\u001B[35mStarting the inference server with 4 workers.\u001B[0m\n",
      "\u001B[35m[2023-06-19 07:26:09 +0000] [10] [INFO] Starting gunicorn 20.1.0\u001B[0m\n",
      "\u001B[35m[2023-06-19 07:26:09 +0000] [10] [INFO] Listening at: unix:/tmp/gunicorn.sock (10)\u001B[0m\n",
      "\u001B[35m[2023-06-19 07:26:09 +0000] [10] [INFO] Using worker: sync\u001B[0m\n",
      "\u001B[35m[2023-06-19 07:26:09 +0000] [12] [INFO] Booting worker with pid: 12\u001B[0m\n",
      "\u001B[35m[2023-06-19 07:26:09 +0000] [13] [INFO] Booting worker with pid: 13\u001B[0m\n",
      "\u001B[35m[2023-06-19 07:26:09 +0000] [14] [INFO] Booting worker with pid: 14\u001B[0m\n",
      "\u001B[35m[2023-06-19 07:26:09 +0000] [15] [INFO] Booting worker with pid: 15\u001B[0m\n",
      "\u001B[35mb'ldd (Debian GLIBC 2.36-9) 2.36\\nCopyright (C) 2022 Free Software Foundation, Inc.\\nThis is free software; see the source for copying conditions.  There is NO\\nwarranty; not even for MERCHANTABILITY or FITNESS FOR A PARTICULAR PURPOSE.\\nWritten by Roland McGrath and Ulrich Drepper.\\n'\u001B[0m\n",
      "\u001B[35mb'ldd (Debian GLIBC 2.36-9) 2.36\\nCopyright (C) 2022 Free Software Foundation, Inc.\\nThis is free software; see the source for copying conditions.  There is NO\\nwarranty; not even for MERCHANTABILITY or FITNESS FOR A PARTICULAR PURPOSE.\\nWritten by Roland McGrath and Ulrich Drepper.\\n'\u001B[0m\n",
      "\u001B[35mb'ldd (Debian GLIBC 2.36-9) 2.36\\nCopyright (C) 2022 Free Software Foundation, Inc.\\nThis is free software; see the source for copying conditions.  There is NO\\nwarranty; not even for MERCHANTABILITY or FITNESS FOR A PARTICULAR PURPOSE.\\nWritten by Roland McGrath and Ulrich Drepper.\\n'\u001B[0m\n",
      "\u001B[35mb'ldd (Debian GLIBC 2.36-9) 2.36\\nCopyright (C) 2022 Free Software Foundation, Inc.\\nThis is free software; see the source for copying conditions.  There is NO\\nwarranty; not even for MERCHANTABILITY or FITNESS FOR A PARTICULAR PURPOSE.\\nWritten by Roland McGrath and Ulrich Drepper.\\n'\u001B[0m\n",
      "\u001B[34m169.254.255.130 - - [19/Jun/2023:07:26:14 +0000] \"GET /ping HTTP/1.1\" 200 1 \"-\" \"Go-http-client/1.1\"\u001B[0m\n",
      "\u001B[34m169.254.255.130 - - [19/Jun/2023:07:26:14 +0000] \"GET /execution-parameters HTTP/1.1\" 404 2 \"-\" \"Go-http-client/1.1\"\u001B[0m\n",
      "\u001B[34mReceived: <_io.StringIO object at 0x7f06229279d0>, content_type: text/csv\u001B[0m\n",
      "\u001B[34mInvoked with 104 records\u001B[0m\n",
      "\u001B[35m169.254.255.130 - - [19/Jun/2023:07:26:14 +0000] \"GET /ping HTTP/1.1\" 200 1 \"-\" \"Go-http-client/1.1\"\u001B[0m\n",
      "\u001B[35m169.254.255.130 - - [19/Jun/2023:07:26:14 +0000] \"GET /execution-parameters HTTP/1.1\" 404 2 \"-\" \"Go-http-client/1.1\"\u001B[0m\n",
      "\u001B[35mReceived: <_io.StringIO object at 0x7f06229279d0>, content_type: text/csv\u001B[0m\n",
      "\u001B[35mInvoked with 104 records\u001B[0m\n",
      "\u001B[34m                                   userID                                               seen\u001B[0m\n",
      "\u001B[34m0    0153cd06-7ebb-41cc-b304-7b4e42c6b965  ['993c537d-c4e3-4343-854a-b36068506d8e', 'fd8e...\u001B[0m\n",
      "\u001B[34m1    01abb157-9112-47c6-9ff6-fb603505e341  ['fd8e5177-f8cc-436a-ae82-a473ca5b4cc2', '7ef6...\u001B[0m\n",
      "\u001B[34m2    029f1e2a-d68b-4801-869f-f422e925ae3d  ['ff92ed1e-3259-45d6-9d95-fa10da0de0b7', '5bc4...\u001B[0m\n",
      "\u001B[34m3    079b0ec9-cec6-42fb-9f00-7891c52a10fb  ['2b87337b-1179-42c8-b423-c0ec34bb6833', 'c5c8...\u001B[0m\n",
      "\u001B[34m4    081f358f-9624-468a-b6ef-f9b9fad2b3b3  ['3fd9c274-509b-4283-a9c8-832ae290c247', '2b87...\u001B[0m\n",
      "\u001B[34m..                                    ...                                                ...\u001B[0m\n",
      "\u001B[34m99   eaf7de2b-dde2-4eca-9172-a720201a3c90  ['6e104908-8c00-45cd-ae3d-279dda0c3d9c', 'fd8e...\u001B[0m\n",
      "\u001B[34m100  f3ff9f65-68ff-4333-a442-27d58f75d5ee           ['9d075140-be62-4d86-bc13-19fc8ffd07e8']\u001B[0m\n",
      "\u001B[34m101  fab5c53d-493a-4baf-b8e5-3cd1e505d75e  ['979dd476-808d-409d-aa6b-3bac02039b8d', '7c6f...\u001B[0m\n",
      "\u001B[34m102  fafff5de-efc6-42f2-85b9-0b9c79a5abaa  ['f7521ce1-248a-4f2b-9800-4306b90966e4', 'f275...\u001B[0m\n",
      "\u001B[35m                                   userID                                               seen\u001B[0m\n",
      "\u001B[35m0    0153cd06-7ebb-41cc-b304-7b4e42c6b965  ['993c537d-c4e3-4343-854a-b36068506d8e', 'fd8e...\u001B[0m\n",
      "\u001B[35m1    01abb157-9112-47c6-9ff6-fb603505e341  ['fd8e5177-f8cc-436a-ae82-a473ca5b4cc2', '7ef6...\u001B[0m\n",
      "\u001B[35m2    029f1e2a-d68b-4801-869f-f422e925ae3d  ['ff92ed1e-3259-45d6-9d95-fa10da0de0b7', '5bc4...\u001B[0m\n",
      "\u001B[35m3    079b0ec9-cec6-42fb-9f00-7891c52a10fb  ['2b87337b-1179-42c8-b423-c0ec34bb6833', 'c5c8...\u001B[0m\n",
      "\u001B[35m4    081f358f-9624-468a-b6ef-f9b9fad2b3b3  ['3fd9c274-509b-4283-a9c8-832ae290c247', '2b87...\u001B[0m\n",
      "\u001B[35m..                                    ...                                                ...\u001B[0m\n",
      "\u001B[35m99   eaf7de2b-dde2-4eca-9172-a720201a3c90  ['6e104908-8c00-45cd-ae3d-279dda0c3d9c', 'fd8e...\u001B[0m\n",
      "\u001B[35m100  f3ff9f65-68ff-4333-a442-27d58f75d5ee           ['9d075140-be62-4d86-bc13-19fc8ffd07e8']\u001B[0m\n",
      "\u001B[35m101  fab5c53d-493a-4baf-b8e5-3cd1e505d75e  ['979dd476-808d-409d-aa6b-3bac02039b8d', '7c6f...\u001B[0m\n",
      "\u001B[35m102  fafff5de-efc6-42f2-85b9-0b9c79a5abaa  ['f7521ce1-248a-4f2b-9800-4306b90966e4', 'f275...\u001B[0m\n",
      "\u001B[34m103  fb5323e8-1660-4edc-85b1-8b149a116315  ['7c6f9a20-e7e3-4f39-92cc-2b31fc1e625e', '4bc6...\u001B[0m\n",
      "\u001B[34m[104 rows x 2 columns]\u001B[0m\n",
      "\u001B[34m169.254.255.130 - - [19/Jun/2023:07:26:15 +0000] \"POST /invocations HTTP/1.1\" 200 1543268 \"-\" \"Go-http-client/1.1\"\u001B[0m\n",
      "\u001B[35m103  fb5323e8-1660-4edc-85b1-8b149a116315  ['7c6f9a20-e7e3-4f39-92cc-2b31fc1e625e', '4bc6...\u001B[0m\n",
      "\u001B[35m[104 rows x 2 columns]\u001B[0m\n",
      "\u001B[35m169.254.255.130 - - [19/Jun/2023:07:26:15 +0000] \"POST /invocations HTTP/1.1\" 200 1543268 \"-\" \"Go-http-client/1.1\"\u001B[0m\n",
      "\u001B[32m2023-06-19T07:26:14.912:[sagemaker logs]: MaxConcurrentTransforms=1, MaxPayloadInMB=6, BatchStrategy=MULTI_RECORD\u001B[0m\n"
     ]
    }
   ],
   "source": [
    "# do batch transform\n",
    "transformer.transform(data=input_s3, split_type='Line', content_type='text/csv')"
   ],
   "metadata": {
    "collapsed": false,
    "pycharm": {
     "name": "#%%\n"
    }
   }
  },
  {
   "cell_type": "code",
   "execution_count": 29,
   "outputs": [],
   "source": [
    "import re\n",
    "s3client = boto3.client('s3')\n",
    "def get_csv_output_from_s3(s3uri, batch_file):\n",
    "    file_name = \"{}.out\".format(batch_file)\n",
    "    match = re.match(\"s3://([^/]+)/(.*)\", \"{}/{}\".format(s3uri, file_name))\n",
    "    output_bucket, output_prefix = match.group(1), match.group(2)\n",
    "    print(output_bucket, output_prefix)\n",
    "    s3client.download_file(output_bucket, output_prefix, file_name)\n",
    "    return pd.read_csv(file_name, sep=\",\", header=0)"
   ],
   "metadata": {
    "collapsed": false,
    "pycharm": {
     "name": "#%%\n"
    }
   }
  },
  {
   "cell_type": "code",
   "execution_count": 30,
   "outputs": [
    {
     "data": {
      "text/plain": "'s3://petfinder6000-ranking/ranking-2023-06-19-07-22-31'"
     },
     "execution_count": 30,
     "metadata": {},
     "output_type": "execute_result"
    }
   ],
   "source": [
    "transformer.output_path"
   ],
   "metadata": {
    "collapsed": false,
    "pycharm": {
     "name": "#%%\n"
    }
   }
  },
  {
   "cell_type": "code",
   "execution_count": 31,
   "outputs": [
    {
     "name": "stdout",
     "output_type": "stream",
     "text": [
      "petfinder6000-ranking ranking-2023-06-19-07-22-31/input_data.csv.out\n"
     ]
    }
   ],
   "source": [
    "batch_file_name = \"input_data.csv\"\n",
    "output_df = get_csv_output_from_s3(transformer.output_path, batch_file_name)"
   ],
   "metadata": {
    "collapsed": false,
    "pycharm": {
     "name": "#%%\n"
    }
   }
  },
  {
   "cell_type": "code",
   "execution_count": 32,
   "outputs": [
    {
     "data": {
      "text/plain": "'2b87337b-1179-42c8-b423-c0ec34bb6833,30c033c1-9ebf-47de-ba85-bb2ca1029ed9,66fcc141-e657-4732-99e2-003e577ca7d1,f275533f-0bc5-495a-abfa-e193ab062849,72907ede-9f87-4008-be26-5a06bf50d87b,20742dae-b5f4-4c5e-a401-b71e60539f10,b3f07f4b-ef30-4433-919b-480f9d957a31,9c509932-95bd-4b2a-b10b-072c0b084fcd,3251d872-21b1-4934-ba86-5439045ab89b,41ede236-7ada-4f4f-845c-35a58d9c08d3,66c72d11-c009-4ff1-b976-353aa1072cac,a39a1f1f-2c4d-4ce4-801a-f63d900895dd,d73a6786-fac6-42a1-aa81-50c6a8618592,3fd9c274-509b-4283-a9c8-832ae290c247,6b33d102-9497-43c7-a7a3-a28d6a9d1880,554577ae-c5a2-414e-9834-e4e0f27efcb9,2c7e97d0-82df-4b28-a787-8727de88b163,80355278-da9b-4f01-9377-8fa82eefcbb5,20106676-a088-44e3-b23e-286b6e37f1d5,93c90dec-7f79-435d-bf3c-d9516cea96e7,adccdee5-8413-4344-8cca-13a99837a6a4,0b34f316-6234-4eca-82a5-eca4ce167fbf,ead698c7-eb09-4c7c-a322-b83bf3ca2126,50621fa7-de81-4141-9c19-e21844d8268f,3394e37a-7a56-4229-892e-d915a8b8921e,2a7b002c-7c5d-4b0e-8155-e75f42b0d449,bd8c1b25-bb4b-4d0d-ac37-3d6799d885f9,6e50851d-a207-4ef6-9916-34633cbe68b1,a70e773c-7af9-44e9-a7c9-09ffb4c440de,fd8e5177-f8cc-436a-ae82-a473ca5b4cc2,ce290f5f-6b15-4831-98d0-6a003a2a0b04,4f724198-2f0b-4d09-bf5b-3bba4d287fae,ad46ab3b-ba31-4af6-acb8-01a96ddca195,ceb237a8-9d81-4dd9-954a-a8824414a6b9,941263b7-a532-4bc2-b7d3-ad1c4bad24a2,00f490bd-182a-4907-b2f8-ba08617cf3d1,6e104908-8c00-45cd-ae3d-279dda0c3d9c,97cc4eaa-4ad6-466f-bafd-9f620fda775f,d06953ad-f7d8-4ce2-8a5d-37ce627958d2,4dbf9e56-bd18-41e2-9810-df71dadca59c,53f351bf-77ae-4fe7-81da-d0b9300773b1,0b7a6618-7c9b-4169-9916-a2e06b7b352e,84f88fe3-5da4-460e-8e62-d7e761794ad0,ac6ece67-467d-4074-8df0-56ae6df8d574,16949c4a-5b34-475b-8d9c-d180caaf6154,16ebe31c-cc7a-4b06-a3c5-3a8beba9946c,108063d8-1423-40c7-b82b-89347f9045db,8ce2cbac-8c76-4440-a742-2fc7d6bade79,c4c51825-42a2-4ffe-8096-d3d0200df200,4bc6b512-595c-4429-8cf8-f945107fc9a9,7c6f9a20-e7e3-4f39-92cc-2b31fc1e625e,1308e1c0-c845-4f19-929c-2cb6c4df9097,4fa32973-aa89-4c73-8ccb-ddb9589c77ae,c15c4c2d-0090-4c90-8d33-fe5155cd1ae0,63a28f4a-b063-4678-92f4-c31bcc1ac963,d7652c30-e013-4307-af50-26e8e6e67ebd,d4efb672-fe7b-4328-a58b-6b1125925c82,993c537d-c4e3-4343-854a-b36068506d8e,7af06e83-2272-4fe8-9268-a29f6c88744c,21bddc2c-1965-4604-a1e2-50551aa4862e,e5e8d5ce-e981-4d2e-be5b-63e2baedd4f6,0b9dbefe-5cbc-4f8e-899a-bd9ee0403e50,7ef6aeea-738e-4064-b568-40a89431a4ee,979dd476-808d-409d-aa6b-3bac02039b8d,2c5fcdc6-9d32-4635-81da-8ac6afb760ee,02f2c20c-fabf-4c67-99a6-fd5166de2dd6,a9eebe65-702f-4b34-bc2e-42153078e1d9,0076ee93-e587-4b01-b916-56d008f1f233,80e77482-2c8d-4f9a-867b-aa56b6c1eab5,0fa727bc-1be3-4034-98b8-707cfcf8ee9e,3e66f58b-e8d4-4afb-a9da-2ed94f527c43,481e7321-a4f1-4928-89d5-71737b26426c,0bd435c3-14fb-43e2-b52a-230b0bc281bd,12175d10-e94b-49c8-857f-f56ecad8ee20,7b1632fa-6152-4862-b9d9-3bd9207cf25c,4f5637ed-1bb9-4e51-979f-94213f0fbd63,d3837eed-78ef-446d-9572-598dd6f64ab9,c5c8e969-8342-4c0b-89f2-e24cbb20f0c3,d1f210b0-fd38-43fa-9f6b-880a8e2bf4de,1adc6c4d-7f5e-492f-aa60-dce21ae82224,54197c51-1b76-4854-9349-e2e2d55bd71d,6a77c01c-1187-4efc-a360-71906cfbe529,b9019372-0e9d-42e1-ae61-9d9c9e1687a1,f4273d9d-a8ff-4812-992d-d8252f8f0eb0,3d2e4ecc-d9e0-48c9-b851-ebe8fdd9ede3,15cfc949-e27a-4874-a165-7f565b52a316,eb11adfa-ba0a-4b83-8989-b78c9ecc1a21,3a518cb8-09e9-4490-bc3d-2ee71abfe2ad,d33274bd-fe2b-4110-9c49-004687b785c2,5dacc230-130d-49ec-ad8d-8750a2bad580,1f2e125b-4d00-42aa-a55c-b31e6fbf8d6e,5eb0f12b-47a4-4dfd-9822-9a51954cc4ed,c822a63a-ad76-4302-af0a-ef17f4ae3680,9d28cf64-20f1-4628-9a96-9df502af03ef,f864562d-b545-465b-a771-668533fc3918,68dacf50-65bd-443e-8013-a5fa4603d49e,c513d748-04ab-4805-b057-631e9d8d28e1,326930dd-4860-46bc-95ff-7e8949628535,40c0253c-b695-4c55-b1bf-ead2151c7da7,feee6a5f-d978-4337-9ba5-dfa1c9faeb46,7b8e6766-9c4c-4f5a-919c-c2164be49f12,95b5854f-3b10-48ad-a3f4-d45899e8d837,2139b681-4624-4cbe-98cd-bbb88ed44ac9,94b87e7e-6fb7-4f66-86a7-e6f6b9ee9bea,de5985ab-4255-423b-bf29-a79f3c57aa26,dcc23abd-a308-4205-b04b-c8ac0f58119e,57ffa7a6-a4e1-4622-8282-63747d7fd309,3dc77a60-56c4-4a71-8679-882fabed1a80,1eed739f-3da0-4055-ae14-82e08a98b5d3,3bdda0d3-2cb4-4815-8c1e-a5ebed3177a1,96f91a19-7fd5-4770-90c4-1a61fc905220,7f117dbd-4fd7-4b8e-8c77-bf0caa9b4c74,27ec4602-b508-4dfd-b41a-191a20009cd9,cfeae461-d954-4314-8ba4-da96f62465de,923e6a8c-5bca-4414-a9c4-554baa69d259,8ecaaa43-61c8-4716-87d2-bb2202401a33,a6ad9bf1-3c7a-4aed-9652-cf4b6360b590,0e27eb8c-7add-4c38-9566-90847cc7d0a3,0e659e01-1a27-4aaf-bd43-6597c2c0852b,b87e7ca5-f201-41a6-a5f9-e2c2c690bbab,cb5414f8-0e79-448a-8ec8-3d1c37cd609f,f71eb221-1e3f-4e7b-a549-69512d817280,7bd39601-d9bc-4fd7-ba3c-d8292bcc9cae,a73d2952-5385-47fa-a5ec-22cad22c91d1,15bb1965-2cc5-4bea-beb8-4a0e08a24946,3e1dfcce-2159-4cfd-8044-a84cb0afdd87,b7000d87-54e1-48e8-aa7e-81c2dd9ed09e,375e61f9-e6ad-472f-8e0f-f5fd67df9f69,9874faf7-a51f-4420-b3f3-3ad9ea9eee49,f4ca2406-7f8a-4951-a55a-77275fed6309,ca0dcf07-6fbf-45e6-b477-0613e40596c0,809e61e7-daf1-4638-9706-e86e0372c82a,90e5f6fa-0b91-4f48-80b5-e07fb8cbe3cb,97af8b37-b605-4ab5-8d53-2ba91e1c9f6a,5f748e53-54f6-4f2b-b044-b070762d4c5e,27e62b9d-31dc-46a3-94dc-6b937774c9a1,e89c5fe0-cadc-4e53-a9a5-298437dbd256,019ba2f3-5dcf-4f73-9584-4968eeec58de,4eb8fa03-a293-4680-bad4-4e0f4c64a2a7,23eccd95-56d8-407e-98fa-32c49158d4dd,ff92ed1e-3259-45d6-9d95-fa10da0de0b7,6df0712b-e0e8-4d19-b9b9-e4f6e4634f73,6117e9df-fa0f-43dd-b6cb-b62a8748bfd8,5b44494c-c2b6-47cb-b823-879b3b3d150d,f7521ce1-248a-4f2b-9800-4306b90966e4,5ede385a-f5b9-4ede-8072-80b360f8b114,00db227c-9f3e-4fe6-9e17-38d9fd49bb72,6fcc2826-a211-473b-8c0f-6b8e9ec22ff2,9c8cd80a-09de-47b9-8385-8008ee7dc1a3,71c3c414-c834-4ef0-b749-84be825f9321,17cc1de9-d397-457e-b6ac-4f4caa9b0bfc,fa3cccec-59d6-40d8-a4b3-4a434d071328,72796a5a-6e21-42bc-a56b-962afee21aa8,b65728de-359a-450e-a542-11a2fd370580,f25e2717-81b9-456c-85d9-89440767c869,052c3aef-ac5a-4d83-a5c5-119f2a99ef09,f4c4dc14-f75a-459f-8e9b-0208c268ede5,a0959ea9-f812-457d-ab13-4630bee67fd4,b736a686-e6e6-4ce7-b984-0670207ddfae,228fe835-fbf9-4daa-9c6f-2453b9ff7016,1b703dbe-0160-4847-9c3f-e50ac6e5cabc,a523f533-14c1-4be2-841c-5de59dd37221,f1d23ee0-d06a-4a58-ad35-bd7c8112a702,dfb27ef3-57fe-4c6a-98b6-a37e6ba8037a,19d27bdf-c5cd-48bb-8d0d-1b6f153f249e,e6e202d3-fb16-4efd-aff2-cf39a3da663c,a1d57312-b96c-45b0-87bc-3220f606d2ec,3a600dfe-4504-46cd-9cec-187b505c9b94,af92d5fd-b480-4529-8cfc-c51477c774ad,d85f6a37-295a-41fe-8d16-dd3cf44d8398,a60e85ad-1f8e-46c2-b659-ebc27ae94966,1a692d3c-1885-4b2e-bf5a-e49e8827aea7,37854d80-dc09-4542-bdb0-029c6c95e51e,bc3fa27f-010e-4848-b114-49b49555cc11,8ea7b15d-a642-4684-af0b-26fe1bc85e99,c8ea7e3c-4471-4e7a-bb57-62de65de6145,88dcb2c5-7631-4d91-a919-f07299127840,9a85d2d1-5ad6-4ad8-9d74-82e3243dfa43,53e4db42-67bf-4fe1-b628-55e611fe2051,5bc42abb-f302-425a-ad83-d9b46560ff74,dbbadda2-b14f-4ec6-9194-ceb3d11c6b1a,2462ced6-9dd6-445b-9600-220c793e42bd,49172499-877f-4b65-b81b-3087eb5580e5,bce2740e-e744-4831-ad7b-520729a1833d,b3538eec-3e8b-4c48-9adf-08c5c5fbbfce,fa95ad4a-8071-48d1-bed5-61651d417e34,c4b21d85-b7bd-4509-a2aa-2bdf00c407e3,952ea864-51fd-4284-948a-aa2b5c45eda4,68351401-9c03-4181-8cc0-2152c8563202,94679e85-e148-416d-b0bd-a414a2f0ff19,ee1bfc56-c1f9-4335-982f-6d0b5478a36b,23b1e476-ccdb-492c-8901-3b887c2ab910,ccd28ed0-2563-42ec-8d38-62104c1476e8,c41b077e-3be7-4c81-9350-119ea46d4f15,b79b5e65-621b-4906-aea4-fffef2259fec,a967fd89-5af6-4405-8a53-5675e680e48d,6310f6d2-255e-4bde-9811-895bfce42b7e,169da6a8-545c-4f65-913e-5507748b6f9c,b33bc467-2a66-46d4-befd-4533540e8b40,dad049a3-8589-450f-aaff-1761a7b91b25,b890540f-6dae-43e0-99b3-db93d971c17d,0bd74ca7-7730-4f3b-aab2-cb29f3400bf0,4d53cf3e-aa54-452b-8c6e-981690d4b55a,8afb8e81-4327-43a6-9381-708f08a0d9d5,679c1d52-08ab-4eff-9473-b1744be17c27,6ff98fc7-516f-4e06-8cfc-1da42d6ca5d4,c501e430-28a1-446e-af78-f8341659b885,c56f318e-d995-4b0c-8256-09e78fd390aa,81506ad3-d9b9-43a7-b67a-f1a0efba8192,7b47344f-90f6-4a8c-ace0-020d0bc4ac65,f235356c-3638-41ab-929a-7610dafd2e16,8c0046a3-e72c-4f4d-be7a-5b98723dd6ac,64c236f1-1c84-498a-bf15-565bb4ec475f,ce61e580-c1a1-43d3-9012-dd8fb171d9a6,d27e5495-13a3-4ba8-80e0-1c6b39f6bc9f,0e7f297e-048e-4cc1-aa36-5367b9388711,270d6802-d731-4fdc-b530-754cf271ad77,b27fd9a9-f032-446e-b7ee-aed7a75b8a84,3b55a9c9-9d7b-45e5-915f-e8f8d7b6588c,9159adb8-38aa-44f4-b4a6-ca0f1fd395d0,1ce4a0ec-4501-413c-8f32-6753e4b0b0fd,14f982fd-013b-4d6e-8eb3-a70acc284d28,a825444f-795d-4585-ad0b-4df72163be4f,6cf183f2-72de-4f3d-90bf-f0965e859869,935bfbcf-364b-41c5-8bc7-b0a60175bc48,46b6d093-d3d7-43ab-bcf4-098d370dc134,4c91e77c-fc8f-46ba-bd36-46b3acffbd76,093b3eb6-938d-4dbb-aaf4-e35fd988015b,834be32b-1c05-47ef-b661-0b24a5c0fab6,ead3a67a-da24-40cb-9f59-671cff8c84d1,7fad4fbd-d3ba-4747-9b74-912fa493d0bd,ec33692b-efcc-4640-bda6-ff3959fcc9c0,3b0e71c8-4bc7-4517-8537-3ff5fd828baa,610359d9-a929-47c5-a6a3-c6729fbeeaac,085e0d81-c880-48b6-8520-b2c1e9cde6f6,78dd27cd-f5d6-4f62-9ece-be97cec67571,8ff517a0-a5ec-408d-a12d-ccdaf8041b84,667fe44c-d2b1-4dbf-8e96-e2a43be977c5,a755926a-3087-4253-b779-ac73d133de22,63a12dc2-1381-4416-934f-42bbf0dff76c,68efb349-705c-47f7-9caf-dd46aa62194a,53cf9403-0ecb-4178-b2b2-17809131eaad,ae4ba2f7-7def-4323-b7c4-b18b4a73fa05,55fe32d2-f662-4f5b-9f94-5974c5ddb64a,5c9517de-5207-4a39-b411-fda203cd7d2f,9e7639a6-4ea3-4227-8233-e9b9a64a7569,2ad3f234-3458-4c96-8a83-f0eed0eeb4fc,b29c2898-2e78-472b-aac4-b64b3dabbd04,373cba97-1154-431c-8391-7b2aa3072a9e,ef036536-73ba-4f05-a7e8-1d011d3c671d,ffd64af7-3c8c-4345-ac68-cf1fb9983109,661c85c8-66c4-4ffb-adea-277691efb935,e20f9e54-c48f-4afe-87eb-a323b492d602,a1d8ca5b-50d1-467e-96de-25548c1e0d51,49fce1e8-fcc4-4183-bfd7-27194726df25,5fc8e4f7-12b7-4e61-8d98-5a5a4a643652,a8952b61-4fcc-40e6-9eb8-67955e8a5cc3,c1515a69-804f-4568-b18d-c6d6bf5ce88e,3887c0ab-64d2-45da-9e53-e69c66ed3aa0,af705e64-a011-49c4-a729-918ec91a5590,d9be1196-3a43-47c1-829f-c3dbd1054753,1a3d4469-5cde-4515-a2e6-14003aca0c9a,2f10bfb7-608a-4525-b445-048aa3374fd1,47cea9cd-f59c-45df-8f4e-0332a0e9dfff,511c9727-2a46-4ccf-93a9-d8b641657d61,f020eff8-620c-4784-b9cb-fc572fa66c1d,161d398a-3b51-47e4-849c-a8b1fb181db8,eb8d88de-14f8-45e5-bac4-98348d32e4c0,77b2ebb4-f21d-4402-9bf0-cb9a5c4ef750,379b771d-b085-45d0-bea4-9076c042df84,eb8e0fd2-75db-4e46-a949-0c1cbc473927,5698b028-5de4-4a82-bf2d-24ffff5242d8,6cb8f4c0-a148-4723-adff-5e908e9d73e5,6c849182-56e4-40fd-a93f-753051ab88c7,072ad620-3d5f-45b8-ba9d-ece59a7da4a7,b8a61414-e2aa-44d2-847c-a0bdc514933e,0f164b40-bd57-4ab1-825d-e592555da940,760f93dc-f8db-4244-9cad-5a843fba4d38,d3666845-29f5-4fcb-95c3-f4ce17b1570b,a61c683e-8fc3-49e4-9e56-d427ed217915,9d075140-be62-4d86-bc13-19fc8ffd07e8,4f02904c-20c2-4ca8-9675-308a8d004c9c,1bc0f87b-1fce-42be-8c19-d1ca3174812b,6f270016-5dae-49fc-b317-d85cce6b6304,b94469fb-6d98-4b31-96ed-a3f7ecfaeee1,dbdb8679-ae0c-49e1-9339-d15da5bc235d,82838ab4-2ed8-4bc4-adf0-0d4e5edd9b92,4b7ae1bb-8d81-4d73-a962-d54ca38d1117,268b7e59-3613-4b36-a473-a510fcea8291,14ca340f-623f-41e8-bef8-0a2cbf1f618e,b362c9b6-e119-425a-b716-d0fbba996c26,6faa772a-67df-4ce3-bc36-5c7954999f44,56b49568-9b16-4d62-ac47-2573d4b66474,b1feefd8-b2d7-433f-b725-8700f00b9ef2,e24aae89-aead-4c7e-a045-491354edfff3,4ed14d91-ece0-4158-8d81-0ee571ec2330,4fa5cdfb-ab08-40db-820a-fb5fd72bcd24,07695416-90e0-4fdf-952d-b9c76b24d516,22c890c3-3855-4321-a8b1-a24320c637aa,eec13c36-d5a2-4802-a508-517c2753663b,2d65889d-464d-4f60-9378-25928434a620,ea370529-f050-4df9-805e-9a955fcf54fe,923ef9d6-412d-49e0-8a1a-d864b80ccb6e,f092852d-4b38-493a-844f-ee1381829f1a,9d9be329-76d0-410d-a7af-720d862d11f7,318293ff-d312-46dc-b3b7-175a098abbe2,971ae0d9-83cd-439d-b38a-6ac949d8945a,dbfbe3fe-6e2a-43ec-93e1-96d85513de72,f43a7d26-1176-4044-a713-3a32df73c68f,0eec54f9-1453-4926-8e13-524ca3a5e206,51459b85-0868-47a0-a450-6fc953c0c098,1a929522-33b0-42f2-8a80-a6f097a0e1fe,fe56160d-f4bd-41bd-b55d-1c750cdea3aa,c0cffd37-fe1f-45d8-91ed-27fa1acb8c44,dc8f2505-fecb-4844-a7fe-8099373dad76,a98e0754-16bd-47c2-b8da-bd835c25b86b,d6ba1409-cf7c-4e44-b343-1e80b9696863,2c538d63-1a96-4dfb-b443-aa120ebdbf63,ebe3f3fc-8e93-42a7-a436-f5dccdbfc4e8,f8286ea9-a5be-4189-8f39-c21f80843882,1f1c68a5-78f3-487d-b7f1-886279a20518,08ec0196-f712-4759-9225-99beb5d5eb42,44a35182-feb6-4aed-b058-7be553e9bb70,9b85f28e-98cc-48d9-aecf-225c40db506d,d6652135-f072-4c29-bf6f-b2f29d98901e,d82ad776-66d7-409b-abab-79b015ac1ff3,13002e6b-175d-4514-8363-5c3b8541e7d3,e7954232-b669-4383-90ee-dec39affdf2e,f6929c52-a655-4fbe-b89e-229bb66041dc,99667eb8-c6a7-4c7d-a0f3-2e67d194a8a6,2a14ef19-eb16-44c9-8948-9cbb4583d1a8,0e81d58c-25dc-4c44-84a8-6f32c894df85,336b5184-650e-4b20-9db2-13c9cc1a2370,ad1780d6-e90a-4c49-808d-61dd1f4599a5,14b72e13-8d22-489f-a831-e17a5d155a9b,ad46c0dd-8695-4425-bf40-adc3c0b1e0a0,c1c2f766-af1d-40cf-be0a-7593b5036284,58c61297-eda9-410c-843f-96a4cce3e901,98713fed-f52e-4e9b-b8f1-0641dbe48782,54b908dd-a325-459a-bdcb-5b1901d8324e,73f74e3f-5f31-4ba6-8b68-cfc5ef2edd99,6c3495d9-3807-47cc-9bca-871d195fc771,63b139df-c2d7-4c84-86f2-9dfec65c75fd,b279bc69-f7bc-4ba0-8d68-3c14ea872064,c9c02300-dbe5-482c-b2f1-d9cf06eb66b9,adb8be35-d4dd-4d9b-85c2-74707565af7a,b2be9f0d-2c92-4bd6-9f09-0de010ac1e4f,cbd00820-c29e-4f54-9ea4-9046e2b6f0c3,6c809cae-bdb0-4325-8403-7d5a5bfc115c,4d045fc0-bf21-4602-b51a-b130ee728a78,497846a6-024e-4316-a96b-26c5140cc9ec,6a4f271c-9f33-489a-abf0-e9bbb6ff6d86,fb793a36-34f0-4391-b3ec-289a9c073fb0,b3c45f40-c7e7-44ac-96fa-7fe9044a2cd7,5bd84448-5977-469a-8bd5-8c4189c59c20,c3371170-db84-4749-8764-788f30ab2b71,6ae67bee-7887-4c46-a9fd-827ebe695af6,03d5f1a2-b783-4b04-b619-56d00a1c3129,e44d1294-df45-42d2-afe4-2f52862d99ad,a6b06907-b9d3-4489-bf0a-2124b3d8840a,53944c8e-0a2f-477d-81dd-7ffbc8aa5262,791e7e6b-35a8-4c44-a02e-e6491873ea90,d0cc8d08-154d-4b48-a1e8-56b4dfae9421,3e22f3e0-25d0-4cb6-bca9-7c5c7705ba41,0fc614d9-7e1f-4f96-9578-52c23bf0bebb,875a10be-80c3-4b8f-ae25-f1a0e8b2fae3,04ce018c-2581-4d69-af86-11d11c9c5041,b04b6d84-2d30-44bf-b8ba-ad7d9f8a6abd,8843e8e2-27c5-4bdf-966f-5e2cfc18a351,1aae0f41-31b1-48e7-a01c-736eed3a6448,31130c54-0468-4c23-9db0-df203b064bd1,4b430481-8807-4b76-8883-f96ba446aa4c,8539e11e-a467-48b5-8caa-226c2182207e,9dfa8229-d498-40a7-bd96-e0f9202f20b6,e05da477-2742-4f83-b09c-4eac10225368,092e7b53-411b-43d9-8775-2e50326b00a8,e6ac353e-6f63-4d7d-bdbd-c37645498ff7,5e0b7ddb-e5c0-4486-952f-6a02715188b1,c906f542-0b14-4e02-be79-ee3fd9d3a3e4,6a95c930-63ce-4a66-9046-314b39dc66f0,24a51dbe-4a38-4ea5-b4c3-7fb41562f2bf,d80f8eb3-8ed5-41f3-8a3a-f997cec7e580,f5361f41-35ff-455a-a2d6-ef16c8c53629,b2bb378f-9f15-44d1-9f30-a42802b3b56c,f63aeed8-0f16-49e2-8d5e-fba2864ac2f3,0498ebf6-c1d3-4666-87c1-39799c722cfc,303e09b2-c89a-424c-90da-717816794702,2134d54c-2627-443f-93a3-5ce0c72745d9,34a95116-0d0c-47f3-995c-a8374e87c670,0a7f10ce-b6a3-45ba-9b42-cae1528973e3,bb17a037-df50-47dc-9314-8f5de4ab3753,03ec648f-52bd-450a-9e4d-1a2fa63c1f8b,82168323-e484-44ce-becd-43ff55eb6a0f,c0f8c7fe-923a-480c-9d96-93847b4e3089,f617a6d1-885a-48e8-ab56-0f7955d2076b,cc199b2f-0031-4beb-ab15-22fb823f66ee,19341303-aef9-4fd5-bb82-771d516f3023,6787921a-b371-43b7-a97e-e58507825fc7,8b28a0a6-06d1-448b-bd56-2c314b188096,90a4983f-3717-429b-82c3-02b86aee10af'"
     },
     "execution_count": 32,
     "metadata": {},
     "output_type": "execute_result"
    }
   ],
   "source": [
    "output_df.loc[0, 'reco']"
   ],
   "metadata": {
    "collapsed": false,
    "pycharm": {
     "name": "#%%\n"
    }
   }
  },
  {
   "cell_type": "markdown",
   "source": [
    "## Cleanup"
   ],
   "metadata": {
    "collapsed": false,
    "pycharm": {
     "name": "#%% md\n"
    }
   }
  },
  {
   "cell_type": "code",
   "execution_count": null,
   "outputs": [],
   "source": [
    "from sagemaker.predictor import Predictor\n",
    "\n",
    "predictor = Predictor(endpoint_name=endpoint_name)"
   ],
   "metadata": {
    "collapsed": false,
    "pycharm": {
     "name": "#%%\n"
    }
   }
  },
  {
   "cell_type": "code",
   "execution_count": null,
   "outputs": [],
   "source": [
    "predictor.delete_model()\n",
    "predictor.delete_endpoint()"
   ],
   "metadata": {
    "collapsed": false,
    "pycharm": {
     "name": "#%%\n"
    }
   }
  }
 ],
 "metadata": {
  "kernelspec": {
   "display_name": "Python 3",
   "language": "python",
   "name": "python3"
  },
  "language_info": {
   "codemirror_mode": {
    "name": "ipython",
    "version": 2
   },
   "file_extension": ".py",
   "mimetype": "text/x-python",
   "name": "python",
   "nbconvert_exporter": "python",
   "pygments_lexer": "ipython2",
   "version": "2.7.6"
  }
 },
 "nbformat": 4,
 "nbformat_minor": 0
}
