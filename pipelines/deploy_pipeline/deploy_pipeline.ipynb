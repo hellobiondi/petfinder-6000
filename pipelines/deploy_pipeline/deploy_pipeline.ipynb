{
 "cells": [
  {
   "cell_type": "markdown",
   "source": [
    "# Deployment Pipeline\n",
    "This pipeline is triggered when a new approved model is detected in the model registry."
   ],
   "metadata": {
    "collapsed": false,
    "pycharm": {
     "name": "#%% md\n"
    }
   }
  },
  {
   "cell_type": "markdown",
   "source": [
    "## Setup"
   ],
   "metadata": {
    "collapsed": false,
    "pycharm": {
     "name": "#%% md\n"
    }
   }
  },
  {
   "cell_type": "code",
   "execution_count": 69,
   "metadata": {
    "collapsed": true,
    "pycharm": {
     "name": "#%%\n"
    }
   },
   "outputs": [],
   "source": [
    "import boto3\n",
    "import pandas as pd\n",
    "import numpy as np\n",
    "import time\n",
    "import sagemaker\n",
    "from sagemaker.session import Session\n",
    "from sagemaker.feature_store.feature_group import FeatureGroup"
   ]
  },
  {
   "cell_type": "code",
   "execution_count": 70,
   "outputs": [
    {
     "name": "stdout",
     "output_type": "stream",
     "text": [
      "env: AWS_PROFILE=aeroxye-sagemaker\n"
     ]
    }
   ],
   "source": [
    "%env AWS_PROFILE=aeroxye-sagemaker"
   ],
   "metadata": {
    "collapsed": false,
    "pycharm": {
     "name": "#%%\n"
    }
   }
  },
  {
   "cell_type": "code",
   "execution_count": 71,
   "outputs": [
    {
     "name": "stdout",
     "output_type": "stream",
     "text": [
      "{\n",
      "    \"UserId\": \"AROAWC4YSIQL5OBFCNGEX:botocore-session-1687435302\",\n",
      "    \"Account\": \"418542404631\",\n",
      "    \"Arn\": \"arn:aws:sts::418542404631:assumed-role/SageMaker-UserRole/botocore-session-1687435302\"\n",
      "}\n"
     ]
    }
   ],
   "source": [
    "!aws sts get-caller-identity"
   ],
   "metadata": {
    "collapsed": false,
    "pycharm": {
     "name": "#%%\n"
    }
   }
  },
  {
   "cell_type": "code",
   "execution_count": 72,
   "outputs": [
    {
     "name": "stderr",
     "output_type": "stream",
     "text": [
      "INFO:botocore.credentials:Found credentials in shared credentials file: ~/.aws/credentials\n",
      "INFO:botocore.credentials:Found credentials in shared credentials file: ~/.aws/credentials\n"
     ]
    },
    {
     "name": "stdout",
     "output_type": "stream",
     "text": [
      "Current region: ap-southeast-1\n"
     ]
    }
   ],
   "source": [
    "try:\n",
    "    role = sagemaker.get_execution_role()\n",
    "except ValueError:\n",
    "    iam = boto3.client('iam')\n",
    "    role = iam.get_role(RoleName='SageMaker-UserRole')['Role']['Arn']\n",
    "\n",
    "region = boto3.Session().region_name\n",
    "print(f'Current region: {region}')\n",
    "\n",
    "boto_session = boto3.Session(region_name=region)\n",
    "sagemaker_session = sagemaker.Session(boto_session=boto_session)\n",
    "sagemaker_client = boto_session.client(service_name='sagemaker', region_name=region)\n",
    "sagemaker_client.list_feature_groups()\n",
    "\n",
    "featurestore_runtime = boto_session.client(service_name='sagemaker-featurestore-runtime', region_name=region)\n",
    "\n",
    "feature_store_session = Session(\n",
    "    boto_session=boto_session,\n",
    "    sagemaker_client=sagemaker_client,\n",
    "    sagemaker_featurestore_runtime_client=featurestore_runtime\n",
    ")"
   ],
   "metadata": {
    "collapsed": false,
    "pycharm": {
     "name": "#%%\n"
    }
   }
  },
  {
   "cell_type": "code",
   "execution_count": 73,
   "outputs": [
    {
     "name": "stderr",
     "output_type": "stream",
     "text": [
      "INFO:botocore.credentials:Found credentials in shared credentials file: ~/.aws/credentials\n"
     ]
    }
   ],
   "source": [
    "from sagemaker.workflow.pipeline_context import PipelineSession\n",
    "pipeline_session = PipelineSession()\n",
    "\n",
    "model_type = \"bpr\"\n",
    "pipeline_name = \"petfinder6000-deploy-pipeline\"  # SageMaker Pipeline name\n",
    "model_package_group_name = f\"PetFinder6000-{model_type}\""
   ],
   "metadata": {
    "collapsed": false,
    "pycharm": {
     "name": "#%%\n"
    }
   }
  },
  {
   "cell_type": "markdown",
   "source": [
    "## Define pipeline parameters"
   ],
   "metadata": {
    "collapsed": false,
    "pycharm": {
     "name": "#%% md\n"
    }
   }
  },
  {
   "cell_type": "code",
   "execution_count": 74,
   "outputs": [],
   "source": [
    "from sagemaker.workflow.parameters import ParameterInteger, ParameterString\n",
    "\n",
    "default_bucket = sagemaker_session.default_bucket()\n",
    "batch_name = 'batch-bpr-'\n",
    "current_time = time.strftime(\"%Y%m%d-%H-%M-%S\", time.gmtime())\n",
    "run_name = f\"{batch_name}{current_time}\"\n",
    "\n",
    "# prefixes\n",
    "job_name = f\"{pipeline_name}/batch-inference/{run_name}\"\n",
    "\n",
    "rank_file_name = f'ranking-{time.strftime(\"%Y-%m-%d-%H-%M-%S\", time.gmtime())}'\n",
    "ranking_path = f's3://petfinder6000/ranking/{rank_file_name}'\n",
    "batch_input_path = f\"{ranking_path}/batch-input\"\n",
    "\n",
    "lambda_function_name = \"lambdaBatchTransformPipelineLambda\"\n",
    "\n",
    "# processing step parameters\n",
    "processing_instance_type = ParameterString(name=\"ProcessingInstanceType\", default_value=\"ml.m5.xlarge\")\n",
    "processing_instance_count = ParameterInteger(name=\"ProcessingInstanceCount\", default_value=1)\n",
    "\n",
    "# inference step parameters\n",
    "inference_instance_type = ParameterString(name=\"InferenceInstanceType\", default_value=\"ml.m5.xlarge\")\n",
    "inference_image = ParameterString(name=\"InferenceImageURI\", default_value='418542404631.dkr.ecr.ap-southeast-1.amazonaws.com/petfinder6000:cornac-39-inference-v15')\n",
    "inference_instance_count = ParameterInteger(name=\"InferenceInstanceCount\", default_value=1)"
   ],
   "metadata": {
    "collapsed": false,
    "pycharm": {
     "name": "#%%\n"
    }
   }
  },
  {
   "cell_type": "markdown",
   "source": [
    "## Run Batch Inference"
   ],
   "metadata": {
    "collapsed": false,
    "pycharm": {
     "name": "#%% md\n"
    }
   }
  },
  {
   "cell_type": "markdown",
   "source": [
    "### Pull user and interactions data from feature store"
   ],
   "metadata": {
    "collapsed": false,
    "pycharm": {
     "name": "#%% md\n"
    }
   }
  },
  {
   "cell_type": "code",
   "execution_count": 75,
   "outputs": [
    {
     "name": "stderr",
     "output_type": "stream",
     "text": [
      "WARNING:sagemaker:instance_type is a PipelineVariable (<class 'sagemaker.workflow.parameters.ParameterString'>). Its interpreted value in execution time should not be of GPU types since GPU training is not supported for Scikit-Learn.\n",
      "WARNING:sagemaker.workflow.utilities:The input argument instance_type of function (sagemaker.image_uris.retrieve) is a pipeline variable (<class 'sagemaker.workflow.parameters.ParameterString'>), which is not allowed. The default_value of this Parameter object will be used to override it. Please make sure the default_value is valid.\n",
      "C:\\Users\\yongr\\anaconda3\\envs\\cornac39\\lib\\site-packages\\sagemaker\\workflow\\pipeline_context.py:286: UserWarning: Running within a PipelineSession, there will be No Wait, No Logs, and No Job being started.\n",
      "  warnings.warn(\n"
     ]
    }
   ],
   "source": [
    "from sagemaker.processing import FrameworkProcessor, ProcessingOutput\n",
    "from sagemaker.sklearn import SKLearn\n",
    "\n",
    "batch_input_processor = FrameworkProcessor(\n",
    "    role=role,\n",
    "    estimator_cls=SKLearn,\n",
    "    framework_version='0.23-1',\n",
    "    command=[\"python3\"],\n",
    "    instance_count=processing_instance_count,\n",
    "    instance_type=processing_instance_type,\n",
    "    sagemaker_session=pipeline_session,\n",
    "    env={\"REGION\": region, \"INFERENCE_PATH\": batch_input_path},\n",
    ")\n",
    "\n",
    "batch_input_args = batch_input_processor.run(\n",
    "    outputs=[\n",
    "        ProcessingOutput(output_name=\"batch-inference-input\", source=\"/opt/ml/processing/batch_input\"),\n",
    "    ],\n",
    "    code=\"batch_input.py\",\n",
    "    source_dir=\"./scripts\",\n",
    "    job_name=job_name,\n",
    ")"
   ],
   "metadata": {
    "collapsed": false,
    "pycharm": {
     "name": "#%%\n"
    }
   }
  },
  {
   "cell_type": "code",
   "execution_count": 76,
   "outputs": [],
   "source": [
    "from sagemaker.workflow.steps import ProcessingStep\n",
    "\n",
    "step_get_batch_inputs = ProcessingStep(\n",
    "    name=\"GetBatchInput\",\n",
    "    step_args=batch_input_args,\n",
    ")"
   ],
   "metadata": {
    "collapsed": false,
    "pycharm": {
     "name": "#%%\n"
    }
   }
  },
  {
   "cell_type": "markdown",
   "source": [
    "### Lambda Step to Load Model"
   ],
   "metadata": {
    "collapsed": false,
    "pycharm": {
     "name": "#%% md\n"
    }
   }
  },
  {
   "cell_type": "code",
   "execution_count": 77,
   "outputs": [
    {
     "name": "stderr",
     "output_type": "stream",
     "text": [
      "INFO:botocore.credentials:Found credentials in shared credentials file: ~/.aws/credentials\n"
     ]
    }
   ],
   "source": [
    "from sagemaker.lambda_helper import Lambda\n",
    "\n",
    "# Lambda helper class can be used to create the Lambda function\n",
    "func = Lambda(\n",
    "    function_name=lambda_function_name,\n",
    "    execution_role_arn=role,\n",
    "    script=\"get_approved_package.py\",\n",
    "    handler=\"get_approved_package.handler\",\n",
    "    timeout=600,\n",
    "    memory_size=128,\n",
    ")"
   ],
   "metadata": {
    "collapsed": false,
    "pycharm": {
     "name": "#%%\n"
    }
   }
  },
  {
   "cell_type": "code",
   "execution_count": 78,
   "outputs": [],
   "source": [
    "from sagemaker.workflow.lambda_step import (\n",
    "    LambdaStep,\n",
    "    LambdaOutput,\n",
    "    LambdaOutputTypeEnum,\n",
    ")\n",
    "\n",
    "step_latest_model_fetch = LambdaStep(\n",
    "    name=\"FetchLatestApprovedModel\",\n",
    "    lambda_func=func,\n",
    "    inputs={\n",
    "        \"model_package_group_name\": model_package_group_name,\n",
    "    },\n",
    "    outputs=[\n",
    "        LambdaOutput(output_name=\"ModelUrl\", output_type=LambdaOutputTypeEnum.String),\n",
    "        LambdaOutput(output_name=\"ImageUri\", output_type=LambdaOutputTypeEnum.String),\n",
    "    ],\n",
    ")"
   ],
   "metadata": {
    "collapsed": false,
    "pycharm": {
     "name": "#%%\n"
    }
   }
  },
  {
   "cell_type": "code",
   "execution_count": 79,
   "outputs": [],
   "source": [
    "from sagemaker.model import Model\n",
    "\n",
    "model = Model(\n",
    "    image_uri=step_latest_model_fetch.properties.Outputs[\"ImageUri\"],\n",
    "    model_data=step_latest_model_fetch.properties.Outputs[\"ModelUrl\"],\n",
    "    sagemaker_session=pipeline_session,\n",
    "    role=role,\n",
    ")"
   ],
   "metadata": {
    "collapsed": false,
    "pycharm": {
     "name": "#%%\n"
    }
   }
  },
  {
   "cell_type": "code",
   "execution_count": 80,
   "outputs": [],
   "source": [
    "from sagemaker.inputs import CreateModelInput\n",
    "from sagemaker.workflow.steps import CreateModelStep\n",
    "\n",
    "inputs = CreateModelInput(\n",
    "    instance_type=inference_instance_type,\n",
    ")\n",
    "step_create_model = CreateModelStep(\n",
    "    name=\"CreateModel\",\n",
    "    model=model,\n",
    "    inputs=inputs,\n",
    ")"
   ],
   "metadata": {
    "collapsed": false,
    "pycharm": {
     "name": "#%%\n"
    }
   }
  },
  {
   "cell_type": "markdown",
   "source": [
    "## Transformer"
   ],
   "metadata": {
    "collapsed": false,
    "pycharm": {
     "name": "#%% md\n"
    }
   }
  },
  {
   "cell_type": "code",
   "execution_count": 81,
   "outputs": [
    {
     "name": "stderr",
     "output_type": "stream",
     "text": [
      "INFO:botocore.credentials:Found credentials in shared credentials file: ~/.aws/credentials\n"
     ]
    }
   ],
   "source": [
    "from sagemaker.transformer import Transformer\n",
    "\n",
    "transformer = Transformer(\n",
    "    model_name=step_create_model.properties.ModelName,\n",
    "    instance_count=inference_instance_count,\n",
    "    instance_type=inference_instance_type,\n",
    "    assemble_with='Line',\n",
    "    output_path=ranking_path\n",
    ")"
   ],
   "metadata": {
    "collapsed": false,
    "pycharm": {
     "name": "#%%\n"
    }
   }
  },
  {
   "cell_type": "code",
   "execution_count": 82,
   "outputs": [],
   "source": [
    "from sagemaker.workflow.steps import TransformStep\n",
    "from sagemaker.inputs import TransformInput\n",
    "\n",
    "step_transform = TransformStep(\n",
    "    name=\"BatchTransform\",\n",
    "    transformer=transformer,\n",
    "    inputs=TransformInput(\n",
    "        data=step_get_batch_inputs.properties.ProcessingOutputConfig.Outputs[\"batch-inference-input\"].S3Output.S3Uri,\n",
    "        split_type='Line',\n",
    "        content_type='text/csv'\n",
    "    )\n",
    ")"
   ],
   "metadata": {
    "collapsed": false,
    "pycharm": {
     "name": "#%%\n"
    }
   }
  },
  {
   "cell_type": "markdown",
   "source": [
    "## Create pipeline"
   ],
   "metadata": {
    "collapsed": false,
    "pycharm": {
     "name": "#%% md\n"
    }
   }
  },
  {
   "cell_type": "code",
   "execution_count": 83,
   "outputs": [
    {
     "name": "stderr",
     "output_type": "stream",
     "text": [
      "INFO:botocore.credentials:Found credentials in shared credentials file: ~/.aws/credentials\n"
     ]
    }
   ],
   "source": [
    "from sagemaker.workflow.pipeline import Pipeline\n",
    "\n",
    "# Create a Sagemaker Pipeline.\n",
    "pipeline = Pipeline(\n",
    "    name=pipeline_name,\n",
    "    parameters=[\n",
    "        processing_instance_type,\n",
    "        processing_instance_count,\n",
    "        inference_instance_type,\n",
    "        inference_image,\n",
    "        inference_instance_count\n",
    "    ],\n",
    "    steps=[step_get_batch_inputs, step_latest_model_fetch, step_create_model, step_transform],\n",
    ")"
   ],
   "metadata": {
    "collapsed": false,
    "pycharm": {
     "name": "#%%\n"
    }
   }
  },
  {
   "cell_type": "code",
   "execution_count": 84,
   "outputs": [
    {
     "name": "stderr",
     "output_type": "stream",
     "text": [
      "WARNING:sagemaker:instance_type is a PipelineVariable (<class 'sagemaker.workflow.parameters.ParameterString'>). Its interpreted value in execution time should not be of GPU types since GPU training is not supported for Scikit-Learn.\n"
     ]
    },
    {
     "name": "stdout",
     "output_type": "stream",
     "text": [
      "Using provided s3_resource\n"
     ]
    },
    {
     "name": "stderr",
     "output_type": "stream",
     "text": [
      "INFO:sagemaker.processing:Uploaded ./scripts to s3://sagemaker-ap-southeast-1-418542404631/petfinder6000-deploy-pipeline/code/11c5ecb4a5056c83b40e8573b5378f36/sourcedir.tar.gz\n",
      "INFO:sagemaker.processing:runproc.sh uploaded to s3://sagemaker-ap-southeast-1-418542404631/petfinder6000-deploy-pipeline/code/7d6fec0b9c14c20392989f9c2c803826/runproc.sh\n",
      "WARNING:sagemaker:instance_type is a PipelineVariable (<class 'sagemaker.workflow.parameters.ParameterString'>). Its interpreted value in execution time should not be of GPU types since GPU training is not supported for Scikit-Learn.\n",
      "INFO:sagemaker.processing:Uploaded ./scripts to s3://sagemaker-ap-southeast-1-418542404631/petfinder6000-deploy-pipeline/code/11c5ecb4a5056c83b40e8573b5378f36/sourcedir.tar.gz\n",
      "INFO:sagemaker.processing:runproc.sh uploaded to s3://sagemaker-ap-southeast-1-418542404631/petfinder6000-deploy-pipeline/code/7d6fec0b9c14c20392989f9c2c803826/runproc.sh\n"
     ]
    },
    {
     "name": "stdout",
     "output_type": "stream",
     "text": [
      "Using provided s3_resource\n"
     ]
    },
    {
     "data": {
      "text/plain": "{'PipelineArn': 'arn:aws:sagemaker:ap-southeast-1:418542404631:pipeline/petfinder6000-deploy-pipeline',\n 'ResponseMetadata': {'RequestId': '6a267f9a-ec0a-4143-96aa-f162fa6226cf',\n  'HTTPStatusCode': 200,\n  'HTTPHeaders': {'x-amzn-requestid': '6a267f9a-ec0a-4143-96aa-f162fa6226cf',\n   'content-type': 'application/x-amz-json-1.1',\n   'content-length': '102',\n   'date': 'Thu, 22 Jun 2023 12:04:55 GMT'},\n  'RetryAttempts': 0}}"
     },
     "execution_count": 84,
     "metadata": {},
     "output_type": "execute_result"
    }
   ],
   "source": [
    "pipeline.upsert(role_arn=role)"
   ],
   "metadata": {
    "collapsed": false,
    "pycharm": {
     "name": "#%%\n"
    }
   }
  },
  {
   "cell_type": "code",
   "execution_count": 85,
   "outputs": [],
   "source": [
    "execution = pipeline.start()"
   ],
   "metadata": {
    "collapsed": false,
    "pycharm": {
     "name": "#%%\n"
    }
   }
  },
  {
   "cell_type": "code",
   "execution_count": 18,
   "outputs": [],
   "source": [
    "execution.wait()"
   ],
   "metadata": {
    "collapsed": false,
    "pycharm": {
     "name": "#%%\n"
    }
   }
  },
  {
   "cell_type": "markdown",
   "source": [],
   "metadata": {
    "collapsed": false,
    "pycharm": {
     "name": "#%% md\n"
    }
   }
  }
 ],
 "metadata": {
  "kernelspec": {
   "display_name": "Python 3",
   "language": "python",
   "name": "python3"
  },
  "language_info": {
   "codemirror_mode": {
    "name": "ipython",
    "version": 2
   },
   "file_extension": ".py",
   "mimetype": "text/x-python",
   "name": "python",
   "nbconvert_exporter": "python",
   "pygments_lexer": "ipython2",
   "version": "2.7.6"
  }
 },
 "nbformat": 4,
 "nbformat_minor": 0
}
