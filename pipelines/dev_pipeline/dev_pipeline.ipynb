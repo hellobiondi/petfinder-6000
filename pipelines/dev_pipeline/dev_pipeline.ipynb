{
 "cells": [
  {
   "cell_type": "markdown",
   "source": [
    "# Development Pipeline"
   ],
   "metadata": {
    "collapsed": false,
    "pycharm": {
     "name": "#%% md\n"
    }
   }
  },
  {
   "cell_type": "markdown",
   "source": [
    "## Setup"
   ],
   "metadata": {
    "collapsed": false,
    "pycharm": {
     "name": "#%% md\n"
    }
   }
  },
  {
   "cell_type": "code",
   "execution_count": 64,
   "metadata": {
    "collapsed": true,
    "pycharm": {
     "name": "#%%\n"
    }
   },
   "outputs": [],
   "source": [
    "import boto3\n",
    "import pandas as pd\n",
    "import numpy as np\n",
    "import time\n",
    "import sagemaker\n",
    "from sagemaker.session import Session\n",
    "from sagemaker.feature_store.feature_group import FeatureGroup"
   ]
  },
  {
   "cell_type": "code",
   "execution_count": 65,
   "outputs": [
    {
     "name": "stdout",
     "output_type": "stream",
     "text": [
      "env: AWS_PROFILE=aeroxye-sagemaker\n"
     ]
    }
   ],
   "source": [
    "%env AWS_PROFILE=aeroxye-sagemaker"
   ],
   "metadata": {
    "collapsed": false,
    "pycharm": {
     "name": "#%%\n"
    }
   }
  },
  {
   "cell_type": "code",
   "execution_count": 66,
   "outputs": [
    {
     "name": "stdout",
     "output_type": "stream",
     "text": [
      "{\n",
      "    \"UserId\": \"AROAWC4YSIQL5OBFCNGEX:botocore-session-1687435302\",\n",
      "    \"Account\": \"418542404631\",\n",
      "    \"Arn\": \"arn:aws:sts::418542404631:assumed-role/SageMaker-UserRole/botocore-session-1687435302\"\n",
      "}\n"
     ]
    }
   ],
   "source": [
    "!aws sts get-caller-identity"
   ],
   "metadata": {
    "collapsed": false,
    "pycharm": {
     "name": "#%%\n"
    }
   }
  },
  {
   "cell_type": "code",
   "execution_count": 67,
   "outputs": [
    {
     "name": "stderr",
     "output_type": "stream",
     "text": [
      "INFO:botocore.credentials:Found credentials in shared credentials file: ~/.aws/credentials\n",
      "INFO:botocore.credentials:Found credentials in shared credentials file: ~/.aws/credentials\n"
     ]
    },
    {
     "name": "stdout",
     "output_type": "stream",
     "text": [
      "Current region: ap-southeast-1\n"
     ]
    }
   ],
   "source": [
    "try:\n",
    "    role = sagemaker.get_execution_role()\n",
    "except ValueError:\n",
    "    iam = boto3.client('iam')\n",
    "    role = iam.get_role(RoleName='SageMaker-UserRole')['Role']['Arn']\n",
    "\n",
    "region = boto3.Session().region_name\n",
    "print(f'Current region: {region}')\n",
    "\n",
    "boto_session = boto3.Session(region_name=region)\n",
    "sagemaker_session = sagemaker.Session(boto_session=boto_session)\n",
    "sagemaker_client = boto_session.client(service_name='sagemaker', region_name=region)\n",
    "sagemaker_client.list_feature_groups()\n",
    "\n",
    "featurestore_runtime = boto_session.client(service_name='sagemaker-featurestore-runtime', region_name=region)\n",
    "\n",
    "feature_store_session = Session(\n",
    "    boto_session=boto_session,\n",
    "    sagemaker_client=sagemaker_client,\n",
    "    sagemaker_featurestore_runtime_client=featurestore_runtime\n",
    ")"
   ],
   "metadata": {
    "collapsed": false,
    "pycharm": {
     "name": "#%%\n"
    }
   }
  },
  {
   "cell_type": "code",
   "execution_count": 68,
   "outputs": [
    {
     "name": "stderr",
     "output_type": "stream",
     "text": [
      "INFO:botocore.credentials:Found credentials in shared credentials file: ~/.aws/credentials\n"
     ]
    }
   ],
   "source": [
    "from sagemaker.workflow.pipeline_context import PipelineSession\n",
    "pipeline_session = PipelineSession()\n",
    "\n",
    "model_type = 'mostpop'\n",
    "script_name = 'train.py'\n",
    "\n",
    "pipeline_name = f\"petfinder6000-dev-pipeline-{model_type}\"  # SageMaker Pipeline name\n",
    "model_package_group_name = f\"PetFinder6000-{model_type}\"\n",
    "default_model_approval_status = \"PendingManualApproval\""
   ],
   "metadata": {
    "collapsed": false,
    "pycharm": {
     "name": "#%%\n"
    }
   }
  },
  {
   "cell_type": "markdown",
   "source": [
    "## Define pipeline parameters"
   ],
   "metadata": {
    "collapsed": false,
    "pycharm": {
     "name": "#%% md\n"
    }
   }
  },
  {
   "cell_type": "code",
   "execution_count": 69,
   "outputs": [],
   "source": [
    "from sagemaker.workflow.parameters import ParameterInteger, ParameterString, ParameterFloat\n",
    "\n",
    "default_bucket = sagemaker_session.default_bucket()\n",
    "image_uri = '418542404631.dkr.ecr.ap-southeast-1.amazonaws.com/petfinder6000:cornac-39-v2'\n",
    "exp_name = model_type\n",
    "model_name = f'tuning-{model_type}-'\n",
    "current_time = time.strftime(\"%Y%m%d-%H-%M-%S\", time.gmtime())\n",
    "run_name = f\"{model_name}{current_time}\"\n",
    "\n",
    "# prefixes\n",
    "job_prefix = f'{pipeline_name}/training'\n",
    "job_name = f\"{job_prefix}/{run_name}\"\n",
    "\n",
    "tuning_path = f\"s3://{default_bucket}/{job_name}\"\n",
    "\n",
    "eval_job_name = f\"{job_name}/evaluation\"\n",
    "report_path = f\"s3://{default_bucket}/{eval_job_name}/report\"\n",
    "evaluation_s3_uri = f\"{report_path}/output/evaluation/evaluation.json\"\n",
    "\n",
    "# processing step parameters\n",
    "processing_instance_type = ParameterString(name=\"ProcessingInstanceType\", default_value=\"ml.m5.xlarge\")\n",
    "processing_instance_count = ParameterInteger(name=\"ProcessingInstanceCount\", default_value=1)\n",
    "\n",
    "# training step parameters\n",
    "training_instance_type = ParameterString(name=\"TrainingInstanceType\", default_value=\"ml.m5.xlarge\")\n",
    "training_instance_count = ParameterInteger(name=\"TrainingInstanceCount\", default_value=1)\n",
    "max_hyperparam_jobs = ParameterInteger(name=\"MaximumHyperParamTuningJobs\", default_value=3)\n",
    "max_parallel_hyperparam_jobs = ParameterInteger(name=\"MaxParallelHyperparamTuningJobs\", default_value=3)\n",
    "hyperparam_tuning_strategy = ParameterString(name=\"HyperparamStrategy\", default_value=\"Random\")\n",
    "\n",
    "# setup hyperparameters\n",
    "k = ParameterInteger(name=\"TrainHyperParamK\", default_value=50)\n",
    "max_iter = ParameterInteger(name=\"TrainHyperParamMaxIter\", default_value=200)\n",
    "learning_rate = ParameterFloat(name=\"TrainHyperParamLearningRate\", default_value=0.001)\n",
    "lambda_reg = ParameterFloat(name=\"TrainHyperParamLambdaReg\", default_value=0.001)\n",
    "\n",
    "# inference step parameters\n",
    "inference_instance_type = ParameterString(name=\"InferenceInstanceType\", default_value=\"ml.m5.xlarge\")\n",
    "inference_image = ParameterString(name=\"InferenceImageURI\", default_value='418542404631.dkr.ecr.ap-southeast-1.amazonaws.com/petfinder6000:cornac-39-inference-v15')\n",
    "\n",
    "# model performance step parameters\n",
    "harmonic_mean_threshold = ParameterFloat(name=\"HarmonicMeanThreshold\", default_value=0.001)"
   ],
   "metadata": {
    "collapsed": false,
    "pycharm": {
     "name": "#%%\n"
    }
   }
  },
  {
   "cell_type": "markdown",
   "source": [
    "## Get latest data"
   ],
   "metadata": {
    "collapsed": false,
    "pycharm": {
     "name": "#%% md\n"
    }
   }
  },
  {
   "cell_type": "code",
   "execution_count": 70,
   "outputs": [],
   "source": [
    "strat_bucket = \"petfinder6000\"\n",
    "strat_path = \"data/training/strat/\""
   ],
   "metadata": {
    "collapsed": false,
    "pycharm": {
     "name": "#%%\n"
    }
   }
  },
  {
   "cell_type": "code",
   "execution_count": 71,
   "outputs": [
    {
     "name": "stderr",
     "output_type": "stream",
     "text": [
      "INFO:botocore.credentials:Found credentials in shared credentials file: ~/.aws/credentials\n"
     ]
    }
   ],
   "source": [
    "from sagemaker.lambda_helper import Lambda\n",
    "\n",
    "# Lambda helper class can be used to create the Lambda function\n",
    "func = Lambda(\n",
    "    function_name=\"fetchLatestData\",\n",
    "    execution_role_arn=role,\n",
    "    script=\"load_data/get_latest_data.py\",\n",
    "    handler=\"get_latest_data.handler\",\n",
    "    timeout=600,\n",
    "    memory_size=128,\n",
    ")"
   ],
   "metadata": {
    "collapsed": false,
    "pycharm": {
     "name": "#%%\n"
    }
   }
  },
  {
   "cell_type": "code",
   "execution_count": 72,
   "outputs": [],
   "source": [
    "from sagemaker.workflow.lambda_step import (LambdaStep,LambdaOutput,LambdaOutputTypeEnum)\n",
    "\n",
    "step_latest_data_fetch = LambdaStep(\n",
    "    name=\"FetchLatestData\",\n",
    "    lambda_func=func,\n",
    "    inputs={\n",
    "        \"bucket\": strat_bucket,\n",
    "        \"object_path\": strat_path\n",
    "    },\n",
    "    outputs=[\n",
    "        LambdaOutput(output_name=\"TrainUri\", output_type=LambdaOutputTypeEnum.String),\n",
    "        LambdaOutput(output_name=\"EvalUri\", output_type=LambdaOutputTypeEnum.String),\n",
    "        LambdaOutput(output_name=\"TestUri\", output_type=LambdaOutputTypeEnum.String),\n",
    "    ],\n",
    ")"
   ],
   "metadata": {
    "collapsed": false,
    "pycharm": {
     "name": "#%%\n"
    }
   }
  },
  {
   "cell_type": "markdown",
   "source": [
    "## Creating tuning step"
   ],
   "metadata": {
    "collapsed": false,
    "pycharm": {
     "name": "#%% md\n"
    }
   }
  },
  {
   "cell_type": "code",
   "execution_count": 73,
   "outputs": [
    {
     "name": "stderr",
     "output_type": "stream",
     "text": [
      "C:\\Users\\yongr\\anaconda3\\envs\\cornac39\\lib\\site-packages\\sagemaker\\workflow\\pipeline_context.py:286: UserWarning: Running within a PipelineSession, there will be No Wait, No Logs, and No Job being started.\n",
      "  warnings.warn(\n"
     ]
    }
   ],
   "source": [
    "from sagemaker.tuner import (\n",
    "    IntegerParameter,\n",
    "    ContinuousParameter,\n",
    "    HyperparameterTuner,\n",
    ")\n",
    "from sagemaker.tensorflow import TensorFlow\n",
    "from sagemaker.inputs import TrainingInput\n",
    "\n",
    "estimator = TensorFlow(\n",
    "    image_uri=image_uri,\n",
    "    entry_point=script_name,\n",
    "    dependencies=[\n",
    "        './training/metrics/harmonic_mean.py',\n",
    "        './training/metrics/combined_eval_method.py',\n",
    "        './training/metrics/serendipity_wrapper.py'\n",
    "    ],\n",
    "    role=role,\n",
    "    sagemaker_session=pipeline_session,\n",
    "    instance_count=training_instance_count,\n",
    "    instance_type=training_instance_type,\n",
    "    output_path=tuning_path,\n",
    "    source_dir=\"./training\",\n",
    "    environment={\"REGION\": region},\n",
    "    hyperparameters={\n",
    "        \"k\": k,\n",
    "        \"max_iter\": max_iter,\n",
    "        \"learning_rate\": learning_rate,\n",
    "        \"lambda_reg\": lambda_reg,\n",
    "    },\n",
    ")\n",
    "\n",
    "# configure hyperparameter tuning\n",
    "hyperparameter_ranges = {\n",
    "    \"k\": IntegerParameter(10, 500),\n",
    "    \"max_iter\": IntegerParameter(50, 200),\n",
    "    \"learning_rate\": ContinuousParameter(0.001, 0.1),\n",
    "    \"lambda_reg\": ContinuousParameter(0.001, 0.1),\n",
    "}\n",
    "objective_metric_name = \"HarmonicMean\"\n",
    "objective_type = \"Maximize\"\n",
    "metric_definitions = [{\"Name\": \"HarmonicMean\", \"Regex\": \"HarmonicMean: ([0-9\\\\.]+)\"},\n",
    "                      {\"Name\": \"Serendipity\", \"Regex\": \"Serendipity: ([0-9\\\\.]+)\"},\n",
    "                      {\"Name\": \"F1@10\", \"Regex\": \"F1@10: ([0-9\\\\.]+)\"},\n",
    "                      {\"Name\": \"NDCG@-1\", \"Regex\": \"NDCG@-1: ([0-9\\\\.]+)\"},\n",
    "                      {\"Name\": \"NCRR@-1\", \"Regex\": \"NCRR@-1: ([0-9\\\\.]+)\"}]\n",
    "tuner = HyperparameterTuner(\n",
    "    estimator,\n",
    "    objective_metric_name,\n",
    "    hyperparameter_ranges,\n",
    "    metric_definitions,\n",
    "    max_jobs=max_hyperparam_jobs,\n",
    "    max_parallel_jobs=max_parallel_hyperparam_jobs,\n",
    "    strategy=hyperparam_tuning_strategy,\n",
    ")\n",
    "\n",
    "# tune hyperparameter\n",
    "train_args = tuner.fit(\n",
    "    inputs={\n",
    "        \"train\": TrainingInput(s3_data=step_latest_data_fetch.properties.Outputs[\"TrainUri\"], content_type=\"text/csv\"),\n",
    "        \"eval\": TrainingInput(s3_data=step_latest_data_fetch.properties.Outputs[\"EvalUri\"], content_type=\"text/csv\"),\n",
    "    },\n",
    "    job_name=job_name,\n",
    "    include_cls_metadata=False,\n",
    "    wait=False\n",
    ")"
   ],
   "metadata": {
    "collapsed": false,
    "pycharm": {
     "name": "#%%\n"
    }
   }
  },
  {
   "cell_type": "code",
   "execution_count": 74,
   "outputs": [],
   "source": [
    "from sagemaker.workflow.steps import TuningStep\n",
    "\n",
    "step_tuning = TuningStep(name=\"TrainAndTuneModel\", step_args=train_args)"
   ],
   "metadata": {
    "collapsed": false,
    "pycharm": {
     "name": "#%%\n"
    }
   }
  },
  {
   "cell_type": "markdown",
   "source": [
    "## Get best model"
   ],
   "metadata": {
    "collapsed": false,
    "pycharm": {
     "name": "#%% md\n"
    }
   }
  },
  {
   "cell_type": "code",
   "execution_count": 75,
   "outputs": [],
   "source": [
    "from sagemaker.workflow.model_step import ModelStep\n",
    "\n",
    "from sagemaker.tensorflow import TensorFlowModel\n",
    "from sagemaker.model_metrics import MetricsSource, ModelMetrics\n",
    "\n",
    "best_model_path = step_tuning.get_top_model_s3_uri(top_k=0, s3_bucket=default_bucket, prefix=job_name)\n",
    "\n",
    "best_model = TensorFlowModel(\n",
    "    image_uri=inference_image,\n",
    "    source_dir=\"./inference\",\n",
    "    model_data=best_model_path,\n",
    "    role=role,\n",
    "    sagemaker_session=pipeline_session\n",
    ")"
   ],
   "metadata": {
    "collapsed": false,
    "pycharm": {
     "name": "#%%\n"
    }
   }
  },
  {
   "cell_type": "markdown",
   "source": [
    "## Evaluate model"
   ],
   "metadata": {
    "collapsed": false,
    "pycharm": {
     "name": "#%% md\n"
    }
   }
  },
  {
   "cell_type": "code",
   "execution_count": 76,
   "outputs": [
    {
     "name": "stderr",
     "output_type": "stream",
     "text": [
      "WARNING:sagemaker:instance_type is a PipelineVariable (<class 'sagemaker.workflow.parameters.ParameterString'>). Its interpreted value in execution time should not be of GPU types since GPU training is not supported for Scikit-Learn.\n"
     ]
    }
   ],
   "source": [
    "from sagemaker.workflow.properties import PropertyFile\n",
    "from sagemaker.processing import FrameworkProcessor, ProcessingInput, ProcessingOutput\n",
    "from sagemaker.sklearn import SKLearn\n",
    "\n",
    "evaluate_model_processor = FrameworkProcessor(\n",
    "    role=role,\n",
    "    image_uri=image_uri,\n",
    "    estimator_cls=SKLearn,\n",
    "    framework_version='0.23-1',\n",
    "    command=[\"python3\"],\n",
    "    instance_count=processing_instance_count,\n",
    "    instance_type=processing_instance_type,\n",
    "    sagemaker_session=pipeline_session,\n",
    ")\n",
    "\n",
    "evaluation_report = PropertyFile(\n",
    "    name=\"EvaluationReport\", output_name=\"evaluation\", path=\"evaluation.json\"\n",
    ")\n",
    "\n",
    "eval_args = evaluate_model_processor.run(\n",
    "    inputs=[\n",
    "        ProcessingInput(source=best_model_path, destination=\"/opt/ml/processing/model\"),\n",
    "        ProcessingInput(source=step_latest_data_fetch.properties.Outputs[\"TrainUri\"], destination=\"/opt/ml/processing/train\"),\n",
    "        ProcessingInput(source=step_latest_data_fetch.properties.Outputs[\"TestUri\"], destination=\"/opt/ml/processing/test\"),\n",
    "    ],\n",
    "    outputs=[\n",
    "        ProcessingOutput(output_name=\"evaluation\", source=\"/opt/ml/processing/evaluation\", destination=report_path),\n",
    "    ],\n",
    "    code=\"evaluate.py\",\n",
    "    source_dir=\"./evaluation\",\n",
    "    dependencies=[\n",
    "        './evaluation/metrics/harmonic_mean.py',\n",
    "        './evaluation/metrics/combined_eval_method.py',\n",
    "        './evaluation/metrics/serendipity_wrapper.py'\n",
    "    ],\n",
    "    job_name=eval_job_name,\n",
    ")"
   ],
   "metadata": {
    "collapsed": false,
    "pycharm": {
     "name": "#%%\n"
    }
   }
  },
  {
   "cell_type": "code",
   "execution_count": 77,
   "outputs": [],
   "source": [
    "from sagemaker.workflow.steps import ProcessingStep\n",
    "\n",
    "step_evaluate_model = ProcessingStep(\n",
    "    name=\"EvaluateModelPerformance\",\n",
    "    step_args=eval_args,\n",
    "    property_files=[evaluation_report],\n",
    ")"
   ],
   "metadata": {
    "collapsed": false,
    "pycharm": {
     "name": "#%%\n"
    }
   }
  },
  {
   "cell_type": "markdown",
   "source": [
    "## Register model"
   ],
   "metadata": {
    "collapsed": false,
    "pycharm": {
     "name": "#%% md\n"
    }
   }
  },
  {
   "cell_type": "code",
   "execution_count": 78,
   "outputs": [],
   "source": [
    "from sagemaker import PipelineModel\n",
    "\n",
    "pipeline_model = PipelineModel(\n",
    "    models=[best_model], role=role, sagemaker_session=pipeline_session\n",
    ")"
   ],
   "metadata": {
    "collapsed": false,
    "pycharm": {
     "name": "#%%\n"
    }
   }
  },
  {
   "cell_type": "code",
   "execution_count": 79,
   "outputs": [],
   "source": [
    "model_metrics = ModelMetrics(\n",
    "    model_statistics=MetricsSource(\n",
    "        s3_uri=evaluation_s3_uri,\n",
    "        content_type=\"application/json\",\n",
    "    )\n",
    ")\n",
    "\n",
    "register_args = pipeline_model.register(\n",
    "    content_types=[\"text/csv\"],\n",
    "    response_types=[\"text/csv\"],\n",
    "    inference_instances=[inference_instance_type],\n",
    "    transform_instances=[inference_instance_type],\n",
    "    model_metrics=model_metrics,\n",
    "    model_package_group_name=model_package_group_name,\n",
    "    approval_status=default_model_approval_status,\n",
    ")"
   ],
   "metadata": {
    "collapsed": false,
    "pycharm": {
     "name": "#%%\n"
    }
   }
  },
  {
   "cell_type": "code",
   "execution_count": 80,
   "outputs": [],
   "source": [
    "step_register_pipeline_model = ModelStep(\n",
    "    name=\"PipelineModel\",\n",
    "    step_args=register_args,\n",
    ")"
   ],
   "metadata": {
    "collapsed": false,
    "pycharm": {
     "name": "#%%\n"
    }
   }
  },
  {
   "cell_type": "markdown",
   "source": [
    "## Conditional step"
   ],
   "metadata": {
    "collapsed": false,
    "pycharm": {
     "name": "#%% md\n"
    }
   }
  },
  {
   "cell_type": "code",
   "execution_count": 81,
   "outputs": [],
   "source": [
    "from sagemaker.workflow.conditions import ConditionGreaterThanOrEqualTo\n",
    "from sagemaker.workflow.condition_step import ConditionStep\n",
    "from sagemaker.workflow.functions import JsonGet\n",
    "\n",
    "# Create accuracy condition to ensure the model meets performance requirements.\n",
    "# Models with a test accuracy lower than the condition will not be registered with the model registry.\n",
    "cond_gte = ConditionGreaterThanOrEqualTo(\n",
    "    left=JsonGet(\n",
    "        step_name=step_evaluate_model.name,\n",
    "        property_file=evaluation_report,\n",
    "        json_path=\"ranking_metrics.harmonicmean.value\",\n",
    "    ),\n",
    "    right=harmonic_mean_threshold,\n",
    ")\n",
    "\n",
    "# Create a Sagemaker Pipelines ConditionStep, using the condition above.\n",
    "# Enter the steps to perform if the condition returns True / False.\n",
    "step_cond = ConditionStep(\n",
    "    name=\"HarmonicMean-Greater-Than-Threshold-Condition\",\n",
    "    conditions=[cond_gte],\n",
    "    if_steps=[step_register_pipeline_model],  # step_register_model, step_register_scaler,\n",
    "    else_steps=[],\n",
    ")"
   ],
   "metadata": {
    "collapsed": false,
    "pycharm": {
     "name": "#%%\n"
    }
   }
  },
  {
   "cell_type": "markdown",
   "source": [
    "## Create pipeline"
   ],
   "metadata": {
    "collapsed": false,
    "pycharm": {
     "name": "#%% md\n"
    }
   }
  },
  {
   "cell_type": "code",
   "execution_count": 82,
   "outputs": [
    {
     "name": "stderr",
     "output_type": "stream",
     "text": [
      "INFO:botocore.credentials:Found credentials in shared credentials file: ~/.aws/credentials\n"
     ]
    }
   ],
   "source": [
    "from sagemaker.workflow.pipeline import Pipeline\n",
    "\n",
    "# Create a Sagemaker Pipeline.\n",
    "pipeline = Pipeline(\n",
    "    name=pipeline_name,\n",
    "    parameters=[\n",
    "        processing_instance_type,\n",
    "        processing_instance_count,\n",
    "        training_instance_type,\n",
    "        training_instance_count,\n",
    "        max_hyperparam_jobs,\n",
    "        max_parallel_hyperparam_jobs,\n",
    "        hyperparam_tuning_strategy,\n",
    "        k,\n",
    "        max_iter,\n",
    "        learning_rate,\n",
    "        lambda_reg,\n",
    "        inference_instance_type,\n",
    "        inference_image,\n",
    "        harmonic_mean_threshold\n",
    "    ],\n",
    "    steps=[step_latest_data_fetch, step_tuning, step_evaluate_model, step_cond],\n",
    ")"
   ],
   "metadata": {
    "collapsed": false,
    "pycharm": {
     "name": "#%%\n"
    }
   }
  },
  {
   "cell_type": "code",
   "execution_count": 83,
   "outputs": [
    {
     "name": "stdout",
     "output_type": "stream",
     "text": [
      "Using provided s3_resource\n"
     ]
    },
    {
     "name": "stderr",
     "output_type": "stream",
     "text": [
      "WARNING:sagemaker.estimator:No finished training job found associated with this estimator. Please make sure this estimator is only used for building workflow config\n",
      "WARNING:sagemaker:instance_type is a PipelineVariable (<class 'sagemaker.workflow.parameters.ParameterString'>). Its interpreted value in execution time should not be of GPU types since GPU training is not supported for Scikit-Learn.\n",
      "INFO:sagemaker.processing:Uploaded ./evaluation to s3://sagemaker-ap-southeast-1-418542404631/petfinder6000-dev-pipeline-mostpop/code/c6c681627f1e2d11032438807c243756/sourcedir.tar.gz\n",
      "INFO:sagemaker.processing:runproc.sh uploaded to s3://sagemaker-ap-southeast-1-418542404631/petfinder6000-dev-pipeline-mostpop/code/10391177712b105adca4cb83b613ba60/runproc.sh\n",
      "WARNING:sagemaker.workflow._utils:Popping out 'CertifyForMarketplace' from the pipeline definition since it will be overridden in pipeline execution time.\n"
     ]
    },
    {
     "name": "stdout",
     "output_type": "stream",
     "text": [
      "Using provided s3_resource\n"
     ]
    },
    {
     "name": "stderr",
     "output_type": "stream",
     "text": [
      "WARNING:sagemaker.estimator:No finished training job found associated with this estimator. Please make sure this estimator is only used for building workflow config\n",
      "WARNING:sagemaker:instance_type is a PipelineVariable (<class 'sagemaker.workflow.parameters.ParameterString'>). Its interpreted value in execution time should not be of GPU types since GPU training is not supported for Scikit-Learn.\n"
     ]
    },
    {
     "name": "stdout",
     "output_type": "stream",
     "text": [
      "Using provided s3_resource\n",
      "Using provided s3_resource\n"
     ]
    },
    {
     "name": "stderr",
     "output_type": "stream",
     "text": [
      "INFO:sagemaker.processing:Uploaded ./evaluation to s3://sagemaker-ap-southeast-1-418542404631/petfinder6000-dev-pipeline-mostpop/code/c6c681627f1e2d11032438807c243756/sourcedir.tar.gz\n",
      "INFO:sagemaker.processing:runproc.sh uploaded to s3://sagemaker-ap-southeast-1-418542404631/petfinder6000-dev-pipeline-mostpop/code/10391177712b105adca4cb83b613ba60/runproc.sh\n"
     ]
    },
    {
     "data": {
      "text/plain": "{'PipelineArn': 'arn:aws:sagemaker:ap-southeast-1:418542404631:pipeline/petfinder6000-dev-pipeline-mostpop',\n 'ResponseMetadata': {'RequestId': '556e9fab-b84d-4084-ad67-29646776a172',\n  'HTTPStatusCode': 200,\n  'HTTPHeaders': {'x-amzn-requestid': '556e9fab-b84d-4084-ad67-29646776a172',\n   'content-type': 'application/x-amz-json-1.1',\n   'content-length': '107',\n   'date': 'Thu, 22 Jun 2023 12:19:27 GMT'},\n  'RetryAttempts': 0}}"
     },
     "execution_count": 83,
     "metadata": {},
     "output_type": "execute_result"
    }
   ],
   "source": [
    "pipeline.upsert(role_arn=role)"
   ],
   "metadata": {
    "collapsed": false,
    "pycharm": {
     "name": "#%%\n"
    }
   }
  },
  {
   "cell_type": "code",
   "execution_count": 84,
   "outputs": [],
   "source": [
    "execution = pipeline.start()"
   ],
   "metadata": {
    "collapsed": false,
    "pycharm": {
     "name": "#%%\n"
    }
   }
  },
  {
   "cell_type": "code",
   "execution_count": 44,
   "outputs": [],
   "source": [
    "execution.wait()"
   ],
   "metadata": {
    "collapsed": false,
    "pycharm": {
     "name": "#%%\n"
    }
   }
  },
  {
   "cell_type": "markdown",
   "source": [],
   "metadata": {
    "collapsed": false,
    "pycharm": {
     "name": "#%% md\n"
    }
   }
  }
 ],
 "metadata": {
  "kernelspec": {
   "display_name": "Python 3",
   "language": "python",
   "name": "python3"
  },
  "language_info": {
   "codemirror_mode": {
    "name": "ipython",
    "version": 2
   },
   "file_extension": ".py",
   "mimetype": "text/x-python",
   "name": "python",
   "nbconvert_exporter": "python",
   "pygments_lexer": "ipython2",
   "version": "2.7.6"
  }
 },
 "nbformat": 4,
 "nbformat_minor": 0
}
