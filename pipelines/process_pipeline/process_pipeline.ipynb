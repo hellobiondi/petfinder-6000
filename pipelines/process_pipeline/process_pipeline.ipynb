{
 "cells": [
  {
   "cell_type": "markdown",
   "source": [
    "# Preprocessing Pipeline"
   ],
   "metadata": {
    "collapsed": false,
    "pycharm": {
     "name": "#%% md\n"
    }
   }
  },
  {
   "cell_type": "markdown",
   "source": [
    "## Setup"
   ],
   "metadata": {
    "collapsed": false,
    "pycharm": {
     "name": "#%% md\n"
    }
   }
  },
  {
   "cell_type": "code",
   "execution_count": 1,
   "metadata": {
    "collapsed": true,
    "pycharm": {
     "name": "#%%\n"
    }
   },
   "outputs": [],
   "source": [
    "import boto3\n",
    "import pandas as pd\n",
    "import numpy as np\n",
    "import time\n",
    "import sagemaker\n",
    "from sagemaker.session import Session\n",
    "from sagemaker.feature_store.feature_group import FeatureGroup"
   ]
  },
  {
   "cell_type": "code",
   "execution_count": 2,
   "outputs": [
    {
     "name": "stdout",
     "output_type": "stream",
     "text": [
      "env: AWS_PROFILE=aeroxye-sagemaker\n"
     ]
    }
   ],
   "source": [
    "%env AWS_PROFILE=aeroxye-sagemaker"
   ],
   "metadata": {
    "collapsed": false,
    "pycharm": {
     "name": "#%%\n"
    }
   }
  },
  {
   "cell_type": "code",
   "execution_count": 3,
   "outputs": [
    {
     "name": "stdout",
     "output_type": "stream",
     "text": [
      "{\n",
      "    \"UserId\": \"AROAWC4YSIQL5OBFCNGEX:botocore-session-1687363488\",\n",
      "    \"Account\": \"418542404631\",\n",
      "    \"Arn\": \"arn:aws:sts::418542404631:assumed-role/SageMaker-UserRole/botocore-session-1687363488\"\n",
      "}\n"
     ]
    }
   ],
   "source": [
    "!aws sts get-caller-identity"
   ],
   "metadata": {
    "collapsed": false,
    "pycharm": {
     "name": "#%%\n"
    }
   }
  },
  {
   "cell_type": "code",
   "execution_count": 4,
   "outputs": [
    {
     "name": "stdout",
     "output_type": "stream",
     "text": [
      "Current region: ap-southeast-1\n"
     ]
    }
   ],
   "source": [
    "try:\n",
    "    role = sagemaker.get_execution_role()\n",
    "except ValueError:\n",
    "    iam = boto3.client('iam')\n",
    "    role = iam.get_role(RoleName='SageMaker-UserRole')['Role']['Arn']\n",
    "\n",
    "region = boto3.Session().region_name\n",
    "print(f'Current region: {region}')\n",
    "\n",
    "boto_session = boto3.Session(region_name=region)\n",
    "sagemaker_session = sagemaker.Session(boto_session=boto_session)\n",
    "sagemaker_client = boto_session.client(service_name='sagemaker', region_name=region)\n",
    "sagemaker_client.list_feature_groups()\n",
    "\n",
    "featurestore_runtime = boto_session.client(service_name='sagemaker-featurestore-runtime', region_name=region)\n",
    "\n",
    "feature_store_session = Session(\n",
    "    boto_session=boto_session,\n",
    "    sagemaker_client=sagemaker_client,\n",
    "    sagemaker_featurestore_runtime_client=featurestore_runtime\n",
    ")"
   ],
   "metadata": {
    "collapsed": false,
    "pycharm": {
     "name": "#%%\n"
    }
   }
  },
  {
   "cell_type": "code",
   "execution_count": 5,
   "outputs": [],
   "source": [
    "from sagemaker.workflow.pipeline_context import PipelineSession\n",
    "pipeline_session = PipelineSession()\n",
    "\n",
    "pipeline_name = \"petfinder6000-preprocess-pipeline\"  # SageMaker Pipeline name"
   ],
   "metadata": {
    "collapsed": false,
    "pycharm": {
     "name": "#%%\n"
    }
   }
  },
  {
   "cell_type": "markdown",
   "source": [
    "## Define pipeline parameters"
   ],
   "metadata": {
    "collapsed": false,
    "pycharm": {
     "name": "#%% md\n"
    }
   }
  },
  {
   "cell_type": "code",
   "execution_count": 6,
   "outputs": [],
   "source": [
    "from sagemaker.workflow.parameters import ParameterInteger, ParameterString\n",
    "\n",
    "bucket_name = \"petfinder6000\"\n",
    "sklearn_framework_version = \"1.2-1\"\n",
    "tf_framework_version = '2.12'\n",
    "current_time = time.strftime(\"%Y%m%d-%H-%M-%S\", time.gmtime())\n",
    "\n",
    "# destinations\n",
    "interactions_s3 = ParameterString(name=\"InteractionsS3Uri\",\n",
    "                                  default_value=f\"s3://{bucket_name}/auxiliary/interactions/interactions-{current_time}\")\n",
    "users_s3 = ParameterString(name=\"UsersS3Uri\",\n",
    "                                  default_value=f\"s3://{bucket_name}/auxiliary/users/users-{current_time}\")\n",
    "lsuo_base = f\"s3://{bucket_name}/data/training/lsuo/{current_time}\"\n",
    "lsuo_train = ParameterString(name=\"LSUOTrainS3Uri\", default_value=f\"{lsuo_base}/train\")\n",
    "lsuo_validation = ParameterString(name=\"LSUOValidationS3Uri\", default_value=f\"{lsuo_base}/validation\")\n",
    "lsuo_test = ParameterString(name=\"LSUOTestS3Uri\", default_value=f\"{lsuo_base}/test\")\n",
    "strat_base = f\"s3://{bucket_name}/data/training/strat/{current_time}\"\n",
    "strat_train = ParameterString(name=\"StratifiedTrainS3Uri\", default_value=f\"{strat_base}/train\")\n",
    "strat_validation = ParameterString(name=\"StratifiedValidationS3Uri\", default_value=f\"{strat_base}/validation\")\n",
    "strat_test = ParameterString(name=\"StratifiedTestS3Uri\", default_value=f\"{strat_base}/test\")\n",
    "\n",
    "# processing step parameters\n",
    "processing_instance_type = ParameterString(name=\"ProcessingInstanceType\", default_value=\"ml.m5.xlarge\")\n",
    "processing_instance_count = ParameterInteger(name=\"ProcessingInstanceCount\", default_value=1)"
   ],
   "metadata": {
    "collapsed": false,
    "pycharm": {
     "name": "#%%\n"
    }
   }
  },
  {
   "cell_type": "markdown",
   "source": [
    "## Create preprocessing step"
   ],
   "metadata": {
    "collapsed": false,
    "pycharm": {
     "name": "#%% md\n"
    }
   }
  },
  {
   "cell_type": "code",
   "execution_count": 7,
   "outputs": [
    {
     "name": "stderr",
     "output_type": "stream",
     "text": [
      "The input argument instance_type of function (sagemaker.image_uris.retrieve) is a pipeline variable (<class 'sagemaker.workflow.parameters.ParameterString'>), which is not allowed. The default_value of this Parameter object will be used to override it. Please make sure the default_value is valid.\n",
      "C:\\Users\\yongr\\anaconda3\\envs\\cornac39\\lib\\site-packages\\sagemaker\\workflow\\pipeline_context.py:286: UserWarning: Running within a PipelineSession, there will be No Wait, No Logs, and No Job being started.\n",
      "  warnings.warn(\n"
     ]
    }
   ],
   "source": [
    "from sagemaker.tensorflow import TensorFlow\n",
    "from sagemaker.processing import FrameworkProcessor, ProcessingOutput\n",
    "\n",
    "tf_processor = FrameworkProcessor(\n",
    "    estimator_cls=TensorFlow,\n",
    "    framework_version=tf_framework_version,\n",
    "    py_version='py310',\n",
    "    instance_type=processing_instance_type,\n",
    "    instance_count=processing_instance_count,\n",
    "    base_job_name=f\"{bucket_name}/data/auxiliary\",\n",
    "    role=role,\n",
    "    sagemaker_session=pipeline_session,\n",
    "    env={\"REGION\": region},\n",
    ")\n",
    "\n",
    "preprocessor_args = tf_processor.run(\n",
    "    outputs=[\n",
    "        ProcessingOutput(source=f\"/opt/ml/processing/interactions\", output_name=\"interactions\", destination=interactions_s3),\n",
    "        ProcessingOutput(source=f\"/opt/ml/processing/users\", output_name=\"users\", destination=users_s3),\n",
    "    ],\n",
    "    code=\"process_main.py\",\n",
    "    source_dir=\"./cleaning_scripts\",\n",
    "    dependencies=[\n",
    "        './cleaning_scripts/load_data.py',\n",
    "        './cleaning_scripts/process_cats.py',\n",
    "        './cleaning_scripts/process_users.py',\n",
    "        './cleaning_scripts/process_interactions.py',\n",
    "        './cleaning_scripts/process_images.py',\n",
    "        './cleaning_scripts/store_feature.py',\n",
    "    ],\n",
    ")"
   ],
   "metadata": {
    "collapsed": false,
    "pycharm": {
     "name": "#%%\n"
    }
   }
  },
  {
   "cell_type": "code",
   "execution_count": 8,
   "outputs": [],
   "source": [
    "from sagemaker.workflow.steps import ProcessingStep\n",
    "\n",
    "step_process = ProcessingStep(\n",
    "    name=\"PreprocessData\",\n",
    "    step_args=preprocessor_args,\n",
    ")"
   ],
   "metadata": {
    "collapsed": false,
    "pycharm": {
     "name": "#%%\n"
    }
   }
  },
  {
   "cell_type": "markdown",
   "source": [
    "## Create Data Splitting Step"
   ],
   "metadata": {
    "collapsed": false,
    "pycharm": {
     "name": "#%% md\n"
    }
   }
  },
  {
   "cell_type": "code",
   "execution_count": 9,
   "outputs": [
    {
     "name": "stderr",
     "output_type": "stream",
     "text": [
      "The input argument instance_type of function (sagemaker.image_uris.retrieve) is a pipeline variable (<class 'sagemaker.workflow.parameters.ParameterString'>), which is not allowed. The default_value of this Parameter object will be used to override it. Please make sure the default_value is valid.\n"
     ]
    }
   ],
   "source": [
    "from sagemaker.sklearn import SKLearnProcessor\n",
    "from sagemaker.processing import ProcessingInput\n",
    "\n",
    "sklearn_processor = SKLearnProcessor(\n",
    "    framework_version=sklearn_framework_version,\n",
    "    instance_type=processing_instance_type,\n",
    "    instance_count=processing_instance_count,\n",
    "    base_job_name=f\"{bucket_name}/training/lsuo\",\n",
    "    role=role,\n",
    "    sagemaker_session=pipeline_session,\n",
    ")\n",
    "\n",
    "lsuo_processor_args = sklearn_processor.run(\n",
    "    inputs=[\n",
    "        ProcessingInput(source=step_process.properties.ProcessingOutputConfig.Outputs[\"interactions\"].S3Output.S3Uri,\n",
    "                        destination=\"/opt/ml/processing/input\")\n",
    "    ],\n",
    "    outputs=[\n",
    "        ProcessingOutput(source=f\"/opt/ml/processing/train\", output_name=\"train\", destination=lsuo_train),\n",
    "        ProcessingOutput(source=f\"/opt/ml/processing/validation\", output_name=\"validation\",\n",
    "                         destination=lsuo_validation),\n",
    "        ProcessingOutput(source=f\"/opt/ml/processing/test\", output_name=\"test\", destination=lsuo_test),\n",
    "    ],\n",
    "    code=\"splitting_scripts/leave-some-users-out.py\",\n",
    ")"
   ],
   "metadata": {
    "collapsed": false,
    "pycharm": {
     "name": "#%%\n"
    }
   }
  },
  {
   "cell_type": "code",
   "execution_count": 10,
   "outputs": [],
   "source": [
    "step_split_lsuo = ProcessingStep(\n",
    "    name=\"SplitLSUO\",\n",
    "    step_args=lsuo_processor_args,\n",
    ")"
   ],
   "metadata": {
    "collapsed": false,
    "pycharm": {
     "name": "#%%\n"
    }
   }
  },
  {
   "cell_type": "code",
   "execution_count": 11,
   "outputs": [
    {
     "name": "stderr",
     "output_type": "stream",
     "text": [
      "The input argument instance_type of function (sagemaker.image_uris.retrieve) is a pipeline variable (<class 'sagemaker.workflow.parameters.ParameterString'>), which is not allowed. The default_value of this Parameter object will be used to override it. Please make sure the default_value is valid.\n"
     ]
    }
   ],
   "source": [
    "sklearn_processor = SKLearnProcessor(\n",
    "    framework_version=sklearn_framework_version,\n",
    "    instance_type=processing_instance_type,\n",
    "    instance_count=processing_instance_count,\n",
    "    base_job_name=f\"{bucket_name}/training/strat\",\n",
    "    role=role,\n",
    "    sagemaker_session=pipeline_session,\n",
    ")\n",
    "\n",
    "strat_processor_args = sklearn_processor.run(\n",
    "    inputs=[\n",
    "        ProcessingInput(source=step_process.properties.ProcessingOutputConfig.Outputs[\"interactions\"].S3Output.S3Uri,\n",
    "                        destination=\"/opt/ml/processing/input\")\n",
    "    ],\n",
    "    outputs=[\n",
    "        ProcessingOutput(source=f\"/opt/ml/processing/train\", output_name=\"train\", destination=strat_train),\n",
    "        ProcessingOutput(source=f\"/opt/ml/processing/validation\", output_name=\"validation\",\n",
    "                         destination=strat_validation),\n",
    "        ProcessingOutput(source=f\"/opt/ml/processing/test\", output_name=\"test\", destination=strat_test),\n",
    "    ],\n",
    "    code=\"splitting_scripts/stratified-split.py\",\n",
    ")"
   ],
   "metadata": {
    "collapsed": false,
    "pycharm": {
     "name": "#%%\n"
    }
   }
  },
  {
   "cell_type": "code",
   "execution_count": 12,
   "outputs": [],
   "source": [
    "step_split_strat = ProcessingStep(\n",
    "    name=\"SplitStrat\",\n",
    "    step_args=strat_processor_args,\n",
    ")"
   ],
   "metadata": {
    "collapsed": false,
    "pycharm": {
     "name": "#%%\n"
    }
   }
  },
  {
   "cell_type": "markdown",
   "source": [
    "## Define Pipeline"
   ],
   "metadata": {
    "collapsed": false,
    "pycharm": {
     "name": "#%% md\n"
    }
   }
  },
  {
   "cell_type": "code",
   "execution_count": 13,
   "outputs": [],
   "source": [
    "from sagemaker.workflow.pipeline import Pipeline\n",
    "\n",
    "# Create a Sagemaker Pipeline.\n",
    "pipeline = Pipeline(\n",
    "    name=pipeline_name,\n",
    "    parameters=[\n",
    "        interactions_s3,\n",
    "        users_s3,\n",
    "        lsuo_train,\n",
    "        lsuo_validation,\n",
    "        lsuo_test,\n",
    "        strat_train,\n",
    "        strat_validation,\n",
    "        strat_test,\n",
    "        processing_instance_type,\n",
    "        processing_instance_count,\n",
    "    ],\n",
    "    steps=[step_process, step_split_lsuo, step_split_strat],\n",
    ")"
   ],
   "metadata": {
    "collapsed": false,
    "pycharm": {
     "name": "#%%\n"
    }
   }
  },
  {
   "cell_type": "code",
   "execution_count": 14,
   "outputs": [
    {
     "name": "stdout",
     "output_type": "stream",
     "text": [
      "Using provided s3_resource\n"
     ]
    },
    {
     "name": "stderr",
     "output_type": "stream",
     "text": [
      "INFO:sagemaker.processing:Uploaded ./cleaning_scripts to s3://sagemaker-ap-southeast-1-418542404631/petfinder6000-preprocess-pipeline/code/acd4ad4a8cd13e557ca9539e693d2341/sourcedir.tar.gz\n",
      "INFO:sagemaker.processing:runproc.sh uploaded to s3://sagemaker-ap-southeast-1-418542404631/petfinder6000-preprocess-pipeline/code/052ff1a4768ac08a5304c8ec11b99722/runproc.sh\n"
     ]
    },
    {
     "name": "stdout",
     "output_type": "stream",
     "text": [
      "Using provided s3_resource\n"
     ]
    },
    {
     "data": {
      "text/plain": "{'PipelineArn': 'arn:aws:sagemaker:ap-southeast-1:418542404631:pipeline/petfinder6000-preprocess-pipeline',\n 'ResponseMetadata': {'RequestId': '0e8cbd7e-ba7e-4806-9060-fd82704e7273',\n  'HTTPStatusCode': 200,\n  'HTTPHeaders': {'x-amzn-requestid': '0e8cbd7e-ba7e-4806-9060-fd82704e7273',\n   'content-type': 'application/x-amz-json-1.1',\n   'content-length': '106',\n   'date': 'Wed, 21 Jun 2023 16:15:25 GMT'},\n  'RetryAttempts': 0}}"
     },
     "execution_count": 14,
     "metadata": {},
     "output_type": "execute_result"
    }
   ],
   "source": [
    "pipeline.upsert(role_arn=role)"
   ],
   "metadata": {
    "collapsed": false,
    "pycharm": {
     "name": "#%%\n"
    }
   }
  },
  {
   "cell_type": "code",
   "execution_count": 15,
   "outputs": [],
   "source": [
    "execution = pipeline.start()"
   ],
   "metadata": {
    "collapsed": false,
    "pycharm": {
     "name": "#%%\n"
    }
   }
  },
  {
   "cell_type": "code",
   "execution_count": 16,
   "outputs": [
    {
     "ename": "KeyboardInterrupt",
     "evalue": "",
     "output_type": "error",
     "traceback": [
      "\u001B[1;31m---------------------------------------------------------------------------\u001B[0m",
      "\u001B[1;31mKeyboardInterrupt\u001B[0m                         Traceback (most recent call last)",
      "Cell \u001B[1;32mIn[16], line 1\u001B[0m\n\u001B[1;32m----> 1\u001B[0m \u001B[43mexecution\u001B[49m\u001B[38;5;241;43m.\u001B[39;49m\u001B[43mwait\u001B[49m\u001B[43m(\u001B[49m\u001B[43m)\u001B[49m\n",
      "File \u001B[1;32m~\\anaconda3\\envs\\cornac39\\lib\\site-packages\\sagemaker\\workflow\\pipeline.py:682\u001B[0m, in \u001B[0;36m_PipelineExecution.wait\u001B[1;34m(self, delay, max_attempts)\u001B[0m\n\u001B[0;32m    653\u001B[0m model \u001B[38;5;241m=\u001B[39m botocore\u001B[38;5;241m.\u001B[39mwaiter\u001B[38;5;241m.\u001B[39mWaiterModel(\n\u001B[0;32m    654\u001B[0m     {\n\u001B[0;32m    655\u001B[0m         \u001B[38;5;124m\"\u001B[39m\u001B[38;5;124mversion\u001B[39m\u001B[38;5;124m\"\u001B[39m: \u001B[38;5;241m2\u001B[39m,\n\u001B[1;32m   (...)\u001B[0m\n\u001B[0;32m    677\u001B[0m     }\n\u001B[0;32m    678\u001B[0m )\n\u001B[0;32m    679\u001B[0m waiter \u001B[38;5;241m=\u001B[39m botocore\u001B[38;5;241m.\u001B[39mwaiter\u001B[38;5;241m.\u001B[39mcreate_waiter_with_client(\n\u001B[0;32m    680\u001B[0m     waiter_id, model, \u001B[38;5;28mself\u001B[39m\u001B[38;5;241m.\u001B[39msagemaker_session\u001B[38;5;241m.\u001B[39msagemaker_client\n\u001B[0;32m    681\u001B[0m )\n\u001B[1;32m--> 682\u001B[0m \u001B[43mwaiter\u001B[49m\u001B[38;5;241;43m.\u001B[39;49m\u001B[43mwait\u001B[49m\u001B[43m(\u001B[49m\u001B[43mPipelineExecutionArn\u001B[49m\u001B[38;5;241;43m=\u001B[39;49m\u001B[38;5;28;43mself\u001B[39;49m\u001B[38;5;241;43m.\u001B[39;49m\u001B[43marn\u001B[49m\u001B[43m)\u001B[49m\n",
      "File \u001B[1;32m~\\anaconda3\\envs\\cornac39\\lib\\site-packages\\botocore\\waiter.py:55\u001B[0m, in \u001B[0;36mcreate_waiter_with_client.<locals>.wait\u001B[1;34m(self, **kwargs)\u001B[0m\n\u001B[0;32m     54\u001B[0m \u001B[38;5;28;01mdef\u001B[39;00m \u001B[38;5;21mwait\u001B[39m(\u001B[38;5;28mself\u001B[39m, \u001B[38;5;241m*\u001B[39m\u001B[38;5;241m*\u001B[39mkwargs):\n\u001B[1;32m---> 55\u001B[0m     Waiter\u001B[38;5;241m.\u001B[39mwait(\u001B[38;5;28mself\u001B[39m, \u001B[38;5;241m*\u001B[39m\u001B[38;5;241m*\u001B[39mkwargs)\n",
      "File \u001B[1;32m~\\anaconda3\\envs\\cornac39\\lib\\site-packages\\botocore\\waiter.py:393\u001B[0m, in \u001B[0;36mWaiter.wait\u001B[1;34m(self, **kwargs)\u001B[0m\n\u001B[0;32m    384\u001B[0m         reason \u001B[38;5;241m=\u001B[39m (\n\u001B[0;32m    385\u001B[0m             \u001B[38;5;124m'\u001B[39m\u001B[38;5;124mMax attempts exceeded. Previously accepted state: \u001B[39m\u001B[38;5;132;01m%s\u001B[39;00m\u001B[38;5;124m'\u001B[39m\n\u001B[0;32m    386\u001B[0m             \u001B[38;5;241m%\u001B[39m (acceptor\u001B[38;5;241m.\u001B[39mexplanation)\n\u001B[0;32m    387\u001B[0m         )\n\u001B[0;32m    388\u001B[0m     \u001B[38;5;28;01mraise\u001B[39;00m WaiterError(\n\u001B[0;32m    389\u001B[0m         name\u001B[38;5;241m=\u001B[39m\u001B[38;5;28mself\u001B[39m\u001B[38;5;241m.\u001B[39mname,\n\u001B[0;32m    390\u001B[0m         reason\u001B[38;5;241m=\u001B[39mreason,\n\u001B[0;32m    391\u001B[0m         last_response\u001B[38;5;241m=\u001B[39mresponse,\n\u001B[0;32m    392\u001B[0m     )\n\u001B[1;32m--> 393\u001B[0m \u001B[43mtime\u001B[49m\u001B[38;5;241;43m.\u001B[39;49m\u001B[43msleep\u001B[49m\u001B[43m(\u001B[49m\u001B[43msleep_amount\u001B[49m\u001B[43m)\u001B[49m\n",
      "\u001B[1;31mKeyboardInterrupt\u001B[0m: "
     ]
    }
   ],
   "source": [
    "execution.wait()"
   ],
   "metadata": {
    "collapsed": false,
    "pycharm": {
     "name": "#%%\n"
    }
   }
  }
 ],
 "metadata": {
  "kernelspec": {
   "display_name": "Python 3",
   "language": "python",
   "name": "python3"
  },
  "language_info": {
   "codemirror_mode": {
    "name": "ipython",
    "version": 2
   },
   "file_extension": ".py",
   "mimetype": "text/x-python",
   "name": "python",
   "nbconvert_exporter": "python",
   "pygments_lexer": "ipython2",
   "version": "2.7.6"
  }
 },
 "nbformat": 4,
 "nbformat_minor": 0
}
