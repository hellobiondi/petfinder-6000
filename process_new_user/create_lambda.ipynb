{
 "cells": [
  {
   "cell_type": "markdown",
   "source": [
    "# Create Lambda for API Gateway"
   ],
   "metadata": {
    "collapsed": false,
    "pycharm": {
     "name": "#%% md\n"
    }
   }
  },
  {
   "cell_type": "markdown",
   "source": [
    "## Setup"
   ],
   "metadata": {
    "collapsed": false,
    "pycharm": {
     "name": "#%% md\n"
    }
   }
  },
  {
   "cell_type": "code",
   "execution_count": 1,
   "metadata": {
    "collapsed": true,
    "pycharm": {
     "name": "#%%\n"
    }
   },
   "outputs": [],
   "source": [
    "import boto3\n",
    "import pandas as pd\n",
    "import numpy as np\n",
    "import time\n",
    "import sagemaker\n",
    "from sagemaker.session import Session\n",
    "from sagemaker.feature_store.feature_group import FeatureGroup"
   ]
  },
  {
   "cell_type": "code",
   "execution_count": 2,
   "outputs": [
    {
     "name": "stdout",
     "output_type": "stream",
     "text": [
      "env: AWS_PROFILE=aeroxye-sagemaker\n"
     ]
    }
   ],
   "source": [
    "%env AWS_PROFILE=aeroxye-sagemaker"
   ],
   "metadata": {
    "collapsed": false,
    "pycharm": {
     "name": "#%%\n"
    }
   }
  },
  {
   "cell_type": "code",
   "execution_count": 3,
   "outputs": [
    {
     "name": "stdout",
     "output_type": "stream",
     "text": [
      "{\n",
      "    \"UserId\": \"AROAWC4YSIQL5OBFCNGEX:botocore-session-1687435302\",\n",
      "    \"Account\": \"418542404631\",\n",
      "    \"Arn\": \"arn:aws:sts::418542404631:assumed-role/SageMaker-UserRole/botocore-session-1687435302\"\n",
      "}\n"
     ]
    }
   ],
   "source": [
    "!aws sts get-caller-identity"
   ],
   "metadata": {
    "collapsed": false,
    "pycharm": {
     "name": "#%%\n"
    }
   }
  },
  {
   "cell_type": "code",
   "execution_count": 4,
   "outputs": [
    {
     "name": "stdout",
     "output_type": "stream",
     "text": [
      "Current region: ap-southeast-1\n"
     ]
    }
   ],
   "source": [
    "try:\n",
    "    role = sagemaker.get_execution_role()\n",
    "except ValueError:\n",
    "    iam = boto3.client('iam')\n",
    "    role = iam.get_role(RoleName='SageMaker-UserRole')['Role']['Arn']\n",
    "\n",
    "region = boto3.Session().region_name\n",
    "print(f'Current region: {region}')\n",
    "\n",
    "boto_session = boto3.Session(region_name=region)\n",
    "sagemaker_session = sagemaker.Session(boto_session=boto_session)\n",
    "sagemaker_client = boto_session.client(service_name='sagemaker', region_name=region)"
   ],
   "metadata": {
    "collapsed": false,
    "pycharm": {
     "name": "#%%\n"
    }
   }
  },
  {
   "cell_type": "markdown",
   "source": [
    "## Create Lambda"
   ],
   "metadata": {
    "collapsed": false,
    "pycharm": {
     "name": "#%% md\n"
    }
   }
  },
  {
   "cell_type": "code",
   "execution_count": 5,
   "outputs": [],
   "source": [
    "from sagemaker.lambda_helper import Lambda\n",
    "\n",
    "# Lambda helper class can be used to create the Lambda function\n",
    "func = Lambda(\n",
    "    function_name=\"retrieve-ranking\",\n",
    "    execution_role_arn=role,\n",
    "    handler=\"process_new_user.handler\",\n",
    "    zipped_code_dir=\"./process_users.zip\",\n",
    "    environment={\n",
    "        \"Variables\": {\n",
    "            \"REGION\":region,\n",
    "        }\n",
    "    },\n",
    "    timeout=600,\n",
    "    memory_size=256,\n",
    ")"
   ],
   "metadata": {
    "collapsed": false,
    "pycharm": {
     "name": "#%%\n"
    }
   }
  },
  {
   "cell_type": "code",
   "execution_count": 6,
   "outputs": [
    {
     "data": {
      "text/plain": "{'ResponseMetadata': {'RequestId': '6c368329-772a-4eb8-929a-2b2480dee2ed',\n  'HTTPStatusCode': 200,\n  'HTTPHeaders': {'date': 'Thu, 22 Jun 2023 12:22:42 GMT',\n   'content-type': 'application/json',\n   'content-length': '1458',\n   'connection': 'keep-alive',\n   'x-amzn-requestid': '6c368329-772a-4eb8-929a-2b2480dee2ed'},\n  'RetryAttempts': 0},\n 'FunctionName': 'retrieve-ranking',\n 'FunctionArn': 'arn:aws:lambda:ap-southeast-1:418542404631:function:retrieve-ranking',\n 'Runtime': 'python3.8',\n 'Role': 'arn:aws:iam::418542404631:role/SageMaker-UserRole',\n 'Handler': 'process_new_user.handler',\n 'CodeSize': 3884,\n 'Description': '',\n 'Timeout': 600,\n 'MemorySize': 128,\n 'LastModified': '2023-06-22T12:22:42.000+0000',\n 'CodeSha256': 'r0GxctSqrNc0kztvv7TW3C+S7hayEdAtUFD4YQCgZ54=',\n 'Version': '$LATEST',\n 'Environment': {'Variables': {'REGION': 'ap-southeast-1'}},\n 'TracingConfig': {'Mode': 'PassThrough'},\n 'RevisionId': 'e1b3db45-ec55-44a0-adf5-82987d4939ab',\n 'Layers': [{'Arn': 'arn:aws:lambda:ap-southeast-1:336392948345:layer:AWSSDKPandas-Python38:8',\n   'CodeSize': 51340867}],\n 'State': 'Active',\n 'LastUpdateStatus': 'InProgress',\n 'LastUpdateStatusReason': 'The function is being created.',\n 'LastUpdateStatusReasonCode': 'Creating',\n 'PackageType': 'Zip',\n 'Architectures': ['x86_64'],\n 'EphemeralStorage': {'Size': 512},\n 'SnapStart': {'ApplyOn': 'None', 'OptimizationStatus': 'Off'},\n 'RuntimeVersionConfig': {'RuntimeVersionArn': 'arn:aws:lambda:ap-southeast-1::runtime:73e44f04ae0a122858ae23c2f747dccd0b09db03c04886f8acefc37880a723eb'}}"
     },
     "execution_count": 6,
     "metadata": {},
     "output_type": "execute_result"
    }
   ],
   "source": [
    "func.update()"
   ],
   "metadata": {
    "collapsed": false,
    "pycharm": {
     "name": "#%%\n"
    }
   }
  },
  {
   "cell_type": "markdown",
   "source": [
    "## Test area"
   ],
   "metadata": {
    "collapsed": false,
    "pycharm": {
     "name": "#%% md\n"
    }
   }
  },
  {
   "cell_type": "code",
   "execution_count": 15,
   "outputs": [],
   "source": [
    "import json\n",
    "test_user = json.dumps({\"id\": \"082a5d87-5cb2-41d1-a29d-601b38d9f380\", \"username\": \"aeroxye12\", \"A_gender\": \"No \"\n",
    "                                                                                                        \"preference\",\n",
    "              \"A_primarycolor\": [\"No preference\"\n",
    "    ], \"A_agegroup\": [\"Kitten\", \"Juvenile\", \"Adult\"\n",
    "    ], \"A_energy\": \"Chill\", \"A_attention\": \"No preference\", \"A_sweetspicy\": \"All sweet\", \"A_firstcat\": 1, \"A_othercats\": -1, \"A_otherdogs\": -1, \"A_kids\": 1, \"A_employment\": \"Working Full Time\", \"A_homeownership\": \"Self-Owned\", \"A_allergies\": -1, \"A_adoptionfee\": 1, \"createdAt\": \"2023-05-17T03: 54: 09.823Z\", \"updatedAt\": \"2023-05-17T03: 54: 09.823Z\"\n",
    "})\n",
    "test_json = json.loads(test_user)"
   ],
   "metadata": {
    "collapsed": false,
    "pycharm": {
     "name": "#%%\n"
    }
   }
  },
  {
   "cell_type": "code",
   "execution_count": 16,
   "outputs": [
    {
     "data": {
      "text/plain": "{'id': '082a5d87-5cb2-41d1-a29d-601b38d9f380',\n 'username': 'aeroxye12',\n 'A_gender': 'No preference',\n 'A_primarycolor': ['No preference'],\n 'A_agegroup': ['Kitten', 'Juvenile', 'Adult'],\n 'A_energy': 'Chill',\n 'A_attention': 'No preference',\n 'A_sweetspicy': 'All sweet',\n 'A_firstcat': 1,\n 'A_othercats': -1,\n 'A_otherdogs': -1,\n 'A_kids': 1,\n 'A_employment': 'Working Full Time',\n 'A_homeownership': 'Self-Owned',\n 'A_allergies': -1,\n 'A_adoptionfee': 1,\n 'createdAt': '2023-05-17T03: 54: 09.823Z',\n 'updatedAt': '2023-05-17T03: 54: 09.823Z'}"
     },
     "execution_count": 16,
     "metadata": {},
     "output_type": "execute_result"
    }
   ],
   "source": [
    "test_json"
   ],
   "metadata": {
    "collapsed": false,
    "pycharm": {
     "name": "#%%\n"
    }
   }
  },
  {
   "cell_type": "code",
   "execution_count": 24,
   "outputs": [
    {
     "data": {
      "text/plain": "                                     id   username       A_gender  \\\n0  082a5d87-5cb2-41d1-a29d-601b38d9f380  aeroxye12  No preference   \n\n    A_primarycolor                 A_agegroup A_energy    A_attention  \\\n0  [No preference]  [Kitten, Juvenile, Adult]    Chill  No preference   \n\n  A_sweetspicy A_firstcat A_othercats A_otherdogs A_kids       A_employment  \\\n0    All sweet          1          -1          -1      1  Working Full Time   \n\n  A_homeownership A_allergies A_adoptionfee                   createdAt  \\\n0      Self-Owned          -1             1  2023-05-17T03: 54: 09.823Z   \n\n                    updatedAt  \n0  2023-05-17T03: 54: 09.823Z  ",
      "text/html": "<div>\n<style scoped>\n    .dataframe tbody tr th:only-of-type {\n        vertical-align: middle;\n    }\n\n    .dataframe tbody tr th {\n        vertical-align: top;\n    }\n\n    .dataframe thead th {\n        text-align: right;\n    }\n</style>\n<table border=\"1\" class=\"dataframe\">\n  <thead>\n    <tr style=\"text-align: right;\">\n      <th></th>\n      <th>id</th>\n      <th>username</th>\n      <th>A_gender</th>\n      <th>A_primarycolor</th>\n      <th>A_agegroup</th>\n      <th>A_energy</th>\n      <th>A_attention</th>\n      <th>A_sweetspicy</th>\n      <th>A_firstcat</th>\n      <th>A_othercats</th>\n      <th>A_otherdogs</th>\n      <th>A_kids</th>\n      <th>A_employment</th>\n      <th>A_homeownership</th>\n      <th>A_allergies</th>\n      <th>A_adoptionfee</th>\n      <th>createdAt</th>\n      <th>updatedAt</th>\n    </tr>\n  </thead>\n  <tbody>\n    <tr>\n      <th>0</th>\n      <td>082a5d87-5cb2-41d1-a29d-601b38d9f380</td>\n      <td>aeroxye12</td>\n      <td>No preference</td>\n      <td>[No preference]</td>\n      <td>[Kitten, Juvenile, Adult]</td>\n      <td>Chill</td>\n      <td>No preference</td>\n      <td>All sweet</td>\n      <td>1</td>\n      <td>-1</td>\n      <td>-1</td>\n      <td>1</td>\n      <td>Working Full Time</td>\n      <td>Self-Owned</td>\n      <td>-1</td>\n      <td>1</td>\n      <td>2023-05-17T03: 54: 09.823Z</td>\n      <td>2023-05-17T03: 54: 09.823Z</td>\n    </tr>\n  </tbody>\n</table>\n</div>"
     },
     "execution_count": 24,
     "metadata": {},
     "output_type": "execute_result"
    }
   ],
   "source": [
    "user_df = pd.read_json(test_user, orient='index').T\n",
    "user_df"
   ],
   "metadata": {
    "collapsed": false,
    "pycharm": {
     "name": "#%%\n"
    }
   }
  },
  {
   "cell_type": "code",
   "execution_count": null,
   "outputs": [],
   "source": [],
   "metadata": {
    "collapsed": false,
    "pycharm": {
     "name": "#%%\n"
    }
   }
  },
  {
   "cell_type": "code",
   "execution_count": 90,
   "outputs": [
    {
     "data": {
      "text/plain": "                                     id  agree_to_fee      age_group  \\\n0  8b1aa3c3-162f-4717-a9f5-d895ec52f2a4             1  No preference   \n\n   has_allergies attention_need         employment   energy_level  \\\n0             -1  No preference  Working Full Time  No preference   \n\n   is_first_cat         gender home_ownership  good_with_kids  has_other_cats  \\\n0             1  No preference     Self-Owned               1              -1   \n\n   good_with_other_dogs  primary_color       personality  \\\n0                     1  No preference  Anything is nice   \n\n                 created_at                updated_at   username  \n0  2023-05-17T09:04:07.762Z  2023-05-17T09:04:07.762Z  Chai Chai  ",
      "text/html": "<div>\n<style scoped>\n    .dataframe tbody tr th:only-of-type {\n        vertical-align: middle;\n    }\n\n    .dataframe tbody tr th {\n        vertical-align: top;\n    }\n\n    .dataframe thead th {\n        text-align: right;\n    }\n</style>\n<table border=\"1\" class=\"dataframe\">\n  <thead>\n    <tr style=\"text-align: right;\">\n      <th></th>\n      <th>id</th>\n      <th>agree_to_fee</th>\n      <th>age_group</th>\n      <th>has_allergies</th>\n      <th>attention_need</th>\n      <th>employment</th>\n      <th>energy_level</th>\n      <th>is_first_cat</th>\n      <th>gender</th>\n      <th>home_ownership</th>\n      <th>good_with_kids</th>\n      <th>has_other_cats</th>\n      <th>good_with_other_dogs</th>\n      <th>primary_color</th>\n      <th>personality</th>\n      <th>created_at</th>\n      <th>updated_at</th>\n      <th>username</th>\n    </tr>\n  </thead>\n  <tbody>\n    <tr>\n      <th>0</th>\n      <td>8b1aa3c3-162f-4717-a9f5-d895ec52f2a4</td>\n      <td>1</td>\n      <td>No preference</td>\n      <td>-1</td>\n      <td>No preference</td>\n      <td>Working Full Time</td>\n      <td>No preference</td>\n      <td>1</td>\n      <td>No preference</td>\n      <td>Self-Owned</td>\n      <td>1</td>\n      <td>-1</td>\n      <td>1</td>\n      <td>No preference</td>\n      <td>Anything is nice</td>\n      <td>2023-05-17T09:04:07.762Z</td>\n      <td>2023-05-17T09:04:07.762Z</td>\n      <td>Chai Chai</td>\n    </tr>\n  </tbody>\n</table>\n</div>"
     },
     "execution_count": 90,
     "metadata": {},
     "output_type": "execute_result"
    }
   ],
   "source": [
    "cl_users = user_df.rename(columns={'A_gender': 'gender',\n",
    "                                 'A_primarycolor': 'primary_color',\n",
    "                                 'A_agegroup': 'age_group',\n",
    "                                 'A_energy': 'energy_level',\n",
    "                                 'A_attention': 'attention_need',\n",
    "                                 'A_sweetspicy': 'personality',\n",
    "                                 'A_firstcat': 'is_first_cat',\n",
    "                                 'A_othercats': 'has_other_cats',\n",
    "                                 'A_otherdogs': 'good_with_other_dogs',\n",
    "                                 'A_kids': 'good_with_kids',\n",
    "                                 'A_employment': 'employment',\n",
    "                                 'A_homeownership': 'home_ownership',\n",
    "                                 'A_allergies': 'has_allergies',\n",
    "                                 'A_adoptionfee': 'agree_to_fee',\n",
    "                                 'createdAt': 'created_at',\n",
    "                                 'updatedAt': 'updated_at',\n",
    "                                 })\n",
    "cl_users"
   ],
   "metadata": {
    "collapsed": false,
    "pycharm": {
     "name": "#%%\n"
    }
   }
  },
  {
   "cell_type": "code",
   "execution_count": 91,
   "outputs": [],
   "source": [
    "# clean multi-select columns with No Preference options (age, color)\n",
    "def clean_multi_select(row):\n",
    "    if isinstance(row, str):\n",
    "        arr = row.split(',')\n",
    "        if (len(arr) > 1) and ('No preference' in arr):\n",
    "            arr.remove('No preference')\n",
    "        return [s.lower() for s in arr]\n",
    "    else:\n",
    "        arr = [o.get(\"S\") for o in row]\n",
    "        if (len(arr) > 1) and ('No preference' in arr):\n",
    "            arr.remove('No preference')\n",
    "        return [s.lower() for s in arr]"
   ],
   "metadata": {
    "collapsed": false,
    "pycharm": {
     "name": "#%%\n"
    }
   }
  },
  {
   "cell_type": "code",
   "execution_count": 92,
   "outputs": [],
   "source": [
    "import re\n",
    "cl_users['age_group'] = cl_users['age_group'].map(lambda choice: clean_multi_select(choice))\n",
    "cl_users['primary_color'] = cl_users['primary_color'].map(lambda choice: clean_multi_select(choice))\n",
    "\n",
    "# split columns with list (age, color)\n",
    "age_groups = ['age_kitten', 'age_juvenile', 'age_no_preference', 'age_adult', 'age_senior']\n",
    "split_age_groups = cl_users['age_group'].map(lambda row: ','.join([str(age in row) for age in age_groups]))\n",
    "new_age_columns = split_age_groups.str.split(',', expand=True)\n",
    "new_age_columns = new_age_columns.applymap(lambda val: (val == 'True'))\n",
    "# new_age_columns = new_age_columns.astype('bool')\n",
    "new_age_columns = new_age_columns.astype('int')\n",
    "\n",
    "pattern = re.compile(r'\\s|/')\n",
    "# new_age_columns.columns = [f'age_{pattern.sub(\"_\", age).lower()}' for age in age_groups]\n",
    "cl_users[[f'age_{pattern.sub(\"_\", age).lower()}' for age in age_groups]] = new_age_columns\n",
    "cl_users = cl_users.drop('age_group', axis=1)\n",
    "\n",
    "color_groups = ['primary_color_no_preference', 'primary_color_black', 'primary_color_calico_tortie',\n",
    "                'primary_color_tabby', 'primary_color_others', 'primary_color_ginger', 'primary_color_white']\n",
    "split_color_groups = cl_users['primary_color'].map(\n",
    "    lambda row: ','.join([str(color in row) for color in color_groups]))\n",
    "new_color_columns = split_color_groups.str.split(',', expand=True)\n",
    "new_color_columns = new_color_columns.applymap(lambda val: (val == 'True'))\n",
    "# new_color_columns = new_color_columns.astype('bool')\n",
    "new_color_columns = new_color_columns.astype('int')"
   ],
   "metadata": {
    "collapsed": false,
    "pycharm": {
     "name": "#%%\n"
    }
   }
  },
  {
   "cell_type": "code",
   "execution_count": 98,
   "outputs": [
    {
     "ename": "TypeError",
     "evalue": "unhashable type: 'list'",
     "output_type": "error",
     "traceback": [
      "\u001B[1;31m---------------------------------------------------------------------------\u001B[0m",
      "\u001B[1;31mTypeError\u001B[0m                                 Traceback (most recent call last)",
      "Cell \u001B[1;32mIn[98], line 2\u001B[0m\n\u001B[0;32m      1\u001B[0m processed_user \u001B[38;5;241m=\u001B[39m cl_users\u001B[38;5;241m.\u001B[39mto_dict(\u001B[38;5;124m'\u001B[39m\u001B[38;5;124mrecords\u001B[39m\u001B[38;5;124m'\u001B[39m)\n\u001B[1;32m----> 2\u001B[0m \u001B[43mprocessed_user\u001B[49m\u001B[43m[\u001B[49m\u001B[38;5;241;43m0\u001B[39;49m\u001B[43m]\u001B[49m\u001B[43m[\u001B[49m\u001B[43m[\u001B[49m\u001B[38;5;124;43m'\u001B[39;49m\u001B[38;5;124;43mcreated_at\u001B[39;49m\u001B[38;5;124;43m'\u001B[39;49m\u001B[43m]\u001B[49m\u001B[43m]\u001B[49m\n",
      "\u001B[1;31mTypeError\u001B[0m: unhashable type: 'list'"
     ]
    }
   ],
   "source": [
    "processed_user = cl_users.to_dict('records')"
   ],
   "metadata": {
    "collapsed": false,
    "pycharm": {
     "name": "#%%\n"
    }
   }
  },
  {
   "cell_type": "code",
   "execution_count": 101,
   "outputs": [
    {
     "data": {
      "text/plain": "'2023-05-17T09:04:07.762Z'"
     },
     "execution_count": 101,
     "metadata": {},
     "output_type": "execute_result"
    }
   ],
   "source": [
    "cl_users.loc[0, 'created_at']"
   ],
   "metadata": {
    "collapsed": false,
    "pycharm": {
     "name": "#%%\n"
    }
   }
  }
 ],
 "metadata": {
  "kernelspec": {
   "display_name": "Python 3",
   "language": "python",
   "name": "python3"
  },
  "language_info": {
   "codemirror_mode": {
    "name": "ipython",
    "version": 2
   },
   "file_extension": ".py",
   "mimetype": "text/x-python",
   "name": "python",
   "nbconvert_exporter": "python",
   "pygments_lexer": "ipython2",
   "version": "2.7.6"
  }
 },
 "nbformat": 4,
 "nbformat_minor": 0
}
