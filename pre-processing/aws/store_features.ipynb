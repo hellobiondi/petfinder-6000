{
 "cells": [
  {
   "cell_type": "markdown",
   "id": "e9af3e73-ed39-4bdc-bfde-ebc8713b4fa5",
   "metadata": {
    "pycharm": {
     "name": "#%% md\n"
    }
   },
   "source": [
    "# Store Processed Data into Feature Store"
   ]
  },
  {
   "cell_type": "code",
   "execution_count": 1,
   "id": "1f7a8d72-21bb-4349-bb8f-a44cf0effb9a",
   "metadata": {
    "tags": [],
    "pycharm": {
     "name": "#%%\n"
    }
   },
   "outputs": [],
   "source": [
    "import pandas as pd\n",
    "import numpy as np\n",
    "import re\n",
    "import os\n",
    "import glob\n",
    "import shutil\n",
    "\n",
    "import boto3\n",
    "import sagemaker\n",
    "from sagemaker.session import Session\n",
    "from sagemaker.feature_store.feature_group import FeatureGroup"
   ]
  },
  {
   "cell_type": "code",
   "execution_count": 2,
   "outputs": [
    {
     "name": "stdout",
     "output_type": "stream",
     "text": [
      "env: AWS_PROFILE=aeroxye-sagemaker\n"
     ]
    }
   ],
   "source": [
    "%env AWS_PROFILE=aeroxye-sagemaker"
   ],
   "metadata": {
    "collapsed": false,
    "pycharm": {
     "name": "#%%\n"
    }
   }
  },
  {
   "cell_type": "code",
   "execution_count": 3,
   "outputs": [
    {
     "name": "stdout",
     "output_type": "stream",
     "text": [
      "{\n",
      "    \"UserId\": \"AROAWC4YSIQL5OBFCNGEX:botocore-session-1687359268\",\n",
      "    \"Account\": \"418542404631\",\n",
      "    \"Arn\": \"arn:aws:sts::418542404631:assumed-role/SageMaker-UserRole/botocore-session-1687359268\"\n",
      "}\n"
     ]
    }
   ],
   "source": [
    "!aws sts get-caller-identity"
   ],
   "metadata": {
    "collapsed": false,
    "pycharm": {
     "name": "#%%\n"
    }
   }
  },
  {
   "cell_type": "code",
   "execution_count": 4,
   "id": "4db5a9bb-bd42-40fd-b0b8-8a67461fcf79",
   "metadata": {
    "tags": [],
    "pycharm": {
     "name": "#%%\n"
    }
   },
   "outputs": [],
   "source": [
    "try:\n",
    "    role = sagemaker.get_execution_role()\n",
    "except ValueError:\n",
    "    iam = boto3.client('iam')\n",
    "    role = iam.get_role(RoleName='SageMaker-UserRole')['Role']['Arn']\n",
    "region = boto3.Session().region_name\n",
    "boto_session = boto3.Session(region_name=region)"
   ]
  },
  {
   "cell_type": "markdown",
   "id": "b16d56b6-85b7-4d08-ac8f-41f869323b32",
   "metadata": {
    "pycharm": {
     "name": "#%% md\n"
    }
   },
   "source": [
    "## Initialise Feature Store"
   ]
  },
  {
   "cell_type": "code",
   "execution_count": 5,
   "id": "fa4d472f-84ed-4c0c-89d2-ab6b1c844e9e",
   "metadata": {
    "tags": [],
    "pycharm": {
     "name": "#%%\n"
    }
   },
   "outputs": [
    {
     "name": "stdout",
     "output_type": "stream",
     "text": [
      "Offline bucket: s3://petfinder6000/auxiliary/sagemaker-featurestore\n"
     ]
    }
   ],
   "source": [
    "bucket = \"petfinder6000\"\n",
    "object_path = \"auxiliary\"\n",
    "prefix = \"sagemaker-featurestore\"\n",
    "offline_feature_store_bucket = 's3://{}/{}/{}'.format(bucket, object_path, prefix)\n",
    "print(f'Offline bucket: {offline_feature_store_bucket}')"
   ]
  },
  {
   "cell_type": "code",
   "execution_count": 6,
   "id": "0c16b66c-a029-4184-8065-385699326dc3",
   "metadata": {
    "tags": [],
    "pycharm": {
     "name": "#%%\n"
    }
   },
   "outputs": [],
   "source": [
    "sagemaker_client = boto_session.client(service_name='sagemaker', region_name=region)\n",
    "featurestore_runtime = boto_session.client(service_name='sagemaker-featurestore-runtime', region_name=region)\n",
    "\n",
    "feature_store_session = Session(\n",
    "    boto_session=boto_session,\n",
    "    sagemaker_client=sagemaker_client,\n",
    "    sagemaker_featurestore_runtime_client=featurestore_runtime\n",
    ")"
   ]
  },
  {
   "cell_type": "markdown",
   "id": "7b6abcab-4d8e-4e53-8a1f-368a7fdd33bb",
   "metadata": {
    "pycharm": {
     "name": "#%% md\n"
    }
   },
   "source": [
    "## Create Feature Group"
   ]
  },
  {
   "cell_type": "code",
   "execution_count": 40,
   "id": "4a03d4fb-7f5c-495c-b34c-06ee750cf035",
   "metadata": {
    "tags": [],
    "pycharm": {
     "name": "#%%\n"
    }
   },
   "outputs": [],
   "source": [
    "# CHANGE HERE!!\n",
    "data_type = 'auxiliary'\n",
    "data_name = 'interactions'\n",
    "file_type = 'csv'"
   ]
  },
  {
   "cell_type": "code",
   "execution_count": 41,
   "id": "b75573ab-3db5-46bc-b96e-9a0e51fc22aa",
   "metadata": {
    "tags": [],
    "pycharm": {
     "name": "#%%\n"
    }
   },
   "outputs": [],
   "source": [
    "feature_group_name = f'{data_name}-feature-group'\n",
    "feature_group = FeatureGroup(name=feature_group_name, sagemaker_session=feature_store_session)"
   ]
  },
  {
   "cell_type": "code",
   "execution_count": 14,
   "outputs": [
    {
     "name": "stdout",
     "output_type": "stream",
     "text": [
      "C:\\Users\\yongr\\OneDrive\\Documents\\MITB\\SEM 3 Apr 23\\CS608 Recommender Systems\\Project\\recommender\\pre-processing\\aws\n"
     ]
    }
   ],
   "source": [
    "!echo %cd%"
   ],
   "metadata": {
    "collapsed": false,
    "pycharm": {
     "name": "#%%\n"
    }
   }
  },
  {
   "cell_type": "code",
   "execution_count": 42,
   "id": "b284b366-f3ff-4da2-887e-3cae9ca20ded",
   "metadata": {
    "tags": [],
    "pycharm": {
     "name": "#%%\n"
    }
   },
   "outputs": [],
   "source": [
    "# load data from csv\n",
    "# processed_dir = 'processed'\n",
    "processed_dir = 'data/processed'\n",
    "if file_type == 'csv':\n",
    "    data = pd.read_csv(f'{processed_dir}/{data_type}/{data_name}.{file_type}', header=0)\n",
    "else:\n",
    "    data = pd.read_pickle(f'{processed_dir}/{data_type}/{data_name}.{file_type}')"
   ]
  },
  {
   "cell_type": "code",
   "execution_count": 43,
   "outputs": [
    {
     "name": "stdout",
     "output_type": "stream",
     "text": [
      "<class 'pandas.core.frame.DataFrame'>\n",
      "RangeIndex: 4841 entries, 0 to 4840\n",
      "Data columns (total 9 columns):\n",
      " #   Column         Non-Null Count  Dtype \n",
      "---  ------         --------------  ----- \n",
      " 0   Unnamed: 0     4841 non-null   int64 \n",
      " 1   id             4841 non-null   object\n",
      " 2   catID          4841 non-null   object\n",
      " 3   userID         4841 non-null   object\n",
      " 4   updated_at     4841 non-null   object\n",
      " 5   like           4841 non-null   int64 \n",
      " 6   created_at     4841 non-null   object\n",
      " 7   dwell_time_ms  4841 non-null   int64 \n",
      " 8   click          4841 non-null   int64 \n",
      "dtypes: int64(4), object(5)\n",
      "memory usage: 340.5+ KB\n"
     ]
    }
   ],
   "source": [
    "data.info()"
   ],
   "metadata": {
    "collapsed": false,
    "pycharm": {
     "name": "#%%\n"
    }
   }
  },
  {
   "cell_type": "code",
   "execution_count": 12,
   "outputs": [
    {
     "data": {
      "text/plain": "                                     id  has_other_cats       personality  \\\n0  15c83d3c-196c-4f57-bee2-361ac6fcc21e               0  anything is nice   \n1  8fe87a5a-a6cf-49db-8b7a-fca9772a717c               0        some spice   \n2  1528304d-e070-469a-b476-31f3b1022681               0  anything is nice   \n3  bb6d45b5-f368-4877-9a5f-b3cbb8761bd7               0  anything is nice   \n4  9e936f8b-4d16-4d19-b864-6262b350f44f               0  anything is nice   \n\n          gender  good_with_other_dogs         employment  \\\n0  no preference                     1  working full time   \n1  no preference                     0            student   \n2  no preference                     0  working full time   \n3  no preference                     0  working full time   \n4  no preference                     0  working full time   \n\n             created_at  agree_to_fee  is_first_cat  good_with_kids  ...  \\\n0  2023-05-19T02:35:02Z             0             1               1  ...   \n1  2023-05-17T04:32:31Z             1             1               0  ...   \n2  2023-05-18T05:52:03Z             1             1               0  ...   \n3  2023-06-02T06:45:38Z             1             1               0  ...   \n4  2023-05-20T03:33:25Z             1             1               0  ...   \n\n  age_no_preference age_adult age_senior primary_color_no_preference  \\\n0                 0         0          0                           1   \n1                 0         0          0                           1   \n2                 1         0          0                           1   \n3                 0         0          0                           1   \n4                 0         1          0                           0   \n\n   primary_color_black primary_color_calico_tortie  primary_color_tabby  \\\n0                    0                           0                    0   \n1                    0                           0                    0   \n2                    0                           0                    0   \n3                    0                           0                    0   \n4                    1                           1                    1   \n\n   primary_color_others  primary_color_ginger  primary_color_white  \n0                     0                     0                    0  \n1                     0                     0                    0  \n2                     0                     0                    0  \n3                     0                     0                    0  \n4                     0                     0                    0  \n\n[5 rows x 28 columns]",
      "text/html": "<div>\n<style scoped>\n    .dataframe tbody tr th:only-of-type {\n        vertical-align: middle;\n    }\n\n    .dataframe tbody tr th {\n        vertical-align: top;\n    }\n\n    .dataframe thead th {\n        text-align: right;\n    }\n</style>\n<table border=\"1\" class=\"dataframe\">\n  <thead>\n    <tr style=\"text-align: right;\">\n      <th></th>\n      <th>id</th>\n      <th>has_other_cats</th>\n      <th>personality</th>\n      <th>gender</th>\n      <th>good_with_other_dogs</th>\n      <th>employment</th>\n      <th>created_at</th>\n      <th>agree_to_fee</th>\n      <th>is_first_cat</th>\n      <th>good_with_kids</th>\n      <th>...</th>\n      <th>age_no_preference</th>\n      <th>age_adult</th>\n      <th>age_senior</th>\n      <th>primary_color_no_preference</th>\n      <th>primary_color_black</th>\n      <th>primary_color_calico_tortie</th>\n      <th>primary_color_tabby</th>\n      <th>primary_color_others</th>\n      <th>primary_color_ginger</th>\n      <th>primary_color_white</th>\n    </tr>\n  </thead>\n  <tbody>\n    <tr>\n      <th>0</th>\n      <td>15c83d3c-196c-4f57-bee2-361ac6fcc21e</td>\n      <td>0</td>\n      <td>anything is nice</td>\n      <td>no preference</td>\n      <td>1</td>\n      <td>working full time</td>\n      <td>2023-05-19T02:35:02Z</td>\n      <td>0</td>\n      <td>1</td>\n      <td>1</td>\n      <td>...</td>\n      <td>0</td>\n      <td>0</td>\n      <td>0</td>\n      <td>1</td>\n      <td>0</td>\n      <td>0</td>\n      <td>0</td>\n      <td>0</td>\n      <td>0</td>\n      <td>0</td>\n    </tr>\n    <tr>\n      <th>1</th>\n      <td>8fe87a5a-a6cf-49db-8b7a-fca9772a717c</td>\n      <td>0</td>\n      <td>some spice</td>\n      <td>no preference</td>\n      <td>0</td>\n      <td>student</td>\n      <td>2023-05-17T04:32:31Z</td>\n      <td>1</td>\n      <td>1</td>\n      <td>0</td>\n      <td>...</td>\n      <td>0</td>\n      <td>0</td>\n      <td>0</td>\n      <td>1</td>\n      <td>0</td>\n      <td>0</td>\n      <td>0</td>\n      <td>0</td>\n      <td>0</td>\n      <td>0</td>\n    </tr>\n    <tr>\n      <th>2</th>\n      <td>1528304d-e070-469a-b476-31f3b1022681</td>\n      <td>0</td>\n      <td>anything is nice</td>\n      <td>no preference</td>\n      <td>0</td>\n      <td>working full time</td>\n      <td>2023-05-18T05:52:03Z</td>\n      <td>1</td>\n      <td>1</td>\n      <td>0</td>\n      <td>...</td>\n      <td>1</td>\n      <td>0</td>\n      <td>0</td>\n      <td>1</td>\n      <td>0</td>\n      <td>0</td>\n      <td>0</td>\n      <td>0</td>\n      <td>0</td>\n      <td>0</td>\n    </tr>\n    <tr>\n      <th>3</th>\n      <td>bb6d45b5-f368-4877-9a5f-b3cbb8761bd7</td>\n      <td>0</td>\n      <td>anything is nice</td>\n      <td>no preference</td>\n      <td>0</td>\n      <td>working full time</td>\n      <td>2023-06-02T06:45:38Z</td>\n      <td>1</td>\n      <td>1</td>\n      <td>0</td>\n      <td>...</td>\n      <td>0</td>\n      <td>0</td>\n      <td>0</td>\n      <td>1</td>\n      <td>0</td>\n      <td>0</td>\n      <td>0</td>\n      <td>0</td>\n      <td>0</td>\n      <td>0</td>\n    </tr>\n    <tr>\n      <th>4</th>\n      <td>9e936f8b-4d16-4d19-b864-6262b350f44f</td>\n      <td>0</td>\n      <td>anything is nice</td>\n      <td>no preference</td>\n      <td>0</td>\n      <td>working full time</td>\n      <td>2023-05-20T03:33:25Z</td>\n      <td>1</td>\n      <td>1</td>\n      <td>0</td>\n      <td>...</td>\n      <td>0</td>\n      <td>1</td>\n      <td>0</td>\n      <td>0</td>\n      <td>1</td>\n      <td>1</td>\n      <td>1</td>\n      <td>0</td>\n      <td>0</td>\n      <td>0</td>\n    </tr>\n  </tbody>\n</table>\n<p>5 rows × 28 columns</p>\n</div>"
     },
     "execution_count": 12,
     "metadata": {},
     "output_type": "execute_result"
    }
   ],
   "source": [
    "data.head()"
   ],
   "metadata": {
    "collapsed": false,
    "pycharm": {
     "name": "#%%\n"
    }
   }
  },
  {
   "cell_type": "code",
   "execution_count": 37,
   "outputs": [
    {
     "data": {
      "text/plain": "id                             9b586a59-2705-4d92-95b1-ac2f210e2368\nhas_other_cats                                                    0\npersonality                                        anything is nice\ngender                                                no preference\ngood_with_other_dogs                                              1\nemployment                                        working full time\ncreated_at                                     2023-05-18T06:44:23Z\nagree_to_fee                                                      1\nis_first_cat                                                      1\ngood_with_kids                                                    1\nattention_need                                          independent\nupdated_at                                     2023-05-18T06:44:23Z\nusername                                                 hraesvelgr\nhome_ownership                                 staying with parents\nhas_allergies                                                     0\nenergy_level                                                  chill\nage_kitten                                                        0\nage_juvenile                                                      1\nage_no_preference                                                 0\nage_adult                                                         0\nage_senior                                                        0\nprimary_color_no_preference                                       1\nprimary_color_black                                               0\nprimary_color_calico_tortie                                       0\nprimary_color_tabby                                               0\nprimary_color_others                                              0\nprimary_color_ginger                                              0\nprimary_color_white                                               0\nName: 72, dtype: object"
     },
     "execution_count": 37,
     "metadata": {},
     "output_type": "execute_result"
    }
   ],
   "source": [
    "data.iloc[72, :]"
   ],
   "metadata": {
    "collapsed": false,
    "pycharm": {
     "name": "#%%\n"
    }
   }
  },
  {
   "cell_type": "code",
   "execution_count": 44,
   "outputs": [],
   "source": [
    "# drop unnamed column\n",
    "data = data.drop(columns=['Unnamed: 0'])"
   ],
   "metadata": {
    "collapsed": false,
    "pycharm": {
     "name": "#%%\n"
    }
   }
  },
  {
   "cell_type": "code",
   "execution_count": 34,
   "outputs": [],
   "source": [
    "# drop img_vector (max length of 358,400)\n",
    "data = data.drop(columns=['img_vector'])"
   ],
   "metadata": {
    "collapsed": false,
    "pycharm": {
     "name": "#%%\n"
    }
   }
  },
  {
   "cell_type": "code",
   "execution_count": 46,
   "id": "e369b6b1-a6ba-4ea3-a588-fe84da73e5de",
   "metadata": {
    "tags": [],
    "pycharm": {
     "name": "#%%\n"
    }
   },
   "outputs": [
    {
     "data": {
      "text/plain": "{'FeatureGroupArn': 'arn:aws:sagemaker:ap-southeast-1:418542404631:feature-group/interactions-feature-group',\n 'ResponseMetadata': {'RequestId': '078d8d82-680a-438e-abcc-38f5a0c28a5d',\n  'HTTPStatusCode': 200,\n  'HTTPHeaders': {'x-amzn-requestid': '078d8d82-680a-438e-abcc-38f5a0c28a5d',\n   'content-type': 'application/x-amz-json-1.1',\n   'content-length': '108',\n   'date': 'Mon, 19 Jun 2023 10:55:21 GMT'},\n  'RetryAttempts': 0}}"
     },
     "execution_count": 46,
     "metadata": {},
     "output_type": "execute_result"
    }
   ],
   "source": [
    "record_identifier_name = \"id\"\n",
    "event_time_feature_name = \"updated_at\"\n",
    "feature_group.load_feature_definitions(data_frame=data)\n",
    "\n",
    "feature_group.create(\n",
    "    s3_uri=offline_feature_store_bucket,\n",
    "    record_identifier_name=record_identifier_name,\n",
    "    event_time_feature_name=event_time_feature_name,\n",
    "    role_arn=role,\n",
    "    enable_online_store=True\n",
    ")"
   ]
  },
  {
   "cell_type": "code",
   "execution_count": 27,
   "id": "8e44fba5-c803-4ead-9ef4-442e85ccb489",
   "metadata": {
    "tags": [],
    "pycharm": {
     "name": "#%%\n"
    }
   },
   "outputs": [
    {
     "name": "stdout",
     "output_type": "stream",
     "text": [
      "Created\n"
     ]
    }
   ],
   "source": [
    "# check status of feature group creation\n",
    "status = feature_group.describe().get(\"FeatureGroupStatus\")\n",
    "print(status)"
   ]
  },
  {
   "cell_type": "markdown",
   "id": "b3dd84e4-0037-483a-a250-5149fbd9ab42",
   "metadata": {
    "pycharm": {
     "name": "#%% md\n"
    }
   },
   "source": [
    "## Load Data to Feature Group"
   ]
  },
  {
   "cell_type": "code",
   "execution_count": 38,
   "id": "059cc282-1d73-4ad5-8015-0c046a2fc9ed",
   "metadata": {
    "tags": [],
    "pycharm": {
     "name": "#%%\n"
    }
   },
   "outputs": [
    {
     "data": {
      "text/plain": "IngestionManagerPandas(feature_group_name='users-feature-group', sagemaker_fs_runtime_client_config=<botocore.config.Config object at 0x000001CDA1A6B910>, sagemaker_session=<sagemaker.session.Session object at 0x000001CDA075CC10>, max_workers=3, max_processes=1, profile_name='aeroxye-sagemaker', _async_result=<multiprocess.pool.MapResult object at 0x000001CDA27EA8B0>, _processing_pool=<pool ProcessPool(ncpus=1)>, _failed_indices=[])"
     },
     "execution_count": 38,
     "metadata": {},
     "output_type": "execute_result"
    }
   ],
   "source": [
    "# load data into feature group\n",
    "feature_group.ingest(data_frame=data, max_workers=3, wait=True)"
   ]
  },
  {
   "cell_type": "markdown",
   "id": "3af10422-86ba-4bd7-bc04-e382bd8b5299",
   "metadata": {
    "pycharm": {
     "name": "#%% md\n"
    }
   },
   "source": [
    "## Miscellaneous (Delete, List etc.)"
   ]
  },
  {
   "cell_type": "code",
   "execution_count": 39,
   "id": "f2682e71-3dc8-4860-b4d1-f43b20473a7c",
   "metadata": {
    "pycharm": {
     "name": "#%%\n"
    }
   },
   "outputs": [
    {
     "data": {
      "text/plain": "{'FeatureGroupSummaries': [{'FeatureGroupName': 'users-feature-group',\n   'FeatureGroupArn': 'arn:aws:sagemaker:ap-southeast-1:418542404631:feature-group/users-feature-group',\n   'CreationTime': datetime.datetime(2023, 6, 19, 18, 52, 18, 285000, tzinfo=tzlocal()),\n   'FeatureGroupStatus': 'Created'},\n  {'FeatureGroupName': 'interactions-feature-group',\n   'FeatureGroupArn': 'arn:aws:sagemaker:ap-southeast-1:418542404631:feature-group/interactions-feature-group',\n   'CreationTime': datetime.datetime(2023, 6, 19, 0, 18, 7, 798000, tzinfo=tzlocal()),\n   'FeatureGroupStatus': 'Created',\n   'OfflineStoreStatus': {'Status': 'Active'}},\n  {'FeatureGroupName': 'cats-feature-group',\n   'FeatureGroupArn': 'arn:aws:sagemaker:ap-southeast-1:418542404631:feature-group/cats-feature-group',\n   'CreationTime': datetime.datetime(2023, 6, 19, 18, 53, 28, 829000, tzinfo=tzlocal()),\n   'FeatureGroupStatus': 'Created'},\n  {'FeatureGroupName': 'cat-images-feature-group',\n   'FeatureGroupArn': 'arn:aws:sagemaker:ap-southeast-1:418542404631:feature-group/cat-images-feature-group',\n   'CreationTime': datetime.datetime(2023, 6, 19, 18, 54, 23, 946000, tzinfo=tzlocal()),\n   'FeatureGroupStatus': 'Created'}],\n 'ResponseMetadata': {'RequestId': 'd6cbc1b6-50b0-46ec-bab1-d3c24e9da976',\n  'HTTPStatusCode': 200,\n  'HTTPHeaders': {'x-amzn-requestid': 'd6cbc1b6-50b0-46ec-bab1-d3c24e9da976',\n   'content-type': 'application/x-amz-json-1.1',\n   'content-length': '914',\n   'date': 'Mon, 19 Jun 2023 10:54:44 GMT'},\n  'RetryAttempts': 0}}"
     },
     "execution_count": 39,
     "metadata": {},
     "output_type": "execute_result"
    }
   ],
   "source": [
    "sagemaker_client.list_feature_groups()"
   ]
  },
  {
   "cell_type": "code",
   "execution_count": 30,
   "outputs": [
    {
     "data": {
      "text/plain": "{'Results': [{'FeatureMetadata': {'FeatureGroupArn': 'arn:aws:sagemaker:ap-southeast-1:418542404631:feature-group/users-feature-group',\n    'FeatureGroupName': 'users-feature-group',\n    'FeatureName': 'personality',\n    'FeatureType': 'String',\n    'CreationTime': datetime.datetime(2023, 6, 19, 12, 6, 28, tzinfo=tzlocal()),\n    'LastModifiedTime': datetime.datetime(2023, 6, 19, 12, 6, 28, tzinfo=tzlocal()),\n    'Parameters': []}},\n  {'FeatureMetadata': {'FeatureGroupArn': 'arn:aws:sagemaker:ap-southeast-1:418542404631:feature-group/users-feature-group',\n    'FeatureGroupName': 'users-feature-group',\n    'FeatureName': 'employment',\n    'FeatureType': 'String',\n    'CreationTime': datetime.datetime(2023, 6, 19, 12, 6, 28, tzinfo=tzlocal()),\n    'LastModifiedTime': datetime.datetime(2023, 6, 19, 12, 6, 28, tzinfo=tzlocal()),\n    'Parameters': []}},\n  {'FeatureMetadata': {'FeatureGroupArn': 'arn:aws:sagemaker:ap-southeast-1:418542404631:feature-group/users-feature-group',\n    'FeatureGroupName': 'users-feature-group',\n    'FeatureName': 'attention_need',\n    'FeatureType': 'String',\n    'CreationTime': datetime.datetime(2023, 6, 19, 12, 6, 28, tzinfo=tzlocal()),\n    'LastModifiedTime': datetime.datetime(2023, 6, 19, 12, 6, 28, tzinfo=tzlocal()),\n    'Parameters': []}},\n  {'FeatureMetadata': {'FeatureGroupArn': 'arn:aws:sagemaker:ap-southeast-1:418542404631:feature-group/users-feature-group',\n    'FeatureGroupName': 'users-feature-group',\n    'FeatureName': 'updated_at',\n    'FeatureType': 'String',\n    'CreationTime': datetime.datetime(2023, 6, 19, 12, 6, 28, tzinfo=tzlocal()),\n    'LastModifiedTime': datetime.datetime(2023, 6, 19, 12, 6, 28, tzinfo=tzlocal()),\n    'Parameters': []}},\n  {'FeatureMetadata': {'FeatureGroupArn': 'arn:aws:sagemaker:ap-southeast-1:418542404631:feature-group/users-feature-group',\n    'FeatureGroupName': 'users-feature-group',\n    'FeatureName': 'age_adult',\n    'FeatureType': 'Integral',\n    'CreationTime': datetime.datetime(2023, 6, 19, 12, 6, 28, tzinfo=tzlocal()),\n    'LastModifiedTime': datetime.datetime(2023, 6, 19, 12, 6, 28, tzinfo=tzlocal()),\n    'Parameters': []}},\n  {'FeatureMetadata': {'FeatureGroupArn': 'arn:aws:sagemaker:ap-southeast-1:418542404631:feature-group/users-feature-group',\n    'FeatureGroupName': 'users-feature-group',\n    'FeatureName': 'created_at',\n    'FeatureType': 'String',\n    'CreationTime': datetime.datetime(2023, 6, 19, 12, 6, 28, tzinfo=tzlocal()),\n    'LastModifiedTime': datetime.datetime(2023, 6, 19, 12, 6, 28, tzinfo=tzlocal()),\n    'Parameters': []}},\n  {'FeatureMetadata': {'FeatureGroupArn': 'arn:aws:sagemaker:ap-southeast-1:418542404631:feature-group/users-feature-group',\n    'FeatureGroupName': 'users-feature-group',\n    'FeatureName': 'is_first_cat',\n    'FeatureType': 'Integral',\n    'CreationTime': datetime.datetime(2023, 6, 19, 12, 6, 28, tzinfo=tzlocal()),\n    'LastModifiedTime': datetime.datetime(2023, 6, 19, 12, 6, 28, tzinfo=tzlocal()),\n    'Parameters': []}},\n  {'FeatureMetadata': {'FeatureGroupArn': 'arn:aws:sagemaker:ap-southeast-1:418542404631:feature-group/users-feature-group',\n    'FeatureGroupName': 'users-feature-group',\n    'FeatureName': 'age_no_preference',\n    'FeatureType': 'Integral',\n    'CreationTime': datetime.datetime(2023, 6, 19, 12, 6, 28, tzinfo=tzlocal()),\n    'LastModifiedTime': datetime.datetime(2023, 6, 19, 12, 6, 28, tzinfo=tzlocal()),\n    'Parameters': []}},\n  {'FeatureMetadata': {'FeatureGroupArn': 'arn:aws:sagemaker:ap-southeast-1:418542404631:feature-group/users-feature-group',\n    'FeatureGroupName': 'users-feature-group',\n    'FeatureName': 'gender',\n    'FeatureType': 'String',\n    'CreationTime': datetime.datetime(2023, 6, 19, 12, 6, 28, tzinfo=tzlocal()),\n    'LastModifiedTime': datetime.datetime(2023, 6, 19, 12, 6, 28, tzinfo=tzlocal()),\n    'Parameters': []}},\n  {'FeatureMetadata': {'FeatureGroupArn': 'arn:aws:sagemaker:ap-southeast-1:418542404631:feature-group/users-feature-group',\n    'FeatureGroupName': 'users-feature-group',\n    'FeatureName': 'username',\n    'FeatureType': 'String',\n    'CreationTime': datetime.datetime(2023, 6, 19, 12, 6, 28, tzinfo=tzlocal()),\n    'LastModifiedTime': datetime.datetime(2023, 6, 19, 12, 6, 28, tzinfo=tzlocal()),\n    'Parameters': []}},\n  {'FeatureMetadata': {'FeatureGroupArn': 'arn:aws:sagemaker:ap-southeast-1:418542404631:feature-group/users-feature-group',\n    'FeatureGroupName': 'users-feature-group',\n    'FeatureName': 'age_juvenile',\n    'FeatureType': 'Integral',\n    'CreationTime': datetime.datetime(2023, 6, 19, 12, 6, 28, tzinfo=tzlocal()),\n    'LastModifiedTime': datetime.datetime(2023, 6, 19, 12, 6, 28, tzinfo=tzlocal()),\n    'Parameters': []}},\n  {'FeatureMetadata': {'FeatureGroupArn': 'arn:aws:sagemaker:ap-southeast-1:418542404631:feature-group/users-feature-group',\n    'FeatureGroupName': 'users-feature-group',\n    'FeatureName': 'primary_color_white',\n    'FeatureType': 'Integral',\n    'CreationTime': datetime.datetime(2023, 6, 19, 12, 6, 28, tzinfo=tzlocal()),\n    'LastModifiedTime': datetime.datetime(2023, 6, 19, 12, 6, 28, tzinfo=tzlocal()),\n    'Parameters': []}},\n  {'FeatureMetadata': {'FeatureGroupArn': 'arn:aws:sagemaker:ap-southeast-1:418542404631:feature-group/users-feature-group',\n    'FeatureGroupName': 'users-feature-group',\n    'FeatureName': 'id',\n    'FeatureType': 'String',\n    'CreationTime': datetime.datetime(2023, 6, 19, 12, 6, 28, tzinfo=tzlocal()),\n    'LastModifiedTime': datetime.datetime(2023, 6, 19, 12, 6, 28, tzinfo=tzlocal()),\n    'Parameters': []}},\n  {'FeatureMetadata': {'FeatureGroupArn': 'arn:aws:sagemaker:ap-southeast-1:418542404631:feature-group/users-feature-group',\n    'FeatureGroupName': 'users-feature-group',\n    'FeatureName': 'good_with_other_dogs',\n    'FeatureType': 'Integral',\n    'CreationTime': datetime.datetime(2023, 6, 19, 12, 6, 28, tzinfo=tzlocal()),\n    'LastModifiedTime': datetime.datetime(2023, 6, 19, 12, 6, 28, tzinfo=tzlocal()),\n    'Parameters': []}},\n  {'FeatureMetadata': {'FeatureGroupArn': 'arn:aws:sagemaker:ap-southeast-1:418542404631:feature-group/users-feature-group',\n    'FeatureGroupName': 'users-feature-group',\n    'FeatureName': 'agree_to_fee',\n    'FeatureType': 'Integral',\n    'CreationTime': datetime.datetime(2023, 6, 19, 12, 6, 28, tzinfo=tzlocal()),\n    'LastModifiedTime': datetime.datetime(2023, 6, 19, 12, 6, 28, tzinfo=tzlocal()),\n    'Parameters': []}},\n  {'FeatureMetadata': {'FeatureGroupArn': 'arn:aws:sagemaker:ap-southeast-1:418542404631:feature-group/users-feature-group',\n    'FeatureGroupName': 'users-feature-group',\n    'FeatureName': 'home_ownership',\n    'FeatureType': 'String',\n    'CreationTime': datetime.datetime(2023, 6, 19, 12, 6, 28, tzinfo=tzlocal()),\n    'LastModifiedTime': datetime.datetime(2023, 6, 19, 12, 6, 28, tzinfo=tzlocal()),\n    'Parameters': []}},\n  {'FeatureMetadata': {'FeatureGroupArn': 'arn:aws:sagemaker:ap-southeast-1:418542404631:feature-group/users-feature-group',\n    'FeatureGroupName': 'users-feature-group',\n    'FeatureName': 'energy_level',\n    'FeatureType': 'String',\n    'CreationTime': datetime.datetime(2023, 6, 19, 12, 6, 28, tzinfo=tzlocal()),\n    'LastModifiedTime': datetime.datetime(2023, 6, 19, 12, 6, 28, tzinfo=tzlocal()),\n    'Parameters': []}},\n  {'FeatureMetadata': {'FeatureGroupArn': 'arn:aws:sagemaker:ap-southeast-1:418542404631:feature-group/users-feature-group',\n    'FeatureGroupName': 'users-feature-group',\n    'FeatureName': 'age_kitten',\n    'FeatureType': 'Integral',\n    'CreationTime': datetime.datetime(2023, 6, 19, 12, 6, 28, tzinfo=tzlocal()),\n    'LastModifiedTime': datetime.datetime(2023, 6, 19, 12, 6, 28, tzinfo=tzlocal()),\n    'Parameters': []}},\n  {'FeatureMetadata': {'FeatureGroupArn': 'arn:aws:sagemaker:ap-southeast-1:418542404631:feature-group/users-feature-group',\n    'FeatureGroupName': 'users-feature-group',\n    'FeatureName': 'primary_color_black',\n    'FeatureType': 'Integral',\n    'CreationTime': datetime.datetime(2023, 6, 19, 12, 6, 28, tzinfo=tzlocal()),\n    'LastModifiedTime': datetime.datetime(2023, 6, 19, 12, 6, 28, tzinfo=tzlocal()),\n    'Parameters': []}},\n  {'FeatureMetadata': {'FeatureGroupArn': 'arn:aws:sagemaker:ap-southeast-1:418542404631:feature-group/users-feature-group',\n    'FeatureGroupName': 'users-feature-group',\n    'FeatureName': 'primary_color_calico_tortie',\n    'FeatureType': 'Integral',\n    'CreationTime': datetime.datetime(2023, 6, 19, 12, 6, 28, tzinfo=tzlocal()),\n    'LastModifiedTime': datetime.datetime(2023, 6, 19, 12, 6, 28, tzinfo=tzlocal()),\n    'Parameters': []}},\n  {'FeatureMetadata': {'FeatureGroupArn': 'arn:aws:sagemaker:ap-southeast-1:418542404631:feature-group/users-feature-group',\n    'FeatureGroupName': 'users-feature-group',\n    'FeatureName': 'primary_color_ginger',\n    'FeatureType': 'Integral',\n    'CreationTime': datetime.datetime(2023, 6, 19, 12, 6, 28, tzinfo=tzlocal()),\n    'LastModifiedTime': datetime.datetime(2023, 6, 19, 12, 6, 28, tzinfo=tzlocal()),\n    'Parameters': []}},\n  {'FeatureMetadata': {'FeatureGroupArn': 'arn:aws:sagemaker:ap-southeast-1:418542404631:feature-group/users-feature-group',\n    'FeatureGroupName': 'users-feature-group',\n    'FeatureName': 'has_other_cats',\n    'FeatureType': 'Integral',\n    'CreationTime': datetime.datetime(2023, 6, 19, 12, 6, 28, tzinfo=tzlocal()),\n    'LastModifiedTime': datetime.datetime(2023, 6, 19, 12, 6, 28, tzinfo=tzlocal()),\n    'Parameters': []}},\n  {'FeatureMetadata': {'FeatureGroupArn': 'arn:aws:sagemaker:ap-southeast-1:418542404631:feature-group/users-feature-group',\n    'FeatureGroupName': 'users-feature-group',\n    'FeatureName': 'good_with_kids',\n    'FeatureType': 'Integral',\n    'CreationTime': datetime.datetime(2023, 6, 19, 12, 6, 28, tzinfo=tzlocal()),\n    'LastModifiedTime': datetime.datetime(2023, 6, 19, 12, 6, 28, tzinfo=tzlocal()),\n    'Parameters': []}},\n  {'FeatureMetadata': {'FeatureGroupArn': 'arn:aws:sagemaker:ap-southeast-1:418542404631:feature-group/users-feature-group',\n    'FeatureGroupName': 'users-feature-group',\n    'FeatureName': 'has_allergies',\n    'FeatureType': 'Integral',\n    'CreationTime': datetime.datetime(2023, 6, 19, 12, 6, 28, tzinfo=tzlocal()),\n    'LastModifiedTime': datetime.datetime(2023, 6, 19, 12, 6, 28, tzinfo=tzlocal()),\n    'Parameters': []}},\n  {'FeatureMetadata': {'FeatureGroupArn': 'arn:aws:sagemaker:ap-southeast-1:418542404631:feature-group/users-feature-group',\n    'FeatureGroupName': 'users-feature-group',\n    'FeatureName': 'age_senior',\n    'FeatureType': 'Integral',\n    'CreationTime': datetime.datetime(2023, 6, 19, 12, 6, 28, tzinfo=tzlocal()),\n    'LastModifiedTime': datetime.datetime(2023, 6, 19, 12, 6, 28, tzinfo=tzlocal()),\n    'Parameters': []}},\n  {'FeatureMetadata': {'FeatureGroupArn': 'arn:aws:sagemaker:ap-southeast-1:418542404631:feature-group/users-feature-group',\n    'FeatureGroupName': 'users-feature-group',\n    'FeatureName': 'primary_color_no_preference',\n    'FeatureType': 'Integral',\n    'CreationTime': datetime.datetime(2023, 6, 19, 12, 6, 28, tzinfo=tzlocal()),\n    'LastModifiedTime': datetime.datetime(2023, 6, 19, 12, 6, 28, tzinfo=tzlocal()),\n    'Parameters': []}},\n  {'FeatureMetadata': {'FeatureGroupArn': 'arn:aws:sagemaker:ap-southeast-1:418542404631:feature-group/users-feature-group',\n    'FeatureGroupName': 'users-feature-group',\n    'FeatureName': 'primary_color_tabby',\n    'FeatureType': 'Integral',\n    'CreationTime': datetime.datetime(2023, 6, 19, 12, 6, 28, tzinfo=tzlocal()),\n    'LastModifiedTime': datetime.datetime(2023, 6, 19, 12, 6, 28, tzinfo=tzlocal()),\n    'Parameters': []}},\n  {'FeatureMetadata': {'FeatureGroupArn': 'arn:aws:sagemaker:ap-southeast-1:418542404631:feature-group/users-feature-group',\n    'FeatureGroupName': 'users-feature-group',\n    'FeatureName': 'primary_color_others',\n    'FeatureType': 'Integral',\n    'CreationTime': datetime.datetime(2023, 6, 19, 12, 6, 28, tzinfo=tzlocal()),\n    'LastModifiedTime': datetime.datetime(2023, 6, 19, 12, 6, 28, tzinfo=tzlocal()),\n    'Parameters': []}}],\n 'ResponseMetadata': {'RequestId': '93030f27-168e-408d-9c3d-0838d905f541',\n  'HTTPStatusCode': 200,\n  'HTTPHeaders': {'x-amzn-requestid': '93030f27-168e-408d-9c3d-0838d905f541',\n   'content-type': 'application/x-amz-json-1.1',\n   'content-length': '8840',\n   'date': 'Mon, 19 Jun 2023 04:11:03 GMT'},\n  'RetryAttempts': 0}}"
     },
     "execution_count": 30,
     "metadata": {},
     "output_type": "execute_result"
    }
   ],
   "source": [
    "sagemaker_client.search(\n",
    "    Resource=\"FeatureMetadata\",\n",
    "    SearchExpression={\n",
    "        'Filters': [\n",
    "            {\n",
    "                'Name': 'FeatureGroupName',\n",
    "                'Operator': 'Equals',\n",
    "                'Value': 'users-feature-group'\n",
    "            },\n",
    "        ]\n",
    "    }\n",
    ")"
   ],
   "metadata": {
    "collapsed": false,
    "pycharm": {
     "name": "#%%\n"
    }
   }
  },
  {
   "cell_type": "code",
   "execution_count": 45,
   "id": "e30db7d6-393c-4111-a733-be02678fbfc4",
   "metadata": {
    "pycharm": {
     "name": "#%%\n"
    }
   },
   "outputs": [],
   "source": [
    "# to remove feature groups\n",
    "sagemaker_session = sagemaker.Session()\n",
    "feature_group_name = f'{data_name}-feature-group'\n",
    "feature_group = FeatureGroup(name=feature_group_name, sagemaker_session=sagemaker_session)\n",
    "feature_group.delete()"
   ]
  },
  {
   "cell_type": "markdown",
   "source": [
    "Test feature retrieval"
   ],
   "metadata": {
    "collapsed": false,
    "pycharm": {
     "name": "#%% md\n"
    }
   }
  },
  {
   "cell_type": "code",
   "execution_count": 7,
   "outputs": [
    {
     "data": {
      "text/plain": "{'ResponseMetadata': {'RequestId': '8849a7b5-879e-44c2-a67c-080e75f3821f',\n  'HTTPStatusCode': 200,\n  'HTTPHeaders': {'x-amzn-requestid': '8849a7b5-879e-44c2-a67c-080e75f3821f',\n   'content-type': 'application/json',\n   'content-length': '1669',\n   'date': 'Wed, 21 Jun 2023 14:54:33 GMT'},\n  'RetryAttempts': 0},\n 'Record': [{'FeatureName': 'id',\n   'ValueAsString': '8b1aa3c3-162f-4717-a9f5-d895ec52f2a4'},\n  {'FeatureName': 'has_other_cats', 'ValueAsString': '0'},\n  {'FeatureName': 'personality', 'ValueAsString': 'anything is nice'},\n  {'FeatureName': 'gender', 'ValueAsString': 'no preference'},\n  {'FeatureName': 'good_with_other_dogs', 'ValueAsString': '1'},\n  {'FeatureName': 'employment', 'ValueAsString': 'working full time'},\n  {'FeatureName': 'created_at', 'ValueAsString': '2023-05-17T09:04:07Z'},\n  {'FeatureName': 'agree_to_fee', 'ValueAsString': '1'},\n  {'FeatureName': 'is_first_cat', 'ValueAsString': '1'},\n  {'FeatureName': 'good_with_kids', 'ValueAsString': '1'},\n  {'FeatureName': 'attention_need', 'ValueAsString': 'no preference'},\n  {'FeatureName': 'updated_at', 'ValueAsString': '2023-05-17T09:04:07Z'},\n  {'FeatureName': 'username', 'ValueAsString': 'Chai Chai'},\n  {'FeatureName': 'home_ownership', 'ValueAsString': 'self-owned'},\n  {'FeatureName': 'has_allergies', 'ValueAsString': '0'},\n  {'FeatureName': 'energy_level', 'ValueAsString': 'no preference'},\n  {'FeatureName': 'age_kitten', 'ValueAsString': '0'},\n  {'FeatureName': 'age_juvenile', 'ValueAsString': '0'},\n  {'FeatureName': 'age_no_preference', 'ValueAsString': '1'},\n  {'FeatureName': 'age_adult', 'ValueAsString': '0'},\n  {'FeatureName': 'age_senior', 'ValueAsString': '0'},\n  {'FeatureName': 'primary_color_no_preference', 'ValueAsString': '1'},\n  {'FeatureName': 'primary_color_black', 'ValueAsString': '0'},\n  {'FeatureName': 'primary_color_calico_tortie', 'ValueAsString': '0'},\n  {'FeatureName': 'primary_color_tabby', 'ValueAsString': '0'},\n  {'FeatureName': 'primary_color_others', 'ValueAsString': '0'},\n  {'FeatureName': 'primary_color_ginger', 'ValueAsString': '0'},\n  {'FeatureName': 'primary_color_white', 'ValueAsString': '0'}]}"
     },
     "execution_count": 7,
     "metadata": {},
     "output_type": "execute_result"
    }
   ],
   "source": [
    "# get single record from feature group\n",
    "record_identifier_value = str(\"8b1aa3c3-162f-4717-a9f5-d895ec52f2a4\") #user\n",
    "# record_identifier_value = str(\"4f5637ed-1bb9-4e51-979f-94213f0fbd63\") #cat\n",
    "\n",
    "featurestore_runtime.get_record(FeatureGroupName=\"users-feature-group\",\n",
    "                                RecordIdentifierValueAsString=record_identifier_value)"
   ],
   "metadata": {
    "collapsed": false,
    "pycharm": {
     "name": "#%%\n"
    }
   }
  },
  {
   "cell_type": "markdown",
   "source": [
    "Retrieve feature group as dataframe"
   ],
   "metadata": {
    "collapsed": false,
    "pycharm": {
     "name": "#%% md\n"
    }
   }
  },
  {
   "cell_type": "code",
   "execution_count": 48,
   "outputs": [],
   "source": [
    "sagemaker_session = sagemaker.Session()\n",
    "data_name = 'cats'\n",
    "feature_group_name = f'{data_name}-feature-group'\n",
    "feature_group = FeatureGroup(name=feature_group_name, sagemaker_session=sagemaker_session)"
   ],
   "metadata": {
    "collapsed": false,
    "pycharm": {
     "name": "#%%\n"
    }
   }
  },
  {
   "cell_type": "code",
   "execution_count": 49,
   "outputs": [],
   "source": [
    "from sagemaker.feature_store.feature_store import FeatureStore\n",
    "\n",
    "feature_store = FeatureStore(feature_store_session)\n",
    "builder = feature_store.create_dataset(\n",
    "    base=feature_group,\n",
    "    output_path=f's3://petfinder6000/auxiliary/{data_name}'\n",
    ")"
   ],
   "metadata": {
    "collapsed": false,
    "pycharm": {
     "name": "#%%\n"
    }
   }
  },
  {
   "cell_type": "code",
   "execution_count": 50,
   "outputs": [],
   "source": [
    "df, query = builder.to_dataframe()"
   ],
   "metadata": {
    "collapsed": false,
    "pycharm": {
     "name": "#%%\n"
    }
   }
  },
  {
   "cell_type": "code",
   "execution_count": 14,
   "outputs": [
    {
     "data": {
      "text/plain": "                                       id          cws_id  \\\n0    6f270016-5dae-49fc-b317-d85cce6b6304   1681491111-56   \n1    6faa772a-67df-4ce3-bc36-5c7954999f44  1681491601-275   \n2    9e7639a6-4ea3-4227-8233-e9b9a64a7569  1681491369-171   \n3    268b7e59-3613-4b36-a473-a510fcea8291  1681491792-359   \n4    2a14ef19-eb16-44c9-8948-9cbb4583d1a8   1681491138-68   \n..                                    ...             ...   \n399  f617a6d1-885a-48e8-ab56-0f7955d2076b   1681491011-11   \n400  94b87e7e-6fb7-4f66-86a7-e6f6b9ee9bea  1681491623-285   \n401  2c538d63-1a96-4dfb-b443-aa120ebdbf63  1681491556-255   \n402  6ff98fc7-516f-4e06-8cfc-1da42d6ca5d4   1681491125-62   \n403  0e659e01-1a27-4aaf-bd43-6597c2c0852b  1681491949-429   \n\n    good_with_other_cats good_with_kids primary_color  \\\n0                neutral        neutral         white   \n1                     no        neutral         tabby   \n2                neutral        neutral         tabby   \n3                    yes        neutral        ginger   \n4                neutral        neutral         tabby   \n..                   ...            ...           ...   \n399              neutral        neutral         black   \n400                  yes        neutral         tabby   \n401                  yes        neutral        others   \n402              neutral        neutral         black   \n403              neutral        neutral         black   \n\n                                name preferred_employment  sweet  \\\n0                           Carefree          not working      1   \n1                              Tiger    working full time      0   \n2                     Adopt Nutella!    working full time      1   \n3                        GIN & TONIC    working full time      1   \n4                             Ah Boy              student      1   \n..                               ...                  ...    ...   \n399               Sweet Loving Gecko              student      1   \n400     Gorgeous Belle needs a home!    working full time      1   \n401                         W Family    working full time      0   \n402  Friendly Toothless needs a home              student      0   \n403                           Sesame    working part time      1   \n\n           preferred_home_ownership  active  ...  quiet  good_with_other_dogs  \\\n0                             owned       0  ...      1               neutral   \n1                             owned       1  ...      0               neutral   \n2                             owned       0  ...      0               neutral   \n3                     no preference       1  ...      0               neutral   \n4                           parents       0  ...      0               neutral   \n..                              ...     ...  ...    ...                   ...   \n399                         parents       0  ...      1               neutral   \n400                   no preference       0  ...      0               neutral   \n401                   no preference       1  ...      0               neutral   \n402                         parents       0  ...      0               neutral   \n403  rental with landlord’s consent       0  ...      0               neutral   \n\n      attention_need loving            updated_at    require_fee personality  \\\n0    loves attention      1  2023-05-15T02:51:23Z            yes       sweet   \n1            neutral      0  2023-05-15T02:51:16Z            yes     neutral   \n2            neutral      0  2023-05-15T02:51:33Z            yes       sweet   \n3            neutral      1  2023-05-15T02:51:45Z  no preference       sweet   \n4        independent      1  2023-05-15T02:51:24Z            yes       sweet   \n..               ...    ...                   ...            ...         ...   \n399      independent      1  2023-05-15T02:51:07Z            yes       sweet   \n400      independent      1  2023-05-15T02:51:37Z  no preference       sweet   \n401  loves attention      1  2023-05-15T02:51:08Z  no preference       sweet   \n402          neutral      0  2023-05-15T02:51:24Z            yes     neutral   \n403          neutral      0  2023-05-15T02:51:51Z            yes       sweet   \n\n                                           description spicy  energy_level  \n0    quiet, loving, sweet, likes to be held, loves ...     0         chill  \n1                                      playful, active     0   high energy  \n2                             playful, sweet, friendly     0   high energy  \n3     playful, active, loving, sweet, likes to be held     0   high energy  \n4                                   loving, sweet, shy     0         chill  \n..                                                 ...   ...           ...  \n399                               quiet, loving, sweet     0         chill  \n400                                 loving, sweet, shy     0         chill  \n401           active, curious, loving, loves attention     0   high energy  \n402                           no description available     0         chill  \n403                                    sweet, friendly     0         chill  \n\n[404 rows x 37 columns]",
      "text/html": "<div>\n<style scoped>\n    .dataframe tbody tr th:only-of-type {\n        vertical-align: middle;\n    }\n\n    .dataframe tbody tr th {\n        vertical-align: top;\n    }\n\n    .dataframe thead th {\n        text-align: right;\n    }\n</style>\n<table border=\"1\" class=\"dataframe\">\n  <thead>\n    <tr style=\"text-align: right;\">\n      <th></th>\n      <th>id</th>\n      <th>cws_id</th>\n      <th>good_with_other_cats</th>\n      <th>good_with_kids</th>\n      <th>primary_color</th>\n      <th>name</th>\n      <th>preferred_employment</th>\n      <th>sweet</th>\n      <th>preferred_home_ownership</th>\n      <th>active</th>\n      <th>...</th>\n      <th>quiet</th>\n      <th>good_with_other_dogs</th>\n      <th>attention_need</th>\n      <th>loving</th>\n      <th>updated_at</th>\n      <th>require_fee</th>\n      <th>personality</th>\n      <th>description</th>\n      <th>spicy</th>\n      <th>energy_level</th>\n    </tr>\n  </thead>\n  <tbody>\n    <tr>\n      <th>0</th>\n      <td>6f270016-5dae-49fc-b317-d85cce6b6304</td>\n      <td>1681491111-56</td>\n      <td>neutral</td>\n      <td>neutral</td>\n      <td>white</td>\n      <td>Carefree</td>\n      <td>not working</td>\n      <td>1</td>\n      <td>owned</td>\n      <td>0</td>\n      <td>...</td>\n      <td>1</td>\n      <td>neutral</td>\n      <td>loves attention</td>\n      <td>1</td>\n      <td>2023-05-15T02:51:23Z</td>\n      <td>yes</td>\n      <td>sweet</td>\n      <td>quiet, loving, sweet, likes to be held, loves ...</td>\n      <td>0</td>\n      <td>chill</td>\n    </tr>\n    <tr>\n      <th>1</th>\n      <td>6faa772a-67df-4ce3-bc36-5c7954999f44</td>\n      <td>1681491601-275</td>\n      <td>no</td>\n      <td>neutral</td>\n      <td>tabby</td>\n      <td>Tiger</td>\n      <td>working full time</td>\n      <td>0</td>\n      <td>owned</td>\n      <td>1</td>\n      <td>...</td>\n      <td>0</td>\n      <td>neutral</td>\n      <td>neutral</td>\n      <td>0</td>\n      <td>2023-05-15T02:51:16Z</td>\n      <td>yes</td>\n      <td>neutral</td>\n      <td>playful, active</td>\n      <td>0</td>\n      <td>high energy</td>\n    </tr>\n    <tr>\n      <th>2</th>\n      <td>9e7639a6-4ea3-4227-8233-e9b9a64a7569</td>\n      <td>1681491369-171</td>\n      <td>neutral</td>\n      <td>neutral</td>\n      <td>tabby</td>\n      <td>Adopt Nutella!</td>\n      <td>working full time</td>\n      <td>1</td>\n      <td>owned</td>\n      <td>0</td>\n      <td>...</td>\n      <td>0</td>\n      <td>neutral</td>\n      <td>neutral</td>\n      <td>0</td>\n      <td>2023-05-15T02:51:33Z</td>\n      <td>yes</td>\n      <td>sweet</td>\n      <td>playful, sweet, friendly</td>\n      <td>0</td>\n      <td>high energy</td>\n    </tr>\n    <tr>\n      <th>3</th>\n      <td>268b7e59-3613-4b36-a473-a510fcea8291</td>\n      <td>1681491792-359</td>\n      <td>yes</td>\n      <td>neutral</td>\n      <td>ginger</td>\n      <td>GIN &amp; TONIC</td>\n      <td>working full time</td>\n      <td>1</td>\n      <td>no preference</td>\n      <td>1</td>\n      <td>...</td>\n      <td>0</td>\n      <td>neutral</td>\n      <td>neutral</td>\n      <td>1</td>\n      <td>2023-05-15T02:51:45Z</td>\n      <td>no preference</td>\n      <td>sweet</td>\n      <td>playful, active, loving, sweet, likes to be held</td>\n      <td>0</td>\n      <td>high energy</td>\n    </tr>\n    <tr>\n      <th>4</th>\n      <td>2a14ef19-eb16-44c9-8948-9cbb4583d1a8</td>\n      <td>1681491138-68</td>\n      <td>neutral</td>\n      <td>neutral</td>\n      <td>tabby</td>\n      <td>Ah Boy</td>\n      <td>student</td>\n      <td>1</td>\n      <td>parents</td>\n      <td>0</td>\n      <td>...</td>\n      <td>0</td>\n      <td>neutral</td>\n      <td>independent</td>\n      <td>1</td>\n      <td>2023-05-15T02:51:24Z</td>\n      <td>yes</td>\n      <td>sweet</td>\n      <td>loving, sweet, shy</td>\n      <td>0</td>\n      <td>chill</td>\n    </tr>\n    <tr>\n      <th>...</th>\n      <td>...</td>\n      <td>...</td>\n      <td>...</td>\n      <td>...</td>\n      <td>...</td>\n      <td>...</td>\n      <td>...</td>\n      <td>...</td>\n      <td>...</td>\n      <td>...</td>\n      <td>...</td>\n      <td>...</td>\n      <td>...</td>\n      <td>...</td>\n      <td>...</td>\n      <td>...</td>\n      <td>...</td>\n      <td>...</td>\n      <td>...</td>\n      <td>...</td>\n      <td>...</td>\n    </tr>\n    <tr>\n      <th>399</th>\n      <td>f617a6d1-885a-48e8-ab56-0f7955d2076b</td>\n      <td>1681491011-11</td>\n      <td>neutral</td>\n      <td>neutral</td>\n      <td>black</td>\n      <td>Sweet Loving Gecko</td>\n      <td>student</td>\n      <td>1</td>\n      <td>parents</td>\n      <td>0</td>\n      <td>...</td>\n      <td>1</td>\n      <td>neutral</td>\n      <td>independent</td>\n      <td>1</td>\n      <td>2023-05-15T02:51:07Z</td>\n      <td>yes</td>\n      <td>sweet</td>\n      <td>quiet, loving, sweet</td>\n      <td>0</td>\n      <td>chill</td>\n    </tr>\n    <tr>\n      <th>400</th>\n      <td>94b87e7e-6fb7-4f66-86a7-e6f6b9ee9bea</td>\n      <td>1681491623-285</td>\n      <td>yes</td>\n      <td>neutral</td>\n      <td>tabby</td>\n      <td>Gorgeous Belle needs a home!</td>\n      <td>working full time</td>\n      <td>1</td>\n      <td>no preference</td>\n      <td>0</td>\n      <td>...</td>\n      <td>0</td>\n      <td>neutral</td>\n      <td>independent</td>\n      <td>1</td>\n      <td>2023-05-15T02:51:37Z</td>\n      <td>no preference</td>\n      <td>sweet</td>\n      <td>loving, sweet, shy</td>\n      <td>0</td>\n      <td>chill</td>\n    </tr>\n    <tr>\n      <th>401</th>\n      <td>2c538d63-1a96-4dfb-b443-aa120ebdbf63</td>\n      <td>1681491556-255</td>\n      <td>yes</td>\n      <td>neutral</td>\n      <td>others</td>\n      <td>W Family</td>\n      <td>working full time</td>\n      <td>0</td>\n      <td>no preference</td>\n      <td>1</td>\n      <td>...</td>\n      <td>0</td>\n      <td>neutral</td>\n      <td>loves attention</td>\n      <td>1</td>\n      <td>2023-05-15T02:51:08Z</td>\n      <td>no preference</td>\n      <td>sweet</td>\n      <td>active, curious, loving, loves attention</td>\n      <td>0</td>\n      <td>high energy</td>\n    </tr>\n    <tr>\n      <th>402</th>\n      <td>6ff98fc7-516f-4e06-8cfc-1da42d6ca5d4</td>\n      <td>1681491125-62</td>\n      <td>neutral</td>\n      <td>neutral</td>\n      <td>black</td>\n      <td>Friendly Toothless needs a home</td>\n      <td>student</td>\n      <td>0</td>\n      <td>parents</td>\n      <td>0</td>\n      <td>...</td>\n      <td>0</td>\n      <td>neutral</td>\n      <td>neutral</td>\n      <td>0</td>\n      <td>2023-05-15T02:51:24Z</td>\n      <td>yes</td>\n      <td>neutral</td>\n      <td>no description available</td>\n      <td>0</td>\n      <td>chill</td>\n    </tr>\n    <tr>\n      <th>403</th>\n      <td>0e659e01-1a27-4aaf-bd43-6597c2c0852b</td>\n      <td>1681491949-429</td>\n      <td>neutral</td>\n      <td>neutral</td>\n      <td>black</td>\n      <td>Sesame</td>\n      <td>working part time</td>\n      <td>1</td>\n      <td>rental with landlord’s consent</td>\n      <td>0</td>\n      <td>...</td>\n      <td>0</td>\n      <td>neutral</td>\n      <td>neutral</td>\n      <td>0</td>\n      <td>2023-05-15T02:51:51Z</td>\n      <td>yes</td>\n      <td>sweet</td>\n      <td>sweet, friendly</td>\n      <td>0</td>\n      <td>chill</td>\n    </tr>\n  </tbody>\n</table>\n<p>404 rows × 37 columns</p>\n</div>"
     },
     "execution_count": 14,
     "metadata": {},
     "output_type": "execute_result"
    }
   ],
   "source": [
    "df"
   ],
   "metadata": {
    "collapsed": false,
    "pycharm": {
     "name": "#%%\n"
    }
   }
  }
 ],
 "metadata": {
  "availableInstances": [
   {
    "_defaultOrder": 0,
    "_isFastLaunch": true,
    "category": "General purpose",
    "gpuNum": 0,
    "hideHardwareSpecs": false,
    "memoryGiB": 4,
    "name": "ml.t3.medium",
    "vcpuNum": 2
   },
   {
    "_defaultOrder": 1,
    "_isFastLaunch": false,
    "category": "General purpose",
    "gpuNum": 0,
    "hideHardwareSpecs": false,
    "memoryGiB": 8,
    "name": "ml.t3.large",
    "vcpuNum": 2
   },
   {
    "_defaultOrder": 2,
    "_isFastLaunch": false,
    "category": "General purpose",
    "gpuNum": 0,
    "hideHardwareSpecs": false,
    "memoryGiB": 16,
    "name": "ml.t3.xlarge",
    "vcpuNum": 4
   },
   {
    "_defaultOrder": 3,
    "_isFastLaunch": false,
    "category": "General purpose",
    "gpuNum": 0,
    "hideHardwareSpecs": false,
    "memoryGiB": 32,
    "name": "ml.t3.2xlarge",
    "vcpuNum": 8
   },
   {
    "_defaultOrder": 4,
    "_isFastLaunch": true,
    "category": "General purpose",
    "gpuNum": 0,
    "hideHardwareSpecs": false,
    "memoryGiB": 8,
    "name": "ml.m5.large",
    "vcpuNum": 2
   },
   {
    "_defaultOrder": 5,
    "_isFastLaunch": false,
    "category": "General purpose",
    "gpuNum": 0,
    "hideHardwareSpecs": false,
    "memoryGiB": 16,
    "name": "ml.m5.xlarge",
    "vcpuNum": 4
   },
   {
    "_defaultOrder": 6,
    "_isFastLaunch": false,
    "category": "General purpose",
    "gpuNum": 0,
    "hideHardwareSpecs": false,
    "memoryGiB": 32,
    "name": "ml.m5.2xlarge",
    "vcpuNum": 8
   },
   {
    "_defaultOrder": 7,
    "_isFastLaunch": false,
    "category": "General purpose",
    "gpuNum": 0,
    "hideHardwareSpecs": false,
    "memoryGiB": 64,
    "name": "ml.m5.4xlarge",
    "vcpuNum": 16
   },
   {
    "_defaultOrder": 8,
    "_isFastLaunch": false,
    "category": "General purpose",
    "gpuNum": 0,
    "hideHardwareSpecs": false,
    "memoryGiB": 128,
    "name": "ml.m5.8xlarge",
    "vcpuNum": 32
   },
   {
    "_defaultOrder": 9,
    "_isFastLaunch": false,
    "category": "General purpose",
    "gpuNum": 0,
    "hideHardwareSpecs": false,
    "memoryGiB": 192,
    "name": "ml.m5.12xlarge",
    "vcpuNum": 48
   },
   {
    "_defaultOrder": 10,
    "_isFastLaunch": false,
    "category": "General purpose",
    "gpuNum": 0,
    "hideHardwareSpecs": false,
    "memoryGiB": 256,
    "name": "ml.m5.16xlarge",
    "vcpuNum": 64
   },
   {
    "_defaultOrder": 11,
    "_isFastLaunch": false,
    "category": "General purpose",
    "gpuNum": 0,
    "hideHardwareSpecs": false,
    "memoryGiB": 384,
    "name": "ml.m5.24xlarge",
    "vcpuNum": 96
   },
   {
    "_defaultOrder": 12,
    "_isFastLaunch": false,
    "category": "General purpose",
    "gpuNum": 0,
    "hideHardwareSpecs": false,
    "memoryGiB": 8,
    "name": "ml.m5d.large",
    "vcpuNum": 2
   },
   {
    "_defaultOrder": 13,
    "_isFastLaunch": false,
    "category": "General purpose",
    "gpuNum": 0,
    "hideHardwareSpecs": false,
    "memoryGiB": 16,
    "name": "ml.m5d.xlarge",
    "vcpuNum": 4
   },
   {
    "_defaultOrder": 14,
    "_isFastLaunch": false,
    "category": "General purpose",
    "gpuNum": 0,
    "hideHardwareSpecs": false,
    "memoryGiB": 32,
    "name": "ml.m5d.2xlarge",
    "vcpuNum": 8
   },
   {
    "_defaultOrder": 15,
    "_isFastLaunch": false,
    "category": "General purpose",
    "gpuNum": 0,
    "hideHardwareSpecs": false,
    "memoryGiB": 64,
    "name": "ml.m5d.4xlarge",
    "vcpuNum": 16
   },
   {
    "_defaultOrder": 16,
    "_isFastLaunch": false,
    "category": "General purpose",
    "gpuNum": 0,
    "hideHardwareSpecs": false,
    "memoryGiB": 128,
    "name": "ml.m5d.8xlarge",
    "vcpuNum": 32
   },
   {
    "_defaultOrder": 17,
    "_isFastLaunch": false,
    "category": "General purpose",
    "gpuNum": 0,
    "hideHardwareSpecs": false,
    "memoryGiB": 192,
    "name": "ml.m5d.12xlarge",
    "vcpuNum": 48
   },
   {
    "_defaultOrder": 18,
    "_isFastLaunch": false,
    "category": "General purpose",
    "gpuNum": 0,
    "hideHardwareSpecs": false,
    "memoryGiB": 256,
    "name": "ml.m5d.16xlarge",
    "vcpuNum": 64
   },
   {
    "_defaultOrder": 19,
    "_isFastLaunch": false,
    "category": "General purpose",
    "gpuNum": 0,
    "hideHardwareSpecs": false,
    "memoryGiB": 384,
    "name": "ml.m5d.24xlarge",
    "vcpuNum": 96
   },
   {
    "_defaultOrder": 20,
    "_isFastLaunch": false,
    "category": "General purpose",
    "gpuNum": 0,
    "hideHardwareSpecs": true,
    "memoryGiB": 0,
    "name": "ml.geospatial.interactive",
    "supportedImageNames": [
     "sagemaker-geospatial-v1-0"
    ],
    "vcpuNum": 0
   },
   {
    "_defaultOrder": 21,
    "_isFastLaunch": true,
    "category": "Compute optimized",
    "gpuNum": 0,
    "hideHardwareSpecs": false,
    "memoryGiB": 4,
    "name": "ml.c5.large",
    "vcpuNum": 2
   },
   {
    "_defaultOrder": 22,
    "_isFastLaunch": false,
    "category": "Compute optimized",
    "gpuNum": 0,
    "hideHardwareSpecs": false,
    "memoryGiB": 8,
    "name": "ml.c5.xlarge",
    "vcpuNum": 4
   },
   {
    "_defaultOrder": 23,
    "_isFastLaunch": false,
    "category": "Compute optimized",
    "gpuNum": 0,
    "hideHardwareSpecs": false,
    "memoryGiB": 16,
    "name": "ml.c5.2xlarge",
    "vcpuNum": 8
   },
   {
    "_defaultOrder": 24,
    "_isFastLaunch": false,
    "category": "Compute optimized",
    "gpuNum": 0,
    "hideHardwareSpecs": false,
    "memoryGiB": 32,
    "name": "ml.c5.4xlarge",
    "vcpuNum": 16
   },
   {
    "_defaultOrder": 25,
    "_isFastLaunch": false,
    "category": "Compute optimized",
    "gpuNum": 0,
    "hideHardwareSpecs": false,
    "memoryGiB": 72,
    "name": "ml.c5.9xlarge",
    "vcpuNum": 36
   },
   {
    "_defaultOrder": 26,
    "_isFastLaunch": false,
    "category": "Compute optimized",
    "gpuNum": 0,
    "hideHardwareSpecs": false,
    "memoryGiB": 96,
    "name": "ml.c5.12xlarge",
    "vcpuNum": 48
   },
   {
    "_defaultOrder": 27,
    "_isFastLaunch": false,
    "category": "Compute optimized",
    "gpuNum": 0,
    "hideHardwareSpecs": false,
    "memoryGiB": 144,
    "name": "ml.c5.18xlarge",
    "vcpuNum": 72
   },
   {
    "_defaultOrder": 28,
    "_isFastLaunch": false,
    "category": "Compute optimized",
    "gpuNum": 0,
    "hideHardwareSpecs": false,
    "memoryGiB": 192,
    "name": "ml.c5.24xlarge",
    "vcpuNum": 96
   },
   {
    "_defaultOrder": 29,
    "_isFastLaunch": true,
    "category": "Accelerated computing",
    "gpuNum": 1,
    "hideHardwareSpecs": false,
    "memoryGiB": 16,
    "name": "ml.g4dn.xlarge",
    "vcpuNum": 4
   },
   {
    "_defaultOrder": 30,
    "_isFastLaunch": false,
    "category": "Accelerated computing",
    "gpuNum": 1,
    "hideHardwareSpecs": false,
    "memoryGiB": 32,
    "name": "ml.g4dn.2xlarge",
    "vcpuNum": 8
   },
   {
    "_defaultOrder": 31,
    "_isFastLaunch": false,
    "category": "Accelerated computing",
    "gpuNum": 1,
    "hideHardwareSpecs": false,
    "memoryGiB": 64,
    "name": "ml.g4dn.4xlarge",
    "vcpuNum": 16
   },
   {
    "_defaultOrder": 32,
    "_isFastLaunch": false,
    "category": "Accelerated computing",
    "gpuNum": 1,
    "hideHardwareSpecs": false,
    "memoryGiB": 128,
    "name": "ml.g4dn.8xlarge",
    "vcpuNum": 32
   },
   {
    "_defaultOrder": 33,
    "_isFastLaunch": false,
    "category": "Accelerated computing",
    "gpuNum": 4,
    "hideHardwareSpecs": false,
    "memoryGiB": 192,
    "name": "ml.g4dn.12xlarge",
    "vcpuNum": 48
   },
   {
    "_defaultOrder": 34,
    "_isFastLaunch": false,
    "category": "Accelerated computing",
    "gpuNum": 1,
    "hideHardwareSpecs": false,
    "memoryGiB": 256,
    "name": "ml.g4dn.16xlarge",
    "vcpuNum": 64
   },
   {
    "_defaultOrder": 35,
    "_isFastLaunch": false,
    "category": "Accelerated computing",
    "gpuNum": 1,
    "hideHardwareSpecs": false,
    "memoryGiB": 61,
    "name": "ml.p3.2xlarge",
    "vcpuNum": 8
   },
   {
    "_defaultOrder": 36,
    "_isFastLaunch": false,
    "category": "Accelerated computing",
    "gpuNum": 4,
    "hideHardwareSpecs": false,
    "memoryGiB": 244,
    "name": "ml.p3.8xlarge",
    "vcpuNum": 32
   },
   {
    "_defaultOrder": 37,
    "_isFastLaunch": false,
    "category": "Accelerated computing",
    "gpuNum": 8,
    "hideHardwareSpecs": false,
    "memoryGiB": 488,
    "name": "ml.p3.16xlarge",
    "vcpuNum": 64
   },
   {
    "_defaultOrder": 38,
    "_isFastLaunch": false,
    "category": "Accelerated computing",
    "gpuNum": 8,
    "hideHardwareSpecs": false,
    "memoryGiB": 768,
    "name": "ml.p3dn.24xlarge",
    "vcpuNum": 96
   },
   {
    "_defaultOrder": 39,
    "_isFastLaunch": false,
    "category": "Memory Optimized",
    "gpuNum": 0,
    "hideHardwareSpecs": false,
    "memoryGiB": 16,
    "name": "ml.r5.large",
    "vcpuNum": 2
   },
   {
    "_defaultOrder": 40,
    "_isFastLaunch": false,
    "category": "Memory Optimized",
    "gpuNum": 0,
    "hideHardwareSpecs": false,
    "memoryGiB": 32,
    "name": "ml.r5.xlarge",
    "vcpuNum": 4
   },
   {
    "_defaultOrder": 41,
    "_isFastLaunch": false,
    "category": "Memory Optimized",
    "gpuNum": 0,
    "hideHardwareSpecs": false,
    "memoryGiB": 64,
    "name": "ml.r5.2xlarge",
    "vcpuNum": 8
   },
   {
    "_defaultOrder": 42,
    "_isFastLaunch": false,
    "category": "Memory Optimized",
    "gpuNum": 0,
    "hideHardwareSpecs": false,
    "memoryGiB": 128,
    "name": "ml.r5.4xlarge",
    "vcpuNum": 16
   },
   {
    "_defaultOrder": 43,
    "_isFastLaunch": false,
    "category": "Memory Optimized",
    "gpuNum": 0,
    "hideHardwareSpecs": false,
    "memoryGiB": 256,
    "name": "ml.r5.8xlarge",
    "vcpuNum": 32
   },
   {
    "_defaultOrder": 44,
    "_isFastLaunch": false,
    "category": "Memory Optimized",
    "gpuNum": 0,
    "hideHardwareSpecs": false,
    "memoryGiB": 384,
    "name": "ml.r5.12xlarge",
    "vcpuNum": 48
   },
   {
    "_defaultOrder": 45,
    "_isFastLaunch": false,
    "category": "Memory Optimized",
    "gpuNum": 0,
    "hideHardwareSpecs": false,
    "memoryGiB": 512,
    "name": "ml.r5.16xlarge",
    "vcpuNum": 64
   },
   {
    "_defaultOrder": 46,
    "_isFastLaunch": false,
    "category": "Memory Optimized",
    "gpuNum": 0,
    "hideHardwareSpecs": false,
    "memoryGiB": 768,
    "name": "ml.r5.24xlarge",
    "vcpuNum": 96
   },
   {
    "_defaultOrder": 47,
    "_isFastLaunch": false,
    "category": "Accelerated computing",
    "gpuNum": 1,
    "hideHardwareSpecs": false,
    "memoryGiB": 16,
    "name": "ml.g5.xlarge",
    "vcpuNum": 4
   },
   {
    "_defaultOrder": 48,
    "_isFastLaunch": false,
    "category": "Accelerated computing",
    "gpuNum": 1,
    "hideHardwareSpecs": false,
    "memoryGiB": 32,
    "name": "ml.g5.2xlarge",
    "vcpuNum": 8
   },
   {
    "_defaultOrder": 49,
    "_isFastLaunch": false,
    "category": "Accelerated computing",
    "gpuNum": 1,
    "hideHardwareSpecs": false,
    "memoryGiB": 64,
    "name": "ml.g5.4xlarge",
    "vcpuNum": 16
   },
   {
    "_defaultOrder": 50,
    "_isFastLaunch": false,
    "category": "Accelerated computing",
    "gpuNum": 1,
    "hideHardwareSpecs": false,
    "memoryGiB": 128,
    "name": "ml.g5.8xlarge",
    "vcpuNum": 32
   },
   {
    "_defaultOrder": 51,
    "_isFastLaunch": false,
    "category": "Accelerated computing",
    "gpuNum": 1,
    "hideHardwareSpecs": false,
    "memoryGiB": 256,
    "name": "ml.g5.16xlarge",
    "vcpuNum": 64
   },
   {
    "_defaultOrder": 52,
    "_isFastLaunch": false,
    "category": "Accelerated computing",
    "gpuNum": 4,
    "hideHardwareSpecs": false,
    "memoryGiB": 192,
    "name": "ml.g5.12xlarge",
    "vcpuNum": 48
   },
   {
    "_defaultOrder": 53,
    "_isFastLaunch": false,
    "category": "Accelerated computing",
    "gpuNum": 4,
    "hideHardwareSpecs": false,
    "memoryGiB": 384,
    "name": "ml.g5.24xlarge",
    "vcpuNum": 96
   },
   {
    "_defaultOrder": 54,
    "_isFastLaunch": false,
    "category": "Accelerated computing",
    "gpuNum": 8,
    "hideHardwareSpecs": false,
    "memoryGiB": 768,
    "name": "ml.g5.48xlarge",
    "vcpuNum": 192
   },
   {
    "_defaultOrder": 55,
    "_isFastLaunch": false,
    "category": "Accelerated computing",
    "gpuNum": 8,
    "hideHardwareSpecs": false,
    "memoryGiB": 1152,
    "name": "ml.p4d.24xlarge",
    "vcpuNum": 96
   },
   {
    "_defaultOrder": 56,
    "_isFastLaunch": false,
    "category": "Accelerated computing",
    "gpuNum": 8,
    "hideHardwareSpecs": false,
    "memoryGiB": 1152,
    "name": "ml.p4de.24xlarge",
    "vcpuNum": 96
   }
  ],
  "instance_type": "ml.t3.medium",
  "kernelspec": {
   "name": "python3",
   "language": "python",
   "display_name": "Python 3 (ipykernel)"
  },
  "language_info": {
   "codemirror_mode": {
    "name": "ipython",
    "version": 3
   },
   "file_extension": ".py",
   "mimetype": "text/x-python",
   "name": "python",
   "nbconvert_exporter": "python",
   "pygments_lexer": "ipython3",
   "version": "3.7.10"
  }
 },
 "nbformat": 4,
 "nbformat_minor": 5
}
