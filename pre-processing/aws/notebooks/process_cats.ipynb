{
 "cells": [
  {
   "cell_type": "markdown",
   "metadata": {
    "pycharm": {
     "name": "#%% md\n"
    }
   },
   "source": [
    "# Data Preprocessing for PetFinder6000"
   ]
  },
  {
   "cell_type": "code",
   "execution_count": 5,
   "metadata": {
    "tags": [],
    "pycharm": {
     "name": "#%%\n"
    }
   },
   "outputs": [
    {
     "name": "stdout",
     "output_type": "stream",
     "text": [
      "Requirement already satisfied: pip in /opt/conda/lib/python3.7/site-packages (23.1.2)\n",
      "\u001B[33mWARNING: Running pip as the 'root' user can result in broken permissions and conflicting behaviour with the system package manager. It is recommended to use a virtual environment instead: https://pip.pypa.io/warnings/venv\u001B[0m\u001B[33m\n",
      "\u001B[0mCollecting package metadata (current_repodata.json): done\n",
      "Solving environment: failed with initial frozen solve. Retrying with flexible solve.\n",
      "Solving environment: failed with repodata from current_repodata.json, will retry with next repodata source.\n",
      "Collecting package metadata (repodata.json): done\n",
      "Solving environment: done\n",
      "\n",
      "## Package Plan ##\n",
      "\n",
      "  environment location: /opt/conda\n",
      "\n",
      "  added / updated specs:\n",
      "    - tensorflow\n",
      "\n",
      "\n",
      "The following packages will be downloaded:\n",
      "\n",
      "    package                    |            build\n",
      "    ---------------------------|-----------------\n",
      "    _tflow_select-2.3.0        |            eigen           3 KB\n",
      "    absl-py-1.3.0              |   py37h06a4308_0         166 KB\n",
      "    aiohttp-3.8.1              |   py37h7f8727e_1         514 KB\n",
      "    aiosignal-1.2.0            |     pyhd3eb1b0_0          12 KB\n",
      "    astor-0.8.1                |   py37h06a4308_0          47 KB\n",
      "    astunparse-1.6.3           |             py_0          17 KB\n",
      "    async-timeout-4.0.2        |   py37h06a4308_0          11 KB\n",
      "    asynctest-0.13.0           |             py_0          26 KB\n",
      "    blinker-1.4                |   py37h06a4308_0          23 KB\n",
      "    c-ares-1.18.1              |       h7f8727e_0         114 KB\n",
      "    ca-certificates-2023.05.30 |       h06a4308_0         120 KB\n",
      "    cachetools-4.2.2           |     pyhd3eb1b0_0          13 KB\n",
      "    certifi-2022.12.7          |   py37h06a4308_0         150 KB\n",
      "    conda-22.9.0               |   py37h06a4308_0         878 KB\n",
      "    flit-core-3.6.0            |     pyhd3eb1b0_0          42 KB\n",
      "    frozenlist-1.2.0           |   py37h7f8727e_0          78 KB\n",
      "    gast-0.3.3                 |             py_0          14 KB\n",
      "    google-auth-1.28.0         |     pyhd3eb1b0_0          72 KB\n",
      "    google-auth-oauthlib-0.5.2 |   py37h06a4308_0          25 KB\n",
      "    google-pasta-0.2.0         |     pyhd3eb1b0_0          46 KB\n",
      "    grpcio-1.42.0              |   py37hce63b2e_0         2.1 MB\n",
      "    importlib-metadata-4.11.3  |   py37h06a4308_0          40 KB\n",
      "    keras-preprocessing-1.1.2  |     pyhd3eb1b0_0          35 KB\n",
      "    libprotobuf-3.19.1         |       h4ff587b_0         2.1 MB\n",
      "    markdown-3.4.1             |   py37h06a4308_0         132 KB\n",
      "    multidict-5.2.0            |   py37h7f8727e_2          62 KB\n",
      "    oauthlib-3.1.0             |             py_0          91 KB\n",
      "    opt_einsum-3.3.0           |     pyhd3eb1b0_1          57 KB\n",
      "    protobuf-3.19.1            |   py37h295c915_0         306 KB\n",
      "    pyasn1-0.4.8               |     pyhd3eb1b0_0          54 KB\n",
      "    pyasn1-modules-0.2.8       |             py_0          72 KB\n",
      "    pyjwt-2.0.1                |   py37h06a4308_0          30 KB\n",
      "    requests-oauthlib-1.3.0    |             py_0          23 KB\n",
      "    rsa-4.7.2                  |     pyhd3eb1b0_1          28 KB\n",
      "    tensorboard-2.4.0          |     pyhc547734_0         8.8 MB\n",
      "    tensorboard-plugin-wit-1.8.1|   py37h06a4308_0         674 KB\n",
      "    tensorflow-2.3.0           |eigen_py37h189e6a2_0           4 KB\n",
      "    tensorflow-base-2.3.0      |eigen_py37h3b305d7_0        74.8 MB\n",
      "    tensorflow-estimator-2.6.0 |     pyh7b7c402_0         267 KB\n",
      "    termcolor-2.1.0            |   py37h06a4308_0          11 KB\n",
      "    typing-extensions-4.4.0    |   py37h06a4308_0           8 KB\n",
      "    typing_extensions-4.4.0    |   py37h06a4308_0          45 KB\n",
      "    yarl-1.6.3                 |   py37h27cfd23_0         133 KB\n",
      "    ------------------------------------------------------------\n",
      "                                           Total:        92.0 MB\n",
      "\n",
      "The following NEW packages will be INSTALLED:\n",
      "\n",
      "  _tflow_select      pkgs/main/linux-64::_tflow_select-2.3.0-eigen None\n",
      "  absl-py            pkgs/main/linux-64::absl-py-1.3.0-py37h06a4308_0 None\n",
      "  aiohttp            pkgs/main/linux-64::aiohttp-3.8.1-py37h7f8727e_1 None\n",
      "  aiosignal          pkgs/main/noarch::aiosignal-1.2.0-pyhd3eb1b0_0 None\n",
      "  astor              pkgs/main/linux-64::astor-0.8.1-py37h06a4308_0 None\n",
      "  astunparse         pkgs/main/noarch::astunparse-1.6.3-py_0 None\n",
      "  async-timeout      pkgs/main/linux-64::async-timeout-4.0.2-py37h06a4308_0 None\n",
      "  asynctest          pkgs/main/noarch::asynctest-0.13.0-py_0 None\n",
      "  blinker            pkgs/main/linux-64::blinker-1.4-py37h06a4308_0 None\n",
      "  c-ares             pkgs/main/linux-64::c-ares-1.18.1-h7f8727e_0 None\n",
      "  cachetools         pkgs/main/noarch::cachetools-4.2.2-pyhd3eb1b0_0 None\n",
      "  flit-core          pkgs/main/noarch::flit-core-3.6.0-pyhd3eb1b0_0 None\n",
      "  frozenlist         pkgs/main/linux-64::frozenlist-1.2.0-py37h7f8727e_0 None\n",
      "  gast               pkgs/main/noarch::gast-0.3.3-py_0 None\n",
      "  google-auth        pkgs/main/noarch::google-auth-1.28.0-pyhd3eb1b0_0 None\n",
      "  google-auth-oauth~ pkgs/main/linux-64::google-auth-oauthlib-0.5.2-py37h06a4308_0 None\n",
      "  google-pasta       pkgs/main/noarch::google-pasta-0.2.0-pyhd3eb1b0_0 None\n",
      "  grpcio             pkgs/main/linux-64::grpcio-1.42.0-py37hce63b2e_0 None\n",
      "  importlib-metadata pkgs/main/linux-64::importlib-metadata-4.11.3-py37h06a4308_0 None\n",
      "  keras-preprocessi~ pkgs/main/noarch::keras-preprocessing-1.1.2-pyhd3eb1b0_0 None\n",
      "  libprotobuf        pkgs/main/linux-64::libprotobuf-3.19.1-h4ff587b_0 None\n",
      "  markdown           pkgs/main/linux-64::markdown-3.4.1-py37h06a4308_0 None\n",
      "  multidict          pkgs/main/linux-64::multidict-5.2.0-py37h7f8727e_2 None\n",
      "  oauthlib           pkgs/main/noarch::oauthlib-3.1.0-py_0 None\n",
      "  opt_einsum         pkgs/main/noarch::opt_einsum-3.3.0-pyhd3eb1b0_1 None\n",
      "  protobuf           pkgs/main/linux-64::protobuf-3.19.1-py37h295c915_0 None\n",
      "  pyasn1             pkgs/main/noarch::pyasn1-0.4.8-pyhd3eb1b0_0 None\n",
      "  pyasn1-modules     pkgs/main/noarch::pyasn1-modules-0.2.8-py_0 None\n",
      "  pyjwt              pkgs/main/linux-64::pyjwt-2.0.1-py37h06a4308_0 None\n",
      "  requests-oauthlib  pkgs/main/noarch::requests-oauthlib-1.3.0-py_0 None\n",
      "  rsa                pkgs/main/noarch::rsa-4.7.2-pyhd3eb1b0_1 None\n",
      "  tensorboard        pkgs/main/noarch::tensorboard-2.4.0-pyhc547734_0 None\n",
      "  tensorboard-plugi~ pkgs/main/linux-64::tensorboard-plugin-wit-1.8.1-py37h06a4308_0 None\n",
      "  tensorflow         pkgs/main/linux-64::tensorflow-2.3.0-eigen_py37h189e6a2_0 None\n",
      "  tensorflow-base    pkgs/main/linux-64::tensorflow-base-2.3.0-eigen_py37h3b305d7_0 None\n",
      "  tensorflow-estima~ pkgs/main/noarch::tensorflow-estimator-2.6.0-pyh7b7c402_0 None\n",
      "  termcolor          pkgs/main/linux-64::termcolor-2.1.0-py37h06a4308_0 None\n",
      "  typing-extensions  pkgs/main/linux-64::typing-extensions-4.4.0-py37h06a4308_0 None\n",
      "  typing_extensions  pkgs/main/linux-64::typing_extensions-4.4.0-py37h06a4308_0 None\n",
      "  yarl               pkgs/main/linux-64::yarl-1.6.3-py37h27cfd23_0 None\n",
      "\n",
      "The following packages will be UPDATED:\n",
      "\n",
      "  ca-certificates    conda-forge::ca-certificates-2022.12.~ --> pkgs/main::ca-certificates-2023.05.30-h06a4308_0 None\n",
      "\n",
      "The following packages will be SUPERSEDED by a higher-priority channel:\n",
      "\n",
      "  certifi            conda-forge/noarch::certifi-2022.12.7~ --> pkgs/main/linux-64::certifi-2022.12.7-py37h06a4308_0 None\n",
      "  conda              conda-forge::conda-22.9.0-py37h89c186~ --> pkgs/main::conda-22.9.0-py37h06a4308_0 None\n",
      "\n",
      "\n",
      "\n",
      "Downloading and Extracting Packages\n",
      "tensorflow-2.3.0     | 4 KB      | ##################################### | 100% \n",
      "grpcio-1.42.0        | 2.1 MB    | ##################################### | 100% \n",
      "pyasn1-0.4.8         | 54 KB     | ##################################### | 100% \n",
      "requests-oauthlib-1. | 23 KB     | ##################################### | 100% \n",
      "protobuf-3.19.1      | 306 KB    | ##################################### | 100% \n",
      "tensorboard-2.4.0    | 8.8 MB    | ##################################### | 100% \n",
      "rsa-4.7.2            | 28 KB     | ##################################### | 100% \n",
      "typing-extensions-4. | 8 KB      | ##################################### | 100% \n",
      "keras-preprocessing- | 35 KB     | ##################################### | 100% \n",
      "aiohttp-3.8.1        | 514 KB    | ##################################### | 100% \n",
      "gast-0.3.3           | 14 KB     | ##################################### | 100% \n",
      "tensorflow-estimator | 267 KB    | ##################################### | 100% \n",
      "pyasn1-modules-0.2.8 | 72 KB     | ##################################### | 100% \n",
      "yarl-1.6.3           | 133 KB    | ##################################### | 100% \n",
      "google-auth-oauthlib | 25 KB     | ##################################### | 100% \n",
      "google-pasta-0.2.0   | 46 KB     | ##################################### | 100% \n",
      "c-ares-1.18.1        | 114 KB    | ##################################### | 100% \n",
      "absl-py-1.3.0        | 166 KB    | ##################################### | 100% \n",
      "ca-certificates-2023 | 120 KB    | ##################################### | 100% \n",
      "tensorflow-base-2.3. | 74.8 MB   | ##################################### | 100% \n",
      "multidict-5.2.0      | 62 KB     | ##################################### | 100% \n",
      "opt_einsum-3.3.0     | 57 KB     | ##################################### | 100% \n",
      "importlib-metadata-4 | 40 KB     | ##################################### | 100% \n",
      "aiosignal-1.2.0      | 12 KB     | ##################################### | 100% \n",
      "certifi-2022.12.7    | 150 KB    | ##################################### | 100% \n",
      "pyjwt-2.0.1          | 30 KB     | ##################################### | 100% \n",
      "tensorboard-plugin-w | 674 KB    | ##################################### | 100% \n",
      "conda-22.9.0         | 878 KB    | ##################################### | 100% \n",
      "google-auth-1.28.0   | 72 KB     | ##################################### | 100% \n",
      "libprotobuf-3.19.1   | 2.1 MB    | ##################################### | 100% \n",
      "_tflow_select-2.3.0  | 3 KB      | ##################################### | 100% \n",
      "frozenlist-1.2.0     | 78 KB     | ##################################### | 100% \n",
      "astunparse-1.6.3     | 17 KB     | ##################################### | 100% \n",
      "markdown-3.4.1       | 132 KB    | ##################################### | 100% \n",
      "async-timeout-4.0.2  | 11 KB     | ##################################### | 100% \n",
      "blinker-1.4          | 23 KB     | ##################################### | 100% \n",
      "cachetools-4.2.2     | 13 KB     | ##################################### | 100% \n",
      "termcolor-2.1.0      | 11 KB     | ##################################### | 100% \n",
      "astor-0.8.1          | 47 KB     | ##################################### | 100% \n",
      "oauthlib-3.1.0       | 91 KB     | ##################################### | 100% \n",
      "typing_extensions-4. | 45 KB     | ##################################### | 100% \n",
      "flit-core-3.6.0      | 42 KB     | ##################################### | 100% \n",
      "asynctest-0.13.0     | 26 KB     | ##################################### | 100% \n",
      "Preparing transaction: done\n",
      "Verifying transaction: done\n",
      "Executing transaction: done\n",
      "Retrieving notices: ...working... done\n",
      "\n",
      "Note: you may need to restart the kernel to use updated packages.\n"
     ]
    }
   ],
   "source": [
    "!pip install --upgrade pip\n",
    "\n",
    "#!pip install tensorflow\n",
    "%conda install tensorflow"
   ]
  },
  {
   "cell_type": "code",
   "execution_count": 1,
   "metadata": {
    "tags": [],
    "pycharm": {
     "name": "#%%\n"
    }
   },
   "outputs": [],
   "source": [
    "import pandas as pd\n",
    "import numpy as np\n",
    "import tensorflow as tf\n",
    "import re\n",
    "import os\n",
    "import glob\n",
    "import shutil\n",
    "\n",
    "import boto3\n",
    "import sagemaker"
   ]
  },
  {
   "cell_type": "markdown",
   "metadata": {
    "pycharm": {
     "name": "#%% md\n"
    }
   },
   "source": [
    "## Cats"
   ]
  },
  {
   "cell_type": "markdown",
   "metadata": {
    "pycharm": {
     "name": "#%% md\n"
    }
   },
   "source": [
    "## Load Data from S3"
   ]
  },
  {
   "cell_type": "code",
   "execution_count": 2,
   "outputs": [
    {
     "name": "stdout",
     "output_type": "stream",
     "text": [
      "env: AWS_PROFILE=aeroxye-sagemaker\n"
     ]
    }
   ],
   "source": [
    "%env AWS_PROFILE=aeroxye-sagemaker"
   ],
   "metadata": {
    "collapsed": false,
    "pycharm": {
     "name": "#%%\n"
    }
   }
  },
  {
   "cell_type": "code",
   "execution_count": 3,
   "outputs": [
    {
     "name": "stdout",
     "output_type": "stream",
     "text": [
      "{\n",
      "    \"UserId\": \"AROAWC4YSIQL5OBFCNGEX:botocore-session-1686895886\",\n",
      "    \"Account\": \"418542404631\",\n",
      "    \"Arn\": \"arn:aws:sts::418542404631:assumed-role/SageMaker-UserRole/botocore-session-1686895886\"\n",
      "}\n"
     ]
    }
   ],
   "source": [
    "!aws sts get-caller-identity"
   ],
   "metadata": {
    "collapsed": false,
    "pycharm": {
     "name": "#%%\n"
    }
   }
  },
  {
   "cell_type": "code",
   "execution_count": 4,
   "outputs": [
    {
     "name": "stderr",
     "output_type": "stream",
     "text": [
      "Couldn't call 'get_role' to get Role ARN from role name SageMaker-UserRole to get Role path.\n"
     ]
    }
   ],
   "source": [
    "try:\n",
    "    role = sagemaker.get_execution_role()\n",
    "except ValueError:\n",
    "    iam = boto3.client('iam')\n",
    "    role = iam.get_role(RoleName='SageMaker-UserRole')['Role']['Arn']"
   ],
   "metadata": {
    "collapsed": false,
    "pycharm": {
     "name": "#%%\n"
    }
   }
  },
  {
   "cell_type": "code",
   "execution_count": 5,
   "metadata": {
    "tags": [],
    "pycharm": {
     "name": "#%%\n"
    }
   },
   "outputs": [
    {
     "name": "stdout",
     "output_type": "stream",
     "text": [
      "run-1686726820579-part-r-00000\n",
      "run-1686726820579-part-r-00001\n",
      "run-1686726820579-part-r-00002\n",
      "run-1686726820579-part-r-00003\n"
     ]
    }
   ],
   "source": [
    "region = boto3.Session().region_name\n",
    "\n",
    "data_bucket = \"dynamodbpetfinder\"\n",
    "object_prefix = \"cat_\"\n",
    "local_path = \"../data/cat/\"\n",
    "\n",
    "if not os.path.exists(local_path):\n",
    "    os.makedirs(local_path)\n",
    "else:\n",
    "    shutil.rmtree(local_path)\n",
    "    os.makedirs(local_path)\n",
    "\n",
    "pattern = r'[0-9]+'\n",
    "s3 = boto3.client(\"s3\")\n",
    "\n",
    "result = s3.list_objects(Bucket=data_bucket, Prefix=object_prefix, Delimiter=\"/\")\n",
    "subfolders = [re.search(pattern, o.get(\"Prefix\")).group() for o in result.get(\"CommonPrefixes\")]\n",
    "subfolders.sort(reverse=True)\n",
    "\n",
    "object_path = object_prefix + subfolders[0] + \"/\"\n",
    "files = s3.list_objects(Bucket=data_bucket, Prefix=object_path, Delimiter=\"/\")\n",
    "\n",
    "pattern = rf'{object_path}(.+)'\n",
    "for content in files.get(\"Contents\"):\n",
    "    file_path = content.get(\"Key\")\n",
    "    filename = re.findall(pattern, file_path)[0]\n",
    "    print(filename)\n",
    "\n",
    "    with open(local_path+filename, 'wb') as file:\n",
    "        s3.download_fileobj(\n",
    "            Bucket=data_bucket,\n",
    "            Key=file_path,\n",
    "            Fileobj=file\n",
    "        )"
   ]
  },
  {
   "cell_type": "code",
   "execution_count": 6,
   "metadata": {
    "tags": [],
    "pycharm": {
     "name": "#%%\n"
    }
   },
   "outputs": [
    {
     "name": "stdout",
     "output_type": "stream",
     "text": [
      "['../data/cat\\\\run-1686726820579-part-r-00000', '../data/cat\\\\run-1686726820579-part-r-00001', '../data/cat\\\\run-1686726820579-part-r-00002', '../data/cat\\\\run-1686726820579-part-r-00003']\n"
     ]
    }
   ],
   "source": [
    "file_list = glob.glob(local_path + \"*\")\n",
    "\n",
    "print(file_list)\n",
    "\n",
    "dfs = [] # an empty list to store the data frames\n",
    "for file in file_list:\n",
    "    data = pd.read_csv(file) # read data frame from csv file\n",
    "    dfs.append(data) # append the data frame to the list\n",
    "    \n",
    "cats = pd.concat(dfs, ignore_index=True)"
   ]
  },
  {
   "cell_type": "code",
   "execution_count": 51,
   "metadata": {
    "collapsed": false,
    "jupyter": {
     "outputs_hidden": false
    },
    "tags": [],
    "pycharm": {
     "name": "#%%\n"
    }
   },
   "outputs": [],
   "source": [
    "# cats = pd.read_csv('../data/cats_5-23-2023.csv', header=0)"
   ]
  },
  {
   "cell_type": "code",
   "execution_count": 52,
   "metadata": {
    "tags": [],
    "pycharm": {
     "name": "#%%\n"
    }
   },
   "outputs": [
    {
     "data": {
      "text/html": [
       "<div>\n",
       "<style scoped>\n",
       "    .dataframe tbody tr th:only-of-type {\n",
       "        vertical-align: middle;\n",
       "    }\n",
       "\n",
       "    .dataframe tbody tr th {\n",
       "        vertical-align: top;\n",
       "    }\n",
       "\n",
       "    .dataframe thead th {\n",
       "        text-align: right;\n",
       "    }\n",
       "</style>\n",
       "<table border=\"1\" class=\"dataframe\">\n",
       "  <thead>\n",
       "    <tr style=\"text-align: right;\">\n",
       "      <th></th>\n",
       "      <th>id</th>\n",
       "      <th>cws_id</th>\n",
       "      <th>C_othercats</th>\n",
       "      <th>C_kids</th>\n",
       "      <th>C_primarycolor</th>\n",
       "      <th>name</th>\n",
       "      <th>C_employment</th>\n",
       "      <th>sweet</th>\n",
       "      <th>C_homeownership</th>\n",
       "      <th>active</th>\n",
       "      <th>...</th>\n",
       "      <th>quiet</th>\n",
       "      <th>C_otherdogs</th>\n",
       "      <th>C_attention</th>\n",
       "      <th>loving</th>\n",
       "      <th>updatedAt</th>\n",
       "      <th>C_adoptionfee</th>\n",
       "      <th>C_sweetspicy</th>\n",
       "      <th>description</th>\n",
       "      <th>spicy</th>\n",
       "      <th>C_energy</th>\n",
       "    </tr>\n",
       "  </thead>\n",
       "  <tbody>\n",
       "    <tr>\n",
       "      <th>0</th>\n",
       "      <td>54b908dd-a325-459a-bdcb-5b1901d8324e</td>\n",
       "      <td>1681491254-120</td>\n",
       "      <td>-1</td>\n",
       "      <td>0</td>\n",
       "      <td>White</td>\n",
       "      <td>BoyBoy the oriental mix tabby cat</td>\n",
       "      <td>no preference</td>\n",
       "      <td>True</td>\n",
       "      <td>owned</td>\n",
       "      <td>False</td>\n",
       "      <td>...</td>\n",
       "      <td>True</td>\n",
       "      <td>0</td>\n",
       "      <td>independent</td>\n",
       "      <td>True</td>\n",
       "      <td>2023-05-15T02:51:11.735Z</td>\n",
       "      <td>yes</td>\n",
       "      <td>sweet</td>\n",
       "      <td>quiet, loving, sweet, shy</td>\n",
       "      <td>False</td>\n",
       "      <td>chill</td>\n",
       "    </tr>\n",
       "    <tr>\n",
       "      <th>1</th>\n",
       "      <td>1a929522-33b0-42f2-8a80-a6f097a0e1fe</td>\n",
       "      <td>1681491547-251</td>\n",
       "      <td>1</td>\n",
       "      <td>0</td>\n",
       "      <td>Tabby</td>\n",
       "      <td>Mike and Bella</td>\n",
       "      <td>working full time</td>\n",
       "      <td>True</td>\n",
       "      <td>no preference</td>\n",
       "      <td>True</td>\n",
       "      <td>...</td>\n",
       "      <td>False</td>\n",
       "      <td>0</td>\n",
       "      <td>NaN</td>\n",
       "      <td>True</td>\n",
       "      <td>2023-05-15T02:51:14.961Z</td>\n",
       "      <td>no preference</td>\n",
       "      <td>sweet</td>\n",
       "      <td>playful, active, loving, sweet</td>\n",
       "      <td>False</td>\n",
       "      <td>high energy</td>\n",
       "    </tr>\n",
       "    <tr>\n",
       "      <th>2</th>\n",
       "      <td>b3538eec-3e8b-4c48-9adf-08c5c5fbbfce</td>\n",
       "      <td>1681491592-271</td>\n",
       "      <td>0</td>\n",
       "      <td>0</td>\n",
       "      <td>White</td>\n",
       "      <td>Maya for adoption</td>\n",
       "      <td>student</td>\n",
       "      <td>False</td>\n",
       "      <td>parents</td>\n",
       "      <td>False</td>\n",
       "      <td>...</td>\n",
       "      <td>False</td>\n",
       "      <td>0</td>\n",
       "      <td>NaN</td>\n",
       "      <td>False</td>\n",
       "      <td>2023-05-15T02:51:19.367Z</td>\n",
       "      <td>yes</td>\n",
       "      <td>NaN</td>\n",
       "      <td>NaN</td>\n",
       "      <td>False</td>\n",
       "      <td>chill</td>\n",
       "    </tr>\n",
       "    <tr>\n",
       "      <th>3</th>\n",
       "      <td>b79b5e65-621b-4906-aea4-fffef2259fec</td>\n",
       "      <td>1681491440-203</td>\n",
       "      <td>1</td>\n",
       "      <td>0</td>\n",
       "      <td>Calico/Tortie</td>\n",
       "      <td>Sally – 8 mths old tortoiseshell</td>\n",
       "      <td>working full time</td>\n",
       "      <td>False</td>\n",
       "      <td>owned</td>\n",
       "      <td>False</td>\n",
       "      <td>...</td>\n",
       "      <td>True</td>\n",
       "      <td>0</td>\n",
       "      <td>independent</td>\n",
       "      <td>True</td>\n",
       "      <td>2023-05-15T02:51:36.655Z</td>\n",
       "      <td>no preference</td>\n",
       "      <td>sweet</td>\n",
       "      <td>quiet, loving, friendly</td>\n",
       "      <td>False</td>\n",
       "      <td>chill</td>\n",
       "    </tr>\n",
       "    <tr>\n",
       "      <th>4</th>\n",
       "      <td>6117e9df-fa0f-43dd-b6cb-b62a8748bfd8</td>\n",
       "      <td>1681491915-414</td>\n",
       "      <td>0</td>\n",
       "      <td>0</td>\n",
       "      <td>Tabby</td>\n",
       "      <td>Matcha</td>\n",
       "      <td>working full time</td>\n",
       "      <td>True</td>\n",
       "      <td>owned</td>\n",
       "      <td>False</td>\n",
       "      <td>...</td>\n",
       "      <td>False</td>\n",
       "      <td>0</td>\n",
       "      <td>NaN</td>\n",
       "      <td>True</td>\n",
       "      <td>2023-05-15T02:51:50.223Z</td>\n",
       "      <td>yes</td>\n",
       "      <td>sweet</td>\n",
       "      <td>loving, sweet</td>\n",
       "      <td>False</td>\n",
       "      <td>chill</td>\n",
       "    </tr>\n",
       "  </tbody>\n",
       "</table>\n",
       "<p>5 rows × 40 columns</p>\n",
       "</div>"
      ],
      "text/plain": [
       "                                     id          cws_id  C_othercats  C_kids  \\\n",
       "0  54b908dd-a325-459a-bdcb-5b1901d8324e  1681491254-120           -1       0   \n",
       "1  1a929522-33b0-42f2-8a80-a6f097a0e1fe  1681491547-251            1       0   \n",
       "2  b3538eec-3e8b-4c48-9adf-08c5c5fbbfce  1681491592-271            0       0   \n",
       "3  b79b5e65-621b-4906-aea4-fffef2259fec  1681491440-203            1       0   \n",
       "4  6117e9df-fa0f-43dd-b6cb-b62a8748bfd8  1681491915-414            0       0   \n",
       "\n",
       "  C_primarycolor                               name       C_employment  sweet  \\\n",
       "0          White  BoyBoy the oriental mix tabby cat      no preference   True   \n",
       "1          Tabby                     Mike and Bella  working full time   True   \n",
       "2          White                  Maya for adoption            student  False   \n",
       "3  Calico/Tortie   Sally – 8 mths old tortoiseshell  working full time  False   \n",
       "4          Tabby                             Matcha  working full time   True   \n",
       "\n",
       "  C_homeownership  active  ...  quiet  C_otherdogs  C_attention loving  \\\n",
       "0           owned   False  ...   True            0  independent   True   \n",
       "1   no preference    True  ...  False            0          NaN   True   \n",
       "2         parents   False  ...  False            0          NaN  False   \n",
       "3           owned   False  ...   True            0  independent   True   \n",
       "4           owned   False  ...  False            0          NaN   True   \n",
       "\n",
       "                  updatedAt  C_adoptionfee  C_sweetspicy  \\\n",
       "0  2023-05-15T02:51:11.735Z            yes         sweet   \n",
       "1  2023-05-15T02:51:14.961Z  no preference         sweet   \n",
       "2  2023-05-15T02:51:19.367Z            yes           NaN   \n",
       "3  2023-05-15T02:51:36.655Z  no preference         sweet   \n",
       "4  2023-05-15T02:51:50.223Z            yes         sweet   \n",
       "\n",
       "                      description  spicy     C_energy  \n",
       "0       quiet, loving, sweet, shy  False        chill  \n",
       "1  playful, active, loving, sweet  False  high energy  \n",
       "2                             NaN  False        chill  \n",
       "3         quiet, loving, friendly  False        chill  \n",
       "4                   loving, sweet  False        chill  \n",
       "\n",
       "[5 rows x 40 columns]"
      ]
     },
     "execution_count": 52,
     "metadata": {},
     "output_type": "execute_result"
    }
   ],
   "source": [
    "cats.head()"
   ]
  },
  {
   "cell_type": "markdown",
   "metadata": {
    "pycharm": {
     "name": "#%% md\n"
    }
   },
   "source": [
    "## Process Data"
   ]
  },
  {
   "cell_type": "code",
   "execution_count": 7,
   "metadata": {
    "collapsed": false,
    "jupyter": {
     "outputs_hidden": false
    },
    "tags": [],
    "pycharm": {
     "name": "#%%\n"
    }
   },
   "outputs": [],
   "source": [
    "# rename headers\n",
    "cl_cats = cats.rename(columns={'C_gender': 'gender',\n",
    "                              'C_primarycolor': 'primary_color',\n",
    "                              'C_agegroup': 'age_group',\n",
    "                              'C_energy': 'energy_level',\n",
    "                              'C_attention': 'attention_need',\n",
    "                              'C_sweetspicy': 'personality',\n",
    "                              'C_firstcat': 'good_first_cat',\n",
    "                              'C_othercats': 'good_with_other_cats',\n",
    "                              'C_otherdogs': 'good_with_other_dogs',\n",
    "                              'C_kids': 'good_with_kids',\n",
    "                              'C_employment': 'preferred_employment',\n",
    "                              'C_homeownership': 'preferred_home_ownership',\n",
    "                              'C_allergies': 'good_with_allergies',\n",
    "                              'C_adoptionfee': 'require_fee',\n",
    "                              'createdAt': 'created_at',\n",
    "                              'updatedAt': 'updated_at',\n",
    "                              })"
   ]
  },
  {
   "cell_type": "code",
   "execution_count": 8,
   "metadata": {
    "collapsed": false,
    "jupyter": {
     "outputs_hidden": false
    },
    "tags": [],
    "pycharm": {
     "name": "#%%\n"
    }
   },
   "outputs": [],
   "source": [
    "# fill attention and personality columns as neutral\n",
    "cl_cats['attention_need'] = cl_cats['attention_need'].fillna('neutral')\n",
    "cl_cats['personality'] = cl_cats['personality'].fillna('neutral')\n",
    "\n",
    "# fill empty description with no description available\n",
    "cl_cats['description'] = cl_cats['description'].fillna('no description available')"
   ]
  },
  {
   "cell_type": "code",
   "execution_count": 9,
   "metadata": {
    "collapsed": false,
    "jupyter": {
     "outputs_hidden": false
    },
    "tags": [],
    "pycharm": {
     "name": "#%%\n"
    }
   },
   "outputs": [],
   "source": [
    "# map integers in categorical columns\n",
    "def map_categorical(val):\n",
    "    if val == 1:\n",
    "        return 'yes'\n",
    "    elif val == -1:\n",
    "        return 'no'\n",
    "    else:\n",
    "        return 'neutral'\n",
    "\n",
    "cl_cats['good_first_cat'] = cl_cats['good_first_cat'].map(lambda val: map_categorical(val))\n",
    "cl_cats['good_with_other_cats'] = cl_cats['good_with_other_cats'].map(lambda val: map_categorical(val))\n",
    "cl_cats['good_with_other_dogs'] = cl_cats['good_with_other_dogs'].map(lambda val: map_categorical(val))\n",
    "cl_cats['good_with_kids'] = cl_cats['good_with_kids'].map(lambda val: map_categorical(val))"
   ]
  },
  {
   "cell_type": "code",
   "execution_count": 10,
   "metadata": {
    "collapsed": false,
    "jupyter": {
     "outputs_hidden": false
    },
    "tags": [],
    "pycharm": {
     "name": "#%%\n"
    }
   },
   "outputs": [],
   "source": [
    "# convert string fields to lower case (gender, breed, primary_color, age_group, energy_level, attention_need, personality, preferred_employment, preferred_home_ownership, require_fee)\n",
    "cl_cats['gender'] = cl_cats['gender'].map(lambda val: val.lower())\n",
    "cl_cats['breed'] = cl_cats['breed'].map(lambda val: val.lower())\n",
    "cl_cats['primary_color'] = cl_cats['primary_color'].map(lambda val: val.lower())\n",
    "cl_cats['age_group'] = cl_cats['age_group'].map(lambda val: val.lower())\n",
    "cl_cats['energy_level'] = cl_cats['energy_level'].map(lambda val: val.lower())\n",
    "cl_cats['attention_need'] = cl_cats['attention_need'].map(lambda val: val.lower())\n",
    "cl_cats['personality'] = cl_cats['personality'].map(lambda val: val.lower())\n",
    "cl_cats['preferred_employment'] = cl_cats['preferred_employment'].map(lambda val: val.lower())\n",
    "cl_cats['preferred_home_ownership'] = cl_cats['preferred_home_ownership'].map(lambda val: val.lower())\n",
    "cl_cats['require_fee'] = cl_cats['require_fee'].map(lambda val: val.lower())\n",
    "\n",
    "cl_cats['description'] = cl_cats['description'].map(lambda val: val.encode(\"ascii\", \"ignore\").decode().replace('\\n', ' ').replace('\\r', '').lower())\n",
    "cl_cats['details'] = cl_cats['details'].map(lambda val: val.encode(\"ascii\", \"ignore\").decode().replace('\\n', ' ').replace('\\r', '').lower())"
   ]
  },
  {
   "cell_type": "code",
   "execution_count": 11,
   "metadata": {
    "collapsed": false,
    "jupyter": {
     "outputs_hidden": false
    },
    "tags": [],
    "pycharm": {
     "name": "#%%\n"
    }
   },
   "outputs": [],
   "source": [
    "# convert types\n",
    "# cl_cats = cl_cats.astype({'gender': 'category',\n",
    "#                           'breed': 'category',\n",
    "#                           'primary_color': 'category',\n",
    "#                           'age_group': 'category',\n",
    "#                           'energy_level': 'category',\n",
    "#                           'attention_need': 'category',\n",
    "#                           'personality': 'category',\n",
    "#                           'good_first_cat': 'category',\n",
    "#                           'good_with_other_cats': 'category',\n",
    "#                           'good_with_other_dogs': 'category',\n",
    "#                           'good_with_kids': 'category',\n",
    "#                           'preferred_employment': 'category',\n",
    "#                           'preferred_home_ownership': 'category',\n",
    "#                           'good_with_allergies': 'category',\n",
    "#                           'require_fee': 'category',\n",
    "#                           })\n",
    "\n",
    "cl_cats['created_at'] = pd.to_datetime(cl_cats['created_at']).dt.strftime('%Y-%m-%dT%H:%M:%SZ')\n",
    "cl_cats['updated_at'] = pd.to_datetime(cl_cats['updated_at']).dt.strftime('%Y-%m-%dT%H:%M:%SZ')\n",
    "\n",
    "cl_cats = cl_cats.astype({'playful': 'int',\n",
    "                          'active': 'int',\n",
    "                          'curious': 'int',\n",
    "                          'talkative': 'int',\n",
    "                          'quiet': 'int',\n",
    "                          'loving': 'int',\n",
    "                          'sweet': 'int',\n",
    "                          'likes_held': 'int',\n",
    "                          'friendly': 'int',\n",
    "                          'shy': 'int',\n",
    "                          'spicy': 'int',\n",
    "                          'loves_attention': 'int'\n",
    "                          })"
   ]
  },
  {
   "cell_type": "code",
   "execution_count": 12,
   "metadata": {
    "tags": [],
    "pycharm": {
     "name": "#%%\n"
    }
   },
   "outputs": [],
   "source": [
    "# drop glue columns\n",
    "cl_cats = cl_cats.drop(['__typename', '_lastChangedAt', '_version'], axis=1)"
   ]
  },
  {
   "cell_type": "code",
   "execution_count": 13,
   "metadata": {
    "collapsed": false,
    "jupyter": {
     "outputs_hidden": false
    },
    "tags": [],
    "pycharm": {
     "name": "#%%\n"
    }
   },
   "outputs": [
    {
     "name": "stdout",
     "output_type": "stream",
     "text": [
      "<class 'pandas.core.frame.DataFrame'>\n",
      "RangeIndex: 404 entries, 0 to 403\n",
      "Data columns (total 37 columns):\n",
      " #   Column                    Non-Null Count  Dtype \n",
      "---  ------                    --------------  ----- \n",
      " 0   id                        404 non-null    object\n",
      " 1   cws_id                    404 non-null    object\n",
      " 2   good_with_other_cats      404 non-null    object\n",
      " 3   good_with_kids            404 non-null    object\n",
      " 4   primary_color             404 non-null    object\n",
      " 5   name                      404 non-null    object\n",
      " 6   preferred_employment      404 non-null    object\n",
      " 7   sweet                     404 non-null    int32 \n",
      " 8   preferred_home_ownership  404 non-null    object\n",
      " 9   active                    404 non-null    int32 \n",
      " 10  loves_attention           404 non-null    int32 \n",
      " 11  likes_held                404 non-null    int32 \n",
      " 12  gender                    404 non-null    object\n",
      " 13  good_first_cat            404 non-null    object\n",
      " 14  talkative                 404 non-null    int32 \n",
      " 15  fosterer                  404 non-null    int64 \n",
      " 16  details                   404 non-null    object\n",
      " 17  image_url                 404 non-null    object\n",
      " 18  breed                     404 non-null    object\n",
      " 19  playful                   404 non-null    int32 \n",
      " 20  friendly                  404 non-null    int32 \n",
      " 21  shy                       404 non-null    int32 \n",
      " 22  created_at                404 non-null    object\n",
      " 23  good_with_allergies       404 non-null    object\n",
      " 24  curious                   404 non-null    int32 \n",
      " 25  age_months                404 non-null    int64 \n",
      " 26  age_group                 404 non-null    object\n",
      " 27  quiet                     404 non-null    int32 \n",
      " 28  good_with_other_dogs      404 non-null    object\n",
      " 29  attention_need            404 non-null    object\n",
      " 30  loving                    404 non-null    int32 \n",
      " 31  updated_at                404 non-null    object\n",
      " 32  require_fee               404 non-null    object\n",
      " 33  personality               404 non-null    object\n",
      " 34  description               404 non-null    object\n",
      " 35  spicy                     404 non-null    int32 \n",
      " 36  energy_level              404 non-null    object\n",
      "dtypes: int32(12), int64(2), object(23)\n",
      "memory usage: 98.0+ KB\n"
     ]
    }
   ],
   "source": [
    "cl_cats.info()"
   ]
  },
  {
   "cell_type": "code",
   "execution_count": 14,
   "metadata": {
    "tags": [],
    "pycharm": {
     "name": "#%%\n"
    }
   },
   "outputs": [],
   "source": [
    "cl_cats = cl_cats.set_index('id')"
   ]
  },
  {
   "cell_type": "code",
   "execution_count": 15,
   "metadata": {
    "collapsed": false,
    "jupyter": {
     "outputs_hidden": false
    },
    "tags": [],
    "pycharm": {
     "name": "#%%\n"
    }
   },
   "outputs": [
    {
     "data": {
      "text/plain": "                                              cws_id good_with_other_cats  \\\nid                                                                          \n4f5637ed-1bb9-4e51-979f-94213f0fbd63  1681491605-277                  yes   \n6b33d102-9497-43c7-a7a3-a28d6a9d1880    1681491000-6                   no   \neec13c36-d5a2-4802-a508-517c2753663b  1681491462-213              neutral   \n8843e8e2-27c5-4bdf-966f-5e2cfc18a351  1681491248-117              neutral   \nd1f210b0-fd38-43fa-9f6b-880a8e2bf4de   1681491181-87                   no   \n\n                                     good_with_kids  primary_color  \\\nid                                                                   \n4f5637ed-1bb9-4e51-979f-94213f0fbd63        neutral         ginger   \n6b33d102-9497-43c7-a7a3-a28d6a9d1880        neutral  calico/tortie   \neec13c36-d5a2-4802-a508-517c2753663b        neutral          tabby   \n8843e8e2-27c5-4bdf-966f-5e2cfc18a351        neutral         ginger   \nd1f210b0-fd38-43fa-9f6b-880a8e2bf4de        neutral         ginger   \n\n                                                                                   name  \\\nid                                                                                        \n4f5637ed-1bb9-4e51-979f-94213f0fbd63  Ginger siblings looking for their purr-ever home!   \n6b33d102-9497-43c7-a7a3-a28d6a9d1880                                Nana the Calicococo   \neec13c36-d5a2-4802-a508-517c2753663b                   Adorable and Affectionate Junior   \n8843e8e2-27c5-4bdf-966f-5e2cfc18a351                                  Luna- The Lap Cat   \nd1f210b0-fd38-43fa-9f6b-880a8e2bf4de                                              Jimmy   \n\n                                     preferred_employment  sweet  \\\nid                                                                 \n4f5637ed-1bb9-4e51-979f-94213f0fbd63              student      1   \n6b33d102-9497-43c7-a7a3-a28d6a9d1880        no preference      1   \neec13c36-d5a2-4802-a508-517c2753663b    working part time      1   \n8843e8e2-27c5-4bdf-966f-5e2cfc18a351        no preference      1   \nd1f210b0-fd38-43fa-9f6b-880a8e2bf4de          not working      1   \n\n                                            preferred_home_ownership  active  \\\nid                                                                             \n4f5637ed-1bb9-4e51-979f-94213f0fbd63                         parents       0   \n6b33d102-9497-43c7-a7a3-a28d6a9d1880                           owned       0   \neec13c36-d5a2-4802-a508-517c2753663b  rental with landlord’s consent       0   \n8843e8e2-27c5-4bdf-966f-5e2cfc18a351                           owned       0   \nd1f210b0-fd38-43fa-9f6b-880a8e2bf4de                           owned       1   \n\n                                      loves_attention  ...  quiet  \\\nid                                                     ...          \n4f5637ed-1bb9-4e51-979f-94213f0fbd63                0  ...      0   \n6b33d102-9497-43c7-a7a3-a28d6a9d1880                0  ...      0   \neec13c36-d5a2-4802-a508-517c2753663b                0  ...      0   \n8843e8e2-27c5-4bdf-966f-5e2cfc18a351                0  ...      0   \nd1f210b0-fd38-43fa-9f6b-880a8e2bf4de                0  ...      0   \n\n                                     good_with_other_dogs attention_need  \\\nid                                                                         \n4f5637ed-1bb9-4e51-979f-94213f0fbd63              neutral        neutral   \n6b33d102-9497-43c7-a7a3-a28d6a9d1880              neutral        neutral   \neec13c36-d5a2-4802-a508-517c2753663b              neutral        neutral   \n8843e8e2-27c5-4bdf-966f-5e2cfc18a351              neutral        neutral   \nd1f210b0-fd38-43fa-9f6b-880a8e2bf4de                   no        neutral   \n\n                                      loving            updated_at  \\\nid                                                                   \n4f5637ed-1bb9-4e51-979f-94213f0fbd63       1  2023-05-15T02:51:17Z   \n6b33d102-9497-43c7-a7a3-a28d6a9d1880       0  2023-05-15T02:51:07Z   \neec13c36-d5a2-4802-a508-517c2753663b       1  2023-05-15T02:51:37Z   \n8843e8e2-27c5-4bdf-966f-5e2cfc18a351       1  2023-05-15T02:51:28Z   \nd1f210b0-fd38-43fa-9f6b-880a8e2bf4de       1  2023-05-15T02:51:11Z   \n\n                                     require_fee personality  \\\nid                                                             \n4f5637ed-1bb9-4e51-979f-94213f0fbd63         yes       sweet   \n6b33d102-9497-43c7-a7a3-a28d6a9d1880         yes       sweet   \neec13c36-d5a2-4802-a508-517c2753663b         yes       sweet   \n8843e8e2-27c5-4bdf-966f-5e2cfc18a351         yes       sweet   \nd1f210b0-fd38-43fa-9f6b-880a8e2bf4de         yes       sweet   \n\n                                                          description  spicy  \\\nid                                                                             \n4f5637ed-1bb9-4e51-979f-94213f0fbd63  playful, curious, loving, sweet      0   \n6b33d102-9497-43c7-a7a3-a28d6a9d1880                            sweet      0   \neec13c36-d5a2-4802-a508-517c2753663b           curious, loving, sweet      0   \n8843e8e2-27c5-4bdf-966f-5e2cfc18a351          loving, sweet, friendly      0   \nd1f210b0-fd38-43fa-9f6b-880a8e2bf4de   playful, active, loving, sweet      0   \n\n                                      energy_level  \nid                                                  \n4f5637ed-1bb9-4e51-979f-94213f0fbd63   high energy  \n6b33d102-9497-43c7-a7a3-a28d6a9d1880         chill  \neec13c36-d5a2-4802-a508-517c2753663b         chill  \n8843e8e2-27c5-4bdf-966f-5e2cfc18a351         chill  \nd1f210b0-fd38-43fa-9f6b-880a8e2bf4de   high energy  \n\n[5 rows x 36 columns]",
      "text/html": "<div>\n<style scoped>\n    .dataframe tbody tr th:only-of-type {\n        vertical-align: middle;\n    }\n\n    .dataframe tbody tr th {\n        vertical-align: top;\n    }\n\n    .dataframe thead th {\n        text-align: right;\n    }\n</style>\n<table border=\"1\" class=\"dataframe\">\n  <thead>\n    <tr style=\"text-align: right;\">\n      <th></th>\n      <th>cws_id</th>\n      <th>good_with_other_cats</th>\n      <th>good_with_kids</th>\n      <th>primary_color</th>\n      <th>name</th>\n      <th>preferred_employment</th>\n      <th>sweet</th>\n      <th>preferred_home_ownership</th>\n      <th>active</th>\n      <th>loves_attention</th>\n      <th>...</th>\n      <th>quiet</th>\n      <th>good_with_other_dogs</th>\n      <th>attention_need</th>\n      <th>loving</th>\n      <th>updated_at</th>\n      <th>require_fee</th>\n      <th>personality</th>\n      <th>description</th>\n      <th>spicy</th>\n      <th>energy_level</th>\n    </tr>\n    <tr>\n      <th>id</th>\n      <th></th>\n      <th></th>\n      <th></th>\n      <th></th>\n      <th></th>\n      <th></th>\n      <th></th>\n      <th></th>\n      <th></th>\n      <th></th>\n      <th></th>\n      <th></th>\n      <th></th>\n      <th></th>\n      <th></th>\n      <th></th>\n      <th></th>\n      <th></th>\n      <th></th>\n      <th></th>\n      <th></th>\n    </tr>\n  </thead>\n  <tbody>\n    <tr>\n      <th>4f5637ed-1bb9-4e51-979f-94213f0fbd63</th>\n      <td>1681491605-277</td>\n      <td>yes</td>\n      <td>neutral</td>\n      <td>ginger</td>\n      <td>Ginger siblings looking for their purr-ever home!</td>\n      <td>student</td>\n      <td>1</td>\n      <td>parents</td>\n      <td>0</td>\n      <td>0</td>\n      <td>...</td>\n      <td>0</td>\n      <td>neutral</td>\n      <td>neutral</td>\n      <td>1</td>\n      <td>2023-05-15T02:51:17Z</td>\n      <td>yes</td>\n      <td>sweet</td>\n      <td>playful, curious, loving, sweet</td>\n      <td>0</td>\n      <td>high energy</td>\n    </tr>\n    <tr>\n      <th>6b33d102-9497-43c7-a7a3-a28d6a9d1880</th>\n      <td>1681491000-6</td>\n      <td>no</td>\n      <td>neutral</td>\n      <td>calico/tortie</td>\n      <td>Nana the Calicococo</td>\n      <td>no preference</td>\n      <td>1</td>\n      <td>owned</td>\n      <td>0</td>\n      <td>0</td>\n      <td>...</td>\n      <td>0</td>\n      <td>neutral</td>\n      <td>neutral</td>\n      <td>0</td>\n      <td>2023-05-15T02:51:07Z</td>\n      <td>yes</td>\n      <td>sweet</td>\n      <td>sweet</td>\n      <td>0</td>\n      <td>chill</td>\n    </tr>\n    <tr>\n      <th>eec13c36-d5a2-4802-a508-517c2753663b</th>\n      <td>1681491462-213</td>\n      <td>neutral</td>\n      <td>neutral</td>\n      <td>tabby</td>\n      <td>Adorable and Affectionate Junior</td>\n      <td>working part time</td>\n      <td>1</td>\n      <td>rental with landlord’s consent</td>\n      <td>0</td>\n      <td>0</td>\n      <td>...</td>\n      <td>0</td>\n      <td>neutral</td>\n      <td>neutral</td>\n      <td>1</td>\n      <td>2023-05-15T02:51:37Z</td>\n      <td>yes</td>\n      <td>sweet</td>\n      <td>curious, loving, sweet</td>\n      <td>0</td>\n      <td>chill</td>\n    </tr>\n    <tr>\n      <th>8843e8e2-27c5-4bdf-966f-5e2cfc18a351</th>\n      <td>1681491248-117</td>\n      <td>neutral</td>\n      <td>neutral</td>\n      <td>ginger</td>\n      <td>Luna- The Lap Cat</td>\n      <td>no preference</td>\n      <td>1</td>\n      <td>owned</td>\n      <td>0</td>\n      <td>0</td>\n      <td>...</td>\n      <td>0</td>\n      <td>neutral</td>\n      <td>neutral</td>\n      <td>1</td>\n      <td>2023-05-15T02:51:28Z</td>\n      <td>yes</td>\n      <td>sweet</td>\n      <td>loving, sweet, friendly</td>\n      <td>0</td>\n      <td>chill</td>\n    </tr>\n    <tr>\n      <th>d1f210b0-fd38-43fa-9f6b-880a8e2bf4de</th>\n      <td>1681491181-87</td>\n      <td>no</td>\n      <td>neutral</td>\n      <td>ginger</td>\n      <td>Jimmy</td>\n      <td>not working</td>\n      <td>1</td>\n      <td>owned</td>\n      <td>1</td>\n      <td>0</td>\n      <td>...</td>\n      <td>0</td>\n      <td>no</td>\n      <td>neutral</td>\n      <td>1</td>\n      <td>2023-05-15T02:51:11Z</td>\n      <td>yes</td>\n      <td>sweet</td>\n      <td>playful, active, loving, sweet</td>\n      <td>0</td>\n      <td>high energy</td>\n    </tr>\n  </tbody>\n</table>\n<p>5 rows × 36 columns</p>\n</div>"
     },
     "execution_count": 15,
     "metadata": {},
     "output_type": "execute_result"
    }
   ],
   "source": [
    "cl_cats.head()"
   ]
  },
  {
   "cell_type": "markdown",
   "metadata": {
    "jupyter": {
     "outputs_hidden": false
    },
    "pycharm": {
     "name": "#%% md\n"
    }
   },
   "source": [
    "## Export Processed Data as csv to Local Folder"
   ]
  },
  {
   "cell_type": "code",
   "execution_count": 16,
   "metadata": {
    "tags": [],
    "pycharm": {
     "name": "#%%\n"
    }
   },
   "outputs": [],
   "source": [
    "processed_folder = \"../data/processed/auxiliary/\"\n",
    "\n",
    "if not os.path.exists(processed_folder):\n",
    "    os.makedirs(processed_folder)\n",
    "\n",
    "cl_cats.to_csv(f'{processed_folder}cats.csv')"
   ]
  },
  {
   "cell_type": "markdown",
   "metadata": {
    "pycharm": {
     "name": "#%% md\n"
    }
   },
   "source": [
    "## Cat Profile Images"
   ]
  },
  {
   "cell_type": "code",
   "execution_count": null,
   "metadata": {
    "tags": [],
    "pycharm": {
     "name": "#%%\n",
     "is_executing": true
    }
   },
   "outputs": [],
   "source": [
    "%pip install -U opencv-python-headless"
   ]
  },
  {
   "cell_type": "code",
   "execution_count": 17,
   "metadata": {
    "collapsed": false,
    "jupyter": {
     "outputs_hidden": false
    },
    "tags": [],
    "pycharm": {
     "name": "#%%\n"
    }
   },
   "outputs": [],
   "source": [
    "import cv2"
   ]
  },
  {
   "cell_type": "code",
   "execution_count": 18,
   "metadata": {
    "collapsed": false,
    "jupyter": {
     "outputs_hidden": false
    },
    "tags": [],
    "pycharm": {
     "name": "#%%\n"
    }
   },
   "outputs": [],
   "source": [
    "new_size = 128"
   ]
  },
  {
   "cell_type": "code",
   "execution_count": 19,
   "metadata": {
    "tags": [],
    "pycharm": {
     "name": "#%%\n"
    }
   },
   "outputs": [],
   "source": [
    "data_bucket = \"petfinder6000images\"\n",
    "local_path = \"../data/cat_images/\"\n",
    "\n",
    "if not os.path.exists(local_path):\n",
    "    os.makedirs(local_path)\n",
    "else:\n",
    "    shutil.rmtree(local_path)\n",
    "    os.makedirs(local_path)\n",
    "    \n",
    "s3 = boto3.client(\"s3\")"
   ]
  },
  {
   "cell_type": "code",
   "execution_count": 20,
   "metadata": {
    "tags": [],
    "pycharm": {
     "name": "#%%\n"
    }
   },
   "outputs": [],
   "source": [
    "def vectorise(cws_id):\n",
    "    filename = f'cropped_{cws_id}.jpg'\n",
    "    s3.download_file(\n",
    "        Bucket=data_bucket,\n",
    "        Key=filename,\n",
    "        Filename=local_path+filename\n",
    "    )\n",
    "    \n",
    "    img = cv2.imread(local_path+filename)\n",
    "    try:\n",
    "        resize = cv2.resize(img, (new_size, new_size))\n",
    "        resize = cv2.cvtColor(resize,cv2.COLOR_BGR2RGB)\n",
    "        resize = np.array(resize.tolist())/255.0\n",
    "        return resize\n",
    "        # img_flat = resize.reshape(-1)\n",
    "        # return str(np.array2string(img_flat, precision=2, separator=',', suppress_small=True)).encode('utf-8')\n",
    "    except:\n",
    "        print(file)"
   ]
  },
  {
   "cell_type": "code",
   "execution_count": 22,
   "metadata": {
    "collapsed": false,
    "jupyter": {
     "outputs_hidden": false
    },
    "tags": [],
    "pycharm": {
     "name": "#%%\n"
    }
   },
   "outputs": [],
   "source": [
    "cat_images = cl_cats.reset_index()\n",
    "cat_images = cat_images.loc[:, ['id', 'cws_id', 'updated_at']]\n",
    "cat_images['img_shape'] = str([new_size, new_size, 3])\n",
    "cat_images['img_vector'] = cat_images['cws_id'].map(lambda cws_id: vectorise(cws_id))"
   ]
  },
  {
   "cell_type": "code",
   "execution_count": 23,
   "metadata": {
    "tags": [],
    "pycharm": {
     "name": "#%%\n"
    }
   },
   "outputs": [],
   "source": [
    "img_vectors = cat_images['img_vector'].values"
   ]
  },
  {
   "cell_type": "code",
   "execution_count": 24,
   "metadata": {
    "tags": [],
    "pycharm": {
     "name": "#%%\n"
    }
   },
   "outputs": [],
   "source": [
    "# Using a pretrained model to generate features\n",
    "\n",
    "#### Importing pretrained MobileNetV2\n",
    "mnetv2_base = tf.keras.applications.mobilenet_v2.MobileNetV2(input_shape=(new_size,new_size,3), include_top=False, weights='imagenet')\n",
    "\n",
    "# Freezing layers\n",
    "for layer in mnetv2_base.layers:\n",
    "    layer.trainable = False\n",
    "\n",
    "    \n",
    "# defining a function to extract features\n",
    "def img_feature_extraction(img_vectors, pre_model):\n",
    "\n",
    "    batch_img = []\n",
    "    \n",
    "    # preprocessing and then using pretrained model to extract features\n",
    "    for image in img_vectors:\n",
    "        im_toarray = tf.keras.preprocessing.image.img_to_array(image)\n",
    "        \n",
    "        im_toarray = np.expand_dims(image, axis=0)\n",
    "        im_toarray = tf.keras.applications.mobilenet.preprocess_input(im_toarray)\n",
    "        \n",
    "        batch_img.append(im_toarray)\n",
    "        \n",
    "    batch_img = np.vstack(batch_img)\n",
    "    features = pre_model.predict(batch_img, batch_size=64)\n",
    "    features= features.reshape((len(img_vectors), -1))\n",
    "    return features"
   ]
  },
  {
   "cell_type": "code",
   "execution_count": 25,
   "metadata": {
    "tags": [],
    "pycharm": {
     "name": "#%%\n"
    }
   },
   "outputs": [
    {
     "name": "stdout",
     "output_type": "stream",
     "text": [
      "7/7 [==============================] - 2s 169ms/step\n"
     ]
    },
    {
     "data": {
      "text/plain": "(404, 20480)"
     },
     "execution_count": 25,
     "metadata": {},
     "output_type": "execute_result"
    }
   ],
   "source": [
    "# Extract features\n",
    "features = img_feature_extraction(img_vectors, mnetv2_base)\n",
    "\n",
    "features.shape"
   ]
  },
  {
   "cell_type": "code",
   "execution_count": 28,
   "metadata": {
    "tags": [],
    "pycharm": {
     "name": "#%%\n"
    }
   },
   "outputs": [],
   "source": [
    "# add the feature vectors to dataframe\n",
    "feature_vectors = pd.Series(features.tolist(), index = cat_images.index)\n",
    "cat_images = cat_images.merge(feature_vectors.rename('feature_vectors'), left_index=True, right_index=True)"
   ]
  },
  {
   "cell_type": "code",
   "execution_count": 29,
   "metadata": {
    "tags": [],
    "pycharm": {
     "name": "#%%\n"
    }
   },
   "outputs": [],
   "source": [
    "# stringify vectors\n",
    "cat_images['feature_vectors']=cat_images['feature_vectors'].astype(pd.StringDtype())\n",
    "\n",
    "cat_images['img_vector']=cat_images['img_vector'].apply(lambda x: x.reshape(-1).tolist())\n",
    "cat_images['img_vector']=cat_images['img_vector'].astype(pd.StringDtype())"
   ]
  },
  {
   "cell_type": "code",
   "execution_count": 30,
   "metadata": {
    "tags": [],
    "pycharm": {
     "name": "#%%\n"
    }
   },
   "outputs": [
    {
     "data": {
      "text/plain": "                                     id          cws_id            updated_at  \\\n0  4f5637ed-1bb9-4e51-979f-94213f0fbd63  1681491605-277  2023-05-15T02:51:17Z   \n1  6b33d102-9497-43c7-a7a3-a28d6a9d1880    1681491000-6  2023-05-15T02:51:07Z   \n2  eec13c36-d5a2-4802-a508-517c2753663b  1681491462-213  2023-05-15T02:51:37Z   \n3  8843e8e2-27c5-4bdf-966f-5e2cfc18a351  1681491248-117  2023-05-15T02:51:28Z   \n4  d1f210b0-fd38-43fa-9f6b-880a8e2bf4de   1681491181-87  2023-05-15T02:51:11Z   \n\n       img_shape                                         img_vector  \\\n0  [128, 128, 3]  [-0.9944329104190696, -0.9947097270280661, -0....   \n1  [128, 128, 3]  [-0.99520184544406, -0.9951710880430603, -0.99...   \n2  [128, 128, 3]  [-0.9948327566320646, -0.9943713956170703, -0....   \n3  [128, 128, 3]  [-0.9923106497500961, -0.9921876201460976, -0....   \n4  [128, 128, 3]  [-0.9969550173010381, -0.9965244136870435, -0....   \n\n                                     feature_vectors  \n0  [0.0, 2.044503927230835, 0.0, 0.0, 0.0, 0.0, 0...  \n1  [0.0, 2.0194919109344482, 0.0, 0.0, 0.0, 0.0, ...  \n2  [0.0, 2.085791826248169, 0.0, 0.0, 0.0, 0.0, 0...  \n3  [0.0, 2.0698859691619873, 0.0, 0.0, 0.0, 0.0, ...  \n4  [0.0, 2.1150710582733154, 0.0, 0.0, 0.0, 0.0, ...  ",
      "text/html": "<div>\n<style scoped>\n    .dataframe tbody tr th:only-of-type {\n        vertical-align: middle;\n    }\n\n    .dataframe tbody tr th {\n        vertical-align: top;\n    }\n\n    .dataframe thead th {\n        text-align: right;\n    }\n</style>\n<table border=\"1\" class=\"dataframe\">\n  <thead>\n    <tr style=\"text-align: right;\">\n      <th></th>\n      <th>id</th>\n      <th>cws_id</th>\n      <th>updated_at</th>\n      <th>img_shape</th>\n      <th>img_vector</th>\n      <th>feature_vectors</th>\n    </tr>\n  </thead>\n  <tbody>\n    <tr>\n      <th>0</th>\n      <td>4f5637ed-1bb9-4e51-979f-94213f0fbd63</td>\n      <td>1681491605-277</td>\n      <td>2023-05-15T02:51:17Z</td>\n      <td>[128, 128, 3]</td>\n      <td>[-0.9944329104190696, -0.9947097270280661, -0....</td>\n      <td>[0.0, 2.044503927230835, 0.0, 0.0, 0.0, 0.0, 0...</td>\n    </tr>\n    <tr>\n      <th>1</th>\n      <td>6b33d102-9497-43c7-a7a3-a28d6a9d1880</td>\n      <td>1681491000-6</td>\n      <td>2023-05-15T02:51:07Z</td>\n      <td>[128, 128, 3]</td>\n      <td>[-0.99520184544406, -0.9951710880430603, -0.99...</td>\n      <td>[0.0, 2.0194919109344482, 0.0, 0.0, 0.0, 0.0, ...</td>\n    </tr>\n    <tr>\n      <th>2</th>\n      <td>eec13c36-d5a2-4802-a508-517c2753663b</td>\n      <td>1681491462-213</td>\n      <td>2023-05-15T02:51:37Z</td>\n      <td>[128, 128, 3]</td>\n      <td>[-0.9948327566320646, -0.9943713956170703, -0....</td>\n      <td>[0.0, 2.085791826248169, 0.0, 0.0, 0.0, 0.0, 0...</td>\n    </tr>\n    <tr>\n      <th>3</th>\n      <td>8843e8e2-27c5-4bdf-966f-5e2cfc18a351</td>\n      <td>1681491248-117</td>\n      <td>2023-05-15T02:51:28Z</td>\n      <td>[128, 128, 3]</td>\n      <td>[-0.9923106497500961, -0.9921876201460976, -0....</td>\n      <td>[0.0, 2.0698859691619873, 0.0, 0.0, 0.0, 0.0, ...</td>\n    </tr>\n    <tr>\n      <th>4</th>\n      <td>d1f210b0-fd38-43fa-9f6b-880a8e2bf4de</td>\n      <td>1681491181-87</td>\n      <td>2023-05-15T02:51:11Z</td>\n      <td>[128, 128, 3]</td>\n      <td>[-0.9969550173010381, -0.9965244136870435, -0....</td>\n      <td>[0.0, 2.1150710582733154, 0.0, 0.0, 0.0, 0.0, ...</td>\n    </tr>\n  </tbody>\n</table>\n</div>"
     },
     "execution_count": 30,
     "metadata": {},
     "output_type": "execute_result"
    }
   ],
   "source": [
    "cat_images.head()"
   ]
  },
  {
   "cell_type": "code",
   "execution_count": 31,
   "outputs": [
    {
     "data": {
      "text/plain": "id                 object\ncws_id             object\nupdated_at         object\nimg_shape          object\nimg_vector         string\nfeature_vectors    string\ndtype: object"
     },
     "execution_count": 31,
     "metadata": {},
     "output_type": "execute_result"
    }
   ],
   "source": [
    "cat_images.dtypes"
   ],
   "metadata": {
    "collapsed": false,
    "pycharm": {
     "name": "#%%\n"
    }
   }
  },
  {
   "cell_type": "code",
   "execution_count": 32,
   "metadata": {
    "tags": [],
    "pycharm": {
     "name": "#%%\n"
    }
   },
   "outputs": [],
   "source": [
    "def cast_object_to_string(data_frame):\n",
    "    \"\"\"\n",
    "    Cast all columns of data_frame of type object to type string and return it.\n",
    "    Parameters:\n",
    "        data_frame: A pandas Dataframe\n",
    "    Returns:\n",
    "        Data frame\n",
    "    \"\"\"\n",
    "    for label in data_frame.columns:\n",
    "        if data_frame.dtypes[label] == object:\n",
    "            data_frame[label] = data_frame[label].astype(\"str\").astype(\"string\")\n",
    "    return data_frame\n",
    "\n",
    "cat_images = cast_object_to_string(cat_images)"
   ]
  },
  {
   "cell_type": "code",
   "execution_count": 78,
   "metadata": {
    "tags": [],
    "pycharm": {
     "name": "#%%\n"
    }
   },
   "outputs": [],
   "source": [
    "# cat_images = cat_images.reset_index()"
   ]
  },
  {
   "cell_type": "code",
   "execution_count": 33,
   "metadata": {
    "tags": [],
    "pycharm": {
     "name": "#%%\n"
    }
   },
   "outputs": [
    {
     "data": {
      "text/plain": "id                 string\ncws_id             string\nupdated_at         string\nimg_shape          string\nimg_vector         string\nfeature_vectors    string\ndtype: object"
     },
     "execution_count": 33,
     "metadata": {},
     "output_type": "execute_result"
    }
   ],
   "source": [
    "cat_images.dtypes"
   ]
  },
  {
   "cell_type": "code",
   "execution_count": 34,
   "metadata": {
    "collapsed": false,
    "jupyter": {
     "outputs_hidden": false
    },
    "tags": [],
    "pycharm": {
     "name": "#%%\n"
    }
   },
   "outputs": [
    {
     "data": {
      "text/plain": "                                     id          cws_id            updated_at  \\\n0  4f5637ed-1bb9-4e51-979f-94213f0fbd63  1681491605-277  2023-05-15T02:51:17Z   \n1  6b33d102-9497-43c7-a7a3-a28d6a9d1880    1681491000-6  2023-05-15T02:51:07Z   \n2  eec13c36-d5a2-4802-a508-517c2753663b  1681491462-213  2023-05-15T02:51:37Z   \n3  8843e8e2-27c5-4bdf-966f-5e2cfc18a351  1681491248-117  2023-05-15T02:51:28Z   \n4  d1f210b0-fd38-43fa-9f6b-880a8e2bf4de   1681491181-87  2023-05-15T02:51:11Z   \n\n       img_shape                                         img_vector  \\\n0  [128, 128, 3]  [-0.9944329104190696, -0.9947097270280661, -0....   \n1  [128, 128, 3]  [-0.99520184544406, -0.9951710880430603, -0.99...   \n2  [128, 128, 3]  [-0.9948327566320646, -0.9943713956170703, -0....   \n3  [128, 128, 3]  [-0.9923106497500961, -0.9921876201460976, -0....   \n4  [128, 128, 3]  [-0.9969550173010381, -0.9965244136870435, -0....   \n\n                                     feature_vectors  \n0  [0.0, 2.044503927230835, 0.0, 0.0, 0.0, 0.0, 0...  \n1  [0.0, 2.0194919109344482, 0.0, 0.0, 0.0, 0.0, ...  \n2  [0.0, 2.085791826248169, 0.0, 0.0, 0.0, 0.0, 0...  \n3  [0.0, 2.0698859691619873, 0.0, 0.0, 0.0, 0.0, ...  \n4  [0.0, 2.1150710582733154, 0.0, 0.0, 0.0, 0.0, ...  ",
      "text/html": "<div>\n<style scoped>\n    .dataframe tbody tr th:only-of-type {\n        vertical-align: middle;\n    }\n\n    .dataframe tbody tr th {\n        vertical-align: top;\n    }\n\n    .dataframe thead th {\n        text-align: right;\n    }\n</style>\n<table border=\"1\" class=\"dataframe\">\n  <thead>\n    <tr style=\"text-align: right;\">\n      <th></th>\n      <th>id</th>\n      <th>cws_id</th>\n      <th>updated_at</th>\n      <th>img_shape</th>\n      <th>img_vector</th>\n      <th>feature_vectors</th>\n    </tr>\n  </thead>\n  <tbody>\n    <tr>\n      <th>0</th>\n      <td>4f5637ed-1bb9-4e51-979f-94213f0fbd63</td>\n      <td>1681491605-277</td>\n      <td>2023-05-15T02:51:17Z</td>\n      <td>[128, 128, 3]</td>\n      <td>[-0.9944329104190696, -0.9947097270280661, -0....</td>\n      <td>[0.0, 2.044503927230835, 0.0, 0.0, 0.0, 0.0, 0...</td>\n    </tr>\n    <tr>\n      <th>1</th>\n      <td>6b33d102-9497-43c7-a7a3-a28d6a9d1880</td>\n      <td>1681491000-6</td>\n      <td>2023-05-15T02:51:07Z</td>\n      <td>[128, 128, 3]</td>\n      <td>[-0.99520184544406, -0.9951710880430603, -0.99...</td>\n      <td>[0.0, 2.0194919109344482, 0.0, 0.0, 0.0, 0.0, ...</td>\n    </tr>\n    <tr>\n      <th>2</th>\n      <td>eec13c36-d5a2-4802-a508-517c2753663b</td>\n      <td>1681491462-213</td>\n      <td>2023-05-15T02:51:37Z</td>\n      <td>[128, 128, 3]</td>\n      <td>[-0.9948327566320646, -0.9943713956170703, -0....</td>\n      <td>[0.0, 2.085791826248169, 0.0, 0.0, 0.0, 0.0, 0...</td>\n    </tr>\n    <tr>\n      <th>3</th>\n      <td>8843e8e2-27c5-4bdf-966f-5e2cfc18a351</td>\n      <td>1681491248-117</td>\n      <td>2023-05-15T02:51:28Z</td>\n      <td>[128, 128, 3]</td>\n      <td>[-0.9923106497500961, -0.9921876201460976, -0....</td>\n      <td>[0.0, 2.0698859691619873, 0.0, 0.0, 0.0, 0.0, ...</td>\n    </tr>\n    <tr>\n      <th>4</th>\n      <td>d1f210b0-fd38-43fa-9f6b-880a8e2bf4de</td>\n      <td>1681491181-87</td>\n      <td>2023-05-15T02:51:11Z</td>\n      <td>[128, 128, 3]</td>\n      <td>[-0.9969550173010381, -0.9965244136870435, -0....</td>\n      <td>[0.0, 2.1150710582733154, 0.0, 0.0, 0.0, 0.0, ...</td>\n    </tr>\n  </tbody>\n</table>\n</div>"
     },
     "execution_count": 34,
     "metadata": {},
     "output_type": "execute_result"
    }
   ],
   "source": [
    "cat_images.head()"
   ]
  },
  {
   "cell_type": "code",
   "execution_count": 35,
   "metadata": {
    "collapsed": false,
    "jupyter": {
     "outputs_hidden": false
    },
    "tags": [],
    "pycharm": {
     "name": "#%%\n"
    }
   },
   "outputs": [],
   "source": [
    "processed_folder = \"../data/processed/auxiliary/\"\n",
    "\n",
    "if not os.path.exists(processed_folder):\n",
    "    os.makedirs(processed_folder)\n",
    "\n",
    "cat_images.to_pickle(f'{processed_folder}cat-images.pkl')"
   ]
  },
  {
   "cell_type": "code",
   "execution_count": null,
   "metadata": {
    "pycharm": {
     "name": "#%%\n"
    }
   },
   "outputs": [],
   "source": []
  }
 ],
 "metadata": {
  "availableInstances": [
   {
    "_defaultOrder": 0,
    "_isFastLaunch": true,
    "category": "General purpose",
    "gpuNum": 0,
    "hideHardwareSpecs": false,
    "memoryGiB": 4,
    "name": "ml.t3.medium",
    "vcpuNum": 2
   },
   {
    "_defaultOrder": 1,
    "_isFastLaunch": false,
    "category": "General purpose",
    "gpuNum": 0,
    "hideHardwareSpecs": false,
    "memoryGiB": 8,
    "name": "ml.t3.large",
    "vcpuNum": 2
   },
   {
    "_defaultOrder": 2,
    "_isFastLaunch": false,
    "category": "General purpose",
    "gpuNum": 0,
    "hideHardwareSpecs": false,
    "memoryGiB": 16,
    "name": "ml.t3.xlarge",
    "vcpuNum": 4
   },
   {
    "_defaultOrder": 3,
    "_isFastLaunch": false,
    "category": "General purpose",
    "gpuNum": 0,
    "hideHardwareSpecs": false,
    "memoryGiB": 32,
    "name": "ml.t3.2xlarge",
    "vcpuNum": 8
   },
   {
    "_defaultOrder": 4,
    "_isFastLaunch": true,
    "category": "General purpose",
    "gpuNum": 0,
    "hideHardwareSpecs": false,
    "memoryGiB": 8,
    "name": "ml.m5.large",
    "vcpuNum": 2
   },
   {
    "_defaultOrder": 5,
    "_isFastLaunch": false,
    "category": "General purpose",
    "gpuNum": 0,
    "hideHardwareSpecs": false,
    "memoryGiB": 16,
    "name": "ml.m5.xlarge",
    "vcpuNum": 4
   },
   {
    "_defaultOrder": 6,
    "_isFastLaunch": false,
    "category": "General purpose",
    "gpuNum": 0,
    "hideHardwareSpecs": false,
    "memoryGiB": 32,
    "name": "ml.m5.2xlarge",
    "vcpuNum": 8
   },
   {
    "_defaultOrder": 7,
    "_isFastLaunch": false,
    "category": "General purpose",
    "gpuNum": 0,
    "hideHardwareSpecs": false,
    "memoryGiB": 64,
    "name": "ml.m5.4xlarge",
    "vcpuNum": 16
   },
   {
    "_defaultOrder": 8,
    "_isFastLaunch": false,
    "category": "General purpose",
    "gpuNum": 0,
    "hideHardwareSpecs": false,
    "memoryGiB": 128,
    "name": "ml.m5.8xlarge",
    "vcpuNum": 32
   },
   {
    "_defaultOrder": 9,
    "_isFastLaunch": false,
    "category": "General purpose",
    "gpuNum": 0,
    "hideHardwareSpecs": false,
    "memoryGiB": 192,
    "name": "ml.m5.12xlarge",
    "vcpuNum": 48
   },
   {
    "_defaultOrder": 10,
    "_isFastLaunch": false,
    "category": "General purpose",
    "gpuNum": 0,
    "hideHardwareSpecs": false,
    "memoryGiB": 256,
    "name": "ml.m5.16xlarge",
    "vcpuNum": 64
   },
   {
    "_defaultOrder": 11,
    "_isFastLaunch": false,
    "category": "General purpose",
    "gpuNum": 0,
    "hideHardwareSpecs": false,
    "memoryGiB": 384,
    "name": "ml.m5.24xlarge",
    "vcpuNum": 96
   },
   {
    "_defaultOrder": 12,
    "_isFastLaunch": false,
    "category": "General purpose",
    "gpuNum": 0,
    "hideHardwareSpecs": false,
    "memoryGiB": 8,
    "name": "ml.m5d.large",
    "vcpuNum": 2
   },
   {
    "_defaultOrder": 13,
    "_isFastLaunch": false,
    "category": "General purpose",
    "gpuNum": 0,
    "hideHardwareSpecs": false,
    "memoryGiB": 16,
    "name": "ml.m5d.xlarge",
    "vcpuNum": 4
   },
   {
    "_defaultOrder": 14,
    "_isFastLaunch": false,
    "category": "General purpose",
    "gpuNum": 0,
    "hideHardwareSpecs": false,
    "memoryGiB": 32,
    "name": "ml.m5d.2xlarge",
    "vcpuNum": 8
   },
   {
    "_defaultOrder": 15,
    "_isFastLaunch": false,
    "category": "General purpose",
    "gpuNum": 0,
    "hideHardwareSpecs": false,
    "memoryGiB": 64,
    "name": "ml.m5d.4xlarge",
    "vcpuNum": 16
   },
   {
    "_defaultOrder": 16,
    "_isFastLaunch": false,
    "category": "General purpose",
    "gpuNum": 0,
    "hideHardwareSpecs": false,
    "memoryGiB": 128,
    "name": "ml.m5d.8xlarge",
    "vcpuNum": 32
   },
   {
    "_defaultOrder": 17,
    "_isFastLaunch": false,
    "category": "General purpose",
    "gpuNum": 0,
    "hideHardwareSpecs": false,
    "memoryGiB": 192,
    "name": "ml.m5d.12xlarge",
    "vcpuNum": 48
   },
   {
    "_defaultOrder": 18,
    "_isFastLaunch": false,
    "category": "General purpose",
    "gpuNum": 0,
    "hideHardwareSpecs": false,
    "memoryGiB": 256,
    "name": "ml.m5d.16xlarge",
    "vcpuNum": 64
   },
   {
    "_defaultOrder": 19,
    "_isFastLaunch": false,
    "category": "General purpose",
    "gpuNum": 0,
    "hideHardwareSpecs": false,
    "memoryGiB": 384,
    "name": "ml.m5d.24xlarge",
    "vcpuNum": 96
   },
   {
    "_defaultOrder": 20,
    "_isFastLaunch": false,
    "category": "General purpose",
    "gpuNum": 0,
    "hideHardwareSpecs": true,
    "memoryGiB": 0,
    "name": "ml.geospatial.interactive",
    "supportedImageNames": [
     "sagemaker-geospatial-v1-0"
    ],
    "vcpuNum": 0
   },
   {
    "_defaultOrder": 21,
    "_isFastLaunch": true,
    "category": "Compute optimized",
    "gpuNum": 0,
    "hideHardwareSpecs": false,
    "memoryGiB": 4,
    "name": "ml.c5.large",
    "vcpuNum": 2
   },
   {
    "_defaultOrder": 22,
    "_isFastLaunch": false,
    "category": "Compute optimized",
    "gpuNum": 0,
    "hideHardwareSpecs": false,
    "memoryGiB": 8,
    "name": "ml.c5.xlarge",
    "vcpuNum": 4
   },
   {
    "_defaultOrder": 23,
    "_isFastLaunch": false,
    "category": "Compute optimized",
    "gpuNum": 0,
    "hideHardwareSpecs": false,
    "memoryGiB": 16,
    "name": "ml.c5.2xlarge",
    "vcpuNum": 8
   },
   {
    "_defaultOrder": 24,
    "_isFastLaunch": false,
    "category": "Compute optimized",
    "gpuNum": 0,
    "hideHardwareSpecs": false,
    "memoryGiB": 32,
    "name": "ml.c5.4xlarge",
    "vcpuNum": 16
   },
   {
    "_defaultOrder": 25,
    "_isFastLaunch": false,
    "category": "Compute optimized",
    "gpuNum": 0,
    "hideHardwareSpecs": false,
    "memoryGiB": 72,
    "name": "ml.c5.9xlarge",
    "vcpuNum": 36
   },
   {
    "_defaultOrder": 26,
    "_isFastLaunch": false,
    "category": "Compute optimized",
    "gpuNum": 0,
    "hideHardwareSpecs": false,
    "memoryGiB": 96,
    "name": "ml.c5.12xlarge",
    "vcpuNum": 48
   },
   {
    "_defaultOrder": 27,
    "_isFastLaunch": false,
    "category": "Compute optimized",
    "gpuNum": 0,
    "hideHardwareSpecs": false,
    "memoryGiB": 144,
    "name": "ml.c5.18xlarge",
    "vcpuNum": 72
   },
   {
    "_defaultOrder": 28,
    "_isFastLaunch": false,
    "category": "Compute optimized",
    "gpuNum": 0,
    "hideHardwareSpecs": false,
    "memoryGiB": 192,
    "name": "ml.c5.24xlarge",
    "vcpuNum": 96
   },
   {
    "_defaultOrder": 29,
    "_isFastLaunch": true,
    "category": "Accelerated computing",
    "gpuNum": 1,
    "hideHardwareSpecs": false,
    "memoryGiB": 16,
    "name": "ml.g4dn.xlarge",
    "vcpuNum": 4
   },
   {
    "_defaultOrder": 30,
    "_isFastLaunch": false,
    "category": "Accelerated computing",
    "gpuNum": 1,
    "hideHardwareSpecs": false,
    "memoryGiB": 32,
    "name": "ml.g4dn.2xlarge",
    "vcpuNum": 8
   },
   {
    "_defaultOrder": 31,
    "_isFastLaunch": false,
    "category": "Accelerated computing",
    "gpuNum": 1,
    "hideHardwareSpecs": false,
    "memoryGiB": 64,
    "name": "ml.g4dn.4xlarge",
    "vcpuNum": 16
   },
   {
    "_defaultOrder": 32,
    "_isFastLaunch": false,
    "category": "Accelerated computing",
    "gpuNum": 1,
    "hideHardwareSpecs": false,
    "memoryGiB": 128,
    "name": "ml.g4dn.8xlarge",
    "vcpuNum": 32
   },
   {
    "_defaultOrder": 33,
    "_isFastLaunch": false,
    "category": "Accelerated computing",
    "gpuNum": 4,
    "hideHardwareSpecs": false,
    "memoryGiB": 192,
    "name": "ml.g4dn.12xlarge",
    "vcpuNum": 48
   },
   {
    "_defaultOrder": 34,
    "_isFastLaunch": false,
    "category": "Accelerated computing",
    "gpuNum": 1,
    "hideHardwareSpecs": false,
    "memoryGiB": 256,
    "name": "ml.g4dn.16xlarge",
    "vcpuNum": 64
   },
   {
    "_defaultOrder": 35,
    "_isFastLaunch": false,
    "category": "Accelerated computing",
    "gpuNum": 1,
    "hideHardwareSpecs": false,
    "memoryGiB": 61,
    "name": "ml.p3.2xlarge",
    "vcpuNum": 8
   },
   {
    "_defaultOrder": 36,
    "_isFastLaunch": false,
    "category": "Accelerated computing",
    "gpuNum": 4,
    "hideHardwareSpecs": false,
    "memoryGiB": 244,
    "name": "ml.p3.8xlarge",
    "vcpuNum": 32
   },
   {
    "_defaultOrder": 37,
    "_isFastLaunch": false,
    "category": "Accelerated computing",
    "gpuNum": 8,
    "hideHardwareSpecs": false,
    "memoryGiB": 488,
    "name": "ml.p3.16xlarge",
    "vcpuNum": 64
   },
   {
    "_defaultOrder": 38,
    "_isFastLaunch": false,
    "category": "Accelerated computing",
    "gpuNum": 8,
    "hideHardwareSpecs": false,
    "memoryGiB": 768,
    "name": "ml.p3dn.24xlarge",
    "vcpuNum": 96
   },
   {
    "_defaultOrder": 39,
    "_isFastLaunch": false,
    "category": "Memory Optimized",
    "gpuNum": 0,
    "hideHardwareSpecs": false,
    "memoryGiB": 16,
    "name": "ml.r5.large",
    "vcpuNum": 2
   },
   {
    "_defaultOrder": 40,
    "_isFastLaunch": false,
    "category": "Memory Optimized",
    "gpuNum": 0,
    "hideHardwareSpecs": false,
    "memoryGiB": 32,
    "name": "ml.r5.xlarge",
    "vcpuNum": 4
   },
   {
    "_defaultOrder": 41,
    "_isFastLaunch": false,
    "category": "Memory Optimized",
    "gpuNum": 0,
    "hideHardwareSpecs": false,
    "memoryGiB": 64,
    "name": "ml.r5.2xlarge",
    "vcpuNum": 8
   },
   {
    "_defaultOrder": 42,
    "_isFastLaunch": false,
    "category": "Memory Optimized",
    "gpuNum": 0,
    "hideHardwareSpecs": false,
    "memoryGiB": 128,
    "name": "ml.r5.4xlarge",
    "vcpuNum": 16
   },
   {
    "_defaultOrder": 43,
    "_isFastLaunch": false,
    "category": "Memory Optimized",
    "gpuNum": 0,
    "hideHardwareSpecs": false,
    "memoryGiB": 256,
    "name": "ml.r5.8xlarge",
    "vcpuNum": 32
   },
   {
    "_defaultOrder": 44,
    "_isFastLaunch": false,
    "category": "Memory Optimized",
    "gpuNum": 0,
    "hideHardwareSpecs": false,
    "memoryGiB": 384,
    "name": "ml.r5.12xlarge",
    "vcpuNum": 48
   },
   {
    "_defaultOrder": 45,
    "_isFastLaunch": false,
    "category": "Memory Optimized",
    "gpuNum": 0,
    "hideHardwareSpecs": false,
    "memoryGiB": 512,
    "name": "ml.r5.16xlarge",
    "vcpuNum": 64
   },
   {
    "_defaultOrder": 46,
    "_isFastLaunch": false,
    "category": "Memory Optimized",
    "gpuNum": 0,
    "hideHardwareSpecs": false,
    "memoryGiB": 768,
    "name": "ml.r5.24xlarge",
    "vcpuNum": 96
   },
   {
    "_defaultOrder": 47,
    "_isFastLaunch": false,
    "category": "Accelerated computing",
    "gpuNum": 1,
    "hideHardwareSpecs": false,
    "memoryGiB": 16,
    "name": "ml.g5.xlarge",
    "vcpuNum": 4
   },
   {
    "_defaultOrder": 48,
    "_isFastLaunch": false,
    "category": "Accelerated computing",
    "gpuNum": 1,
    "hideHardwareSpecs": false,
    "memoryGiB": 32,
    "name": "ml.g5.2xlarge",
    "vcpuNum": 8
   },
   {
    "_defaultOrder": 49,
    "_isFastLaunch": false,
    "category": "Accelerated computing",
    "gpuNum": 1,
    "hideHardwareSpecs": false,
    "memoryGiB": 64,
    "name": "ml.g5.4xlarge",
    "vcpuNum": 16
   },
   {
    "_defaultOrder": 50,
    "_isFastLaunch": false,
    "category": "Accelerated computing",
    "gpuNum": 1,
    "hideHardwareSpecs": false,
    "memoryGiB": 128,
    "name": "ml.g5.8xlarge",
    "vcpuNum": 32
   },
   {
    "_defaultOrder": 51,
    "_isFastLaunch": false,
    "category": "Accelerated computing",
    "gpuNum": 1,
    "hideHardwareSpecs": false,
    "memoryGiB": 256,
    "name": "ml.g5.16xlarge",
    "vcpuNum": 64
   },
   {
    "_defaultOrder": 52,
    "_isFastLaunch": false,
    "category": "Accelerated computing",
    "gpuNum": 4,
    "hideHardwareSpecs": false,
    "memoryGiB": 192,
    "name": "ml.g5.12xlarge",
    "vcpuNum": 48
   },
   {
    "_defaultOrder": 53,
    "_isFastLaunch": false,
    "category": "Accelerated computing",
    "gpuNum": 4,
    "hideHardwareSpecs": false,
    "memoryGiB": 384,
    "name": "ml.g5.24xlarge",
    "vcpuNum": 96
   },
   {
    "_defaultOrder": 54,
    "_isFastLaunch": false,
    "category": "Accelerated computing",
    "gpuNum": 8,
    "hideHardwareSpecs": false,
    "memoryGiB": 768,
    "name": "ml.g5.48xlarge",
    "vcpuNum": 192
   },
   {
    "_defaultOrder": 55,
    "_isFastLaunch": false,
    "category": "Accelerated computing",
    "gpuNum": 8,
    "hideHardwareSpecs": false,
    "memoryGiB": 1152,
    "name": "ml.p4d.24xlarge",
    "vcpuNum": 96
   },
   {
    "_defaultOrder": 56,
    "_isFastLaunch": false,
    "category": "Accelerated computing",
    "gpuNum": 8,
    "hideHardwareSpecs": false,
    "memoryGiB": 1152,
    "name": "ml.p4de.24xlarge",
    "vcpuNum": 96
   }
  ],
  "instance_type": "ml.t3.medium",
  "kernelspec": {
   "name": "python3",
   "language": "python",
   "display_name": "Python 3 (ipykernel)"
  },
  "language_info": {
   "codemirror_mode": {
    "name": "ipython",
    "version": 3
   },
   "file_extension": ".py",
   "mimetype": "text/x-python",
   "name": "python",
   "nbconvert_exporter": "python",
   "pygments_lexer": "ipython3",
   "version": "3.7.10"
  }
 },
 "nbformat": 4,
 "nbformat_minor": 4
}
