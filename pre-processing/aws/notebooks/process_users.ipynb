{
 "cells": [
  {
   "cell_type": "markdown",
   "metadata": {
    "pycharm": {
     "name": "#%% md\n"
    }
   },
   "source": [
    "# Data Preprocessing for PetFinder6000"
   ]
  },
  {
   "cell_type": "code",
   "execution_count": 1,
   "metadata": {
    "tags": [],
    "pycharm": {
     "name": "#%%\n"
    }
   },
   "outputs": [],
   "source": [
    "import pandas as pd\n",
    "import numpy as np\n",
    "import re\n",
    "import os\n",
    "import glob\n",
    "import shutil\n",
    "\n",
    "import boto3\n",
    "import sagemaker"
   ]
  },
  {
   "cell_type": "markdown",
   "metadata": {
    "pycharm": {
     "name": "#%% md\n"
    }
   },
   "source": [
    "## Users"
   ]
  },
  {
   "cell_type": "markdown",
   "metadata": {
    "pycharm": {
     "name": "#%% md\n"
    }
   },
   "source": [
    "## Load Data from S3"
   ]
  },
  {
   "cell_type": "code",
   "execution_count": 2,
   "outputs": [
    {
     "name": "stdout",
     "output_type": "stream",
     "text": [
      "env: AWS_PROFILE=aeroxye-sagemaker\n"
     ]
    }
   ],
   "source": [
    "%env AWS_PROFILE=aeroxye-sagemaker"
   ],
   "metadata": {
    "collapsed": false,
    "pycharm": {
     "name": "#%%\n"
    }
   }
  },
  {
   "cell_type": "code",
   "execution_count": 3,
   "outputs": [
    {
     "name": "stdout",
     "output_type": "stream",
     "text": [
      "{\n",
      "    \"UserId\": \"AROAWC4YSIQL5OBFCNGEX:botocore-session-1687399683\",\n",
      "    \"Account\": \"418542404631\",\n",
      "    \"Arn\": \"arn:aws:sts::418542404631:assumed-role/SageMaker-UserRole/botocore-session-1687399683\"\n",
      "}\n"
     ]
    }
   ],
   "source": [
    "!aws sts get-caller-identity"
   ],
   "metadata": {
    "collapsed": false,
    "pycharm": {
     "name": "#%%\n"
    }
   }
  },
  {
   "cell_type": "code",
   "execution_count": 4,
   "outputs": [],
   "source": [
    "try:\n",
    "    role = sagemaker.get_execution_role()\n",
    "except ValueError:\n",
    "    iam = boto3.client('iam')\n",
    "    role = iam.get_role(RoleName='SageMaker-UserRole')['Role']['Arn']\n",
    "region = boto3.Session().region_name\n",
    "boto_session = boto3.Session(region_name=region)"
   ],
   "metadata": {
    "collapsed": false,
    "pycharm": {
     "name": "#%%\n"
    }
   }
  },
  {
   "cell_type": "code",
   "execution_count": 5,
   "metadata": {
    "tags": [],
    "pycharm": {
     "name": "#%%\n"
    }
   },
   "outputs": [
    {
     "name": "stdout",
     "output_type": "stream",
     "text": [
      "run-1686726799591-part-r-00000\n",
      "run-1686726799591-part-r-00001\n",
      "run-1686726799591-part-r-00002\n",
      "run-1686726799591-part-r-00003\n"
     ]
    }
   ],
   "source": [
    "region = boto3.Session().region_name\n",
    "\n",
    "data_bucket = \"dynamodbpetfinder\"\n",
    "object_prefix = \"user_\"\n",
    "local_path = \"../data/user/\"\n",
    "\n",
    "if not os.path.exists(local_path):\n",
    "    os.makedirs(local_path)\n",
    "else:\n",
    "    shutil.rmtree(local_path)\n",
    "    os.makedirs(local_path)\n",
    "\n",
    "pattern = r'[0-9]+'\n",
    "s3 = boto3.client(\"s3\")\n",
    "\n",
    "result = s3.list_objects(Bucket=data_bucket, Prefix=object_prefix, Delimiter=\"/\")\n",
    "subfolders = [re.search(pattern, o.get(\"Prefix\")).group() for o in result.get(\"CommonPrefixes\")]\n",
    "subfolders.sort(reverse=True)\n",
    "\n",
    "object_path = object_prefix + subfolders[0] + \"/\"\n",
    "files = s3.list_objects(Bucket=data_bucket, Prefix=object_path, Delimiter=\"/\")\n",
    "\n",
    "pattern = rf'{object_path}(.+)'\n",
    "for content in files.get(\"Contents\"):\n",
    "    file_path = content.get(\"Key\")\n",
    "    filename = re.findall(pattern, file_path)[0]\n",
    "    print(filename)\n",
    "\n",
    "    with open(local_path+filename, 'wb') as file:\n",
    "        s3.download_fileobj(\n",
    "            Bucket=data_bucket,\n",
    "            Key=file_path,\n",
    "            Fileobj=file\n",
    "        )"
   ]
  },
  {
   "cell_type": "code",
   "execution_count": 6,
   "metadata": {
    "tags": [],
    "pycharm": {
     "name": "#%%\n"
    }
   },
   "outputs": [
    {
     "name": "stdout",
     "output_type": "stream",
     "text": [
      "['../data/user\\\\run-1686726799591-part-r-00000', '../data/user\\\\run-1686726799591-part-r-00001', '../data/user\\\\run-1686726799591-part-r-00002', '../data/user\\\\run-1686726799591-part-r-00003']\n"
     ]
    }
   ],
   "source": [
    "file_list = glob.glob(local_path + \"*\")\n",
    "\n",
    "print(file_list)\n",
    "\n",
    "dfs = [] # an empty list to store the data frames\n",
    "for file in file_list:\n",
    "    data = pd.read_json(file, lines=True) # read data frame from json file\n",
    "    dfs.append(data) # append the data frame to the list\n",
    "    \n",
    "users = pd.concat(dfs, ignore_index=True)"
   ]
  },
  {
   "cell_type": "code",
   "execution_count": 7,
   "metadata": {
    "collapsed": false,
    "jupyter": {
     "outputs_hidden": false
    },
    "tags": [],
    "pycharm": {
     "name": "#%%\n"
    }
   },
   "outputs": [
    {
     "data": {
      "text/plain": "                                     id __typename  A_othercats  \\\n0  15c83d3c-196c-4f57-bee2-361ac6fcc21e       User           -1   \n1  8fe87a5a-a6cf-49db-8b7a-fca9772a717c       User           -1   \n2  1528304d-e070-469a-b476-31f3b1022681       User           -1   \n3  bb6d45b5-f368-4877-9a5f-b3cbb8761bd7       User           -1   \n4  9e936f8b-4d16-4d19-b864-6262b350f44f       User           -1   \n\n       A_sweetspicy  _lastChangedAt  \\\n0  Anything is nice   1684463702517   \n1        Some spice   1684297951088   \n2  Anything is nice   1684389123230   \n3  Anything is nice   1685688338287   \n4  Anything is nice   1684553605346   \n\n                                          A_agegroup       A_gender  \\\n0                                  [{'S': 'Kitten'}]  No preference   \n1               [{'S': 'Kitten'}, {'S': 'Juvenile'}]  No preference   \n2                           [{'S': 'No preference'}]  No preference   \n3                                  [{'S': 'Kitten'}]  No preference   \n4  [{'S': 'Kitten'}, {'S': 'Juvenile'}, {'S': 'Ad...  No preference   \n\n   A_otherdogs       A_employment                 createdAt  ...  A_firstcat  \\\n0            1  Working Full Time  2023-05-19T02:35:02.489Z  ...           1   \n1           -1            Student  2023-05-17T04:32:31.057Z  ...           1   \n2           -1  Working Full Time  2023-05-18T05:52:03.205Z  ...           1   \n3           -1  Working Full Time  2023-06-02T06:45:38.257Z  ...           1   \n4           -1  Working Full Time  2023-05-20T03:33:25.319Z  ...           1   \n\n   A_kids  _version    A_attention                 updatedAt  \\\n0       1         1    Independent  2023-05-19T02:35:02.489Z   \n1      -1         1    Independent  2023-05-17T04:32:31.057Z   \n2      -1         1  No preference  2023-05-18T05:52:03.205Z   \n3      -1         1    Independent  2023-06-02T06:45:38.257Z   \n4      -1         1    Independent  2023-05-20T03:33:25.319Z   \n\n                                      A_primarycolor      username  \\\n0                           [{'S': 'No preference'}]     Maxmaxmax   \n1                           [{'S': 'No preference'}]  biondibiondi   \n2                           [{'S': 'No preference'}]      Xiaozha1   \n3                           [{'S': 'No preference'}]      renjie25   \n4  [{'S': 'Black'}, {'S': 'Calico/Tortie'}, {'S':...      Blubelli   \n\n        A_homeownership A_allergies       A_energy  \n0  Staying with Parents           1          Chill  \n1  Staying with Parents          -1          Chill  \n2            Self-Owned          -1  No preference  \n3  Staying with Parents          -1          Chill  \n4  Staying with Parents          -1          Chill  \n\n[5 rows x 21 columns]",
      "text/html": "<div>\n<style scoped>\n    .dataframe tbody tr th:only-of-type {\n        vertical-align: middle;\n    }\n\n    .dataframe tbody tr th {\n        vertical-align: top;\n    }\n\n    .dataframe thead th {\n        text-align: right;\n    }\n</style>\n<table border=\"1\" class=\"dataframe\">\n  <thead>\n    <tr style=\"text-align: right;\">\n      <th></th>\n      <th>id</th>\n      <th>__typename</th>\n      <th>A_othercats</th>\n      <th>A_sweetspicy</th>\n      <th>_lastChangedAt</th>\n      <th>A_agegroup</th>\n      <th>A_gender</th>\n      <th>A_otherdogs</th>\n      <th>A_employment</th>\n      <th>createdAt</th>\n      <th>...</th>\n      <th>A_firstcat</th>\n      <th>A_kids</th>\n      <th>_version</th>\n      <th>A_attention</th>\n      <th>updatedAt</th>\n      <th>A_primarycolor</th>\n      <th>username</th>\n      <th>A_homeownership</th>\n      <th>A_allergies</th>\n      <th>A_energy</th>\n    </tr>\n  </thead>\n  <tbody>\n    <tr>\n      <th>0</th>\n      <td>15c83d3c-196c-4f57-bee2-361ac6fcc21e</td>\n      <td>User</td>\n      <td>-1</td>\n      <td>Anything is nice</td>\n      <td>1684463702517</td>\n      <td>[{'S': 'Kitten'}]</td>\n      <td>No preference</td>\n      <td>1</td>\n      <td>Working Full Time</td>\n      <td>2023-05-19T02:35:02.489Z</td>\n      <td>...</td>\n      <td>1</td>\n      <td>1</td>\n      <td>1</td>\n      <td>Independent</td>\n      <td>2023-05-19T02:35:02.489Z</td>\n      <td>[{'S': 'No preference'}]</td>\n      <td>Maxmaxmax</td>\n      <td>Staying with Parents</td>\n      <td>1</td>\n      <td>Chill</td>\n    </tr>\n    <tr>\n      <th>1</th>\n      <td>8fe87a5a-a6cf-49db-8b7a-fca9772a717c</td>\n      <td>User</td>\n      <td>-1</td>\n      <td>Some spice</td>\n      <td>1684297951088</td>\n      <td>[{'S': 'Kitten'}, {'S': 'Juvenile'}]</td>\n      <td>No preference</td>\n      <td>-1</td>\n      <td>Student</td>\n      <td>2023-05-17T04:32:31.057Z</td>\n      <td>...</td>\n      <td>1</td>\n      <td>-1</td>\n      <td>1</td>\n      <td>Independent</td>\n      <td>2023-05-17T04:32:31.057Z</td>\n      <td>[{'S': 'No preference'}]</td>\n      <td>biondibiondi</td>\n      <td>Staying with Parents</td>\n      <td>-1</td>\n      <td>Chill</td>\n    </tr>\n    <tr>\n      <th>2</th>\n      <td>1528304d-e070-469a-b476-31f3b1022681</td>\n      <td>User</td>\n      <td>-1</td>\n      <td>Anything is nice</td>\n      <td>1684389123230</td>\n      <td>[{'S': 'No preference'}]</td>\n      <td>No preference</td>\n      <td>-1</td>\n      <td>Working Full Time</td>\n      <td>2023-05-18T05:52:03.205Z</td>\n      <td>...</td>\n      <td>1</td>\n      <td>-1</td>\n      <td>1</td>\n      <td>No preference</td>\n      <td>2023-05-18T05:52:03.205Z</td>\n      <td>[{'S': 'No preference'}]</td>\n      <td>Xiaozha1</td>\n      <td>Self-Owned</td>\n      <td>-1</td>\n      <td>No preference</td>\n    </tr>\n    <tr>\n      <th>3</th>\n      <td>bb6d45b5-f368-4877-9a5f-b3cbb8761bd7</td>\n      <td>User</td>\n      <td>-1</td>\n      <td>Anything is nice</td>\n      <td>1685688338287</td>\n      <td>[{'S': 'Kitten'}]</td>\n      <td>No preference</td>\n      <td>-1</td>\n      <td>Working Full Time</td>\n      <td>2023-06-02T06:45:38.257Z</td>\n      <td>...</td>\n      <td>1</td>\n      <td>-1</td>\n      <td>1</td>\n      <td>Independent</td>\n      <td>2023-06-02T06:45:38.257Z</td>\n      <td>[{'S': 'No preference'}]</td>\n      <td>renjie25</td>\n      <td>Staying with Parents</td>\n      <td>-1</td>\n      <td>Chill</td>\n    </tr>\n    <tr>\n      <th>4</th>\n      <td>9e936f8b-4d16-4d19-b864-6262b350f44f</td>\n      <td>User</td>\n      <td>-1</td>\n      <td>Anything is nice</td>\n      <td>1684553605346</td>\n      <td>[{'S': 'Kitten'}, {'S': 'Juvenile'}, {'S': 'Ad...</td>\n      <td>No preference</td>\n      <td>-1</td>\n      <td>Working Full Time</td>\n      <td>2023-05-20T03:33:25.319Z</td>\n      <td>...</td>\n      <td>1</td>\n      <td>-1</td>\n      <td>1</td>\n      <td>Independent</td>\n      <td>2023-05-20T03:33:25.319Z</td>\n      <td>[{'S': 'Black'}, {'S': 'Calico/Tortie'}, {'S':...</td>\n      <td>Blubelli</td>\n      <td>Staying with Parents</td>\n      <td>-1</td>\n      <td>Chill</td>\n    </tr>\n  </tbody>\n</table>\n<p>5 rows × 21 columns</p>\n</div>"
     },
     "execution_count": 7,
     "metadata": {},
     "output_type": "execute_result"
    }
   ],
   "source": [
    "users.head()"
   ]
  },
  {
   "cell_type": "markdown",
   "metadata": {
    "pycharm": {
     "name": "#%% md\n"
    }
   },
   "source": [
    "## Process Data"
   ]
  },
  {
   "cell_type": "code",
   "execution_count": 8,
   "metadata": {
    "collapsed": false,
    "jupyter": {
     "outputs_hidden": false
    },
    "tags": [],
    "pycharm": {
     "name": "#%%\n"
    }
   },
   "outputs": [],
   "source": [
    "# rename headers\n",
    "cl_users = users.rename(columns={'A_gender': 'gender',\n",
    "                              'A_primarycolor': 'primary_color',\n",
    "                              'A_agegroup': 'age_group',\n",
    "                              'A_energy': 'energy_level',\n",
    "                              'A_attention': 'attention_need',\n",
    "                              'A_sweetspicy': 'personality',\n",
    "                              'A_firstcat': 'is_first_cat',\n",
    "                              'A_othercats': 'has_other_cats',\n",
    "                              'A_otherdogs': 'good_with_other_dogs',\n",
    "                              'A_kids': 'good_with_kids',\n",
    "                              'A_employment': 'employment',\n",
    "                              'A_homeownership': 'home_ownership',\n",
    "                              'A_allergies': 'has_allergies',\n",
    "                              'A_adoptionfee': 'agree_to_fee',\n",
    "                              'createdAt': 'created_at',\n",
    "                              'updatedAt': 'updated_at',\n",
    "                              })"
   ]
  },
  {
   "cell_type": "code",
   "execution_count": 9,
   "metadata": {
    "collapsed": false,
    "jupyter": {
     "outputs_hidden": false
    },
    "tags": [],
    "pycharm": {
     "name": "#%%\n"
    }
   },
   "outputs": [],
   "source": [
    "# clean multi-select columns with No Preference options (age, color)\n",
    "\n",
    "def clean_multi_select(row):\n",
    "    arr = [o.get(\"S\") for o in row]\n",
    "    if (len(arr) > 1) and ('No preference' in arr):\n",
    "        arr.remove('No preference')\n",
    "    return [s.lower() for s in arr]\n",
    "\n",
    "cl_users['age_group'] = cl_users['age_group'].map(lambda choice: clean_multi_select(choice))\n",
    "cl_users['primary_color'] = cl_users['primary_color'].map(lambda choice: clean_multi_select(choice))"
   ]
  },
  {
   "cell_type": "code",
   "execution_count": 10,
   "metadata": {
    "collapsed": false,
    "jupyter": {
     "outputs_hidden": false
    },
    "tags": [],
    "pycharm": {
     "name": "#%%\n"
    }
   },
   "outputs": [],
   "source": [
    "# split columns with list (age, color)\n",
    "age_groups = cl_users['age_group'].explode().unique().tolist()\n",
    "split_age_groups = cl_users['age_group'].map(lambda row: ','.join([str(age in row) for age in age_groups]))\n",
    "new_age_columns = split_age_groups.str.split(',', expand=True)\n",
    "new_age_columns = new_age_columns.applymap(lambda val: (val == 'True'))\n",
    "# new_age_columns = new_age_columns.astype('bool')\n",
    "new_age_columns = new_age_columns.astype('int')\n",
    "\n",
    "pattern = re.compile(r'\\s|/')\n",
    "# new_age_columns.columns = [f'age_{pattern.sub(\"_\", age).lower()}' for age in age_groups]\n",
    "cl_users[[f'age_{pattern.sub(\"_\", age).lower()}' for age in age_groups]] = new_age_columns\n",
    "cl_users = cl_users.drop('age_group', axis=1)\n",
    "\n",
    "color_groups = cl_users['primary_color'].explode().unique().tolist()\n",
    "split_color_groups = cl_users['primary_color'].map(lambda row: ','.join([str(color in row) for color in color_groups]))\n",
    "new_color_columns = split_color_groups.str.split(',', expand=True)\n",
    "new_color_columns = new_color_columns.applymap(lambda val: (val == 'True'))\n",
    "# new_color_columns = new_color_columns.astype('bool')\n",
    "new_color_columns = new_color_columns.astype('int')\n",
    "\n",
    "cl_users[[f'primary_color_{pattern.sub(\"_\", color).lower()}' for color in color_groups]] = new_color_columns\n",
    "cl_users = cl_users.drop('primary_color', axis=1)"
   ]
  },
  {
   "cell_type": "code",
   "execution_count": 11,
   "metadata": {
    "collapsed": false,
    "jupyter": {
     "outputs_hidden": false
    },
    "tags": [],
    "pycharm": {
     "name": "#%%\n"
    }
   },
   "outputs": [],
   "source": [
    "# convert string fields to lower case (gender, energy_level, attention_need, personality, employment, home_ownership)\n",
    "cl_users['gender'] = cl_users['gender'].map(lambda val: val.lower())\n",
    "cl_users['energy_level'] = cl_users['energy_level'].map(lambda val: val.lower())\n",
    "cl_users['attention_need'] = cl_users['attention_need'].map(lambda val: val.lower())\n",
    "cl_users['personality'] = cl_users['personality'].map(lambda val: val.lower())\n",
    "cl_users['employment'] = cl_users['employment'].map(lambda val: val.lower())\n",
    "cl_users['home_ownership'] = cl_users['home_ownership'].map(lambda val: val.lower())"
   ]
  },
  {
   "cell_type": "code",
   "execution_count": 12,
   "metadata": {
    "collapsed": false,
    "jupyter": {
     "outputs_hidden": false
    },
    "tags": [],
    "pycharm": {
     "name": "#%%\n"
    }
   },
   "outputs": [],
   "source": [
    "# # convert int booleans to actual booleans (is_first_cat, has_other_cats, good_with_other_dogs, good_with_kids, has_allergies, agree_to_fee)\n",
    "cl_users['is_first_cat'] = cl_users['is_first_cat'].map(lambda val: (val == 1))\n",
    "cl_users['has_other_cats'] = cl_users['has_other_cats'].map(lambda val: (val == 1))\n",
    "cl_users['good_with_other_dogs'] = cl_users['good_with_other_dogs'].map(lambda val: (val == 1))\n",
    "cl_users['good_with_kids'] = cl_users['good_with_kids'].map(lambda val: (val == 1))\n",
    "cl_users['has_allergies'] = cl_users['has_allergies'].map(lambda val: (val == 1))\n",
    "cl_users['agree_to_fee'] = cl_users['agree_to_fee'].map(lambda val: (val == 1))"
   ]
  },
  {
   "cell_type": "code",
   "execution_count": 13,
   "metadata": {
    "collapsed": false,
    "jupyter": {
     "outputs_hidden": false
    },
    "tags": [],
    "pycharm": {
     "name": "#%%\n"
    }
   },
   "outputs": [],
   "source": [
    "# convert types\n",
    "# cl_users = cl_users.astype({'gender': 'category',\n",
    "#                           'energy_level': 'category',\n",
    "#                           'attention_need': 'category',\n",
    "#                           'personality': 'category',\n",
    "#                           'is_first_cat': 'bool',\n",
    "#                           'has_other_cats': 'bool',\n",
    "#                           'good_with_other_dogs': 'bool',\n",
    "#                           'good_with_kids': 'bool',\n",
    "#                           'employment': 'category',\n",
    "#                           'home_ownership': 'category',\n",
    "#                           'has_allergies': 'bool',\n",
    "#                           'agree_to_fee': 'bool',\n",
    "#                           })\n",
    "cl_users['created_at'] = pd.to_datetime(cl_users['created_at']).dt.strftime('%Y-%m-%dT%H:%M:%SZ')\n",
    "cl_users['updated_at'] = pd.to_datetime(cl_users['updated_at']).dt.strftime('%Y-%m-%dT%H:%M:%SZ')\n",
    "\n",
    "cl_users = cl_users.astype({\n",
    "                          'is_first_cat': 'int',\n",
    "                          'has_other_cats': 'int',\n",
    "                          'good_with_other_dogs': 'int',\n",
    "                          'good_with_kids': 'int',\n",
    "                          'has_allergies': 'int',\n",
    "                          'agree_to_fee': 'int',\n",
    "                          'created_at': 'object',\n",
    "                          'updated_at': 'object',\n",
    "                          })\n"
   ]
  },
  {
   "cell_type": "code",
   "execution_count": 13,
   "metadata": {
    "collapsed": false,
    "jupyter": {
     "outputs_hidden": false
    },
    "pycharm": {
     "name": "#%%\n"
    }
   },
   "outputs": [],
   "source": [
    "# cl_users.columns"
   ]
  },
  {
   "cell_type": "code",
   "execution_count": 14,
   "metadata": {
    "collapsed": false,
    "jupyter": {
     "outputs_hidden": false
    },
    "pycharm": {
     "name": "#%%\n"
    }
   },
   "outputs": [],
   "source": [
    "# user_pref = pd.DataFrame()\n",
    "# user_pref['id'] = cl_users['id']"
   ]
  },
  {
   "cell_type": "code",
   "execution_count": 15,
   "metadata": {
    "collapsed": false,
    "jupyter": {
     "outputs_hidden": false
    },
    "pycharm": {
     "name": "#%%\n"
    }
   },
   "outputs": [],
   "source": [
    "# user_pref_cols = ['gender', 'primary_color', 'age_group',\n",
    "#        'energy_level', 'attention_need', 'personality', 'is_first_cat',\n",
    "#        'has_other_cats', 'good_with_other_dogs', 'good_with_kids',\n",
    "#        'employment', 'home_ownership', 'has_allergies', 'agree_to_fee']\n",
    "#\n",
    "# user_pref['preference'] = cl_users.apply(lambda row: '\\n'.join([f'{pref}: {row[pref]}' for pref in user_pref_cols]), axis=1)"
   ]
  },
  {
   "cell_type": "code",
   "execution_count": 16,
   "metadata": {
    "collapsed": false,
    "jupyter": {
     "outputs_hidden": false
    },
    "pycharm": {
     "name": "#%%\n"
    }
   },
   "outputs": [],
   "source": [
    "# user_pref.head(5)"
   ]
  },
  {
   "cell_type": "code",
   "execution_count": 14,
   "metadata": {
    "tags": [],
    "pycharm": {
     "name": "#%%\n"
    }
   },
   "outputs": [],
   "source": [
    "# drop glue columns\n",
    "cl_users = cl_users.drop(['__typename', '_lastChangedAt', '_version'], axis=1)"
   ]
  },
  {
   "cell_type": "code",
   "execution_count": 15,
   "metadata": {
    "pycharm": {
     "name": "#%%\n"
    }
   },
   "outputs": [],
   "source": [
    "cl_users = cl_users.set_index('id')"
   ]
  },
  {
   "cell_type": "code",
   "execution_count": 16,
   "metadata": {
    "collapsed": false,
    "jupyter": {
     "outputs_hidden": false
    },
    "tags": [],
    "pycharm": {
     "name": "#%%\n"
    }
   },
   "outputs": [
    {
     "name": "stdout",
     "output_type": "stream",
     "text": [
      "<class 'pandas.core.frame.DataFrame'>\n",
      "Index: 107 entries, 15c83d3c-196c-4f57-bee2-361ac6fcc21e to 029f1e2a-d68b-4801-869f-f422e925ae3d\n",
      "Data columns (total 27 columns):\n",
      " #   Column                       Non-Null Count  Dtype \n",
      "---  ------                       --------------  ----- \n",
      " 0   has_other_cats               107 non-null    int32 \n",
      " 1   personality                  107 non-null    object\n",
      " 2   gender                       107 non-null    object\n",
      " 3   good_with_other_dogs         107 non-null    int32 \n",
      " 4   employment                   107 non-null    object\n",
      " 5   created_at                   107 non-null    object\n",
      " 6   agree_to_fee                 107 non-null    int32 \n",
      " 7   is_first_cat                 107 non-null    int32 \n",
      " 8   good_with_kids               107 non-null    int32 \n",
      " 9   attention_need               107 non-null    object\n",
      " 10  updated_at                   107 non-null    object\n",
      " 11  username                     107 non-null    object\n",
      " 12  home_ownership               107 non-null    object\n",
      " 13  has_allergies                107 non-null    int32 \n",
      " 14  energy_level                 107 non-null    object\n",
      " 15  age_kitten                   107 non-null    int32 \n",
      " 16  age_juvenile                 107 non-null    int32 \n",
      " 17  age_no_preference            107 non-null    int32 \n",
      " 18  age_adult                    107 non-null    int32 \n",
      " 19  age_senior                   107 non-null    int32 \n",
      " 20  primary_color_no_preference  107 non-null    int32 \n",
      " 21  primary_color_black          107 non-null    int32 \n",
      " 22  primary_color_calico_tortie  107 non-null    int32 \n",
      " 23  primary_color_tabby          107 non-null    int32 \n",
      " 24  primary_color_others         107 non-null    int32 \n",
      " 25  primary_color_ginger         107 non-null    int32 \n",
      " 26  primary_color_white          107 non-null    int32 \n",
      "dtypes: int32(18), object(9)\n",
      "memory usage: 15.9+ KB\n"
     ]
    }
   ],
   "source": [
    "cl_users.info()"
   ]
  },
  {
   "cell_type": "code",
   "execution_count": 17,
   "metadata": {
    "collapsed": false,
    "jupyter": {
     "outputs_hidden": false
    },
    "tags": [],
    "pycharm": {
     "name": "#%%\n"
    }
   },
   "outputs": [
    {
     "data": {
      "text/plain": "                                      has_other_cats       personality  \\\nid                                                                       \n15c83d3c-196c-4f57-bee2-361ac6fcc21e               0  anything is nice   \n8fe87a5a-a6cf-49db-8b7a-fca9772a717c               0        some spice   \n1528304d-e070-469a-b476-31f3b1022681               0  anything is nice   \nbb6d45b5-f368-4877-9a5f-b3cbb8761bd7               0  anything is nice   \n9e936f8b-4d16-4d19-b864-6262b350f44f               0  anything is nice   \n\n                                             gender  good_with_other_dogs  \\\nid                                                                          \n15c83d3c-196c-4f57-bee2-361ac6fcc21e  no preference                     1   \n8fe87a5a-a6cf-49db-8b7a-fca9772a717c  no preference                     0   \n1528304d-e070-469a-b476-31f3b1022681  no preference                     0   \nbb6d45b5-f368-4877-9a5f-b3cbb8761bd7  no preference                     0   \n9e936f8b-4d16-4d19-b864-6262b350f44f  no preference                     0   \n\n                                             employment            created_at  \\\nid                                                                              \n15c83d3c-196c-4f57-bee2-361ac6fcc21e  working full time  2023-05-19T02:35:02Z   \n8fe87a5a-a6cf-49db-8b7a-fca9772a717c            student  2023-05-17T04:32:31Z   \n1528304d-e070-469a-b476-31f3b1022681  working full time  2023-05-18T05:52:03Z   \nbb6d45b5-f368-4877-9a5f-b3cbb8761bd7  working full time  2023-06-02T06:45:38Z   \n9e936f8b-4d16-4d19-b864-6262b350f44f  working full time  2023-05-20T03:33:25Z   \n\n                                      agree_to_fee  is_first_cat  \\\nid                                                                 \n15c83d3c-196c-4f57-bee2-361ac6fcc21e             0             1   \n8fe87a5a-a6cf-49db-8b7a-fca9772a717c             1             1   \n1528304d-e070-469a-b476-31f3b1022681             1             1   \nbb6d45b5-f368-4877-9a5f-b3cbb8761bd7             1             1   \n9e936f8b-4d16-4d19-b864-6262b350f44f             1             1   \n\n                                      good_with_kids attention_need  ...  \\\nid                                                                   ...   \n15c83d3c-196c-4f57-bee2-361ac6fcc21e               1    independent  ...   \n8fe87a5a-a6cf-49db-8b7a-fca9772a717c               0    independent  ...   \n1528304d-e070-469a-b476-31f3b1022681               0  no preference  ...   \nbb6d45b5-f368-4877-9a5f-b3cbb8761bd7               0    independent  ...   \n9e936f8b-4d16-4d19-b864-6262b350f44f               0    independent  ...   \n\n                                     age_no_preference age_adult age_senior  \\\nid                                                                            \n15c83d3c-196c-4f57-bee2-361ac6fcc21e                 0         0          0   \n8fe87a5a-a6cf-49db-8b7a-fca9772a717c                 0         0          0   \n1528304d-e070-469a-b476-31f3b1022681                 1         0          0   \nbb6d45b5-f368-4877-9a5f-b3cbb8761bd7                 0         0          0   \n9e936f8b-4d16-4d19-b864-6262b350f44f                 0         1          0   \n\n                                      primary_color_no_preference  \\\nid                                                                  \n15c83d3c-196c-4f57-bee2-361ac6fcc21e                            1   \n8fe87a5a-a6cf-49db-8b7a-fca9772a717c                            1   \n1528304d-e070-469a-b476-31f3b1022681                            1   \nbb6d45b5-f368-4877-9a5f-b3cbb8761bd7                            1   \n9e936f8b-4d16-4d19-b864-6262b350f44f                            0   \n\n                                     primary_color_black  \\\nid                                                         \n15c83d3c-196c-4f57-bee2-361ac6fcc21e                   0   \n8fe87a5a-a6cf-49db-8b7a-fca9772a717c                   0   \n1528304d-e070-469a-b476-31f3b1022681                   0   \nbb6d45b5-f368-4877-9a5f-b3cbb8761bd7                   0   \n9e936f8b-4d16-4d19-b864-6262b350f44f                   1   \n\n                                      primary_color_calico_tortie  \\\nid                                                                  \n15c83d3c-196c-4f57-bee2-361ac6fcc21e                            0   \n8fe87a5a-a6cf-49db-8b7a-fca9772a717c                            0   \n1528304d-e070-469a-b476-31f3b1022681                            0   \nbb6d45b5-f368-4877-9a5f-b3cbb8761bd7                            0   \n9e936f8b-4d16-4d19-b864-6262b350f44f                            1   \n\n                                      primary_color_tabby  \\\nid                                                          \n15c83d3c-196c-4f57-bee2-361ac6fcc21e                    0   \n8fe87a5a-a6cf-49db-8b7a-fca9772a717c                    0   \n1528304d-e070-469a-b476-31f3b1022681                    0   \nbb6d45b5-f368-4877-9a5f-b3cbb8761bd7                    0   \n9e936f8b-4d16-4d19-b864-6262b350f44f                    1   \n\n                                      primary_color_others  \\\nid                                                           \n15c83d3c-196c-4f57-bee2-361ac6fcc21e                     0   \n8fe87a5a-a6cf-49db-8b7a-fca9772a717c                     0   \n1528304d-e070-469a-b476-31f3b1022681                     0   \nbb6d45b5-f368-4877-9a5f-b3cbb8761bd7                     0   \n9e936f8b-4d16-4d19-b864-6262b350f44f                     0   \n\n                                      primary_color_ginger  \\\nid                                                           \n15c83d3c-196c-4f57-bee2-361ac6fcc21e                     0   \n8fe87a5a-a6cf-49db-8b7a-fca9772a717c                     0   \n1528304d-e070-469a-b476-31f3b1022681                     0   \nbb6d45b5-f368-4877-9a5f-b3cbb8761bd7                     0   \n9e936f8b-4d16-4d19-b864-6262b350f44f                     0   \n\n                                      primary_color_white  \nid                                                         \n15c83d3c-196c-4f57-bee2-361ac6fcc21e                    0  \n8fe87a5a-a6cf-49db-8b7a-fca9772a717c                    0  \n1528304d-e070-469a-b476-31f3b1022681                    0  \nbb6d45b5-f368-4877-9a5f-b3cbb8761bd7                    0  \n9e936f8b-4d16-4d19-b864-6262b350f44f                    0  \n\n[5 rows x 27 columns]",
      "text/html": "<div>\n<style scoped>\n    .dataframe tbody tr th:only-of-type {\n        vertical-align: middle;\n    }\n\n    .dataframe tbody tr th {\n        vertical-align: top;\n    }\n\n    .dataframe thead th {\n        text-align: right;\n    }\n</style>\n<table border=\"1\" class=\"dataframe\">\n  <thead>\n    <tr style=\"text-align: right;\">\n      <th></th>\n      <th>has_other_cats</th>\n      <th>personality</th>\n      <th>gender</th>\n      <th>good_with_other_dogs</th>\n      <th>employment</th>\n      <th>created_at</th>\n      <th>agree_to_fee</th>\n      <th>is_first_cat</th>\n      <th>good_with_kids</th>\n      <th>attention_need</th>\n      <th>...</th>\n      <th>age_no_preference</th>\n      <th>age_adult</th>\n      <th>age_senior</th>\n      <th>primary_color_no_preference</th>\n      <th>primary_color_black</th>\n      <th>primary_color_calico_tortie</th>\n      <th>primary_color_tabby</th>\n      <th>primary_color_others</th>\n      <th>primary_color_ginger</th>\n      <th>primary_color_white</th>\n    </tr>\n    <tr>\n      <th>id</th>\n      <th></th>\n      <th></th>\n      <th></th>\n      <th></th>\n      <th></th>\n      <th></th>\n      <th></th>\n      <th></th>\n      <th></th>\n      <th></th>\n      <th></th>\n      <th></th>\n      <th></th>\n      <th></th>\n      <th></th>\n      <th></th>\n      <th></th>\n      <th></th>\n      <th></th>\n      <th></th>\n      <th></th>\n    </tr>\n  </thead>\n  <tbody>\n    <tr>\n      <th>15c83d3c-196c-4f57-bee2-361ac6fcc21e</th>\n      <td>0</td>\n      <td>anything is nice</td>\n      <td>no preference</td>\n      <td>1</td>\n      <td>working full time</td>\n      <td>2023-05-19T02:35:02Z</td>\n      <td>0</td>\n      <td>1</td>\n      <td>1</td>\n      <td>independent</td>\n      <td>...</td>\n      <td>0</td>\n      <td>0</td>\n      <td>0</td>\n      <td>1</td>\n      <td>0</td>\n      <td>0</td>\n      <td>0</td>\n      <td>0</td>\n      <td>0</td>\n      <td>0</td>\n    </tr>\n    <tr>\n      <th>8fe87a5a-a6cf-49db-8b7a-fca9772a717c</th>\n      <td>0</td>\n      <td>some spice</td>\n      <td>no preference</td>\n      <td>0</td>\n      <td>student</td>\n      <td>2023-05-17T04:32:31Z</td>\n      <td>1</td>\n      <td>1</td>\n      <td>0</td>\n      <td>independent</td>\n      <td>...</td>\n      <td>0</td>\n      <td>0</td>\n      <td>0</td>\n      <td>1</td>\n      <td>0</td>\n      <td>0</td>\n      <td>0</td>\n      <td>0</td>\n      <td>0</td>\n      <td>0</td>\n    </tr>\n    <tr>\n      <th>1528304d-e070-469a-b476-31f3b1022681</th>\n      <td>0</td>\n      <td>anything is nice</td>\n      <td>no preference</td>\n      <td>0</td>\n      <td>working full time</td>\n      <td>2023-05-18T05:52:03Z</td>\n      <td>1</td>\n      <td>1</td>\n      <td>0</td>\n      <td>no preference</td>\n      <td>...</td>\n      <td>1</td>\n      <td>0</td>\n      <td>0</td>\n      <td>1</td>\n      <td>0</td>\n      <td>0</td>\n      <td>0</td>\n      <td>0</td>\n      <td>0</td>\n      <td>0</td>\n    </tr>\n    <tr>\n      <th>bb6d45b5-f368-4877-9a5f-b3cbb8761bd7</th>\n      <td>0</td>\n      <td>anything is nice</td>\n      <td>no preference</td>\n      <td>0</td>\n      <td>working full time</td>\n      <td>2023-06-02T06:45:38Z</td>\n      <td>1</td>\n      <td>1</td>\n      <td>0</td>\n      <td>independent</td>\n      <td>...</td>\n      <td>0</td>\n      <td>0</td>\n      <td>0</td>\n      <td>1</td>\n      <td>0</td>\n      <td>0</td>\n      <td>0</td>\n      <td>0</td>\n      <td>0</td>\n      <td>0</td>\n    </tr>\n    <tr>\n      <th>9e936f8b-4d16-4d19-b864-6262b350f44f</th>\n      <td>0</td>\n      <td>anything is nice</td>\n      <td>no preference</td>\n      <td>0</td>\n      <td>working full time</td>\n      <td>2023-05-20T03:33:25Z</td>\n      <td>1</td>\n      <td>1</td>\n      <td>0</td>\n      <td>independent</td>\n      <td>...</td>\n      <td>0</td>\n      <td>1</td>\n      <td>0</td>\n      <td>0</td>\n      <td>1</td>\n      <td>1</td>\n      <td>1</td>\n      <td>0</td>\n      <td>0</td>\n      <td>0</td>\n    </tr>\n  </tbody>\n</table>\n<p>5 rows × 27 columns</p>\n</div>"
     },
     "execution_count": 17,
     "metadata": {},
     "output_type": "execute_result"
    }
   ],
   "source": [
    "cl_users.head()"
   ]
  },
  {
   "cell_type": "markdown",
   "metadata": {
    "pycharm": {
     "name": "#%% md\n"
    }
   },
   "source": [
    "## Export Processed Data as csv to Local Folder"
   ]
  },
  {
   "cell_type": "code",
   "execution_count": 18,
   "metadata": {
    "collapsed": false,
    "jupyter": {
     "outputs_hidden": false
    },
    "tags": [],
    "pycharm": {
     "name": "#%%\n"
    }
   },
   "outputs": [],
   "source": [
    "processed_folder = \"../data/processed/auxiliary/\"\n",
    "\n",
    "if not os.path.exists(processed_folder):\n",
    "    os.makedirs(processed_folder)\n",
    "\n",
    "cl_users.to_csv(f'{processed_folder}users.csv')"
   ]
  }
 ],
 "metadata": {
  "availableInstances": [
   {
    "_defaultOrder": 0,
    "_isFastLaunch": true,
    "category": "General purpose",
    "gpuNum": 0,
    "hideHardwareSpecs": false,
    "memoryGiB": 4,
    "name": "ml.t3.medium",
    "vcpuNum": 2
   },
   {
    "_defaultOrder": 1,
    "_isFastLaunch": false,
    "category": "General purpose",
    "gpuNum": 0,
    "hideHardwareSpecs": false,
    "memoryGiB": 8,
    "name": "ml.t3.large",
    "vcpuNum": 2
   },
   {
    "_defaultOrder": 2,
    "_isFastLaunch": false,
    "category": "General purpose",
    "gpuNum": 0,
    "hideHardwareSpecs": false,
    "memoryGiB": 16,
    "name": "ml.t3.xlarge",
    "vcpuNum": 4
   },
   {
    "_defaultOrder": 3,
    "_isFastLaunch": false,
    "category": "General purpose",
    "gpuNum": 0,
    "hideHardwareSpecs": false,
    "memoryGiB": 32,
    "name": "ml.t3.2xlarge",
    "vcpuNum": 8
   },
   {
    "_defaultOrder": 4,
    "_isFastLaunch": true,
    "category": "General purpose",
    "gpuNum": 0,
    "hideHardwareSpecs": false,
    "memoryGiB": 8,
    "name": "ml.m5.large",
    "vcpuNum": 2
   },
   {
    "_defaultOrder": 5,
    "_isFastLaunch": false,
    "category": "General purpose",
    "gpuNum": 0,
    "hideHardwareSpecs": false,
    "memoryGiB": 16,
    "name": "ml.m5.xlarge",
    "vcpuNum": 4
   },
   {
    "_defaultOrder": 6,
    "_isFastLaunch": false,
    "category": "General purpose",
    "gpuNum": 0,
    "hideHardwareSpecs": false,
    "memoryGiB": 32,
    "name": "ml.m5.2xlarge",
    "vcpuNum": 8
   },
   {
    "_defaultOrder": 7,
    "_isFastLaunch": false,
    "category": "General purpose",
    "gpuNum": 0,
    "hideHardwareSpecs": false,
    "memoryGiB": 64,
    "name": "ml.m5.4xlarge",
    "vcpuNum": 16
   },
   {
    "_defaultOrder": 8,
    "_isFastLaunch": false,
    "category": "General purpose",
    "gpuNum": 0,
    "hideHardwareSpecs": false,
    "memoryGiB": 128,
    "name": "ml.m5.8xlarge",
    "vcpuNum": 32
   },
   {
    "_defaultOrder": 9,
    "_isFastLaunch": false,
    "category": "General purpose",
    "gpuNum": 0,
    "hideHardwareSpecs": false,
    "memoryGiB": 192,
    "name": "ml.m5.12xlarge",
    "vcpuNum": 48
   },
   {
    "_defaultOrder": 10,
    "_isFastLaunch": false,
    "category": "General purpose",
    "gpuNum": 0,
    "hideHardwareSpecs": false,
    "memoryGiB": 256,
    "name": "ml.m5.16xlarge",
    "vcpuNum": 64
   },
   {
    "_defaultOrder": 11,
    "_isFastLaunch": false,
    "category": "General purpose",
    "gpuNum": 0,
    "hideHardwareSpecs": false,
    "memoryGiB": 384,
    "name": "ml.m5.24xlarge",
    "vcpuNum": 96
   },
   {
    "_defaultOrder": 12,
    "_isFastLaunch": false,
    "category": "General purpose",
    "gpuNum": 0,
    "hideHardwareSpecs": false,
    "memoryGiB": 8,
    "name": "ml.m5d.large",
    "vcpuNum": 2
   },
   {
    "_defaultOrder": 13,
    "_isFastLaunch": false,
    "category": "General purpose",
    "gpuNum": 0,
    "hideHardwareSpecs": false,
    "memoryGiB": 16,
    "name": "ml.m5d.xlarge",
    "vcpuNum": 4
   },
   {
    "_defaultOrder": 14,
    "_isFastLaunch": false,
    "category": "General purpose",
    "gpuNum": 0,
    "hideHardwareSpecs": false,
    "memoryGiB": 32,
    "name": "ml.m5d.2xlarge",
    "vcpuNum": 8
   },
   {
    "_defaultOrder": 15,
    "_isFastLaunch": false,
    "category": "General purpose",
    "gpuNum": 0,
    "hideHardwareSpecs": false,
    "memoryGiB": 64,
    "name": "ml.m5d.4xlarge",
    "vcpuNum": 16
   },
   {
    "_defaultOrder": 16,
    "_isFastLaunch": false,
    "category": "General purpose",
    "gpuNum": 0,
    "hideHardwareSpecs": false,
    "memoryGiB": 128,
    "name": "ml.m5d.8xlarge",
    "vcpuNum": 32
   },
   {
    "_defaultOrder": 17,
    "_isFastLaunch": false,
    "category": "General purpose",
    "gpuNum": 0,
    "hideHardwareSpecs": false,
    "memoryGiB": 192,
    "name": "ml.m5d.12xlarge",
    "vcpuNum": 48
   },
   {
    "_defaultOrder": 18,
    "_isFastLaunch": false,
    "category": "General purpose",
    "gpuNum": 0,
    "hideHardwareSpecs": false,
    "memoryGiB": 256,
    "name": "ml.m5d.16xlarge",
    "vcpuNum": 64
   },
   {
    "_defaultOrder": 19,
    "_isFastLaunch": false,
    "category": "General purpose",
    "gpuNum": 0,
    "hideHardwareSpecs": false,
    "memoryGiB": 384,
    "name": "ml.m5d.24xlarge",
    "vcpuNum": 96
   },
   {
    "_defaultOrder": 20,
    "_isFastLaunch": false,
    "category": "General purpose",
    "gpuNum": 0,
    "hideHardwareSpecs": true,
    "memoryGiB": 0,
    "name": "ml.geospatial.interactive",
    "supportedImageNames": [
     "sagemaker-geospatial-v1-0"
    ],
    "vcpuNum": 0
   },
   {
    "_defaultOrder": 21,
    "_isFastLaunch": true,
    "category": "Compute optimized",
    "gpuNum": 0,
    "hideHardwareSpecs": false,
    "memoryGiB": 4,
    "name": "ml.c5.large",
    "vcpuNum": 2
   },
   {
    "_defaultOrder": 22,
    "_isFastLaunch": false,
    "category": "Compute optimized",
    "gpuNum": 0,
    "hideHardwareSpecs": false,
    "memoryGiB": 8,
    "name": "ml.c5.xlarge",
    "vcpuNum": 4
   },
   {
    "_defaultOrder": 23,
    "_isFastLaunch": false,
    "category": "Compute optimized",
    "gpuNum": 0,
    "hideHardwareSpecs": false,
    "memoryGiB": 16,
    "name": "ml.c5.2xlarge",
    "vcpuNum": 8
   },
   {
    "_defaultOrder": 24,
    "_isFastLaunch": false,
    "category": "Compute optimized",
    "gpuNum": 0,
    "hideHardwareSpecs": false,
    "memoryGiB": 32,
    "name": "ml.c5.4xlarge",
    "vcpuNum": 16
   },
   {
    "_defaultOrder": 25,
    "_isFastLaunch": false,
    "category": "Compute optimized",
    "gpuNum": 0,
    "hideHardwareSpecs": false,
    "memoryGiB": 72,
    "name": "ml.c5.9xlarge",
    "vcpuNum": 36
   },
   {
    "_defaultOrder": 26,
    "_isFastLaunch": false,
    "category": "Compute optimized",
    "gpuNum": 0,
    "hideHardwareSpecs": false,
    "memoryGiB": 96,
    "name": "ml.c5.12xlarge",
    "vcpuNum": 48
   },
   {
    "_defaultOrder": 27,
    "_isFastLaunch": false,
    "category": "Compute optimized",
    "gpuNum": 0,
    "hideHardwareSpecs": false,
    "memoryGiB": 144,
    "name": "ml.c5.18xlarge",
    "vcpuNum": 72
   },
   {
    "_defaultOrder": 28,
    "_isFastLaunch": false,
    "category": "Compute optimized",
    "gpuNum": 0,
    "hideHardwareSpecs": false,
    "memoryGiB": 192,
    "name": "ml.c5.24xlarge",
    "vcpuNum": 96
   },
   {
    "_defaultOrder": 29,
    "_isFastLaunch": true,
    "category": "Accelerated computing",
    "gpuNum": 1,
    "hideHardwareSpecs": false,
    "memoryGiB": 16,
    "name": "ml.g4dn.xlarge",
    "vcpuNum": 4
   },
   {
    "_defaultOrder": 30,
    "_isFastLaunch": false,
    "category": "Accelerated computing",
    "gpuNum": 1,
    "hideHardwareSpecs": false,
    "memoryGiB": 32,
    "name": "ml.g4dn.2xlarge",
    "vcpuNum": 8
   },
   {
    "_defaultOrder": 31,
    "_isFastLaunch": false,
    "category": "Accelerated computing",
    "gpuNum": 1,
    "hideHardwareSpecs": false,
    "memoryGiB": 64,
    "name": "ml.g4dn.4xlarge",
    "vcpuNum": 16
   },
   {
    "_defaultOrder": 32,
    "_isFastLaunch": false,
    "category": "Accelerated computing",
    "gpuNum": 1,
    "hideHardwareSpecs": false,
    "memoryGiB": 128,
    "name": "ml.g4dn.8xlarge",
    "vcpuNum": 32
   },
   {
    "_defaultOrder": 33,
    "_isFastLaunch": false,
    "category": "Accelerated computing",
    "gpuNum": 4,
    "hideHardwareSpecs": false,
    "memoryGiB": 192,
    "name": "ml.g4dn.12xlarge",
    "vcpuNum": 48
   },
   {
    "_defaultOrder": 34,
    "_isFastLaunch": false,
    "category": "Accelerated computing",
    "gpuNum": 1,
    "hideHardwareSpecs": false,
    "memoryGiB": 256,
    "name": "ml.g4dn.16xlarge",
    "vcpuNum": 64
   },
   {
    "_defaultOrder": 35,
    "_isFastLaunch": false,
    "category": "Accelerated computing",
    "gpuNum": 1,
    "hideHardwareSpecs": false,
    "memoryGiB": 61,
    "name": "ml.p3.2xlarge",
    "vcpuNum": 8
   },
   {
    "_defaultOrder": 36,
    "_isFastLaunch": false,
    "category": "Accelerated computing",
    "gpuNum": 4,
    "hideHardwareSpecs": false,
    "memoryGiB": 244,
    "name": "ml.p3.8xlarge",
    "vcpuNum": 32
   },
   {
    "_defaultOrder": 37,
    "_isFastLaunch": false,
    "category": "Accelerated computing",
    "gpuNum": 8,
    "hideHardwareSpecs": false,
    "memoryGiB": 488,
    "name": "ml.p3.16xlarge",
    "vcpuNum": 64
   },
   {
    "_defaultOrder": 38,
    "_isFastLaunch": false,
    "category": "Accelerated computing",
    "gpuNum": 8,
    "hideHardwareSpecs": false,
    "memoryGiB": 768,
    "name": "ml.p3dn.24xlarge",
    "vcpuNum": 96
   },
   {
    "_defaultOrder": 39,
    "_isFastLaunch": false,
    "category": "Memory Optimized",
    "gpuNum": 0,
    "hideHardwareSpecs": false,
    "memoryGiB": 16,
    "name": "ml.r5.large",
    "vcpuNum": 2
   },
   {
    "_defaultOrder": 40,
    "_isFastLaunch": false,
    "category": "Memory Optimized",
    "gpuNum": 0,
    "hideHardwareSpecs": false,
    "memoryGiB": 32,
    "name": "ml.r5.xlarge",
    "vcpuNum": 4
   },
   {
    "_defaultOrder": 41,
    "_isFastLaunch": false,
    "category": "Memory Optimized",
    "gpuNum": 0,
    "hideHardwareSpecs": false,
    "memoryGiB": 64,
    "name": "ml.r5.2xlarge",
    "vcpuNum": 8
   },
   {
    "_defaultOrder": 42,
    "_isFastLaunch": false,
    "category": "Memory Optimized",
    "gpuNum": 0,
    "hideHardwareSpecs": false,
    "memoryGiB": 128,
    "name": "ml.r5.4xlarge",
    "vcpuNum": 16
   },
   {
    "_defaultOrder": 43,
    "_isFastLaunch": false,
    "category": "Memory Optimized",
    "gpuNum": 0,
    "hideHardwareSpecs": false,
    "memoryGiB": 256,
    "name": "ml.r5.8xlarge",
    "vcpuNum": 32
   },
   {
    "_defaultOrder": 44,
    "_isFastLaunch": false,
    "category": "Memory Optimized",
    "gpuNum": 0,
    "hideHardwareSpecs": false,
    "memoryGiB": 384,
    "name": "ml.r5.12xlarge",
    "vcpuNum": 48
   },
   {
    "_defaultOrder": 45,
    "_isFastLaunch": false,
    "category": "Memory Optimized",
    "gpuNum": 0,
    "hideHardwareSpecs": false,
    "memoryGiB": 512,
    "name": "ml.r5.16xlarge",
    "vcpuNum": 64
   },
   {
    "_defaultOrder": 46,
    "_isFastLaunch": false,
    "category": "Memory Optimized",
    "gpuNum": 0,
    "hideHardwareSpecs": false,
    "memoryGiB": 768,
    "name": "ml.r5.24xlarge",
    "vcpuNum": 96
   },
   {
    "_defaultOrder": 47,
    "_isFastLaunch": false,
    "category": "Accelerated computing",
    "gpuNum": 1,
    "hideHardwareSpecs": false,
    "memoryGiB": 16,
    "name": "ml.g5.xlarge",
    "vcpuNum": 4
   },
   {
    "_defaultOrder": 48,
    "_isFastLaunch": false,
    "category": "Accelerated computing",
    "gpuNum": 1,
    "hideHardwareSpecs": false,
    "memoryGiB": 32,
    "name": "ml.g5.2xlarge",
    "vcpuNum": 8
   },
   {
    "_defaultOrder": 49,
    "_isFastLaunch": false,
    "category": "Accelerated computing",
    "gpuNum": 1,
    "hideHardwareSpecs": false,
    "memoryGiB": 64,
    "name": "ml.g5.4xlarge",
    "vcpuNum": 16
   },
   {
    "_defaultOrder": 50,
    "_isFastLaunch": false,
    "category": "Accelerated computing",
    "gpuNum": 1,
    "hideHardwareSpecs": false,
    "memoryGiB": 128,
    "name": "ml.g5.8xlarge",
    "vcpuNum": 32
   },
   {
    "_defaultOrder": 51,
    "_isFastLaunch": false,
    "category": "Accelerated computing",
    "gpuNum": 1,
    "hideHardwareSpecs": false,
    "memoryGiB": 256,
    "name": "ml.g5.16xlarge",
    "vcpuNum": 64
   },
   {
    "_defaultOrder": 52,
    "_isFastLaunch": false,
    "category": "Accelerated computing",
    "gpuNum": 4,
    "hideHardwareSpecs": false,
    "memoryGiB": 192,
    "name": "ml.g5.12xlarge",
    "vcpuNum": 48
   },
   {
    "_defaultOrder": 53,
    "_isFastLaunch": false,
    "category": "Accelerated computing",
    "gpuNum": 4,
    "hideHardwareSpecs": false,
    "memoryGiB": 384,
    "name": "ml.g5.24xlarge",
    "vcpuNum": 96
   },
   {
    "_defaultOrder": 54,
    "_isFastLaunch": false,
    "category": "Accelerated computing",
    "gpuNum": 8,
    "hideHardwareSpecs": false,
    "memoryGiB": 768,
    "name": "ml.g5.48xlarge",
    "vcpuNum": 192
   },
   {
    "_defaultOrder": 55,
    "_isFastLaunch": false,
    "category": "Accelerated computing",
    "gpuNum": 8,
    "hideHardwareSpecs": false,
    "memoryGiB": 1152,
    "name": "ml.p4d.24xlarge",
    "vcpuNum": 96
   },
   {
    "_defaultOrder": 56,
    "_isFastLaunch": false,
    "category": "Accelerated computing",
    "gpuNum": 8,
    "hideHardwareSpecs": false,
    "memoryGiB": 1152,
    "name": "ml.p4de.24xlarge",
    "vcpuNum": 96
   }
  ],
  "instance_type": "ml.t3.medium",
  "kernelspec": {
   "name": "python3",
   "language": "python",
   "display_name": "Python 3 (ipykernel)"
  },
  "language_info": {
   "codemirror_mode": {
    "name": "ipython",
    "version": 3
   },
   "file_extension": ".py",
   "mimetype": "text/x-python",
   "name": "python",
   "nbconvert_exporter": "python",
   "pygments_lexer": "ipython3",
   "version": "3.7.10"
  }
 },
 "nbformat": 4,
 "nbformat_minor": 4
}
