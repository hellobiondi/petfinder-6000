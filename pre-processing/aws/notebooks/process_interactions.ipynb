{
 "cells": [
  {
   "cell_type": "markdown",
   "metadata": {
    "pycharm": {
     "name": "#%% md\n"
    }
   },
   "source": [
    "# Data Preprocessing for PetFinder6000"
   ]
  },
  {
   "cell_type": "code",
   "execution_count": 1,
   "metadata": {
    "tags": [],
    "pycharm": {
     "name": "#%%\n"
    }
   },
   "outputs": [],
   "source": [
    "import pandas as pd\n",
    "import numpy as np\n",
    "import re\n",
    "import os\n",
    "import glob\n",
    "import shutil\n",
    "\n",
    "import boto3\n",
    "import sagemaker"
   ]
  },
  {
   "cell_type": "markdown",
   "metadata": {
    "pycharm": {
     "name": "#%% md\n"
    }
   },
   "source": [
    "## Interactions"
   ]
  },
  {
   "cell_type": "markdown",
   "metadata": {
    "pycharm": {
     "name": "#%% md\n"
    }
   },
   "source": [
    "## Load Data from S3"
   ]
  },
  {
   "cell_type": "code",
   "execution_count": 2,
   "outputs": [
    {
     "name": "stdout",
     "output_type": "stream",
     "text": [
      "env: AWS_PROFILE=aeroxye-sagemaker\n"
     ]
    }
   ],
   "source": [
    "%env AWS_PROFILE=aeroxye-sagemaker"
   ],
   "metadata": {
    "collapsed": false,
    "pycharm": {
     "name": "#%%\n"
    }
   }
  },
  {
   "cell_type": "code",
   "execution_count": 3,
   "outputs": [
    {
     "name": "stdout",
     "output_type": "stream",
     "text": [
      "{\n",
      "    \"UserId\": \"AROAWC4YSIQL5OBFCNGEX:botocore-session-1686898676\",\n",
      "    \"Account\": \"418542404631\",\n",
      "    \"Arn\": \"arn:aws:sts::418542404631:assumed-role/SageMaker-UserRole/botocore-session-1686898676\"\n",
      "}\n"
     ]
    }
   ],
   "source": [
    "!aws sts get-caller-identity"
   ],
   "metadata": {
    "collapsed": false,
    "pycharm": {
     "name": "#%%\n"
    }
   }
  },
  {
   "cell_type": "code",
   "execution_count": 4,
   "outputs": [
    {
     "name": "stderr",
     "output_type": "stream",
     "text": [
      "Couldn't call 'get_role' to get Role ARN from role name SageMaker-UserRole to get Role path.\n"
     ]
    }
   ],
   "source": [
    "try:\n",
    "    role = sagemaker.get_execution_role()\n",
    "except ValueError:\n",
    "    iam = boto3.client('iam')\n",
    "    role = iam.get_role(RoleName='SageMaker-UserRole')['Role']['Arn']"
   ],
   "metadata": {
    "collapsed": false,
    "pycharm": {
     "name": "#%%\n"
    }
   }
  },
  {
   "cell_type": "code",
   "execution_count": 5,
   "metadata": {
    "tags": [],
    "pycharm": {
     "name": "#%%\n"
    }
   },
   "outputs": [
    {
     "name": "stdout",
     "output_type": "stream",
     "text": [
      "run-1686726857238-part-r-00000\n",
      "run-1686726857238-part-r-00001\n",
      "run-1686726857238-part-r-00002\n",
      "run-1686726857238-part-r-00003\n"
     ]
    }
   ],
   "source": [
    "region = boto3.Session().region_name\n",
    "\n",
    "data_bucket = \"dynamodbpetfinder\"\n",
    "object_prefix = \"interaction_\"\n",
    "local_path = \"../data/interaction/\"\n",
    "\n",
    "if not os.path.exists(local_path):\n",
    "    os.makedirs(local_path)\n",
    "else:\n",
    "    shutil.rmtree(local_path)\n",
    "    os.makedirs(local_path)\n",
    "\n",
    "pattern = r'[0-9]+'\n",
    "s3 = boto3.client(\"s3\")\n",
    "\n",
    "result = s3.list_objects(Bucket=data_bucket, Prefix=object_prefix, Delimiter=\"/\")\n",
    "subfolders = [re.search(pattern, o.get(\"Prefix\")).group() for o in result.get(\"CommonPrefixes\")]\n",
    "subfolders.sort(reverse=True)\n",
    "\n",
    "object_path = object_prefix + subfolders[0] + \"/\"\n",
    "files = s3.list_objects(Bucket=data_bucket, Prefix=object_path, Delimiter=\"/\")\n",
    "\n",
    "pattern = rf'{object_path}(.+)'\n",
    "for content in files.get(\"Contents\"):\n",
    "    file_path = content.get(\"Key\")\n",
    "    filename = re.findall(pattern, file_path)[0]\n",
    "    print(filename)\n",
    "\n",
    "    with open(local_path+filename, 'wb') as file:\n",
    "        s3.download_fileobj(\n",
    "            Bucket=data_bucket,\n",
    "            Key=file_path,\n",
    "            Fileobj=file\n",
    "        )"
   ]
  },
  {
   "cell_type": "code",
   "execution_count": 6,
   "metadata": {
    "tags": [],
    "pycharm": {
     "name": "#%%\n"
    }
   },
   "outputs": [
    {
     "name": "stdout",
     "output_type": "stream",
     "text": [
      "['../data/interaction\\\\run-1686726857238-part-r-00000', '../data/interaction\\\\run-1686726857238-part-r-00001', '../data/interaction\\\\run-1686726857238-part-r-00002', '../data/interaction\\\\run-1686726857238-part-r-00003']\n"
     ]
    }
   ],
   "source": [
    "file_list = glob.glob(local_path + \"*\")\n",
    "\n",
    "print(file_list)\n",
    "\n",
    "dfs = [] # an empty list to store the data frames\n",
    "for file in file_list:\n",
    "    data = pd.read_csv(file) # read data frame from csv file\n",
    "    dfs.append(data) # append the data frame to the list\n",
    "    \n",
    "interactions = pd.concat(dfs, ignore_index=True)"
   ]
  },
  {
   "cell_type": "code",
   "execution_count": 7,
   "metadata": {
    "tags": [],
    "pycharm": {
     "name": "#%%\n"
    }
   },
   "outputs": [
    {
     "data": {
      "text/plain": "                                     id   __typename  _lastChangedAt  \\\n0  c54a5a6b-dcfb-41cf-9090-5e35eef55af0  Interaction   1685988876889   \n1  490f7835-d803-4c5e-8543-28fdb24e6dd6  Interaction   1686149751346   \n2  5ace4bcc-cf60-4e62-9ae7-822617a86c8d  Interaction   1684813208891   \n3  a2b1ca94-068f-460e-876d-70d6d4568a47  Interaction   1684463433803   \n4  f6a70902-c175-404d-a5f7-d85a64eccb51  Interaction   1684486874155   \n\n   _version                                 catID  \\\n0         1  0b7a6618-7c9b-4169-9916-a2e06b7b352e   \n1         1  23eccd95-56d8-407e-98fa-32c49158d4dd   \n2         1  bd8c1b25-bb4b-4d0d-ac37-3d6799d885f9   \n3         1  0076ee93-e587-4b01-b916-56d008f1f233   \n4         1  16949c4a-5b34-475b-8d9c-d180caaf6154   \n\n                                 userID                 updatedAt   like  \\\n0  2fea2054-830c-4399-ab5b-b25df10850b2  2023-06-05T18:14:36.859Z  False   \n1  43c4ff06-20cc-489d-83c4-5074ad36efb5  2023-06-07T14:55:51.343Z  False   \n2  082a5d87-5cb2-41d1-a29d-601b38d9f380  2023-05-23T03:40:08.864Z  False   \n3  9753bff1-0f69-4cde-8a3a-9c4c7cabc8b8  2023-05-19T02:30:33.800Z  False   \n4  9af16262-416a-466a-973d-4d54ea0c2172  2023-05-19T09:01:14.153Z  False   \n\n                  createdAt  dwell_time_ms  click  \n0  2023-06-05T18:14:36.859Z           1173   True  \n1  2023-06-07T14:55:51.343Z            797   True  \n2  2023-05-23T03:40:08.864Z           3809   True  \n3  2023-05-19T02:30:33.800Z            733   True  \n4  2023-05-19T09:01:14.153Z           1335  False  ",
      "text/html": "<div>\n<style scoped>\n    .dataframe tbody tr th:only-of-type {\n        vertical-align: middle;\n    }\n\n    .dataframe tbody tr th {\n        vertical-align: top;\n    }\n\n    .dataframe thead th {\n        text-align: right;\n    }\n</style>\n<table border=\"1\" class=\"dataframe\">\n  <thead>\n    <tr style=\"text-align: right;\">\n      <th></th>\n      <th>id</th>\n      <th>__typename</th>\n      <th>_lastChangedAt</th>\n      <th>_version</th>\n      <th>catID</th>\n      <th>userID</th>\n      <th>updatedAt</th>\n      <th>like</th>\n      <th>createdAt</th>\n      <th>dwell_time_ms</th>\n      <th>click</th>\n    </tr>\n  </thead>\n  <tbody>\n    <tr>\n      <th>0</th>\n      <td>c54a5a6b-dcfb-41cf-9090-5e35eef55af0</td>\n      <td>Interaction</td>\n      <td>1685988876889</td>\n      <td>1</td>\n      <td>0b7a6618-7c9b-4169-9916-a2e06b7b352e</td>\n      <td>2fea2054-830c-4399-ab5b-b25df10850b2</td>\n      <td>2023-06-05T18:14:36.859Z</td>\n      <td>False</td>\n      <td>2023-06-05T18:14:36.859Z</td>\n      <td>1173</td>\n      <td>True</td>\n    </tr>\n    <tr>\n      <th>1</th>\n      <td>490f7835-d803-4c5e-8543-28fdb24e6dd6</td>\n      <td>Interaction</td>\n      <td>1686149751346</td>\n      <td>1</td>\n      <td>23eccd95-56d8-407e-98fa-32c49158d4dd</td>\n      <td>43c4ff06-20cc-489d-83c4-5074ad36efb5</td>\n      <td>2023-06-07T14:55:51.343Z</td>\n      <td>False</td>\n      <td>2023-06-07T14:55:51.343Z</td>\n      <td>797</td>\n      <td>True</td>\n    </tr>\n    <tr>\n      <th>2</th>\n      <td>5ace4bcc-cf60-4e62-9ae7-822617a86c8d</td>\n      <td>Interaction</td>\n      <td>1684813208891</td>\n      <td>1</td>\n      <td>bd8c1b25-bb4b-4d0d-ac37-3d6799d885f9</td>\n      <td>082a5d87-5cb2-41d1-a29d-601b38d9f380</td>\n      <td>2023-05-23T03:40:08.864Z</td>\n      <td>False</td>\n      <td>2023-05-23T03:40:08.864Z</td>\n      <td>3809</td>\n      <td>True</td>\n    </tr>\n    <tr>\n      <th>3</th>\n      <td>a2b1ca94-068f-460e-876d-70d6d4568a47</td>\n      <td>Interaction</td>\n      <td>1684463433803</td>\n      <td>1</td>\n      <td>0076ee93-e587-4b01-b916-56d008f1f233</td>\n      <td>9753bff1-0f69-4cde-8a3a-9c4c7cabc8b8</td>\n      <td>2023-05-19T02:30:33.800Z</td>\n      <td>False</td>\n      <td>2023-05-19T02:30:33.800Z</td>\n      <td>733</td>\n      <td>True</td>\n    </tr>\n    <tr>\n      <th>4</th>\n      <td>f6a70902-c175-404d-a5f7-d85a64eccb51</td>\n      <td>Interaction</td>\n      <td>1684486874155</td>\n      <td>1</td>\n      <td>16949c4a-5b34-475b-8d9c-d180caaf6154</td>\n      <td>9af16262-416a-466a-973d-4d54ea0c2172</td>\n      <td>2023-05-19T09:01:14.153Z</td>\n      <td>False</td>\n      <td>2023-05-19T09:01:14.153Z</td>\n      <td>1335</td>\n      <td>False</td>\n    </tr>\n  </tbody>\n</table>\n</div>"
     },
     "execution_count": 7,
     "metadata": {},
     "output_type": "execute_result"
    }
   ],
   "source": [
    "interactions.head()"
   ]
  },
  {
   "cell_type": "code",
   "execution_count": 28,
   "metadata": {
    "collapsed": false,
    "jupyter": {
     "outputs_hidden": false
    },
    "pycharm": {
     "name": "#%%\n"
    }
   },
   "outputs": [],
   "source": [
    "# interactions = pd.read_csv('../data/interactions_5-23-2023.csv', header=0)"
   ]
  },
  {
   "cell_type": "markdown",
   "metadata": {
    "pycharm": {
     "name": "#%% md\n"
    }
   },
   "source": [
    "## Process Data"
   ]
  },
  {
   "cell_type": "code",
   "execution_count": 8,
   "metadata": {
    "collapsed": false,
    "jupyter": {
     "outputs_hidden": false
    },
    "tags": [],
    "pycharm": {
     "name": "#%%\n"
    }
   },
   "outputs": [],
   "source": [
    "# rename headers\n",
    "cl_interactions = interactions.rename(columns={\n",
    "                              'createdAt': 'created_at',\n",
    "                              'updatedAt': 'updated_at',\n",
    "                              })\n",
    "\n",
    "# convert types\n",
    "cl_interactions = cl_interactions.astype({\n",
    "                          'like': 'int',\n",
    "                          'click': 'int',\n",
    "                          })\n",
    "cl_interactions['created_at'] = pd.to_datetime(cl_interactions['created_at']).dt.strftime('%Y-%m-%dT%H:%M:%SZ')\n",
    "cl_interactions['updated_at'] = pd.to_datetime(cl_interactions['updated_at']).dt.strftime('%Y-%m-%dT%H:%M:%SZ')"
   ]
  },
  {
   "cell_type": "code",
   "execution_count": 9,
   "metadata": {
    "tags": [],
    "pycharm": {
     "name": "#%%\n"
    }
   },
   "outputs": [],
   "source": [
    "# drop glue columns\n",
    "cl_interactions = cl_interactions.drop(['__typename', '_lastChangedAt', '_version'], axis=1)"
   ]
  },
  {
   "cell_type": "code",
   "execution_count": 10,
   "metadata": {
    "collapsed": false,
    "jupyter": {
     "outputs_hidden": false
    },
    "tags": [],
    "pycharm": {
     "name": "#%%\n"
    }
   },
   "outputs": [
    {
     "name": "stdout",
     "output_type": "stream",
     "text": [
      "<class 'pandas.core.frame.DataFrame'>\n",
      "RangeIndex: 4841 entries, 0 to 4840\n",
      "Data columns (total 8 columns):\n",
      " #   Column         Non-Null Count  Dtype \n",
      "---  ------         --------------  ----- \n",
      " 0   id             4841 non-null   object\n",
      " 1   catID          4841 non-null   object\n",
      " 2   userID         4841 non-null   object\n",
      " 3   updated_at     4841 non-null   object\n",
      " 4   like           4841 non-null   int32 \n",
      " 5   created_at     4841 non-null   object\n",
      " 6   dwell_time_ms  4841 non-null   int64 \n",
      " 7   click          4841 non-null   int32 \n",
      "dtypes: int32(2), int64(1), object(5)\n",
      "memory usage: 264.9+ KB\n"
     ]
    }
   ],
   "source": [
    "cl_interactions.info()"
   ]
  },
  {
   "cell_type": "code",
   "execution_count": 11,
   "metadata": {
    "collapsed": false,
    "jupyter": {
     "outputs_hidden": false
    },
    "tags": [],
    "pycharm": {
     "name": "#%%\n"
    }
   },
   "outputs": [
    {
     "data": {
      "text/plain": "                                     id                                 catID  \\\n0  c54a5a6b-dcfb-41cf-9090-5e35eef55af0  0b7a6618-7c9b-4169-9916-a2e06b7b352e   \n1  490f7835-d803-4c5e-8543-28fdb24e6dd6  23eccd95-56d8-407e-98fa-32c49158d4dd   \n2  5ace4bcc-cf60-4e62-9ae7-822617a86c8d  bd8c1b25-bb4b-4d0d-ac37-3d6799d885f9   \n3  a2b1ca94-068f-460e-876d-70d6d4568a47  0076ee93-e587-4b01-b916-56d008f1f233   \n4  f6a70902-c175-404d-a5f7-d85a64eccb51  16949c4a-5b34-475b-8d9c-d180caaf6154   \n\n                                 userID            updated_at  like  \\\n0  2fea2054-830c-4399-ab5b-b25df10850b2  2023-06-05T18:14:36Z     0   \n1  43c4ff06-20cc-489d-83c4-5074ad36efb5  2023-06-07T14:55:51Z     0   \n2  082a5d87-5cb2-41d1-a29d-601b38d9f380  2023-05-23T03:40:08Z     0   \n3  9753bff1-0f69-4cde-8a3a-9c4c7cabc8b8  2023-05-19T02:30:33Z     0   \n4  9af16262-416a-466a-973d-4d54ea0c2172  2023-05-19T09:01:14Z     0   \n\n             created_at  dwell_time_ms  click  \n0  2023-06-05T18:14:36Z           1173      1  \n1  2023-06-07T14:55:51Z            797      1  \n2  2023-05-23T03:40:08Z           3809      1  \n3  2023-05-19T02:30:33Z            733      1  \n4  2023-05-19T09:01:14Z           1335      0  ",
      "text/html": "<div>\n<style scoped>\n    .dataframe tbody tr th:only-of-type {\n        vertical-align: middle;\n    }\n\n    .dataframe tbody tr th {\n        vertical-align: top;\n    }\n\n    .dataframe thead th {\n        text-align: right;\n    }\n</style>\n<table border=\"1\" class=\"dataframe\">\n  <thead>\n    <tr style=\"text-align: right;\">\n      <th></th>\n      <th>id</th>\n      <th>catID</th>\n      <th>userID</th>\n      <th>updated_at</th>\n      <th>like</th>\n      <th>created_at</th>\n      <th>dwell_time_ms</th>\n      <th>click</th>\n    </tr>\n  </thead>\n  <tbody>\n    <tr>\n      <th>0</th>\n      <td>c54a5a6b-dcfb-41cf-9090-5e35eef55af0</td>\n      <td>0b7a6618-7c9b-4169-9916-a2e06b7b352e</td>\n      <td>2fea2054-830c-4399-ab5b-b25df10850b2</td>\n      <td>2023-06-05T18:14:36Z</td>\n      <td>0</td>\n      <td>2023-06-05T18:14:36Z</td>\n      <td>1173</td>\n      <td>1</td>\n    </tr>\n    <tr>\n      <th>1</th>\n      <td>490f7835-d803-4c5e-8543-28fdb24e6dd6</td>\n      <td>23eccd95-56d8-407e-98fa-32c49158d4dd</td>\n      <td>43c4ff06-20cc-489d-83c4-5074ad36efb5</td>\n      <td>2023-06-07T14:55:51Z</td>\n      <td>0</td>\n      <td>2023-06-07T14:55:51Z</td>\n      <td>797</td>\n      <td>1</td>\n    </tr>\n    <tr>\n      <th>2</th>\n      <td>5ace4bcc-cf60-4e62-9ae7-822617a86c8d</td>\n      <td>bd8c1b25-bb4b-4d0d-ac37-3d6799d885f9</td>\n      <td>082a5d87-5cb2-41d1-a29d-601b38d9f380</td>\n      <td>2023-05-23T03:40:08Z</td>\n      <td>0</td>\n      <td>2023-05-23T03:40:08Z</td>\n      <td>3809</td>\n      <td>1</td>\n    </tr>\n    <tr>\n      <th>3</th>\n      <td>a2b1ca94-068f-460e-876d-70d6d4568a47</td>\n      <td>0076ee93-e587-4b01-b916-56d008f1f233</td>\n      <td>9753bff1-0f69-4cde-8a3a-9c4c7cabc8b8</td>\n      <td>2023-05-19T02:30:33Z</td>\n      <td>0</td>\n      <td>2023-05-19T02:30:33Z</td>\n      <td>733</td>\n      <td>1</td>\n    </tr>\n    <tr>\n      <th>4</th>\n      <td>f6a70902-c175-404d-a5f7-d85a64eccb51</td>\n      <td>16949c4a-5b34-475b-8d9c-d180caaf6154</td>\n      <td>9af16262-416a-466a-973d-4d54ea0c2172</td>\n      <td>2023-05-19T09:01:14Z</td>\n      <td>0</td>\n      <td>2023-05-19T09:01:14Z</td>\n      <td>1335</td>\n      <td>0</td>\n    </tr>\n  </tbody>\n</table>\n</div>"
     },
     "execution_count": 11,
     "metadata": {},
     "output_type": "execute_result"
    }
   ],
   "source": [
    "cl_interactions.head()"
   ]
  },
  {
   "cell_type": "markdown",
   "metadata": {
    "pycharm": {
     "name": "#%% md\n"
    }
   },
   "source": [
    "## Export Processed Data as csv to Local Folder"
   ]
  },
  {
   "cell_type": "code",
   "execution_count": 12,
   "metadata": {
    "tags": [],
    "pycharm": {
     "name": "#%%\n"
    }
   },
   "outputs": [],
   "source": [
    "processed_folder = \"../data/processed/auxiliary/\"\n",
    "\n",
    "if not os.path.exists(processed_folder):\n",
    "    os.makedirs(processed_folder)\n",
    "\n",
    "cl_interactions.to_csv(f'{processed_folder}interactions.csv')"
   ]
  },
  {
   "cell_type": "markdown",
   "metadata": {
    "pycharm": {
     "name": "#%% md\n"
    }
   },
   "source": [
    "# Train/Test Split"
   ]
  },
  {
   "cell_type": "code",
   "execution_count": 13,
   "metadata": {
    "collapsed": false,
    "jupyter": {
     "outputs_hidden": false
    },
    "pycharm": {
     "name": "#%%\n"
    }
   },
   "outputs": [],
   "source": [
    "from sklearn.model_selection import train_test_split\n",
    "\n",
    "test_size = 0.2\n",
    "validation_size = 0.5 # of test size\n",
    "random_state = 2023"
   ]
  },
  {
   "cell_type": "code",
   "execution_count": 19,
   "outputs": [],
   "source": [
    "output_path = '../data/output/'\n",
    "if not os.path.exists(output_path):\n",
    "    os.makedirs(output_path)\n",
    "else:\n",
    "    shutil.rmtree(output_path)\n",
    "    os.makedirs(output_path)"
   ],
   "metadata": {
    "collapsed": false,
    "pycharm": {
     "name": "#%%\n"
    }
   }
  },
  {
   "cell_type": "markdown",
   "metadata": {
    "pycharm": {
     "name": "#%% md\n"
    }
   },
   "source": [
    "## Leave some users out"
   ]
  },
  {
   "cell_type": "markdown",
   "metadata": {
    "pycharm": {
     "name": "#%% md\n"
    }
   },
   "source": [
    "### In notebook processing"
   ]
  },
  {
   "cell_type": "code",
   "execution_count": 14,
   "metadata": {
    "collapsed": false,
    "jupyter": {
     "outputs_hidden": false
    },
    "pycharm": {
     "name": "#%%\n"
    }
   },
   "outputs": [],
   "source": [
    "users = cl_interactions['userID'].unique()\n",
    "\n",
    "train_users, test_users = train_test_split(users, test_size=test_size, shuffle=True, random_state=random_state)\n",
    "validation_users, test_users = train_test_split(test_users, test_size=validation_size, shuffle=True, random_state=random_state)"
   ]
  },
  {
   "cell_type": "code",
   "execution_count": 15,
   "metadata": {
    "collapsed": false,
    "jupyter": {
     "outputs_hidden": false
    },
    "pycharm": {
     "name": "#%%\n"
    }
   },
   "outputs": [],
   "source": [
    "train_set = cl_interactions[cl_interactions['userID'].isin(train_users)]\n",
    "validation_set = cl_interactions[cl_interactions['userID'].isin(validation_users)]\n",
    "test_set = cl_interactions[cl_interactions['userID'].isin(test_users)]"
   ]
  },
  {
   "cell_type": "code",
   "execution_count": 20,
   "metadata": {
    "collapsed": false,
    "jupyter": {
     "outputs_hidden": false
    },
    "pycharm": {
     "name": "#%%\n"
    }
   },
   "outputs": [],
   "source": [
    "train_set.to_csv('../data/output/lsuo_train.csv')\n",
    "validation_set.to_csv('../data/output/lsuo_validation.csv')\n",
    "test_set.to_csv('../data/output/lsuo_test.csv')"
   ]
  },
  {
   "cell_type": "markdown",
   "metadata": {
    "pycharm": {
     "name": "#%% md\n"
    }
   },
   "source": [
    "### Container processing"
   ]
  },
  {
   "cell_type": "code",
   "execution_count": 21,
   "metadata": {
    "tags": [],
    "pycharm": {
     "name": "#%%\n"
    }
   },
   "outputs": [
    {
     "name": "stderr",
     "output_type": "stream",
     "text": [
      "Couldn't call 'get_role' to get Role ARN from role name SageMaker-UserRole to get Role path.\n"
     ]
    }
   ],
   "source": [
    "from sagemaker.sklearn.processing import SKLearnProcessor\n",
    "from sagemaker.session import Session\n",
    "\n",
    "role = sagemaker.get_execution_role()\n",
    "region = boto3.Session().region_name\n",
    "\n",
    "bucket_name = \"petfinder6000-training\"\n",
    "base_job_name = \"lsuo\"\n",
    "sklearn_processor = SKLearnProcessor(\n",
    "    framework_version=\"1.2-1\", role=role, instance_type=\"ml.m5.xlarge\", instance_count=1,\n",
    "    sagemaker_session=Session(default_bucket=bucket_name),\n",
    "    base_job_name=base_job_name\n",
    ")"
   ]
  },
  {
   "cell_type": "code",
   "execution_count": 22,
   "metadata": {
    "tags": [],
    "pycharm": {
     "name": "#%%\n"
    }
   },
   "outputs": [
    {
     "name": "stderr",
     "output_type": "stream",
     "text": [
      "INFO:sagemaker:Creating processing-job with name lsuo-2023-06-16-07-03-00-111\n"
     ]
    },
    {
     "name": "stdout",
     "output_type": "stream",
     "text": [
      "......................\u001B[34mShape of data is: (4841, 9)\u001B[0m\n",
      "\u001B[34mSuccessfully created directories\u001B[0m\n",
      "\u001B[34mWrote files successfully\u001B[0m\n",
      "\u001B[34mCompleted running the processing job\u001B[0m\n",
      "\n"
     ]
    }
   ],
   "source": [
    "from sagemaker.processing import ProcessingInput, ProcessingOutput\n",
    "\n",
    "processed_folder = \"../data/processed/auxiliary/\"\n",
    "sklearn_processor.run(\n",
    "    code=\"../scripts/leave-some-users-out.py\",\n",
    "    # arguments = [\"arg1\", \"arg2\"], # Arguments can optionally be specified here\n",
    "    inputs=[ProcessingInput(source=f\"{processed_folder}interactions.csv\", destination=\"/opt/ml/processing/input\")],\n",
    "    outputs=[\n",
    "        ProcessingOutput(source=f\"/opt/ml/processing/train\", output_name=\"train\"),\n",
    "        ProcessingOutput(source=f\"/opt/ml/processing/validation\", output_name=\"validation\"),\n",
    "        ProcessingOutput(source=f\"/opt/ml/processing/test\", output_name=\"test\"),\n",
    "    ],\n",
    ")"
   ]
  },
  {
   "cell_type": "markdown",
   "metadata": {
    "pycharm": {
     "name": "#%% md\n"
    }
   },
   "source": [
    "## Stratified Split"
   ]
  },
  {
   "cell_type": "markdown",
   "metadata": {
    "pycharm": {
     "name": "#%% md\n"
    }
   },
   "source": [
    "### In notebook processing"
   ]
  },
  {
   "cell_type": "code",
   "execution_count": 23,
   "metadata": {
    "collapsed": false,
    "jupyter": {
     "outputs_hidden": false
    },
    "pycharm": {
     "name": "#%%\n"
    }
   },
   "outputs": [],
   "source": [
    "train_set = cl_interactions.groupby('userID').sample(frac=1-test_size, random_state=random_state)\n",
    "test_set = cl_interactions.drop(train_set.index)\n",
    "\n",
    "validation_set = test_set.groupby('userID').sample(frac=validation_size, random_state=random_state)\n",
    "test_set = test_set.drop(validation_set.index)"
   ]
  },
  {
   "cell_type": "code",
   "execution_count": 24,
   "metadata": {
    "collapsed": false,
    "jupyter": {
     "outputs_hidden": false
    },
    "pycharm": {
     "name": "#%%\n"
    }
   },
   "outputs": [
    {
     "name": "stdout",
     "output_type": "stream",
     "text": [
      "Total number of users: 104\n",
      "Number of users in training: 104\n",
      "Number of users in validation: 96\n",
      "Number of users in test: 100\n"
     ]
    }
   ],
   "source": [
    "print(f'Total number of users: {cl_interactions[\"userID\"].nunique()}')\n",
    "print(f'Number of users in training: {train_set[\"userID\"].nunique()}')\n",
    "print(f'Number of users in validation: {validation_set[\"userID\"].nunique()}')\n",
    "print(f'Number of users in test: {test_set[\"userID\"].nunique()}')"
   ]
  },
  {
   "cell_type": "code",
   "execution_count": 25,
   "metadata": {
    "collapsed": false,
    "jupyter": {
     "outputs_hidden": false
    },
    "pycharm": {
     "name": "#%%\n"
    }
   },
   "outputs": [],
   "source": [
    "train_set.to_csv('../data/output/strat_train.csv')\n",
    "validation_set.to_csv('../data/output/strat_validation.csv')\n",
    "test_set.to_csv('../data/output/strat_test.csv')"
   ]
  },
  {
   "cell_type": "markdown",
   "metadata": {
    "pycharm": {
     "name": "#%% md\n"
    }
   },
   "source": [
    "### Container processing"
   ]
  },
  {
   "cell_type": "code",
   "execution_count": 26,
   "metadata": {
    "pycharm": {
     "name": "#%%\n"
    }
   },
   "outputs": [
    {
     "name": "stderr",
     "output_type": "stream",
     "text": [
      "WARNING:sagemaker:Couldn't call 'get_role' to get Role ARN from role name SageMaker-UserRole to get Role path.\n",
      "INFO:sagemaker.image_uris:Defaulting to only available Python version: py3\n"
     ]
    }
   ],
   "source": [
    "from sagemaker.sklearn.processing import SKLearnProcessor\n",
    "from sagemaker.session import Session\n",
    "\n",
    "role = sagemaker.get_execution_role()\n",
    "region = boto3.Session().region_name\n",
    "\n",
    "bucket_name = \"petfinder6000-training\"\n",
    "base_job_name = \"strat\"\n",
    "sklearn_processor = SKLearnProcessor(\n",
    "    framework_version=\"1.2-1\", role=role, instance_type=\"ml.m5.xlarge\", instance_count=1,\n",
    "    sagemaker_session=Session(default_bucket=bucket_name),\n",
    "    base_job_name=base_job_name\n",
    ")"
   ]
  },
  {
   "cell_type": "code",
   "execution_count": 27,
   "metadata": {
    "pycharm": {
     "name": "#%%\n"
    }
   },
   "outputs": [
    {
     "name": "stderr",
     "output_type": "stream",
     "text": [
      "INFO:sagemaker:Creating processing-job with name strat-2023-06-16-07-09-28-233\n"
     ]
    },
    {
     "name": "stdout",
     "output_type": "stream",
     "text": [
      ".......................\u001B[34mShape of data is: (4841, 9)\u001B[0m\n",
      "\u001B[34mSuccessfully created directories\u001B[0m\n",
      "\u001B[34mWrote files successfully\u001B[0m\n",
      "\u001B[34mCompleted running the processing job\u001B[0m\n",
      "\n"
     ]
    }
   ],
   "source": [
    "from sagemaker.processing import ProcessingInput, ProcessingOutput\n",
    "\n",
    "processed_folder = \"../data/processed/auxiliary/\"\n",
    "sklearn_processor.run(\n",
    "    code=\"../scripts/stratified-split.py\",\n",
    "    # arguments = [\"arg1\", \"arg2\"], # Arguments can optionally be specified here\n",
    "    inputs=[ProcessingInput(source=f\"{processed_folder}interactions.csv\", destination=\"/opt/ml/processing/input\")],\n",
    "    outputs=[\n",
    "        ProcessingOutput(source=f\"/opt/ml/processing/train\", output_name=\"train\"),\n",
    "        ProcessingOutput(source=f\"/opt/ml/processing/validation\", output_name=\"validation\"),\n",
    "        ProcessingOutput(source=f\"/opt/ml/processing/test\", output_name=\"test\"),\n",
    "    ],\n",
    ")"
   ]
  }
 ],
 "metadata": {
  "availableInstances": [
   {
    "_defaultOrder": 0,
    "_isFastLaunch": true,
    "category": "General purpose",
    "gpuNum": 0,
    "hideHardwareSpecs": false,
    "memoryGiB": 4,
    "name": "ml.t3.medium",
    "vcpuNum": 2
   },
   {
    "_defaultOrder": 1,
    "_isFastLaunch": false,
    "category": "General purpose",
    "gpuNum": 0,
    "hideHardwareSpecs": false,
    "memoryGiB": 8,
    "name": "ml.t3.large",
    "vcpuNum": 2
   },
   {
    "_defaultOrder": 2,
    "_isFastLaunch": false,
    "category": "General purpose",
    "gpuNum": 0,
    "hideHardwareSpecs": false,
    "memoryGiB": 16,
    "name": "ml.t3.xlarge",
    "vcpuNum": 4
   },
   {
    "_defaultOrder": 3,
    "_isFastLaunch": false,
    "category": "General purpose",
    "gpuNum": 0,
    "hideHardwareSpecs": false,
    "memoryGiB": 32,
    "name": "ml.t3.2xlarge",
    "vcpuNum": 8
   },
   {
    "_defaultOrder": 4,
    "_isFastLaunch": true,
    "category": "General purpose",
    "gpuNum": 0,
    "hideHardwareSpecs": false,
    "memoryGiB": 8,
    "name": "ml.m5.large",
    "vcpuNum": 2
   },
   {
    "_defaultOrder": 5,
    "_isFastLaunch": false,
    "category": "General purpose",
    "gpuNum": 0,
    "hideHardwareSpecs": false,
    "memoryGiB": 16,
    "name": "ml.m5.xlarge",
    "vcpuNum": 4
   },
   {
    "_defaultOrder": 6,
    "_isFastLaunch": false,
    "category": "General purpose",
    "gpuNum": 0,
    "hideHardwareSpecs": false,
    "memoryGiB": 32,
    "name": "ml.m5.2xlarge",
    "vcpuNum": 8
   },
   {
    "_defaultOrder": 7,
    "_isFastLaunch": false,
    "category": "General purpose",
    "gpuNum": 0,
    "hideHardwareSpecs": false,
    "memoryGiB": 64,
    "name": "ml.m5.4xlarge",
    "vcpuNum": 16
   },
   {
    "_defaultOrder": 8,
    "_isFastLaunch": false,
    "category": "General purpose",
    "gpuNum": 0,
    "hideHardwareSpecs": false,
    "memoryGiB": 128,
    "name": "ml.m5.8xlarge",
    "vcpuNum": 32
   },
   {
    "_defaultOrder": 9,
    "_isFastLaunch": false,
    "category": "General purpose",
    "gpuNum": 0,
    "hideHardwareSpecs": false,
    "memoryGiB": 192,
    "name": "ml.m5.12xlarge",
    "vcpuNum": 48
   },
   {
    "_defaultOrder": 10,
    "_isFastLaunch": false,
    "category": "General purpose",
    "gpuNum": 0,
    "hideHardwareSpecs": false,
    "memoryGiB": 256,
    "name": "ml.m5.16xlarge",
    "vcpuNum": 64
   },
   {
    "_defaultOrder": 11,
    "_isFastLaunch": false,
    "category": "General purpose",
    "gpuNum": 0,
    "hideHardwareSpecs": false,
    "memoryGiB": 384,
    "name": "ml.m5.24xlarge",
    "vcpuNum": 96
   },
   {
    "_defaultOrder": 12,
    "_isFastLaunch": false,
    "category": "General purpose",
    "gpuNum": 0,
    "hideHardwareSpecs": false,
    "memoryGiB": 8,
    "name": "ml.m5d.large",
    "vcpuNum": 2
   },
   {
    "_defaultOrder": 13,
    "_isFastLaunch": false,
    "category": "General purpose",
    "gpuNum": 0,
    "hideHardwareSpecs": false,
    "memoryGiB": 16,
    "name": "ml.m5d.xlarge",
    "vcpuNum": 4
   },
   {
    "_defaultOrder": 14,
    "_isFastLaunch": false,
    "category": "General purpose",
    "gpuNum": 0,
    "hideHardwareSpecs": false,
    "memoryGiB": 32,
    "name": "ml.m5d.2xlarge",
    "vcpuNum": 8
   },
   {
    "_defaultOrder": 15,
    "_isFastLaunch": false,
    "category": "General purpose",
    "gpuNum": 0,
    "hideHardwareSpecs": false,
    "memoryGiB": 64,
    "name": "ml.m5d.4xlarge",
    "vcpuNum": 16
   },
   {
    "_defaultOrder": 16,
    "_isFastLaunch": false,
    "category": "General purpose",
    "gpuNum": 0,
    "hideHardwareSpecs": false,
    "memoryGiB": 128,
    "name": "ml.m5d.8xlarge",
    "vcpuNum": 32
   },
   {
    "_defaultOrder": 17,
    "_isFastLaunch": false,
    "category": "General purpose",
    "gpuNum": 0,
    "hideHardwareSpecs": false,
    "memoryGiB": 192,
    "name": "ml.m5d.12xlarge",
    "vcpuNum": 48
   },
   {
    "_defaultOrder": 18,
    "_isFastLaunch": false,
    "category": "General purpose",
    "gpuNum": 0,
    "hideHardwareSpecs": false,
    "memoryGiB": 256,
    "name": "ml.m5d.16xlarge",
    "vcpuNum": 64
   },
   {
    "_defaultOrder": 19,
    "_isFastLaunch": false,
    "category": "General purpose",
    "gpuNum": 0,
    "hideHardwareSpecs": false,
    "memoryGiB": 384,
    "name": "ml.m5d.24xlarge",
    "vcpuNum": 96
   },
   {
    "_defaultOrder": 20,
    "_isFastLaunch": false,
    "category": "General purpose",
    "gpuNum": 0,
    "hideHardwareSpecs": true,
    "memoryGiB": 0,
    "name": "ml.geospatial.interactive",
    "supportedImageNames": [
     "sagemaker-geospatial-v1-0"
    ],
    "vcpuNum": 0
   },
   {
    "_defaultOrder": 21,
    "_isFastLaunch": true,
    "category": "Compute optimized",
    "gpuNum": 0,
    "hideHardwareSpecs": false,
    "memoryGiB": 4,
    "name": "ml.c5.large",
    "vcpuNum": 2
   },
   {
    "_defaultOrder": 22,
    "_isFastLaunch": false,
    "category": "Compute optimized",
    "gpuNum": 0,
    "hideHardwareSpecs": false,
    "memoryGiB": 8,
    "name": "ml.c5.xlarge",
    "vcpuNum": 4
   },
   {
    "_defaultOrder": 23,
    "_isFastLaunch": false,
    "category": "Compute optimized",
    "gpuNum": 0,
    "hideHardwareSpecs": false,
    "memoryGiB": 16,
    "name": "ml.c5.2xlarge",
    "vcpuNum": 8
   },
   {
    "_defaultOrder": 24,
    "_isFastLaunch": false,
    "category": "Compute optimized",
    "gpuNum": 0,
    "hideHardwareSpecs": false,
    "memoryGiB": 32,
    "name": "ml.c5.4xlarge",
    "vcpuNum": 16
   },
   {
    "_defaultOrder": 25,
    "_isFastLaunch": false,
    "category": "Compute optimized",
    "gpuNum": 0,
    "hideHardwareSpecs": false,
    "memoryGiB": 72,
    "name": "ml.c5.9xlarge",
    "vcpuNum": 36
   },
   {
    "_defaultOrder": 26,
    "_isFastLaunch": false,
    "category": "Compute optimized",
    "gpuNum": 0,
    "hideHardwareSpecs": false,
    "memoryGiB": 96,
    "name": "ml.c5.12xlarge",
    "vcpuNum": 48
   },
   {
    "_defaultOrder": 27,
    "_isFastLaunch": false,
    "category": "Compute optimized",
    "gpuNum": 0,
    "hideHardwareSpecs": false,
    "memoryGiB": 144,
    "name": "ml.c5.18xlarge",
    "vcpuNum": 72
   },
   {
    "_defaultOrder": 28,
    "_isFastLaunch": false,
    "category": "Compute optimized",
    "gpuNum": 0,
    "hideHardwareSpecs": false,
    "memoryGiB": 192,
    "name": "ml.c5.24xlarge",
    "vcpuNum": 96
   },
   {
    "_defaultOrder": 29,
    "_isFastLaunch": true,
    "category": "Accelerated computing",
    "gpuNum": 1,
    "hideHardwareSpecs": false,
    "memoryGiB": 16,
    "name": "ml.g4dn.xlarge",
    "vcpuNum": 4
   },
   {
    "_defaultOrder": 30,
    "_isFastLaunch": false,
    "category": "Accelerated computing",
    "gpuNum": 1,
    "hideHardwareSpecs": false,
    "memoryGiB": 32,
    "name": "ml.g4dn.2xlarge",
    "vcpuNum": 8
   },
   {
    "_defaultOrder": 31,
    "_isFastLaunch": false,
    "category": "Accelerated computing",
    "gpuNum": 1,
    "hideHardwareSpecs": false,
    "memoryGiB": 64,
    "name": "ml.g4dn.4xlarge",
    "vcpuNum": 16
   },
   {
    "_defaultOrder": 32,
    "_isFastLaunch": false,
    "category": "Accelerated computing",
    "gpuNum": 1,
    "hideHardwareSpecs": false,
    "memoryGiB": 128,
    "name": "ml.g4dn.8xlarge",
    "vcpuNum": 32
   },
   {
    "_defaultOrder": 33,
    "_isFastLaunch": false,
    "category": "Accelerated computing",
    "gpuNum": 4,
    "hideHardwareSpecs": false,
    "memoryGiB": 192,
    "name": "ml.g4dn.12xlarge",
    "vcpuNum": 48
   },
   {
    "_defaultOrder": 34,
    "_isFastLaunch": false,
    "category": "Accelerated computing",
    "gpuNum": 1,
    "hideHardwareSpecs": false,
    "memoryGiB": 256,
    "name": "ml.g4dn.16xlarge",
    "vcpuNum": 64
   },
   {
    "_defaultOrder": 35,
    "_isFastLaunch": false,
    "category": "Accelerated computing",
    "gpuNum": 1,
    "hideHardwareSpecs": false,
    "memoryGiB": 61,
    "name": "ml.p3.2xlarge",
    "vcpuNum": 8
   },
   {
    "_defaultOrder": 36,
    "_isFastLaunch": false,
    "category": "Accelerated computing",
    "gpuNum": 4,
    "hideHardwareSpecs": false,
    "memoryGiB": 244,
    "name": "ml.p3.8xlarge",
    "vcpuNum": 32
   },
   {
    "_defaultOrder": 37,
    "_isFastLaunch": false,
    "category": "Accelerated computing",
    "gpuNum": 8,
    "hideHardwareSpecs": false,
    "memoryGiB": 488,
    "name": "ml.p3.16xlarge",
    "vcpuNum": 64
   },
   {
    "_defaultOrder": 38,
    "_isFastLaunch": false,
    "category": "Accelerated computing",
    "gpuNum": 8,
    "hideHardwareSpecs": false,
    "memoryGiB": 768,
    "name": "ml.p3dn.24xlarge",
    "vcpuNum": 96
   },
   {
    "_defaultOrder": 39,
    "_isFastLaunch": false,
    "category": "Memory Optimized",
    "gpuNum": 0,
    "hideHardwareSpecs": false,
    "memoryGiB": 16,
    "name": "ml.r5.large",
    "vcpuNum": 2
   },
   {
    "_defaultOrder": 40,
    "_isFastLaunch": false,
    "category": "Memory Optimized",
    "gpuNum": 0,
    "hideHardwareSpecs": false,
    "memoryGiB": 32,
    "name": "ml.r5.xlarge",
    "vcpuNum": 4
   },
   {
    "_defaultOrder": 41,
    "_isFastLaunch": false,
    "category": "Memory Optimized",
    "gpuNum": 0,
    "hideHardwareSpecs": false,
    "memoryGiB": 64,
    "name": "ml.r5.2xlarge",
    "vcpuNum": 8
   },
   {
    "_defaultOrder": 42,
    "_isFastLaunch": false,
    "category": "Memory Optimized",
    "gpuNum": 0,
    "hideHardwareSpecs": false,
    "memoryGiB": 128,
    "name": "ml.r5.4xlarge",
    "vcpuNum": 16
   },
   {
    "_defaultOrder": 43,
    "_isFastLaunch": false,
    "category": "Memory Optimized",
    "gpuNum": 0,
    "hideHardwareSpecs": false,
    "memoryGiB": 256,
    "name": "ml.r5.8xlarge",
    "vcpuNum": 32
   },
   {
    "_defaultOrder": 44,
    "_isFastLaunch": false,
    "category": "Memory Optimized",
    "gpuNum": 0,
    "hideHardwareSpecs": false,
    "memoryGiB": 384,
    "name": "ml.r5.12xlarge",
    "vcpuNum": 48
   },
   {
    "_defaultOrder": 45,
    "_isFastLaunch": false,
    "category": "Memory Optimized",
    "gpuNum": 0,
    "hideHardwareSpecs": false,
    "memoryGiB": 512,
    "name": "ml.r5.16xlarge",
    "vcpuNum": 64
   },
   {
    "_defaultOrder": 46,
    "_isFastLaunch": false,
    "category": "Memory Optimized",
    "gpuNum": 0,
    "hideHardwareSpecs": false,
    "memoryGiB": 768,
    "name": "ml.r5.24xlarge",
    "vcpuNum": 96
   },
   {
    "_defaultOrder": 47,
    "_isFastLaunch": false,
    "category": "Accelerated computing",
    "gpuNum": 1,
    "hideHardwareSpecs": false,
    "memoryGiB": 16,
    "name": "ml.g5.xlarge",
    "vcpuNum": 4
   },
   {
    "_defaultOrder": 48,
    "_isFastLaunch": false,
    "category": "Accelerated computing",
    "gpuNum": 1,
    "hideHardwareSpecs": false,
    "memoryGiB": 32,
    "name": "ml.g5.2xlarge",
    "vcpuNum": 8
   },
   {
    "_defaultOrder": 49,
    "_isFastLaunch": false,
    "category": "Accelerated computing",
    "gpuNum": 1,
    "hideHardwareSpecs": false,
    "memoryGiB": 64,
    "name": "ml.g5.4xlarge",
    "vcpuNum": 16
   },
   {
    "_defaultOrder": 50,
    "_isFastLaunch": false,
    "category": "Accelerated computing",
    "gpuNum": 1,
    "hideHardwareSpecs": false,
    "memoryGiB": 128,
    "name": "ml.g5.8xlarge",
    "vcpuNum": 32
   },
   {
    "_defaultOrder": 51,
    "_isFastLaunch": false,
    "category": "Accelerated computing",
    "gpuNum": 1,
    "hideHardwareSpecs": false,
    "memoryGiB": 256,
    "name": "ml.g5.16xlarge",
    "vcpuNum": 64
   },
   {
    "_defaultOrder": 52,
    "_isFastLaunch": false,
    "category": "Accelerated computing",
    "gpuNum": 4,
    "hideHardwareSpecs": false,
    "memoryGiB": 192,
    "name": "ml.g5.12xlarge",
    "vcpuNum": 48
   },
   {
    "_defaultOrder": 53,
    "_isFastLaunch": false,
    "category": "Accelerated computing",
    "gpuNum": 4,
    "hideHardwareSpecs": false,
    "memoryGiB": 384,
    "name": "ml.g5.24xlarge",
    "vcpuNum": 96
   },
   {
    "_defaultOrder": 54,
    "_isFastLaunch": false,
    "category": "Accelerated computing",
    "gpuNum": 8,
    "hideHardwareSpecs": false,
    "memoryGiB": 768,
    "name": "ml.g5.48xlarge",
    "vcpuNum": 192
   },
   {
    "_defaultOrder": 55,
    "_isFastLaunch": false,
    "category": "Accelerated computing",
    "gpuNum": 8,
    "hideHardwareSpecs": false,
    "memoryGiB": 1152,
    "name": "ml.p4d.24xlarge",
    "vcpuNum": 96
   },
   {
    "_defaultOrder": 56,
    "_isFastLaunch": false,
    "category": "Accelerated computing",
    "gpuNum": 8,
    "hideHardwareSpecs": false,
    "memoryGiB": 1152,
    "name": "ml.p4de.24xlarge",
    "vcpuNum": 96
   }
  ],
  "instance_type": "ml.t3.medium",
  "kernelspec": {
   "name": "python3",
   "language": "python",
   "display_name": "Python 3 (ipykernel)"
  },
  "language_info": {
   "codemirror_mode": {
    "name": "ipython",
    "version": 3
   },
   "file_extension": ".py",
   "mimetype": "text/x-python",
   "name": "python",
   "nbconvert_exporter": "python",
   "pygments_lexer": "ipython3",
   "version": "3.7.10"
  }
 },
 "nbformat": 4,
 "nbformat_minor": 4
}
